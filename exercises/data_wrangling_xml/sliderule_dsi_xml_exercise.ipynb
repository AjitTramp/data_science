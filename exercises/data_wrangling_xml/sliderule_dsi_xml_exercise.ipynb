{
 "cells": [
  {
   "cell_type": "markdown",
   "metadata": {},
   "source": [
    "****\n",
    "## XML exercise\n",
    "\n",
    "Using data in 'data/mondial_database.xml', find\n",
    "\n",
    "1. 10 countries with the lowest infant mortality rates\n",
    "2. 10 cities with the largest population\n",
    "3. 10 ethnic groups with the largest overall populations (sum of best/latest estimates over all countries)\n",
    "4. name and country of a) longest river, b) largest lake and c) airport at highest elevation"
   ]
  },
  {
   "cell_type": "markdown",
   "metadata": {},
   "source": [
    "## Solutions\n",
    "+ Refer Documentation for XML [here](https://docs.python.org/2/library/xml.etree.elementtree.html)\n",
    "+ data source: http://www.dbis.informatik.uni-goettingen.de/Mondial"
   ]
  },
  {
   "cell_type": "code",
   "execution_count": 1,
   "metadata": {
    "collapsed": true
   },
   "outputs": [],
   "source": [
    "import pandas as pd\n",
    "from xml.etree import ElementTree as ET"
   ]
  },
  {
   "cell_type": "code",
   "execution_count": 2,
   "metadata": {
    "collapsed": true
   },
   "outputs": [],
   "source": [
    "doctree = ET.parse( './data/mondial_database.xml' )"
   ]
  },
  {
   "cell_type": "code",
   "execution_count": 3,
   "metadata": {
    "collapsed": true
   },
   "outputs": [],
   "source": [
    "# Get root\n",
    "treeroot = doctree.getroot()"
   ]
  },
  {
   "cell_type": "markdown",
   "metadata": {},
   "source": [
    "## 1. 10 countries with the lowest infant mortality rates"
   ]
  },
  {
   "cell_type": "code",
   "execution_count": 4,
   "metadata": {},
   "outputs": [
    {
     "name": "stdout",
     "output_type": "stream",
     "text": [
      "There are 228 countries\n"
     ]
    }
   ],
   "source": [
    "# Iterating through country names\n",
    "country_cnt = 0\n",
    "infant_mort = dict()\n",
    "for country in treeroot :\n",
    "    try :\n",
    "        infant_mort[country.find('name').text] = float(country.find('infant_mortality').text)\n",
    "    except :\n",
    "        continue\n",
    "    country_cnt = country_cnt + 1\n",
    "print('There are {} countries'.format(country_cnt))"
   ]
  },
  {
   "cell_type": "code",
   "execution_count": 5,
   "metadata": {},
   "outputs": [
    {
     "data": {
      "text/html": [
       "<div>\n",
       "<style>\n",
       "    .dataframe thead tr:only-child th {\n",
       "        text-align: right;\n",
       "    }\n",
       "\n",
       "    .dataframe thead th {\n",
       "        text-align: left;\n",
       "    }\n",
       "\n",
       "    .dataframe tbody tr th {\n",
       "        vertical-align: top;\n",
       "    }\n",
       "</style>\n",
       "<table border=\"1\" class=\"dataframe\">\n",
       "  <thead>\n",
       "    <tr style=\"text-align: right;\">\n",
       "      <th></th>\n",
       "      <th>Infant Mortality</th>\n",
       "    </tr>\n",
       "  </thead>\n",
       "  <tbody>\n",
       "    <tr>\n",
       "      <th>Monaco</th>\n",
       "      <td>1.81</td>\n",
       "    </tr>\n",
       "    <tr>\n",
       "      <th>Japan</th>\n",
       "      <td>2.13</td>\n",
       "    </tr>\n",
       "    <tr>\n",
       "      <th>Norway</th>\n",
       "      <td>2.48</td>\n",
       "    </tr>\n",
       "    <tr>\n",
       "      <th>Bermuda</th>\n",
       "      <td>2.48</td>\n",
       "    </tr>\n",
       "    <tr>\n",
       "      <th>Singapore</th>\n",
       "      <td>2.53</td>\n",
       "    </tr>\n",
       "    <tr>\n",
       "      <th>Sweden</th>\n",
       "      <td>2.60</td>\n",
       "    </tr>\n",
       "    <tr>\n",
       "      <th>Czech Republic</th>\n",
       "      <td>2.63</td>\n",
       "    </tr>\n",
       "    <tr>\n",
       "      <th>Hong Kong</th>\n",
       "      <td>2.73</td>\n",
       "    </tr>\n",
       "    <tr>\n",
       "      <th>Macao</th>\n",
       "      <td>3.13</td>\n",
       "    </tr>\n",
       "    <tr>\n",
       "      <th>Iceland</th>\n",
       "      <td>3.15</td>\n",
       "    </tr>\n",
       "  </tbody>\n",
       "</table>\n",
       "</div>"
      ],
      "text/plain": [
       "                Infant Mortality\n",
       "Monaco                      1.81\n",
       "Japan                       2.13\n",
       "Norway                      2.48\n",
       "Bermuda                     2.48\n",
       "Singapore                   2.53\n",
       "Sweden                      2.60\n",
       "Czech Republic              2.63\n",
       "Hong Kong                   2.73\n",
       "Macao                       3.13\n",
       "Iceland                     3.15"
      ]
     },
     "execution_count": 5,
     "metadata": {},
     "output_type": "execute_result"
    }
   ],
   "source": [
    "mort_df = pd.DataFrame({'Infant Mortality': infant_mort})\n",
    "mort_df.sort_values('Infant Mortality').head(10)"
   ]
  },
  {
   "cell_type": "markdown",
   "metadata": {},
   "source": [
    "## 2. 10 cities with the largest population"
   ]
  },
  {
   "cell_type": "code",
   "execution_count": 6,
   "metadata": {},
   "outputs": [
    {
     "name": "stdout",
     "output_type": "stream",
     "text": [
      "There are 3380 cities\n"
     ]
    }
   ],
   "source": [
    "# Iterating through cities\n",
    "pop_dict = dict()\n",
    "city_cnt = 0\n",
    "for element in doctree.iterfind('country'):\n",
    "    try :\n",
    "        for subelement in element.getiterator('city'): # One needs to be careful here to use getiterator and not iterfind\n",
    "            city_cnt = city_cnt + 1\n",
    "            pop = 0\n",
    "            try:\n",
    "                for e in subelement.findall('population'):\n",
    "                    if(pop < int(e.text)) :\n",
    "                        pop = int(e.text)\n",
    "                        year = e.get('year')\n",
    "                pop_dict[subelement.find('name').text] = (int(pop),int(year))\n",
    "            except:\n",
    "                continue\n",
    "    except:\n",
    "        continue\n",
    "print('There are {} cities'.format(city_cnt))"
   ]
  },
  {
   "cell_type": "code",
   "execution_count": 7,
   "metadata": {},
   "outputs": [
    {
     "data": {
      "text/html": [
       "<div>\n",
       "<style>\n",
       "    .dataframe thead tr:only-child th {\n",
       "        text-align: right;\n",
       "    }\n",
       "\n",
       "    .dataframe thead th {\n",
       "        text-align: left;\n",
       "    }\n",
       "\n",
       "    .dataframe tbody tr th {\n",
       "        vertical-align: top;\n",
       "    }\n",
       "</style>\n",
       "<table border=\"1\" class=\"dataframe\">\n",
       "  <thead>\n",
       "    <tr style=\"text-align: right;\">\n",
       "      <th></th>\n",
       "      <th>Population, Year</th>\n",
       "    </tr>\n",
       "  </thead>\n",
       "  <tbody>\n",
       "    <tr>\n",
       "      <th>Shanghai</th>\n",
       "      <td>(22315474, 2010)</td>\n",
       "    </tr>\n",
       "    <tr>\n",
       "      <th>Istanbul</th>\n",
       "      <td>(13710512, 2012)</td>\n",
       "    </tr>\n",
       "    <tr>\n",
       "      <th>Delhi</th>\n",
       "      <td>(12877470, 2001)</td>\n",
       "    </tr>\n",
       "    <tr>\n",
       "      <th>Mumbai</th>\n",
       "      <td>(12442373, 2011)</td>\n",
       "    </tr>\n",
       "    <tr>\n",
       "      <th>Moskva</th>\n",
       "      <td>(11979529, 2013)</td>\n",
       "    </tr>\n",
       "    <tr>\n",
       "      <th>Beijing</th>\n",
       "      <td>(11716620, 2010)</td>\n",
       "    </tr>\n",
       "    <tr>\n",
       "      <th>São Paulo</th>\n",
       "      <td>(11152344, 2010)</td>\n",
       "    </tr>\n",
       "    <tr>\n",
       "      <th>Tianjin</th>\n",
       "      <td>(11090314, 2010)</td>\n",
       "    </tr>\n",
       "    <tr>\n",
       "      <th>Guangzhou</th>\n",
       "      <td>(11071424, 2010)</td>\n",
       "    </tr>\n",
       "    <tr>\n",
       "      <th>Shenzhen</th>\n",
       "      <td>(10358381, 2010)</td>\n",
       "    </tr>\n",
       "  </tbody>\n",
       "</table>\n",
       "</div>"
      ],
      "text/plain": [
       "           Population, Year\n",
       "Shanghai   (22315474, 2010)\n",
       "Istanbul   (13710512, 2012)\n",
       "Delhi      (12877470, 2001)\n",
       "Mumbai     (12442373, 2011)\n",
       "Moskva     (11979529, 2013)\n",
       "Beijing    (11716620, 2010)\n",
       "São Paulo  (11152344, 2010)\n",
       "Tianjin    (11090314, 2010)\n",
       "Guangzhou  (11071424, 2010)\n",
       "Shenzhen   (10358381, 2010)"
      ]
     },
     "execution_count": 7,
     "metadata": {},
     "output_type": "execute_result"
    }
   ],
   "source": [
    "city_pop_df = pd.DataFrame({'Population, Year': pop_dict})\n",
    "city_pop_df.sort_values('Population, Year',ascending=False).head(10)"
   ]
  },
  {
   "cell_type": "markdown",
   "metadata": {},
   "source": [
    "## 3. 10 ethnic groups with the largest overall populations (sum of best/latest estimates over all countries)"
   ]
  },
  {
   "cell_type": "code",
   "execution_count": 8,
   "metadata": {},
   "outputs": [
    {
     "name": "stdout",
     "output_type": "stream",
     "text": [
      "There are 244 ethnic groups all over the world\n"
     ]
    }
   ],
   "source": [
    "ethn_cnt = 0\n",
    "ethn_dict = dict()\n",
    "for element in doctree.iterfind('country'):\n",
    "    pop = 0\n",
    "    try:\n",
    "         for e in element.findall('population'):\n",
    "            if(pop < int(e.text)) :\n",
    "                pop = int(e.text)\n",
    "    except:\n",
    "        print('hi')\n",
    "# Ethnic group extraction\n",
    "    try:\n",
    "        for e in element.findall('ethnicgroup'):\n",
    "            ethn_dict[e.text] = ethn_dict.get(e.text,0) + round(float(e.get('percentage'))*pop)\n",
    "    except :\n",
    "        continue\n",
    "    ethn_cnt = ethn_cnt + 1\n",
    "print('There are {} ethnic groups all over the world'.format(ethn_cnt))"
   ]
  },
  {
   "cell_type": "code",
   "execution_count": 9,
   "metadata": {},
   "outputs": [
    {
     "data": {
      "text/html": [
       "<div>\n",
       "<style>\n",
       "    .dataframe thead tr:only-child th {\n",
       "        text-align: right;\n",
       "    }\n",
       "\n",
       "    .dataframe thead th {\n",
       "        text-align: left;\n",
       "    }\n",
       "\n",
       "    .dataframe tbody tr th {\n",
       "        vertical-align: top;\n",
       "    }\n",
       "</style>\n",
       "<table border=\"1\" class=\"dataframe\">\n",
       "  <thead>\n",
       "    <tr style=\"text-align: right;\">\n",
       "      <th></th>\n",
       "      <th>Ethnic Groups</th>\n",
       "    </tr>\n",
       "  </thead>\n",
       "  <tbody>\n",
       "    <tr>\n",
       "      <th>Han Chinese</th>\n",
       "      <td>124505880000</td>\n",
       "    </tr>\n",
       "    <tr>\n",
       "      <th>Indo-Aryan</th>\n",
       "      <td>87181558344</td>\n",
       "    </tr>\n",
       "    <tr>\n",
       "      <th>European</th>\n",
       "      <td>49493951565</td>\n",
       "    </tr>\n",
       "    <tr>\n",
       "      <th>African</th>\n",
       "      <td>31835969804</td>\n",
       "    </tr>\n",
       "    <tr>\n",
       "      <th>Dravidian</th>\n",
       "      <td>30271374425</td>\n",
       "    </tr>\n",
       "    <tr>\n",
       "      <th>Mestizo</th>\n",
       "      <td>15785527300</td>\n",
       "    </tr>\n",
       "    <tr>\n",
       "      <th>Bengali</th>\n",
       "      <td>14677691672</td>\n",
       "    </tr>\n",
       "    <tr>\n",
       "      <th>Russian</th>\n",
       "      <td>13686655065</td>\n",
       "    </tr>\n",
       "    <tr>\n",
       "      <th>Japanese</th>\n",
       "      <td>12728900789</td>\n",
       "    </tr>\n",
       "    <tr>\n",
       "      <th>Malay</th>\n",
       "      <td>12199362027</td>\n",
       "    </tr>\n",
       "  </tbody>\n",
       "</table>\n",
       "</div>"
      ],
      "text/plain": [
       "             Ethnic Groups\n",
       "Han Chinese   124505880000\n",
       "Indo-Aryan     87181558344\n",
       "European       49493951565\n",
       "African        31835969804\n",
       "Dravidian      30271374425\n",
       "Mestizo        15785527300\n",
       "Bengali        14677691672\n",
       "Russian        13686655065\n",
       "Japanese       12728900789\n",
       "Malay          12199362027"
      ]
     },
     "execution_count": 9,
     "metadata": {},
     "output_type": "execute_result"
    }
   ],
   "source": [
    "eth_df = pd.DataFrame({'Ethnic Groups':ethn_dict})\n",
    "eth_df.sort_values('Ethnic Groups',ascending=False).head(10)"
   ]
  },
  {
   "cell_type": "markdown",
   "metadata": {},
   "source": [
    "## 4.name and country of a) longest river, b) largest lake and c) airport at highest elevation"
   ]
  },
  {
   "cell_type": "code",
   "execution_count": 10,
   "metadata": {},
   "outputs": [
    {
     "name": "stdout",
     "output_type": "stream",
     "text": [
      "There are 233 rivers\n"
     ]
    }
   ],
   "source": [
    "#a) Longest River\n",
    "river_cnt = 0\n",
    "river_dict = dict()\n",
    "for element in doctree.iterfind('river'):\n",
    "    try :\n",
    "        river_dict[element.find('name').text] = (float(element.find('length').text),element.attrib['country'])\n",
    "        river_cnt = river_cnt + 1\n",
    "    except :\n",
    "        continue\n",
    "print('There are {} rivers'.format(river_cnt))"
   ]
  },
  {
   "cell_type": "code",
   "execution_count": 11,
   "metadata": {},
   "outputs": [
    {
     "data": {
      "text/html": [
       "<div>\n",
       "<style>\n",
       "    .dataframe thead tr:only-child th {\n",
       "        text-align: right;\n",
       "    }\n",
       "\n",
       "    .dataframe thead th {\n",
       "        text-align: left;\n",
       "    }\n",
       "\n",
       "    .dataframe tbody tr th {\n",
       "        vertical-align: top;\n",
       "    }\n",
       "</style>\n",
       "<table border=\"1\" class=\"dataframe\">\n",
       "  <thead>\n",
       "    <tr style=\"text-align: right;\">\n",
       "      <th></th>\n",
       "      <th>Length</th>\n",
       "      <th>Country/Countries</th>\n",
       "    </tr>\n",
       "  </thead>\n",
       "  <tbody>\n",
       "    <tr>\n",
       "      <th>Amazonas</th>\n",
       "      <td>6448</td>\n",
       "      <td>CO BR PE</td>\n",
       "    </tr>\n",
       "  </tbody>\n",
       "</table>\n",
       "</div>"
      ],
      "text/plain": [
       "         Length Country/Countries\n",
       "Amazonas   6448          CO BR PE"
      ]
     },
     "execution_count": 11,
     "metadata": {},
     "output_type": "execute_result"
    }
   ],
   "source": [
    "(pd.DataFrame(river_dict,index=['Length','Country/Countries']).T).sort_values('Length',ascending=False).head(1)"
   ]
  },
  {
   "cell_type": "code",
   "execution_count": 12,
   "metadata": {},
   "outputs": [
    {
     "name": "stdout",
     "output_type": "stream",
     "text": [
      "There are 139 lakes\n"
     ]
    }
   ],
   "source": [
    "# b) Largest Lake\n",
    "lake_cnt = 0\n",
    "lake_dict = dict()\n",
    "for element in doctree.iterfind('lake'):\n",
    "    try :\n",
    "        lake_dict[element.find('name').text] = (float(element.find('area').text),element.attrib['country'])\n",
    "        lake_cnt = lake_cnt + 1\n",
    "    except :\n",
    "        continue\n",
    "print('There are {} lakes'.format(lake_cnt))"
   ]
  },
  {
   "cell_type": "code",
   "execution_count": 13,
   "metadata": {},
   "outputs": [
    {
     "data": {
      "text/html": [
       "<div>\n",
       "<style>\n",
       "    .dataframe thead tr:only-child th {\n",
       "        text-align: right;\n",
       "    }\n",
       "\n",
       "    .dataframe thead th {\n",
       "        text-align: left;\n",
       "    }\n",
       "\n",
       "    .dataframe tbody tr th {\n",
       "        vertical-align: top;\n",
       "    }\n",
       "</style>\n",
       "<table border=\"1\" class=\"dataframe\">\n",
       "  <thead>\n",
       "    <tr style=\"text-align: right;\">\n",
       "      <th></th>\n",
       "      <th>Area</th>\n",
       "      <th>Country/Countries</th>\n",
       "    </tr>\n",
       "  </thead>\n",
       "  <tbody>\n",
       "    <tr>\n",
       "      <th>Caspian Sea</th>\n",
       "      <td>386400</td>\n",
       "      <td>R AZ KAZ IR TM</td>\n",
       "    </tr>\n",
       "  </tbody>\n",
       "</table>\n",
       "</div>"
      ],
      "text/plain": [
       "               Area Country/Countries\n",
       "Caspian Sea  386400    R AZ KAZ IR TM"
      ]
     },
     "execution_count": 13,
     "metadata": {},
     "output_type": "execute_result"
    }
   ],
   "source": [
    "(pd.DataFrame(lake_dict,index=['Area','Country/Countries']).T).sort_values('Area',ascending=False).head(1)"
   ]
  },
  {
   "cell_type": "code",
   "execution_count": 14,
   "metadata": {},
   "outputs": [
    {
     "name": "stdout",
     "output_type": "stream",
     "text": [
      "There are 1289 airport\n"
     ]
    }
   ],
   "source": [
    "# c) Airport at highest altitude\n",
    "airport_cnt = 0\n",
    "airport_dict = dict()\n",
    "for element in doctree.iterfind('airport'):\n",
    "    try :\n",
    "        airport_dict[element.find('name').text] = (float(element.find('elevation').text),element.attrib['country'])\n",
    "        airport_cnt = airport_cnt + 1\n",
    "    except :\n",
    "        continue\n",
    "print('There are {} airport'.format(airport_cnt))"
   ]
  },
  {
   "cell_type": "code",
   "execution_count": 15,
   "metadata": {},
   "outputs": [
    {
     "data": {
      "text/html": [
       "<div>\n",
       "<style>\n",
       "    .dataframe thead tr:only-child th {\n",
       "        text-align: right;\n",
       "    }\n",
       "\n",
       "    .dataframe thead th {\n",
       "        text-align: left;\n",
       "    }\n",
       "\n",
       "    .dataframe tbody tr th {\n",
       "        vertical-align: top;\n",
       "    }\n",
       "</style>\n",
       "<table border=\"1\" class=\"dataframe\">\n",
       "  <thead>\n",
       "    <tr style=\"text-align: right;\">\n",
       "      <th></th>\n",
       "      <th>Elevation</th>\n",
       "      <th>Country</th>\n",
       "    </tr>\n",
       "  </thead>\n",
       "  <tbody>\n",
       "    <tr>\n",
       "      <th>El Alto Intl</th>\n",
       "      <td>4063</td>\n",
       "      <td>BOL</td>\n",
       "    </tr>\n",
       "  </tbody>\n",
       "</table>\n",
       "</div>"
      ],
      "text/plain": [
       "             Elevation Country\n",
       "El Alto Intl      4063     BOL"
      ]
     },
     "execution_count": 15,
     "metadata": {},
     "output_type": "execute_result"
    }
   ],
   "source": [
    "(pd.DataFrame(airport_dict,index=['Elevation','Country']).T).sort_values('Elevation',ascending=False).head(1)"
   ]
  },
  {
   "cell_type": "markdown",
   "metadata": {},
   "source": [
    "With Minidom\n",
    "Useful video [here](https://www.bing.com/videos/search?q=how+to+display+xml+tags+in+python&view=detail&mid=685EF420F64C693670CD685EF420F64C693670CD&FORM=VIRE)\n",
    "I tried that method and found that Elementtree above method is more appealing to me"
   ]
  },
  {
   "cell_type": "code",
   "execution_count": null,
   "metadata": {
    "collapsed": true
   },
   "outputs": [],
   "source": []
  }
 ],
 "metadata": {
  "anaconda-cloud": {},
  "kernelspec": {
   "display_name": "Python 3",
   "language": "python",
   "name": "python3"
  },
  "language_info": {
   "codemirror_mode": {
    "name": "ipython",
    "version": 3
   },
   "file_extension": ".py",
   "mimetype": "text/x-python",
   "name": "python",
   "nbconvert_exporter": "python",
   "pygments_lexer": "ipython3",
   "version": "3.6.3"
  }
 },
 "nbformat": 4,
 "nbformat_minor": 1
}
