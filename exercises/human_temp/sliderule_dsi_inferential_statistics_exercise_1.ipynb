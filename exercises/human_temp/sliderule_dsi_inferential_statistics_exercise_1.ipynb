{
 "cells": [
  {
   "cell_type": "markdown",
   "metadata": {},
   "source": [
    "# What is the True Normal Human Body Temperature? \n",
    "\n",
    "#### Background\n",
    "\n",
    "The mean normal body temperature was held to be 37$^{\\circ}$C or 98.6$^{\\circ}$F for more than 120 years since it was first conceptualized and reported by Carl Wunderlich in a famous 1868 book. But, is this value statistically correct?"
   ]
  },
  {
   "cell_type": "markdown",
   "metadata": {},
   "source": [
    "<h3>Exercises</h3>\n",
    "\n",
    "<p>In this exercise, you will analyze a dataset of human body temperatures and employ the concepts of hypothesis testing, confidence intervals, and statistical significance.</p>\n",
    "\n",
    "<p>Answer the following questions <b>in this notebook below and submit to your Github account</b>.</p> \n",
    "\n",
    "<ol>\n",
    "<li>  Is the distribution of body temperatures normal? \n",
    "    <ul>\n",
    "    <li> Although this is not a requirement for CLT to hold (read CLT carefully), it gives us some peace of mind that the population may also be normally distributed if we assume that this sample is representative of the population.\n",
    "    </ul>\n",
    "<li>  Is the sample size large? Are the observations independent?\n",
    "    <ul>\n",
    "    <li> Remember that this is a condition for the CLT, and hence the statistical tests we are using, to apply.\n",
    "    </ul>\n",
    "<li>  Is the true population mean really 98.6 degrees F?\n",
    "    <ul>\n",
    "    <li> Would you use a one-sample or two-sample test? Why?\n",
    "    <li> In this situation, is it appropriate to use the $t$ or $z$ statistic? \n",
    "    <li> Now try using the other test. How is the result be different? Why?\n",
    "    </ul>\n",
    "<li>  Draw a small sample of size 10 from the data and repeat both tests. \n",
    "    <ul>\n",
    "    <li> Which one is the correct one to use? \n",
    "    <li> What do you notice? What does this tell you about the difference in application of the $t$ and $z$ statistic?\n",
    "    </ul>\n",
    "<li>  At what temperature should we consider someone's temperature to be \"abnormal\"?\n",
    "    <ul>\n",
    "    <li> Start by computing the margin of error and confidence interval.\n",
    "    </ul>\n",
    "<li>  Is there a significant difference between males and females in normal temperature?\n",
    "    <ul>\n",
    "    <li> What test did you use and why?\n",
    "    <li> Write a story with your conclusion in the context of the original problem.\n",
    "    </ul>\n",
    "</ol>\n",
    "\n",
    "You can include written notes in notebook cells using Markdown: \n",
    "   - In the control panel at the top, choose Cell > Cell Type > Markdown\n",
    "   - Markdown syntax: http://nestacms.com/docs/creating-content/markdown-cheat-sheet\n",
    "\n",
    "#### Resources\n",
    "\n",
    "+ Information and data sources: http://www.amstat.org/publications/jse/datasets/normtemp.txt, http://www.amstat.org/publications/jse/jse_data_archive.htm\n",
    "+ Markdown syntax: http://nestacms.com/docs/creating-content/markdown-cheat-sheet\n",
    "\n",
    "****"
   ]
  },
  {
   "cell_type": "markdown",
   "metadata": {},
   "source": [
    "## Is The True Normal (Healthy) Human Body Temperature 98.6 deg F?\n",
    "\n",
    "***Abstract***: *In this iPython Notebook, I am exploring a dataset containing measurements of human body temperatures. I apply various techniques learnt in the inferential statistics lectures like bootstrap replicates measurement and hypothesis testing.  Rest of this notebook walks the reader through the steps and answers the question whether the normal body temperature is really the reported 98.6 deg F.*"
   ]
  },
  {
   "cell_type": "code",
   "execution_count": 57,
   "metadata": {
    "collapsed": true
   },
   "outputs": [],
   "source": [
    "import pandas as pd\n",
    "import matplotlib.pyplot as plt\n",
    "%matplotlib inline\n",
    "\n",
    "df = pd.read_csv('data/human_body_temperature.csv')"
   ]
  },
  {
   "cell_type": "code",
   "execution_count": 56,
   "metadata": {},
   "outputs": [
    {
     "name": "stdout",
     "output_type": "stream",
     "text": [
      "<class 'pandas.core.frame.DataFrame'>\n",
      "RangeIndex: 130 entries, 0 to 129\n",
      "Data columns (total 3 columns):\n",
      "temperature    130 non-null float64\n",
      "gender         130 non-null object\n",
      "heart_rate     130 non-null float64\n",
      "dtypes: float64(2), object(1)\n",
      "memory usage: 3.1+ KB\n",
      "None\n"
     ]
    },
    {
     "data": {
      "text/html": [
       "<div>\n",
       "<style>\n",
       "    .dataframe thead tr:only-child th {\n",
       "        text-align: right;\n",
       "    }\n",
       "\n",
       "    .dataframe thead th {\n",
       "        text-align: left;\n",
       "    }\n",
       "\n",
       "    .dataframe tbody tr th {\n",
       "        vertical-align: top;\n",
       "    }\n",
       "</style>\n",
       "<table border=\"1\" class=\"dataframe\">\n",
       "  <thead>\n",
       "    <tr style=\"text-align: right;\">\n",
       "      <th></th>\n",
       "      <th>temperature</th>\n",
       "      <th>heart_rate</th>\n",
       "    </tr>\n",
       "  </thead>\n",
       "  <tbody>\n",
       "    <tr>\n",
       "      <th>count</th>\n",
       "      <td>130.000000</td>\n",
       "      <td>130.000000</td>\n",
       "    </tr>\n",
       "    <tr>\n",
       "      <th>mean</th>\n",
       "      <td>98.249231</td>\n",
       "      <td>73.761538</td>\n",
       "    </tr>\n",
       "    <tr>\n",
       "      <th>std</th>\n",
       "      <td>0.733183</td>\n",
       "      <td>7.062077</td>\n",
       "    </tr>\n",
       "    <tr>\n",
       "      <th>min</th>\n",
       "      <td>96.300000</td>\n",
       "      <td>57.000000</td>\n",
       "    </tr>\n",
       "    <tr>\n",
       "      <th>25%</th>\n",
       "      <td>97.800000</td>\n",
       "      <td>69.000000</td>\n",
       "    </tr>\n",
       "    <tr>\n",
       "      <th>50%</th>\n",
       "      <td>98.300000</td>\n",
       "      <td>74.000000</td>\n",
       "    </tr>\n",
       "    <tr>\n",
       "      <th>75%</th>\n",
       "      <td>98.700000</td>\n",
       "      <td>79.000000</td>\n",
       "    </tr>\n",
       "    <tr>\n",
       "      <th>max</th>\n",
       "      <td>100.800000</td>\n",
       "      <td>89.000000</td>\n",
       "    </tr>\n",
       "  </tbody>\n",
       "</table>\n",
       "</div>"
      ],
      "text/plain": [
       "       temperature  heart_rate\n",
       "count   130.000000  130.000000\n",
       "mean     98.249231   73.761538\n",
       "std       0.733183    7.062077\n",
       "min      96.300000   57.000000\n",
       "25%      97.800000   69.000000\n",
       "50%      98.300000   74.000000\n",
       "75%      98.700000   79.000000\n",
       "max     100.800000   89.000000"
      ]
     },
     "execution_count": 56,
     "metadata": {},
     "output_type": "execute_result"
    }
   ],
   "source": [
    "# Your work here.\n",
    "print(df.info())\n",
    "\n",
    "df_stats = df.describe()\n",
    "\n",
    "df_stats"
   ]
  },
  {
   "cell_type": "code",
   "execution_count": 151,
   "metadata": {},
   "outputs": [
    {
     "name": "stdout",
     "output_type": "stream",
     "text": [
      "Estimated standard Error of the mean 0.0643044168379\n",
      "t value -5.45482329236\n"
     ]
    }
   ],
   "source": [
    "sem = df_stats.loc['std','temperature']/np.sqrt(df['temperature'].count())\n",
    "print(\"Estimated standard Error of the mean\",sem)\n",
    "t = (df_stats.loc['mean','temperature'] - 98.6) / sem\n",
    "print(\"t value\",t)"
   ]
  },
  {
   "cell_type": "code",
   "execution_count": 102,
   "metadata": {},
   "outputs": [
    {
     "data": {
      "text/plain": [
       "<matplotlib.axes._subplots.AxesSubplot at 0x2309dd89080>"
      ]
     },
     "execution_count": 102,
     "metadata": {},
     "output_type": "execute_result"
    },
    {
     "data": {
      "image/png": "[encoded data removed]",
      "text/plain": [
       "<matplotlib.figure.Figure at 0x2309de104a8>"
      ]
     },
     "metadata": {},
     "output_type": "display_data"
    }
   ],
   "source": [
    "# Examine Box-whisker plot\n",
    "import seaborn as sns\n",
    "sns.set()\n",
    "sns.boxplot(df['temperature'])"
   ]
  },
  {
   "cell_type": "markdown",
   "metadata": {},
   "source": [
    "There are only 3 outliers."
   ]
  },
  {
   "cell_type": "code",
   "execution_count": 12,
   "metadata": {},
   "outputs": [
    {
     "data": {
      "text/plain": [
       "(array([ 0.06837607,  0.1025641 ,  0.25641026,  0.44444444,  0.51282051,\n",
       "         0.51282051,  0.25641026,  0.01709402,  0.03418803,  0.01709402]),\n",
       " array([  96.3 ,   96.75,   97.2 ,   97.65,   98.1 ,   98.55,   99.  ,\n",
       "          99.45,   99.9 ,  100.35,  100.8 ]),\n",
       " <a list of 10 Patch objects>)"
      ]
     },
     "execution_count": 12,
     "metadata": {},
     "output_type": "execute_result"
    },
    {
     "data": {
      "image/png": "[encoded data removed]",
      "text/plain": [
       "<matplotlib.figure.Figure at 0x23099ca0128>"
      ]
     },
     "metadata": {},
     "output_type": "display_data"
    }
   ],
   "source": [
    "plt.subplot(211)\n",
    "plt.hist(df['temperature'],bins=25,normed=True)\n",
    "plt.subplot(212)\n",
    "plt.hist(df['temperature'],bins=10,normed=True)"
   ]
  },
  {
   "cell_type": "code",
   "execution_count": 82,
   "metadata": {},
   "outputs": [
    {
     "data": {
      "text/plain": [
       "<matplotlib.legend.Legend at 0x2309c995908>"
      ]
     },
     "execution_count": 82,
     "metadata": {},
     "output_type": "execute_result"
    },
    {
     "data": {
      "image/png": "[encoded data removed]",
      "text/plain": [
       "<matplotlib.figure.Figure at 0x2309c8383c8>"
      ]
     },
     "metadata": {},
     "output_type": "display_data"
    }
   ],
   "source": [
    "# It is hard to figure out from histograms, due to binning bias. So, let's try ECDF\n",
    "def ecdf(data):\n",
    "    \"\"\"Compute ECDF for a one-dimensional array of measurements.\"\"\"\n",
    "    # Number of data points: n\n",
    "    n = len(data)\n",
    "\n",
    "    # x-data for the ECDF: x\n",
    "    x = np.sort(data)\n",
    "\n",
    "    # y-data for the ECDF: y\n",
    "    y = np.arange(1, n+1) / n\n",
    "\n",
    "    return x, y\n",
    "\n",
    "# Call the ECDF and compare it with theoretical\n",
    "x_t,y_t = ecdf(df['temperature'])\n",
    "\n",
    "plt.plot(x_t,y_t,color='g')\n",
    "\n",
    "plt.margins(0.02)\n",
    "\n",
    "norm_th = np.random.normal(df['temperature'].mean(),df['temperature'].std(),size=1000)\n",
    "\n",
    "x_th,y_th = ecdf(norm_th)\n",
    "\n",
    "plt.plot(x_th,y_th,color='orange')\n",
    "\n",
    "plt.xlabel('temperature')\n",
    "\n",
    "plt.ylabel('ECDF')\n",
    "\n",
    "plt.title('Empirical CDF of temperature')\n",
    "\n",
    "plt.legend(['temperature','theoretical normal'])"
   ]
  },
  {
   "cell_type": "markdown",
   "metadata": {},
   "source": [
    "1.From the above ECDF plot, distribution of body temperature looks like a normal distribution with the mean and variance equal to those measured from the samples. But it is possible that this is a mere coincidence. We would be evaluating that soon. However, note that this sample is of human body temperature, and to be alive, body temperature has to be in certain range. Humans can't possibly survive below 88 deg or above 108 deg F. So the population in this case can never be normal\n",
    "\n",
    "\n",
    "2.a) Large or small in what sense? If it is wrt various test choices, sample size is larger than the t-test threshold of 30. But if we really look at what could have been the size for an experiment for measuring human temperature, then 130 seems small. The original experiment involved 25,000 size. Ref : https://www.health.harvard.edu/press_releases/normal_body_temperature\n",
    "\n",
    "  b) Measurements are independent. If T1 and T2 are temperatures of two different people, the temperature of one person can not influence that of the other person. However, it is a very loose thing to state, because if a place is affected with contagious disease, and measurements were concentrated from that place, they are no longer independent. \n",
    "   \n",
    "   \n",
    "3.a) I would use \"one sample z-test\". Here we are trying to evaluate the null hypothesis that mean body temperature = 98.6 F against alternative hypothesis that temperature is < 98.6 F, we have one sample consisting of 130 size to do the same.\n",
    "\n",
    "   b) We use z statistic because sample size is more than 30. Even though standard deviation information as required by z statistic is not given, since the sample distribution is assumed to be normal by central limit theorem (CLT), we could use z-statistic\n",
    "It is not clear from course material what are the different types of hypothesis tests, namely one sample, two sample, t and z statistic. Some of it is available here:  https://en.wikibooks.org/wiki/Statistics/Testing_Data/t-tests"
   ]
  },
  {
   "cell_type": "markdown",
   "metadata": {},
   "source": []
  },
  {
   "cell_type": "code",
   "execution_count": 173,
   "metadata": {},
   "outputs": [
    {
     "name": "stdout",
     "output_type": "stream",
     "text": [
      "p-value = 0.0\n"
     ]
    }
   ],
   "source": [
    "# We see that the mean is 98.25, which is less than 98.6. Now this could be just a chance. To see if this is just a chance or real, \n",
    "# we find p value. First step, write a function for bootstrap replicates\n",
    "import numpy as np\n",
    "def draw_bs_reps(data, func, size=1):\n",
    "    \"\"\"Draw bootstrap replicates.\"\"\"\n",
    "\n",
    "    # Initialize array of replicates: bs_replicates\n",
    "    bs_replicates = np.empty(size)\n",
    "\n",
    "    # Generate replicates\n",
    "    for i in range(size):\n",
    "        bs_replicates[i] = func(np.random.choice(data,len(data)))\n",
    "\n",
    "    return bs_replicates\n",
    "\n",
    "bs_reps = draw_bs_reps(df['temperature'],np.mean,100000)\n",
    "emp_mean = 98.6\n",
    "# Compute and print p-value: p\n",
    "p = np.sum(bs_reps >= emp_mean) / len(bs_reps)\n",
    "print('p-value =', p)"
   ]
  },
  {
   "cell_type": "markdown",
   "metadata": {},
   "source": [
    "Since p value is 0 (which means it is very very small), we reject the null hypothesis that true mean temperature is equal to what is reported.\n",
    "The true temperature is lower than what is believed to be."
   ]
  },
  {
   "cell_type": "markdown",
   "metadata": {},
   "source": [
    "4.Tests with samples with size 10\n",
    "\n",
    "A one sample t-test needs to be performed. For sample size 10, it is 9 degrees of freedom. We are actually trying to evaluate only if it is less than 98.6. Hence it is left tailed test. To evaluate that, we will have to use python library scipy"
   ]
  },
  {
   "cell_type": "code",
   "execution_count": 172,
   "metadata": {},
   "outputs": [
    {
     "data": {
      "text/plain": [
       "Ttest_1sampResult(statistic=-1.6501671541883485, pvalue=0.1333063723357425)"
      ]
     },
     "execution_count": 172,
     "metadata": {},
     "output_type": "execute_result"
    }
   ],
   "source": [
    "from scipy import stats as st\n",
    "st.ttest_1samp(np.random.choice(df.temperature,10),98.6)"
   ]
  },
  {
   "cell_type": "markdown",
   "metadata": {},
   "source": [
    "But note that this gives two sided result. Python has no option for left sided one sample t test. Hence taking real p value to be half of what I got above. I see that for various runs I get different p values, sometimes greater than 0.05, sometimes less than 0.05. Hence with the t test of randomly chosen 10 samples, the result is inconclusive. We don't have enough evidence to reject null hypothesis"
   ]
  },
  {
   "cell_type": "code",
   "execution_count": 169,
   "metadata": {},
   "outputs": [
    {
     "name": "stdout",
     "output_type": "stream",
     "text": [
      "p-value = 7e-05\n"
     ]
    }
   ],
   "source": [
    "bs_reps = draw_bs_reps(np.random.choice(df['temperature'],10),np.mean,100000)\n",
    "emp_mean = 98.6\n",
    "# Compute and print p-value: p\n",
    "p = np.sum(bs_reps >= emp_mean) / len(bs_reps)\n",
    "print('p-value =', p)"
   ]
  },
  {
   "cell_type": "markdown",
   "metadata": {},
   "source": [
    "Even here I get different p values for different runs"
   ]
  },
  {
   "cell_type": "markdown",
   "metadata": {},
   "source": [
    "5.What temperature is someone's body temperature abnormal?\n",
    "We will find the answers by evaluating 99% and 95% confidence intervals."
   ]
  },
  {
   "cell_type": "code",
   "execution_count": 147,
   "metadata": {},
   "outputs": [
    {
     "name": "stdout",
     "output_type": "stream",
     "text": [
      "99% confidence interval: [ 97.91845385  98.57846154]\n",
      "95% confidence interval: [ 97.99842308  98.50923077]\n"
     ]
    }
   ],
   "source": [
    "ci_99 = np.percentile(bs_reps,[0.5,99.5])\n",
    "print('99% confidence interval:',df['temperature'].mean() + ci_99)\n",
    "ci_95 = np.percentile(bs_reps,[2.5,97.5])\n",
    "print('95% confidence interval:',df['temperature'].mean() + ci_95)"
   ]
  },
  {
   "cell_type": "markdown",
   "metadata": {},
   "source": [
    "Taking the numbers from 99% confidence interval, we can consider body temperature to be abnormal, \n",
    "if it falls below 97.92 F or goes above 98.58 F"
   ]
  },
  {
   "cell_type": "markdown",
   "metadata": {},
   "source": [
    "6.Analysing Male and Female differences"
   ]
  },
  {
   "cell_type": "code",
   "execution_count": 139,
   "metadata": {},
   "outputs": [
    {
     "data": {
      "text/plain": [
       "0.289230769230727"
      ]
     },
     "execution_count": 139,
     "metadata": {},
     "output_type": "execute_result"
    }
   ],
   "source": [
    "ladies = df.loc[df.gender == 'F']['temperature']\n",
    "men = df.loc[df.gender == 'M']['temperature']\n",
    "emp_diff_of_means = ladies.mean() - men.mean()\n",
    "emp_diff_of_means"
   ]
  },
  {
   "cell_type": "markdown",
   "metadata": {},
   "source": [
    "The difference in means is not small enough to ignore."
   ]
  },
  {
   "cell_type": "code",
   "execution_count": 141,
   "metadata": {},
   "outputs": [
    {
     "data": {
      "image/png": "[encoded data removed]",
      "text/plain": [
       "<matplotlib.figure.Figure at 0x2309f9d6518>"
      ]
     },
     "metadata": {},
     "output_type": "display_data"
    }
   ],
   "source": [
    "x_l,y_l = ecdf(ladies)\n",
    "x_m,y_m = ecdf(men)\n",
    "_ = plt.plot(x_l,y_l,color = 'pink',alpha=0.5)\n",
    "_ = plt.plot(x_m,y_m,color='blue',alpha=0.5)\n",
    "_ = plt.xlabel('temperature in F')\n",
    "_ = plt.ylabel('ECDF')\n",
    "_ = plt.legend(['Ladies','Men'])"
   ]
  },
  {
   "cell_type": "markdown",
   "metadata": {},
   "source": [
    "The ECDF plots further gives raise to the opinion that there could be statistically signifant difference between male and female body temperatures"
   ]
  },
  {
   "cell_type": "code",
   "execution_count": 140,
   "metadata": {},
   "outputs": [
    {
     "name": "stdout",
     "output_type": "stream",
     "text": [
      "p-value = 0.0141\n"
     ]
    }
   ],
   "source": [
    "# Two sample hypothesis testing\n",
    "temp_concat = np.concatenate((ladies,men))\n",
    "\n",
    "bs_reps = np.empty(10000)\n",
    "\n",
    "for i in range(10000):\n",
    "    # Generate bootstrap sample\n",
    "    bs_sample = np.random.choice(temp_concat, size=len(temp_concat))\n",
    "    \n",
    "    # Compute replicate of difference in means\n",
    "    bs_reps[i] = np.mean(bs_sample[:len(ladies)]) - np.mean(bs_sample[len(ladies):])\n",
    "# Compute and print p-value: p\n",
    "p = np.sum(bs_reps >= emp_diff_of_means) / len(bs_reps)\n",
    "print('p-value =', p)    "
   ]
  },
  {
   "cell_type": "markdown",
   "metadata": {},
   "source": [
    "Since p-value is less than 0.05, we conclude that the difference is statistically significant. That is, there's enough evidence to behave as if the mean body temperature for ladies and gentlemen are different. Temperature of female body is more than that of males"
   ]
  },
  {
   "cell_type": "code",
   "execution_count": null,
   "metadata": {
    "collapsed": true
   },
   "outputs": [],
   "source": []
  }
 ],
 "metadata": {
  "kernelspec": {
   "display_name": "Python 3",
   "language": "python",
   "name": "python3"
  },
  "language_info": {
   "codemirror_mode": {
    "name": "ipython",
    "version": 3
   },
   "file_extension": ".py",
   "mimetype": "text/x-python",
   "name": "python",
   "nbconvert_exporter": "python",
   "pygments_lexer": "ipython3",
   "version": "3.6.3"
  }
 },
 "nbformat": 4,
 "nbformat_minor": 1
}
