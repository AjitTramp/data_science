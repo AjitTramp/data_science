{
 "cells": [
  {
   "cell_type": "markdown",
   "metadata": {},
   "source": [
    "# What is the True Normal Human Body Temperature? \n",
    "\n",
    "#### Background\n",
    "\n",
    "The mean normal body temperature was held to be 37$^{\\circ}$C or 98.6$^{\\circ}$F for more than 120 years since it was first conceptualized and reported by Carl Wunderlich in a famous 1868 book. But, is this value statistically correct?"
   ]
  },
  {
   "cell_type": "markdown",
   "metadata": {},
   "source": [
    "<h3>Exercises</h3>\n",
    "\n",
    "<p>In this exercise, you will analyze a dataset of human body temperatures and employ the concepts of hypothesis testing, confidence intervals, and statistical significance.</p>\n",
    "\n",
    "<p>Answer the following questions <b>in this notebook below and submit to your Github account</b>.</p> \n",
    "\n",
    "<ol>\n",
    "<li>  Is the distribution of body temperatures normal? \n",
    "    <ul>\n",
    "    <li> Although this is not a requirement for CLT to hold (read CLT carefully), it gives us some peace of mind that the population may also be normally distributed if we assume that this sample is representative of the population.\n",
    "    </ul>\n",
    "<li>  Is the sample size large? Are the observations independent?\n",
    "    <ul>\n",
    "    <li> Remember that this is a condition for the CLT, and hence the statistical tests we are using, to apply.\n",
    "    </ul>\n",
    "<li>  Is the true population mean really 98.6 degrees F?\n",
    "    <ul>\n",
    "    <li> Would you use a one-sample or two-sample test? Why?\n",
    "    <li> In this situation, is it appropriate to use the $t$ or $z$ statistic? \n",
    "    <li> Now try using the other test. How is the result be different? Why?\n",
    "    </ul>\n",
    "<li>  Draw a small sample of size 10 from the data and repeat both tests. \n",
    "    <ul>\n",
    "    <li> Which one is the correct one to use? \n",
    "    <li> What do you notice? What does this tell you about the difference in application of the $t$ and $z$ statistic?\n",
    "    </ul>\n",
    "<li>  At what temperature should we consider someone's temperature to be \"abnormal\"?\n",
    "    <ul>\n",
    "    <li> Start by computing the margin of error and confidence interval.\n",
    "    </ul>\n",
    "<li>  Is there a significant difference between males and females in normal temperature?\n",
    "    <ul>\n",
    "    <li> What test did you use and why?\n",
    "    <li> Write a story with your conclusion in the context of the original problem.\n",
    "    </ul>\n",
    "</ol>\n",
    "\n",
    "You can include written notes in notebook cells using Markdown: \n",
    "   - In the control panel at the top, choose Cell > Cell Type > Markdown\n",
    "   - Markdown syntax: http://nestacms.com/docs/creating-content/markdown-cheat-sheet\n",
    "\n",
    "#### Resources\n",
    "\n",
    "+ Information and data sources: http://www.amstat.org/publications/jse/datasets/normtemp.txt, http://www.amstat.org/publications/jse/jse_data_archive.htm\n",
    "+ Markdown syntax: http://nestacms.com/docs/creating-content/markdown-cheat-sheet\n",
    "\n",
    "****"
   ]
  },
  {
   "cell_type": "markdown",
   "metadata": {},
   "source": [
    "## What is the True Normal Body Temperature Exercise\n",
    "\n",
    "***Abstract***: *In this iPython Notebook, I am exploring a dataset containing measurements of human body temperatures. I apply various techniques learnt in the inferential statistics lectures like bootstrap replicates measurement and hypothesis testing.  Rest of this notebook walks the reader through the steps and answers the questions listed above. One can skip the Exploratory Data Analysis section below and jump to answers.*\n",
    "\n",
    "### Exploratory Data Analysis"
   ]
  },
  {
   "cell_type": "code",
   "execution_count": 9,
   "metadata": {
    "collapsed": true
   },
   "outputs": [],
   "source": [
    "import pandas as pd\n",
    "import numpy as np\n",
    "import matplotlib.pyplot as plt\n",
    "import scipy.stats as stats\n",
    "%matplotlib inline\n",
    "import seaborn as sns\n",
    "sns.set()\n",
    "sns.set_style('whitegrid')\n",
    "df = pd.read_csv('data/human_body_temperature.csv')"
   ]
  },
  {
   "cell_type": "code",
   "execution_count": 10,
   "metadata": {},
   "outputs": [
    {
     "name": "stdout",
     "output_type": "stream",
     "text": [
      "<class 'pandas.core.frame.DataFrame'>\n",
      "RangeIndex: 130 entries, 0 to 129\n",
      "Data columns (total 3 columns):\n",
      "temperature    130 non-null float64\n",
      "gender         130 non-null object\n",
      "heart_rate     130 non-null float64\n",
      "dtypes: float64(2), object(1)\n",
      "memory usage: 3.1+ KB\n",
      "None\n"
     ]
    },
    {
     "data": {
      "text/html": [
       "<div>\n",
       "<style>\n",
       "    .dataframe thead tr:only-child th {\n",
       "        text-align: right;\n",
       "    }\n",
       "\n",
       "    .dataframe thead th {\n",
       "        text-align: left;\n",
       "    }\n",
       "\n",
       "    .dataframe tbody tr th {\n",
       "        vertical-align: top;\n",
       "    }\n",
       "</style>\n",
       "<table border=\"1\" class=\"dataframe\">\n",
       "  <thead>\n",
       "    <tr style=\"text-align: right;\">\n",
       "      <th></th>\n",
       "      <th>temperature</th>\n",
       "      <th>heart_rate</th>\n",
       "    </tr>\n",
       "  </thead>\n",
       "  <tbody>\n",
       "    <tr>\n",
       "      <th>count</th>\n",
       "      <td>130.000000</td>\n",
       "      <td>130.000000</td>\n",
       "    </tr>\n",
       "    <tr>\n",
       "      <th>mean</th>\n",
       "      <td>98.249231</td>\n",
       "      <td>73.761538</td>\n",
       "    </tr>\n",
       "    <tr>\n",
       "      <th>std</th>\n",
       "      <td>0.733183</td>\n",
       "      <td>7.062077</td>\n",
       "    </tr>\n",
       "    <tr>\n",
       "      <th>min</th>\n",
       "      <td>96.300000</td>\n",
       "      <td>57.000000</td>\n",
       "    </tr>\n",
       "    <tr>\n",
       "      <th>25%</th>\n",
       "      <td>97.800000</td>\n",
       "      <td>69.000000</td>\n",
       "    </tr>\n",
       "    <tr>\n",
       "      <th>50%</th>\n",
       "      <td>98.300000</td>\n",
       "      <td>74.000000</td>\n",
       "    </tr>\n",
       "    <tr>\n",
       "      <th>75%</th>\n",
       "      <td>98.700000</td>\n",
       "      <td>79.000000</td>\n",
       "    </tr>\n",
       "    <tr>\n",
       "      <th>max</th>\n",
       "      <td>100.800000</td>\n",
       "      <td>89.000000</td>\n",
       "    </tr>\n",
       "  </tbody>\n",
       "</table>\n",
       "</div>"
      ],
      "text/plain": [
       "       temperature  heart_rate\n",
       "count   130.000000  130.000000\n",
       "mean     98.249231   73.761538\n",
       "std       0.733183    7.062077\n",
       "min      96.300000   57.000000\n",
       "25%      97.800000   69.000000\n",
       "50%      98.300000   74.000000\n",
       "75%      98.700000   79.000000\n",
       "max     100.800000   89.000000"
      ]
     },
     "execution_count": 10,
     "metadata": {},
     "output_type": "execute_result"
    }
   ],
   "source": [
    "# Your work here.\n",
    "print(df.info())\n",
    "\n",
    "df_stats = df.describe()\n",
    "\n",
    "df_stats"
   ]
  },
  {
   "cell_type": "code",
   "execution_count": 11,
   "metadata": {},
   "outputs": [
    {
     "data": {
      "text/plain": [
       "gender\n",
       "F    65\n",
       "M    65\n",
       "Name: temperature, dtype: int64"
      ]
     },
     "execution_count": 11,
     "metadata": {},
     "output_type": "execute_result"
    }
   ],
   "source": [
    "# Count the number of male and female samples to gain insight into randomness\n",
    "df.groupby('gender')['temperature'].count()"
   ]
  },
  {
   "cell_type": "code",
   "execution_count": 12,
   "metadata": {},
   "outputs": [
    {
     "data": {
      "text/plain": [
       "(array([ 0.01802885,  0.00600962,  0.        ,  0.02403846,  0.00600962,\n",
       "         0.03605769,  0.01802885,  0.03605769,  0.03605769,  0.03605769,\n",
       "         0.078125  ,  0.03004808,  0.06009615,  0.03605769,  0.04807692,\n",
       "         0.04206731,  0.06009615,  0.06610577,  0.03004808,  0.03004808,\n",
       "         0.02403846,  0.03004808,  0.01201923,  0.00600962,  0.01201923]),\n",
       " array([ 57.  ,  58.28,  59.56,  60.84,  62.12,  63.4 ,  64.68,  65.96,\n",
       "         67.24,  68.52,  69.8 ,  71.08,  72.36,  73.64,  74.92,  76.2 ,\n",
       "         77.48,  78.76,  80.04,  81.32,  82.6 ,  83.88,  85.16,  86.44,\n",
       "         87.72,  89.  ]),\n",
       " <a list of 25 Patch objects>)"
      ]
     },
     "execution_count": 12,
     "metadata": {},
     "output_type": "execute_result"
    },
    {
     "data": {
      "image/png": "[encoded data removed]",
      "text/plain": [
       "<matplotlib.figure.Figure at 0x1de069257b8>"
      ]
     },
     "metadata": {},
     "output_type": "display_data"
    }
   ],
   "source": [
    "# Examine Box-whisker plot\n",
    "plt.hist(df['heart_rate'],bins=25,normed=True)"
   ]
  },
  {
   "cell_type": "code",
   "execution_count": 13,
   "metadata": {},
   "outputs": [
    {
     "data": {
      "text/plain": [
       "0.25365640272076417"
      ]
     },
     "execution_count": 13,
     "metadata": {},
     "output_type": "execute_result"
    }
   ],
   "source": [
    "# Measure pearson correlation between temperature and heart rate, in case needed later\n",
    "r = df['temperature'].corr(df['heart_rate'])\n",
    "r"
   ]
  },
  {
   "cell_type": "code",
   "execution_count": 14,
   "metadata": {},
   "outputs": [
    {
     "name": "stdout",
     "output_type": "stream",
     "text": [
      "Estimated standard Error of the mean 0.0643044168379\n",
      "t value -5.45482329236\n"
     ]
    }
   ],
   "source": [
    "sem = df_stats.loc['std','temperature']/np.sqrt(df['temperature'].count())\n",
    "print(\"Estimated standard Error of the mean\",sem)\n",
    "t = (df_stats.loc['mean','temperature'] - 98.6) / sem\n",
    "print(\"t value\",t)"
   ]
  },
  {
   "cell_type": "code",
   "execution_count": 15,
   "metadata": {},
   "outputs": [
    {
     "data": {
      "text/plain": [
       "<matplotlib.axes._subplots.AxesSubplot at 0x1de069c46a0>"
      ]
     },
     "execution_count": 15,
     "metadata": {},
     "output_type": "execute_result"
    },
    {
     "data": {
      "image/png": "[encoded data removed]",
      "text/plain": [
       "<matplotlib.figure.Figure at 0x1de069dfb00>"
      ]
     },
     "metadata": {},
     "output_type": "display_data"
    }
   ],
   "source": [
    "sns.boxplot(df['temperature'],color='olive')"
   ]
  },
  {
   "cell_type": "markdown",
   "metadata": {},
   "source": [
    "There are only 3 outliers. The boxplot clearly shows skew, as 25 to 50 percentile region is larger than 50 to 75 percentile region"
   ]
  },
  {
   "cell_type": "code",
   "execution_count": 16,
   "metadata": {},
   "outputs": [
    {
     "data": {
      "text/plain": [
       "(array([ 0.06837607,  0.1025641 ,  0.25641026,  0.44444444,  0.51282051,\n",
       "         0.51282051,  0.25641026,  0.01709402,  0.03418803,  0.01709402]),\n",
       " array([  96.3 ,   96.75,   97.2 ,   97.65,   98.1 ,   98.55,   99.  ,\n",
       "          99.45,   99.9 ,  100.35,  100.8 ]),\n",
       " <a list of 10 Patch objects>)"
      ]
     },
     "execution_count": 16,
     "metadata": {},
     "output_type": "execute_result"
    },
    {
     "data": {
      "image/png": "[encoded data removed]",
      "text/plain": [
       "<matplotlib.figure.Figure at 0x1de069c4898>"
      ]
     },
     "metadata": {},
     "output_type": "display_data"
    }
   ],
   "source": [
    "# Examining the temperature data using two different histogram binsizes\n",
    "plt.subplot(211)\n",
    "plt.hist(df['temperature'],bins=25,normed=True,color='purple')\n",
    "plt.subplot(212)\n",
    "plt.hist(df['temperature'],bins=10,normed=True,color='pink')"
   ]
  },
  {
   "cell_type": "markdown",
   "metadata": {},
   "source": [
    "The histograms plotted with two different bin sizes show that distribution is unimodal, but they do not appear normal. It is clearly left skewed in the first histogram. Let us also plot ECDF"
   ]
  },
  {
   "cell_type": "code",
   "execution_count": 17,
   "metadata": {},
   "outputs": [
    {
     "data": {
      "text/plain": [
       "<matplotlib.legend.Legend at 0x1de0733ef28>"
      ]
     },
     "execution_count": 17,
     "metadata": {},
     "output_type": "execute_result"
    },
    {
     "data": {
      "image/png": "[encoded data removed]",
      "text/plain": [
       "<matplotlib.figure.Figure at 0x1de07257ef0>"
      ]
     },
     "metadata": {},
     "output_type": "display_data"
    }
   ],
   "source": [
    "# The function to find x,y for empirical CDF\n",
    "def ecdf(data):\n",
    "    \"\"\"Compute ECDF for a one-dimensional array of measurements.\"\"\"\n",
    "    # Number of data points: n\n",
    "    n = len(data)\n",
    "\n",
    "    # x-data for the ECDF: x\n",
    "    x = np.sort(data)\n",
    "\n",
    "    # y-data for the ECDF: y\n",
    "    y = np.arange(1, n+1) / n\n",
    "\n",
    "    return x, y\n",
    "\n",
    "# Call the ECDF and compare it with theoretical\n",
    "x_t,y_t = ecdf(df['temperature'])\n",
    "\n",
    "plt.plot(x_t,y_t,color='g',marker='.',linestyle='none')\n",
    "\n",
    "plt.margins(0.02)\n",
    "\n",
    "norm_th = np.random.normal(df['temperature'].mean(),df['temperature'].std(),size=1000)\n",
    "\n",
    "x_th,y_th = ecdf(norm_th)\n",
    "\n",
    "plt.plot(x_th,y_th,color='orange',linewidth=1.3)\n",
    "\n",
    "plt.xlabel('temperature')\n",
    "\n",
    "plt.ylabel('ECDF')\n",
    "\n",
    "plt.title('Empirical CDF of temperature')\n",
    "\n",
    "plt.legend(['temperature','theoretical normal'])"
   ]
  },
  {
   "cell_type": "markdown",
   "metadata": {},
   "source": [
    "From the above ECDF plot, distribution of body temperature loosely resembles the theoretical normal distribution (generated with numpy) with the mean and variance equal to those measured from the samples."
   ]
  },
  {
   "cell_type": "code",
   "execution_count": 18,
   "metadata": {},
   "outputs": [
    {
     "name": "stdout",
     "output_type": "stream",
     "text": [
      "30\n"
     ]
    }
   ],
   "source": [
    "# To find the minimum required sample size to carry out the tests:\n",
    "\n",
    "# Calculate the maximum margin of error\n",
    "merr = abs(df.temperature.mean()-98.6)\n",
    "\n",
    "# Z parameter for 99% confidence interval\n",
    "z_99 = 2.58\n",
    "\n",
    "# Required n to keep margin of error within merr above\n",
    "req_n = (z_99*df.temperature.std()/merr)**2\n",
    "\n",
    "# Display the result\n",
    "print(round(req_n+0.5))"
   ]
  },
  {
   "cell_type": "code",
   "execution_count": 19,
   "metadata": {},
   "outputs": [
    {
     "name": "stdout",
     "output_type": "stream",
     "text": [
      "5.45482329236\n"
     ]
    }
   ],
   "source": [
    "# With sample of size 130, z statistic?\n",
    "z = abs(df.temperature.mean()-98.6)/(df.temperature.std()/np.sqrt(130))\n",
    "print(z)"
   ]
  },
  {
   "cell_type": "markdown",
   "metadata": {},
   "source": [
    "## Answers to the Questions in Exercise:\n",
    "\n",
    "#### 1.Is the distribution of body temperature normal?\n",
    "\n",
    "**The given sample set is not normally distributed. It is left skewed.**\n",
    "\n",
    "### 2.Is the sample set large? Are the measurements independent?\n",
    "\n",
    "a) Large or small in what sense?  If we look at what could have been the size for an experiment for measuring human temperature, then 130 seems small. The original experiment involved 25,000 size. Ref : https://www.health.harvard.edu/press_releases/normal_body_temperature. \n",
    "\n",
    "If large/small is wrt accuracy/precision requirements, **sample size is larger than required value of 30 (calculated above)**; hence, central limit theorem can be applied on sampling distributions. \n",
    "\n",
    "  b)  **Statistical independence of two temperature T1, T2 means P(T1|T2) = P(T1) and vice versa. There is insufficient information about the dataset to conclude whether measurements are independent.** In the above cells there is numerical and visual EDA results that attempt to get insight from other columns of the dataframe. By observing gender column of the data, we see that there is equal number of males and females, thus there is no gender bias. Also, the heart rate appears bimodally distributed. However, these fail to give conclusive remarks on probability relationship. *We do not know if the data is from people of different races, geographical locations, or those with any medical conditions. In the absence of information such as this, we can not assume that P(T1|T2) = P(T1)* For the sake of going forward we assume they are random and independent.\n",
    "There is also another way to conclude randomness/independence between the measurements, according to coursera videos. It is because 130 < 10% of population of the world.\n",
    "   \n",
    "   \n",
    "### 3.Is the true population mean temperature 98.6 deg F?\n",
    "\n",
    "**The mean temperature of the sample is measured to be 98.25 deg F, which is less than the reported population mean of 98.6.** \n",
    "\n",
    "Now this could be just a chance.  To see if this is just a chance or real, we identify the null hypothesis, state alternate hypothesis with respect to an alpha value. Then we find p-value to evaluate whether we should accept or reject null hypothesis.\n",
    "\n",
    "a) I would use \"one sample z-test\", as we have one sample consisting of 130 size to do the same. \n",
    "\n",
    "H0 : Mean body temperature = 98.6 F \n",
    "\n",
    "HA : Mean body temperature =! 98.6 F\n",
    "\n",
    "Let us fix alpha = 0.01, corresponding to 99% confidence.\n",
    "\n",
    "b) We could use z statistic because sample size is more than 30. Sigma information is not given, we approximate it with the sigma of the given sample.\n",
    "\n",
    "It is not clear from course material what are the different types of hypothesis tests, namely one sample, two sample, t and z statistic. Some of it is available here: https://en.wikibooks.org/wiki/Statistics/Testing_Data/t-tests. \n",
    "I personally like coursera materials. Hence went through this course videos: https://www.coursera.org/learn/inferential-statistics-intro \n",
    "The cell below demonstrates bootstrap replicates method."
   ]
  },
  {
   "cell_type": "markdown",
   "metadata": {},
   "source": []
  },
  {
   "cell_type": "code",
   "execution_count": 20,
   "metadata": {},
   "outputs": [
    {
     "name": "stdout",
     "output_type": "stream",
     "text": [
      "98.24923076923078\n",
      "Result of normal curve test NormaltestResult(statistic=3.8294863369639134, pvalue=0.1473796794726249)\n"
     ]
    },
    {
     "data": {
      "image/png": "[encoded data removed]",
      "text/plain": [
       "<matplotlib.figure.Figure at 0x1de07228048>"
      ]
     },
     "metadata": {},
     "output_type": "display_data"
    }
   ],
   "source": [
    "# First step, write a function for bootstrap replicates\n",
    "import numpy as np\n",
    "def draw_bs_reps(data, func, size=1,len_d=1):\n",
    "    \"\"\"Draw bootstrap replicates.\"\"\"\n",
    "\n",
    "    # Initialize array of replicates: bs_replicates\n",
    "    bs_replicates = np.empty(size)\n",
    "\n",
    "    # Generate replicates by resampling with replacement\n",
    "    for i in range(size):\n",
    "        bs_replicates[i] = func(np.random.choice(data,len_d))\n",
    "\n",
    "    return bs_replicates\n",
    "\n",
    "bs_reps = draw_bs_reps(df['temperature'],np.mean,100000,len(df.temperature))\n",
    "emp_mean = df.temperature.mean()\n",
    "mu = 98.6\n",
    "print(emp_mean)\n",
    "plt.hist(bs_reps,bins=20)\n",
    "result = stats.normaltest(bs_reps)\n",
    "print(\"Result of normal curve test\",result)"
   ]
  },
  {
   "cell_type": "code",
   "execution_count": 21,
   "metadata": {},
   "outputs": [
    {
     "name": "stdout",
     "output_type": "stream",
     "text": [
      "p-value = 0.0\n"
     ]
    }
   ],
   "source": [
    "# p-value = P(Observed mean temperature <= 98.24 | H0 is true). \n",
    "# It is the probability that observed sample mean is away from mu=98.6 on left side of the Normal curve of mean 98.6.\n",
    "# Since we dont have that curve, we use what we have.\n",
    "# Compute and print p-value: p for one sided\n",
    "p = np.sum((bs_reps + mu) <= 2*emp_mean) / len(bs_reps)\n",
    "print('p-value =', p)"
   ]
  },
  {
   "cell_type": "markdown",
   "metadata": {},
   "source": [
    "Since p value is 0 (too small to observe), it means that \"If indeed human body temperature was 98.6 deg F, there is 0% (too small to observe) chance that a random sample of 130 body temperatures would have mean temperature of 98.24 deg F. Hence the originally reported value of 98.6 deg F itself is rejected in favor of alternate value of 98.24 deg F.\"\n",
    "\n",
    "** In technical words, we reject the null hypothesis that true population mean temperature is equal to the reported value of 98.6 deg F.**"
   ]
  },
  {
   "cell_type": "code",
   "execution_count": 22,
   "metadata": {},
   "outputs": [
    {
     "name": "stdout",
     "output_type": "stream",
     "text": [
      "Standard Error in mean measured from given sample = 0.0643044168379\n",
      "Standard deviation of bootstrap replicates of sample mean = 0.0640010880413\n"
     ]
    }
   ],
   "source": [
    "# Cross checking if we got what we expect:\n",
    "# Standard Error with temperature measurements sampling measured using the given sample\n",
    "se_orig = df.temperature.std()/np.sqrt(len(df.temperature))\n",
    "print(\"Standard Error in mean measured from given sample =\",se_orig)\n",
    "# Standard deviation of bootstrap replicates, which actually simulate the distribution of mean of sample\n",
    "print(\"Standard deviation of bootstrap replicates of sample mean =\",bs_reps.std())"
   ]
  },
  {
   "cell_type": "markdown",
   "metadata": {},
   "source": [
    "As the standard error in mean measured with given measurements and standard deviation of bootstrap replicates are close, we know that the computations are fine."
   ]
  },
  {
   "cell_type": "code",
   "execution_count": 23,
   "metadata": {},
   "outputs": [
    {
     "data": {
      "text/plain": [
       "Ttest_1sampResult(statistic=-5.4548232923645195, pvalue=2.4106320415561276e-07)"
      ]
     },
     "execution_count": 23,
     "metadata": {},
     "output_type": "execute_result"
    }
   ],
   "source": [
    "# Doing the other test, i.e. 1 sample t test\n",
    "from scipy import stats as st\n",
    "st.ttest_1samp(df.temperature,98.6)"
   ]
  },
  {
   "cell_type": "markdown",
   "metadata": {},
   "source": [
    "## 4.Tests with samples with size 10\n",
    "\n",
    "A one sample t-test needs to be performed with size 10. For sample size 10, it is 9 degrees of freedom. "
   ]
  },
  {
   "cell_type": "code",
   "execution_count": 24,
   "metadata": {},
   "outputs": [
    {
     "data": {
      "text/plain": [
       "Ttest_1sampResult(statistic=-2.5006633619298935, pvalue=0.033824991167577832)"
      ]
     },
     "execution_count": 24,
     "metadata": {},
     "output_type": "execute_result"
    }
   ],
   "source": [
    "st.ttest_1samp(np.random.choice(df.temperature,10),98.6)"
   ]
  },
  {
   "cell_type": "markdown",
   "metadata": {},
   "source": [
    "I see that for various runs I get different p values, but mostly larger than 0.01. Hence with the t test of randomly chosen 10 samples, the result is inconclusive. \n",
    "**We don't have enough evidence to reject null hypothesis**"
   ]
  },
  {
   "cell_type": "code",
   "execution_count": 25,
   "metadata": {},
   "outputs": [
    {
     "name": "stdout",
     "output_type": "stream",
     "text": [
      "Bootstrap test with sample size 10 0.151289577532\n",
      "p-value = 0.497\n"
     ]
    }
   ],
   "source": [
    "z_n_10 = abs(df.temperature.mean()-98.6)/df.temperature.std()/np.sqrt(10)\n",
    "print(\"Bootstrap test with sample size 10\",z_n_10)\n",
    "bs_reps1 = draw_bs_reps(df['temperature'],np.mean,10000,10)\n",
    "emp_mean = 98.6\n",
    "# Compute and print p-value: p\n",
    "p = np.sum(abs(bs_reps1 - emp_mean) > (98.6 - df.temperature.mean())) / len(bs_reps1)\n",
    "print('p-value =', p)"
   ]
  },
  {
   "cell_type": "markdown",
   "metadata": {},
   "source": [
    "Even here I get different p values for different runs. But I get p-value larger than 0.01 around 0.5. Hence there is not sufficient evidence to reject null hypothesis.\n",
    "**Conclusion for question 4 are,\n",
    "a) For small sample size 10, z statistic gives more consistent p-value than t statistic test.\n",
    "b) Sample size 10 is not large enough for central limit theorem to hold, hence using z statistic is wrong**"
   ]
  },
  {
   "cell_type": "markdown",
   "metadata": {},
   "source": [
    "## 5.What temperature is someone's body temperature abnormal?\n",
    "\n",
    "We will find the answers by evaluating 99% and 95% confidence intervals."
   ]
  },
  {
   "cell_type": "code",
   "execution_count": 26,
   "metadata": {},
   "outputs": [
    {
     "name": "stdout",
     "output_type": "stream",
     "text": [
      "99% confidence interval of the mean: [ 98.08538462  98.41307692]\n",
      "95% confidence interval of the mean: [ 98.12384615  98.37461538]\n"
     ]
    }
   ],
   "source": [
    "ci_99 = np.percentile(bs_reps,[0.5,99.5])\n",
    "print('99% confidence interval of the mean:',ci_99)\n",
    "ci_95 = np.percentile(bs_reps,[2.5,97.5])\n",
    "print('95% confidence interval of the mean:',ci_95)"
   ]
  },
  {
   "cell_type": "code",
   "execution_count": 27,
   "metadata": {},
   "outputs": [
    {
     "data": {
      "image/png": "[encoded data removed]",
      "text/plain": [
       "<matplotlib.figure.Figure at 0x1de071d2ba8>"
      ]
     },
     "metadata": {},
     "output_type": "display_data"
    }
   ],
   "source": [
    "_ = plt.hist(bs_reps,bins=40,histtype='step',color='g',normed=True,linewidth=1.5)\n",
    "_ = plt.xlabel('Temperature in F')\n",
    "_ = plt.ylabel('Number of points in bins')\n",
    "_ = plt.margins(0.03)\n",
    "_ = plt.title('Histogram/PDF of mean body temperature')"
   ]
  },
  {
   "cell_type": "markdown",
   "metadata": {},
   "source": [
    "Taking the numbers from 99% confidence interval (that are less stringent than 95%), we can consider body temperature to be abnormal, if it falls below ci_99[0] F or goes above ci_99[1] F above. Note that the originally reported value of 98.6 F lies to the right of 99% confidence interval! ** We infer that 99% of the randomly taken samples of size 130 from the real population will yield a mean value in the interval, 98.083 F - 98.417 F, i.e 98.25 +/ 0.167 F**\n",
    "\n",
    "*Note: The number 0.167 is very close to 2.58 x 0.0643, which is, z parameter at 99% x standard error, not a coincidence*"
   ]
  },
  {
   "cell_type": "markdown",
   "metadata": {},
   "source": [
    "## 6.Analysing Male and Female mean body temperature differences"
   ]
  },
  {
   "cell_type": "code",
   "execution_count": 28,
   "metadata": {},
   "outputs": [
    {
     "name": "stdout",
     "output_type": "stream",
     "text": [
      "count     65.000000\n",
      "mean      98.393846\n",
      "std        0.743488\n",
      "min       96.400000\n",
      "25%       98.000000\n",
      "50%       98.400000\n",
      "75%       98.800000\n",
      "max      100.800000\n",
      "Name: temperature, dtype: float64\n",
      "count    65.000000\n",
      "mean     98.104615\n",
      "std       0.698756\n",
      "min      96.300000\n",
      "25%      97.600000\n",
      "50%      98.100000\n",
      "75%      98.600000\n",
      "max      99.500000\n",
      "Name: temperature, dtype: float64\n",
      "z score with common standard error = 18.4257623136\n"
     ]
    },
    {
     "data": {
      "image/png": "[encoded data removed]",
      "text/plain": [
       "<matplotlib.figure.Figure at 0x1de0729de80>"
      ]
     },
     "metadata": {},
     "output_type": "display_data"
    },
    {
     "data": {
      "image/png": "[encoded data removed]",
      "text/plain": [
       "<matplotlib.figure.Figure at 0x1de0729d3c8>"
      ]
     },
     "metadata": {},
     "output_type": "display_data"
    }
   ],
   "source": [
    "# Quickly do numerical and visual EDA first\n",
    "ladies = df.loc[df.gender == 'F']['temperature']\n",
    "men = df.loc[df.gender == 'M']['temperature']\n",
    "print(ladies.describe())\n",
    "print(men.describe())\n",
    "_ = sns.swarmplot(x='gender',y='temperature',data=df)\n",
    "plt.figure()\n",
    "_ = sns.boxplot(x='gender',y='temperature',data=df)\n",
    "common_se = np.sqrt((ladies.std()**2+men.std()**2))/len(ladies)\n",
    "z_score = (ladies.mean() - men.mean())/common_se\n",
    "print(\"z score with common standard error =\",z_score)"
   ]
  },
  {
   "cell_type": "markdown",
   "metadata": {},
   "source": [
    "By looking at the numerical values, difference in means and standard deviations cannot be ignored. Also from beeswarm plot, spread in the Female population is more than that of males. There are several theoretical possibilities here:\n",
    "\n",
    "1) They are from different distributions, shifted by mean and difference in std was purely by chance\n",
    "\n",
    "2) They are from different distributions, shift in std was genuine, mean was by chance\n",
    "\n",
    "3) They are from different distributions, and both mean and std are different due to this.\n",
    "\n",
    "4) They are from identical distributions, and both differences are by chance!"
   ]
  },
  {
   "cell_type": "markdown",
   "metadata": {},
   "source": [
    "#### Two sample hypothesis testing \n",
    "H0: Ladies and Men samples are exact, with same distribution and parameters\n",
    "\n",
    "H1: They are not exact same distributions.\n",
    "\n",
    "Alpha = 0.01"
   ]
  },
  {
   "cell_type": "code",
   "execution_count": 29,
   "metadata": {
    "collapsed": true
   },
   "outputs": [],
   "source": [
    "def diff_means(d1,d2):\n",
    "    return np.mean(d1) - np.mean(d2)"
   ]
  },
  {
   "cell_type": "code",
   "execution_count": 30,
   "metadata": {
    "collapsed": true
   },
   "outputs": [],
   "source": [
    "# We will conduct both permutation test and bootstrap test\n",
    "# Let us set ground for permutation test first:\n",
    "def permutation_sample(d1,d2):\n",
    "    permuted_data = np.random.permutation(np.concatenate((d1, d2)))\n",
    "    return permuted_data[:len(d1)],permuted_data[len(d1):]"
   ]
  },
  {
   "cell_type": "code",
   "execution_count": 31,
   "metadata": {
    "collapsed": true
   },
   "outputs": [],
   "source": [
    "def draw_perm_reps(data_1, data_2, func, size=1):\n",
    "    \"\"\"Generate multiple permutation replicates.\"\"\"\n",
    "\n",
    "    # Initialize array of replicates: perm_replicates\n",
    "    perm_replicates = np.empty(size)\n",
    "\n",
    "    for i in range(size):\n",
    "        # Generate permutation sample\n",
    "        perm_sample_1, perm_sample_2 = permutation_sample(data_1,data_2)\n",
    "\n",
    "        # Compute the test statistic. This is difference of means of first 65 samples to next 65 samples\n",
    "        perm_replicates[i] = func(perm_sample_1,perm_sample_2)\n",
    "\n",
    "    return perm_replicates"
   ]
  },
  {
   "cell_type": "code",
   "execution_count": 32,
   "metadata": {},
   "outputs": [
    {
     "name": "stdout",
     "output_type": "stream",
     "text": [
      "p-value = 0.0119\n"
     ]
    },
    {
     "data": {
      "image/png": "[encoded data removed]",
      "text/plain": [
       "<matplotlib.figure.Figure at 0x1de074a8b38>"
      ]
     },
     "metadata": {},
     "output_type": "display_data"
    }
   ],
   "source": [
    "emp_diff_means = diff_means(ladies,men)\n",
    "perm_reps = draw_perm_reps(ladies,men,diff_means,size=10000)\n",
    "# Compute and print p-value for the hypothesis \n",
    "p = np.sum(perm_reps >= emp_diff_means )/ len(perm_reps)\n",
    "print('p-value =', p)    \n",
    "_ = plt.hist(perm_reps ,bins=40,histtype='step',color='g',normed=True,linewidth=1.5)"
   ]
  },
  {
   "cell_type": "markdown",
   "metadata": {},
   "source": [
    "Since p value is more than 0.01 (sometimes it is in border), the difference is not statistically significant.\n",
    "**There is not enough evidence to reject null hypothesis.** In layman terms this means, \"There is more than 1% chance that men and ladies mean body temperature have difference at least equal to what is observed, even when they both come from sam distribution.\" Hence we cannot reject the hypothesis that they come from same distribution with same parameters."
   ]
  },
  {
   "cell_type": "markdown",
   "metadata": {
    "collapsed": true
   },
   "source": [
    "**Conclusion for question 6: Given the dataset and observed variations of population parameters between males and females, we have got astonishing result that it could happen purely by chance.** Possible explanation is, the two temperature tuples (ladies, men) = (98.394, 98.109) = (98.25+0.144, 98.25-0.141), the readings are symmetric around the observed overall mean.\n",
    "But something is not right here!"
   ]
  },
  {
   "cell_type": "code",
   "execution_count": null,
   "metadata": {
    "collapsed": true
   },
   "outputs": [],
   "source": []
  }
 ],
 "metadata": {
  "kernelspec": {
   "display_name": "Python 3",
   "language": "python",
   "name": "python3"
  },
  "language_info": {
   "codemirror_mode": {
    "name": "ipython",
    "version": 3
   },
   "file_extension": ".py",
   "mimetype": "text/x-python",
   "name": "python",
   "nbconvert_exporter": "python",
   "pygments_lexer": "ipython3",
   "version": "3.6.3"
  }
 },
 "nbformat": 4,
 "nbformat_minor": 1
}
