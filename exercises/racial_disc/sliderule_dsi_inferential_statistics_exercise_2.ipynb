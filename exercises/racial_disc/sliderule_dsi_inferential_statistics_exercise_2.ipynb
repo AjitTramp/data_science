{
 "cells": [
  {
   "cell_type": "markdown",
   "metadata": {},
   "source": [
    "# Examining Racial Discrimination in the US Job Market\n",
    "\n",
    "### Background\n",
    "Racial discrimination continues to be pervasive in cultures throughout the world. Researchers examined the level of racial discrimination in the United States labor market by randomly assigning identical résumés to black-sounding or white-sounding names and observing the impact on requests for interviews from employers.\n",
    "\n",
    "### Data\n",
    "In the dataset provided, each row represents a resume. The 'race' column has two values, 'b' and 'w', indicating black-sounding and white-sounding. The column 'call' has two values, 1 and 0, indicating whether the resume received a call from employers or not.\n",
    "\n",
    "Note that the 'b' and 'w' values in race are assigned randomly to the resumes when presented to the employer."
   ]
  },
  {
   "cell_type": "markdown",
   "metadata": {},
   "source": [
    "### Exercises\n",
    "You will perform a statistical analysis to establish whether race has a significant impact on the rate of callbacks for resumes.\n",
    "\n",
    "Answer the following questions **in this notebook below and submit to your Github account**. \n",
    "\n",
    "   1. What test is appropriate for this problem? Does CLT apply?\n",
    "   2. What are the null and alternate hypotheses?\n",
    "   3. Compute margin of error, confidence interval, and p-value.\n",
    "   4. Write a story describing the statistical significance in the context or the original problem.\n",
    "   5. Does your analysis mean that race/name is the most important factor in callback success? Why or why not? If not, how would you amend your analysis?\n",
    "\n",
    "You can include written notes in notebook cells using Markdown: \n",
    "   - In the control panel at the top, choose Cell > Cell Type > Markdown\n",
    "   - Markdown syntax: http://nestacms.com/docs/creating-content/markdown-cheat-sheet\n",
    "\n",
    "\n",
    "#### Resources\n",
    "+ Experiment information and data source: http://www.povertyactionlab.org/evaluation/discrimination-job-market-united-states\n",
    "+ Scipy statistical methods: http://docs.scipy.org/doc/scipy/reference/stats.html \n",
    "+ Markdown syntax: http://nestacms.com/docs/creating-content/markdown-cheat-sheet\n",
    "****"
   ]
  },
  {
   "cell_type": "markdown",
   "metadata": {},
   "source": [
    "### 1. What test is appropriate here? Does CLT apply?\n",
    "Answer: Since the sample size is 2435 from each of two samples, which is larger than 30, a two sample z-test is appropriate here.\n",
    "\n",
    "For the CLT to apply,\n",
    "+ Size: Number of samples should be at least 10% of population, which is definitely true, as we have more than 24350 white and black people on earth\n",
    "+ Independence: For each resume, b and w are randomly assigned as race and hence they are independent. \n",
    "**CLT can be applied.**\n",
    "\n",
    "### 2. What are the null and alternate hypotheses?\n",
    "H0: The call back rates are independent of the race of the resumes\n",
    "\n",
    "HA: The call back rates are depending on which race the resume is tagged with.\n",
    "\n",
    "Let us fix the statistic significance level alpha at a strict value of 0.01"
   ]
  },
  {
   "cell_type": "markdown",
   "metadata": {},
   "source": [
    "## Exploratory Data Analysis (EDA)"
   ]
  },
  {
   "cell_type": "code",
   "execution_count": 11,
   "metadata": {
    "collapsed": true
   },
   "outputs": [],
   "source": [
    "import pandas as pd\n",
    "import numpy as np\n",
    "from scipy import stats\n",
    "import matplotlib.pyplot as plt\n",
    "%matplotlib inline"
   ]
  },
  {
   "cell_type": "code",
   "execution_count": 12,
   "metadata": {},
   "outputs": [
    {
     "name": "stdout",
     "output_type": "stream",
     "text": [
      "<class 'pandas.core.frame.DataFrame'>\n",
      "Int64Index: 4870 entries, 0 to 4869\n",
      "Data columns (total 61 columns):\n",
      "education             4870 non-null int8\n",
      "ofjobs                4870 non-null int8\n",
      "yearsexp              4870 non-null int8\n",
      "honors                4870 non-null int8\n",
      "volunteer             4870 non-null int8\n",
      "military              4870 non-null int8\n",
      "empholes              4870 non-null int8\n",
      "occupspecific         4870 non-null int16\n",
      "occupbroad            4870 non-null int8\n",
      "workinschool          4870 non-null int8\n",
      "email                 4870 non-null int8\n",
      "computerskills        4870 non-null int8\n",
      "specialskills         4870 non-null int8\n",
      "sex                   4870 non-null int64\n",
      "race                  4870 non-null int64\n",
      "h                     4870 non-null float32\n",
      "l                     4870 non-null float32\n",
      "city                  4870 non-null int64\n",
      "kind                  4870 non-null int64\n",
      "adid                  4870 non-null float32\n",
      "fracblack             4870 non-null float32\n",
      "fracwhite             4870 non-null float32\n",
      "lmedhhinc             4870 non-null float32\n",
      "fracdropout           4870 non-null float32\n",
      "fraccolp              4870 non-null float32\n",
      "linc                  4870 non-null float32\n",
      "col                   4870 non-null float32\n",
      "expminreq             4870 non-null float64\n",
      "schoolreq             4870 non-null float64\n",
      "eoe                   4870 non-null float32\n",
      "parent_sales          4870 non-null float32\n",
      "parent_emp            4870 non-null float32\n",
      "branch_sales          4870 non-null float32\n",
      "branch_emp            4870 non-null float32\n",
      "fed                   4870 non-null float32\n",
      "fracblack_empzip      4870 non-null float32\n",
      "fracwhite_empzip      4870 non-null float32\n",
      "lmedhhinc_empzip      4870 non-null float32\n",
      "fracdropout_empzip    4870 non-null float32\n",
      "fraccolp_empzip       4870 non-null float32\n",
      "linc_empzip           4870 non-null float32\n",
      "manager               4870 non-null float32\n",
      "supervisor            4870 non-null float32\n",
      "secretary             4870 non-null float32\n",
      "offsupport            4870 non-null float32\n",
      "salesrep              4870 non-null float32\n",
      "retailsales           4870 non-null float32\n",
      "req                   4870 non-null float32\n",
      "expreq                4870 non-null float32\n",
      "comreq                4870 non-null float32\n",
      "educreq               4870 non-null float32\n",
      "compreq               4870 non-null float32\n",
      "orgreq                4870 non-null float32\n",
      "manuf                 4870 non-null float32\n",
      "transcom              4870 non-null float32\n",
      "bankreal              4870 non-null float32\n",
      "trade                 4870 non-null float32\n",
      "busservice            4870 non-null float32\n",
      "othservice            4870 non-null float32\n",
      "missind               4870 non-null float32\n",
      "ownership             4870 non-null float64\n",
      "dtypes: float32(41), float64(3), int16(1), int64(4), int8(12)\n",
      "memory usage: 1.1 MB\n"
     ]
    }
   ],
   "source": [
    "cb_df = pd.io.stata.read_stata('data/us_job_market_discrimination.dta')\n",
    "cb_df.head()\n",
    "y = cb_df['call']\n",
    "X = cb_df.copy().drop(['call','id','firstname','ad'],axis=1)\n",
    "dc = {'c':0,'b':1}\n",
    "dk = {'a':0,'s':1}\n",
    "ds = {'f':1,'m':0}\n",
    "dr = {'w':1,'b':0}\n",
    "do = {'': np.nan, 'Nonprofit':1,'Private':1.5,'Public':0.5}\n",
    "dsc = {'': np.nan, 'somcol':1,'colp':1.5,'hsg':0.5}\n",
    "dexp = {'5':5, 'some':9, '':np.nan, '3':3, '2':2, '1':1, '8':8, '7':7, '0.5':0.5, '10':10, '0':0, '4':4, '6':6} \n",
    "X.city = X.city.astype(str).apply(lambda x: dc[x])\n",
    "X.kind = X.kind.astype(str).apply(lambda x: dk[x])\n",
    "X.sex = X.sex.astype(str).apply(lambda x: ds[x])\n",
    "X.race = X.race.astype(str).apply(lambda x: dr[x])\n",
    "X.ownership = X.ownership.astype(str).apply(lambda x: do[x])\n",
    "X.schoolreq = X.schoolreq.astype(str).apply(lambda x: dsc[x])\n",
    "X.expminreq = X.expminreq.astype(str).apply(lambda x: dexp[x])\n",
    "X.fillna(X.mean(),inplace=True)\n",
    "X.info()"
   ]
  },
  {
   "cell_type": "code",
   "execution_count": 13,
   "metadata": {},
   "outputs": [
    {
     "data": {
      "text/html": [
       "<div>\n",
       "<style>\n",
       "    .dataframe thead tr:only-child th {\n",
       "        text-align: right;\n",
       "    }\n",
       "\n",
       "    .dataframe thead th {\n",
       "        text-align: left;\n",
       "    }\n",
       "\n",
       "    .dataframe tbody tr th {\n",
       "        vertical-align: top;\n",
       "    }\n",
       "</style>\n",
       "<table border=\"1\" class=\"dataframe\">\n",
       "  <thead>\n",
       "    <tr style=\"text-align: right;\">\n",
       "      <th></th>\n",
       "      <th>Black</th>\n",
       "      <th>White</th>\n",
       "    </tr>\n",
       "  </thead>\n",
       "  <tbody>\n",
       "    <tr>\n",
       "      <th>Failure</th>\n",
       "      <td>2278</td>\n",
       "      <td>2200</td>\n",
       "    </tr>\n",
       "    <tr>\n",
       "      <th>Success</th>\n",
       "      <td>157</td>\n",
       "      <td>235</td>\n",
       "    </tr>\n",
       "    <tr>\n",
       "      <th>Total</th>\n",
       "      <td>2435</td>\n",
       "      <td>2435</td>\n",
       "    </tr>\n",
       "  </tbody>\n",
       "</table>\n",
       "</div>"
      ],
      "text/plain": [
       "         Black  White\n",
       "Failure   2278   2200\n",
       "Success    157    235\n",
       "Total     2435   2435"
      ]
     },
     "execution_count": 13,
     "metadata": {},
     "output_type": "execute_result"
    }
   ],
   "source": [
    "cb_pv = cb_df.pivot_table('id', ['call'], 'race', aggfunc='count')\n",
    "cb_pv.index = ['Failure', 'Success']\n",
    "cb_pv.columns = ['Black', 'White']\n",
    "cb_pv.loc['Total'] = [cb_pv['Black'].sum(), cb_pv['White'].sum()]\n",
    "cb_pv"
   ]
  },
  {
   "cell_type": "code",
   "execution_count": 14,
   "metadata": {},
   "outputs": [
    {
     "name": "stdout",
     "output_type": "stream",
     "text": [
      "Call back rate for White: 0.0965092402464\n",
      "Call back rate for Black: 0.064476386037\n"
     ]
    }
   ],
   "source": [
    "wm = cb_pv.loc['Success','White']/cb_pv.loc['Total','White']\n",
    "print('Call back rate for White:',w_s)\n",
    "bm = cb_pv.loc['Success','Black']/cb_pv.loc['Total','Black']\n",
    "print('Call back rate for Black:',b_s)"
   ]
  },
  {
   "cell_type": "markdown",
   "metadata": {},
   "source": [
    "The above numbers are not small. However, until we have evidence, we can not assume that there is something going on here."
   ]
  },
  {
   "cell_type": "code",
   "execution_count": 15,
   "metadata": {
    "collapsed": true
   },
   "outputs": [],
   "source": [
    "# Calculating standard deviation using info from (only) pivot table from first principles, for fun\n",
    "wstd = np.sqrt((cb_pv.iloc[1,1]*(1-wm)**2 + cb_pv.iloc[0,1]*wm**2)/cb_pv.iloc[2,1])\n",
    "bstd = np.sqrt((cb_pv.iloc[1,0]*(1-bm)**2 + cb_pv.iloc[0,0]*bm**2)/cb_pv.iloc[2,0])"
   ]
  },
  {
   "cell_type": "markdown",
   "metadata": {},
   "source": [
    "### 3. Compute Margin of error, confidence interval and p-value\n"
   ]
  },
  {
   "cell_type": "code",
   "execution_count": 16,
   "metadata": {},
   "outputs": [
    {
     "name": "stdout",
     "output_type": "stream",
     "text": [
      "a) Margin of error:  0.0200421792607\n"
     ]
    }
   ],
   "source": [
    "# Z score for 99% confidence is 2.575\n",
    "pooledSE = np.sqrt(wstd**2/2435 + bstd**2/2435)\n",
    "margin_of_error = 2.575*pooledSE\n",
    "print(\"a) Margin of error: \",margin_of_error)"
   ]
  },
  {
   "cell_type": "code",
   "execution_count": 17,
   "metadata": {},
   "outputs": [
    {
     "name": "stdout",
     "output_type": "stream",
     "text": [
      "b) Confidence interval:  [0.011990674948752941, 0.052075033470138227]\n"
     ]
    }
   ],
   "source": [
    "conf_int = [(wm-bm)-margin_of_error, (wm-bm)+margin_of_error]\n",
    "print(\"b) Confidence interval: \", conf_int)"
   ]
  },
  {
   "cell_type": "markdown",
   "metadata": {},
   "source": [
    "**Remark:** Null value 0 is outside 99% confidence interval. Hence null hypothesis can be rejected. Let us compute the p-value anyway"
   ]
  },
  {
   "cell_type": "code",
   "execution_count": 18,
   "metadata": {
    "collapsed": true
   },
   "outputs": [],
   "source": [
    "# Two sample z test\n",
    "def two_samp_z(X1, X2, mudiff, sd1, sd2, n1, n2):\n",
    "    pooledSE = np.sqrt(sd1**2/n1 + sd2**2/n2)\n",
    "    z = ((X1 - X2) - mudiff)/pooledSE\n",
    "    pval = 2*(1 - stats.norm.cdf(np.abs(z)))\n",
    "    return z,pval"
   ]
  },
  {
   "cell_type": "code",
   "execution_count": 19,
   "metadata": {},
   "outputs": [
    {
     "name": "stdout",
     "output_type": "stream",
     "text": [
      "Z score: 4.11555043573\n",
      "p-value: 3.86256520752e-05\n"
     ]
    }
   ],
   "source": [
    "zsc,pval = two_samp_z(wm,bm,0,wstd,bstd,cb_pv.iloc[2,1],cb_pv.iloc[2,0])\n",
    "print(\"Z score:\",zsc)\n",
    "print(\"p-value:\",pval)"
   ]
  },
  {
   "cell_type": "markdown",
   "metadata": {},
   "source": [
    "Since the p value is almost 0, which is less than 0.01, **We reject null hypothesis in favor of alternative hypothesis, that there is discrimination**\n",
    "\n",
    "The z-value 4.1156 corresponds to a confidence level > 99.998%.\n",
    "\n",
    "What is the interpretation? Or the \"Story\" as asked in the exercise question:\n",
    "\n",
    "99.998% of the random samples of size 2435 (each of black and white) applicants will have the mean difference that is greater than 0."
   ]
  },
  {
   "cell_type": "code",
   "execution_count": 20,
   "metadata": {},
   "outputs": [
    {
     "data": {
      "text/html": [
       "<div>\n",
       "<style>\n",
       "    .dataframe thead tr:only-child th {\n",
       "        text-align: right;\n",
       "    }\n",
       "\n",
       "    .dataframe thead th {\n",
       "        text-align: left;\n",
       "    }\n",
       "\n",
       "    .dataframe tbody tr th {\n",
       "        vertical-align: top;\n",
       "    }\n",
       "</style>\n",
       "<table border=\"1\" class=\"dataframe\">\n",
       "  <thead>\n",
       "    <tr style=\"text-align: right;\">\n",
       "      <th></th>\n",
       "      <th>Female</th>\n",
       "      <th>Male</th>\n",
       "    </tr>\n",
       "  </thead>\n",
       "  <tbody>\n",
       "    <tr>\n",
       "      <th>Failure</th>\n",
       "      <td>3437.000000</td>\n",
       "      <td>1041.000000</td>\n",
       "    </tr>\n",
       "    <tr>\n",
       "      <th>Success</th>\n",
       "      <td>309.000000</td>\n",
       "      <td>83.000000</td>\n",
       "    </tr>\n",
       "    <tr>\n",
       "      <th>Total</th>\n",
       "      <td>3746.000000</td>\n",
       "      <td>1124.000000</td>\n",
       "    </tr>\n",
       "    <tr>\n",
       "      <th>Success rate</th>\n",
       "      <td>0.082488</td>\n",
       "      <td>0.073843</td>\n",
       "    </tr>\n",
       "  </tbody>\n",
       "</table>\n",
       "</div>"
      ],
      "text/plain": [
       "                   Female         Male\n",
       "Failure       3437.000000  1041.000000\n",
       "Success        309.000000    83.000000\n",
       "Total         3746.000000  1124.000000\n",
       "Success rate     0.082488     0.073843"
      ]
     },
     "execution_count": 20,
     "metadata": {},
     "output_type": "execute_result"
    }
   ],
   "source": [
    "# Another interesting factor to examine could be to examine if there's gender bias.\n",
    "cb_pv2 = cb_df.pivot_table('id', ['call'], 'sex', aggfunc='count')\n",
    "cb_pv2.index = ['Failure', 'Success']\n",
    "cb_pv2.columns = ['Female', 'Male']\n",
    "cb_pv2.loc['Total'] = [cb_pv2['Female'].sum(), cb_pv2['Male'].sum()]\n",
    "cb_pv2.loc['Success rate'] = [float(cb_pv2.loc['Success','Female'])/cb_pv2.loc['Total','Female'], float(cb_pv2.loc['Success','Male'])/cb_pv2.loc['Total','Male'].sum()]\n",
    "cb_pv2"
   ]
  },
  {
   "cell_type": "markdown",
   "metadata": {},
   "source": [
    "Interesting! Firstly, there is about 3 times female applicants compared to male, and there is slight bias towards female gender. We can run a z test to see if there is a real bias.\n",
    "\n",
    "H0: There is no gender bias\n",
    "\n",
    "HA: There is no gender bias\n",
    "\n",
    "alpha = 0.01"
   ]
  },
  {
   "cell_type": "code",
   "execution_count": 21,
   "metadata": {},
   "outputs": [
    {
     "name": "stdout",
     "output_type": "stream",
     "text": [
      "The Z score and pvalue are: 0.960214067753 0.336947488127\n"
     ]
    }
   ],
   "source": [
    "fem_mean = cb_pv2['Female']['Success rate']\n",
    "male_mean = cb_pv2['Male']['Success rate']\n",
    "\n",
    "fem_std = np.sqrt(fem_mean - fem_mean **2)\n",
    "male_std = np.sqrt(male_mean-male_mean**2)\n",
    "\n",
    "zsc_g,pval_g = two_samp_z(fem_mean, male_mean, 0, fem_std, male_std, cb_pv2['Female']['Total'],cb_pv2['Male']['Total'])\n",
    "\n",
    "print(\"The Z score and pvalue are:\",zsc_g,pval_g)"
   ]
  },
  {
   "cell_type": "markdown",
   "metadata": {},
   "source": [
    "**A large pvalue is indicating that there is no gender preference.**"
   ]
  },
  {
   "cell_type": "code",
   "execution_count": 22,
   "metadata": {},
   "outputs": [
    {
     "data": {
      "text/plain": [
       "GridSearchCV(cv=5, error_score='raise',\n",
       "       estimator=LogisticRegression(C=1.0, class_weight=None, dual=False, fit_intercept=True,\n",
       "          intercept_scaling=1, max_iter=100, multi_class='ovr', n_jobs=1,\n",
       "          penalty='l2', random_state=None, solver='liblinear', tol=0.0001,\n",
       "          verbose=0, warm_start=False),\n",
       "       fit_params=None, iid=True, n_jobs=1,\n",
       "       param_grid={'C': array([  1.00000e-04,   8.11131e-04,   6.57933e-03,   5.33670e-02,\n",
       "         4.32876e-01,   3.51119e+00,   2.84804e+01,   2.31013e+02,\n",
       "         1.87382e+03,   1.51991e+04,   1.23285e+05,   1.00000e+06])},\n",
       "       pre_dispatch='2*n_jobs', refit=True, return_train_score='warn',\n",
       "       scoring=None, verbose=0)"
      ]
     },
     "execution_count": 22,
     "metadata": {},
     "output_type": "execute_result"
    }
   ],
   "source": [
    "# There are huge number of features, hence it is not a good idea to examine one by one.\n",
    "# Let us try fitting a logistic regression model and then examine the coefficients.\n",
    "from sklearn.linear_model import LogisticRegression\n",
    "from sklearn.preprocessing import scale\n",
    "from sklearn.model_selection import GridSearchCV\n",
    "\n",
    "X_sc = scale(X)\n",
    "\n",
    "c_space = np.logspace(-4, 6, 12)\n",
    "param_grid = {'C': c_space }\n",
    "\n",
    "# Instantiate a lasso regressor: lasso\n",
    "lr = LogisticRegression()\n",
    "\n",
    "lr_cv = GridSearchCV(lr,param_grid,cv=5)\n",
    "\n",
    "# Fit the regressor to the data['call']\n",
    "lr_cv.fit(X_sc,y)"
   ]
  },
  {
   "cell_type": "code",
   "execution_count": 23,
   "metadata": {},
   "outputs": [
    {
     "name": "stdout",
     "output_type": "stream",
     "text": [
      "Top 5 influencers with regularized logreg with cv and scaled features\n",
      "specialskills    0.141283\n",
      "adid             0.135857\n",
      "city             0.122698\n",
      "race             0.105400\n",
      "yearsexp         0.093378\n",
      "dtype: float64\n",
      "Best params and best score respectively:  {'C': 0.006579332246575682} 0.918891170431\n"
     ]
    }
   ],
   "source": [
    "# Compute and print the coefficients\n",
    "def form_series_print5(lr_cv_coef,X):\n",
    "    lv_series = pd.Series(list(lr_cv_coef[0]),index=X.columns)\n",
    "    lv_series.sort_values(ascending=False,inplace=True)\n",
    "    print(lv_series.head(5))\n",
    "lr_cv_coef = lr_cv.best_estimator_.coef_\n",
    "print(\"Top 5 influencers with regularized logreg with cv and scaled features\")\n",
    "form_series_print5(lr_cv_coef,X)\n",
    "print(\"Best params and best score respectively: \",lr_cv.best_params_,lr_cv.best_score_)"
   ]
  },
  {
   "cell_type": "markdown",
   "metadata": {},
   "source": [
    "**From the above result, conclusion is that \"Special Skills\" is the most determining factor for callback.**"
   ]
  },
  {
   "cell_type": "code",
   "execution_count": 24,
   "metadata": {},
   "outputs": [
    {
     "name": "stdout",
     "output_type": "stream",
     "text": [
      "Top 5 influencers with plain logreg and unscaled features\n",
      "city             0.656955\n",
      "specialskills    0.537070\n",
      "col              0.475738\n",
      "transcom         0.444606\n",
      "race             0.432148\n",
      "dtype: float64\n",
      "Top 5 influencers with plain logreg and scaled features\n",
      "adid             0.368856\n",
      "city             0.356005\n",
      "col              0.337366\n",
      "specialskills    0.260998\n",
      "race             0.221911\n",
      "dtype: float64\n"
     ]
    }
   ],
   "source": [
    "# Just out of curiosity, checking what a plain venilla logistic model gives with unscaled features\n",
    "lr_plain = LogisticRegression()\n",
    "lr_plain.fit(X,y)\n",
    "print(\"Top 5 influencers with plain logreg and unscaled features\")\n",
    "form_series_print5(lr_plain.coef_,X)\n",
    "# Plain venilla with scaled features\n",
    "lr_plain_sc = LogisticRegression()\n",
    "lr_plain_sc.fit(X_sc,y)\n",
    "print(\"Top 5 influencers with plain logreg and scaled features\")\n",
    "form_series_print5(lr_plain_sc.coef_,X)"
   ]
  },
  {
   "cell_type": "markdown",
   "metadata": {
    "collapsed": true
   },
   "source": [
    "** Checking if Race and special skills are correlated**"
   ]
  },
  {
   "cell_type": "code",
   "execution_count": 25,
   "metadata": {},
   "outputs": [
    {
     "data": {
      "text/plain": [
       "(0.0030598131994727953, 0.83095576251878744)"
      ]
     },
     "execution_count": 25,
     "metadata": {},
     "output_type": "execute_result"
    },
    {
     "data": {
      "image/png": "[encoded data removed]",
      "text/plain": [
       "<matplotlib.figure.Figure at 0x1931c566828>"
      ]
     },
     "metadata": {},
     "output_type": "display_data"
    }
   ],
   "source": [
    "plt.scatter(X.race,X.specialskills)\n",
    "stats.pearsonr(X.race,X.specialskills)"
   ]
  },
  {
   "cell_type": "markdown",
   "metadata": {},
   "source": [
    "Wow! The race and special skills are uncorrelated. So we can not say that perhaps blacks were less privileged to be trained and hence didnt have special skills to be called back!\n",
    "\n",
    "This is an example of how we can check for correlation between two features. "
   ]
  },
  {
   "cell_type": "markdown",
   "metadata": {},
   "source": [
    "Comment: From the heatmap above, there are more uncorrelated features than correlated ones. It is hard to make out anything. Instead we can focus on top 5, below:"
   ]
  },
  {
   "cell_type": "markdown",
   "metadata": {},
   "source": [
    "Comment: Race is very weakly correlated with other 4 factors in the top 5 list. Hence it is definitely an independent influencer, although it is not the number 1 influencer. Surely the 3 of the 5 top features are neutral. Not sure what adid means. Race is a determining factor as per this analysis, which is not a good thing."
   ]
  },
  {
   "cell_type": "markdown",
   "metadata": {},
   "source": [
    "**Conclusions:**\n",
    "1. The CLT applies to the given dataset, and hence all the statistics tests can be carried out.\n",
    "2. In this case, statistic significance also means practical significance, since the question is of race discrimination.\n",
    "3. The race is one of the top 5 factors that influence the call back, and it is not correlated with the other 4. This further strengthens the argument that there is discrimination."
   ]
  },
  {
   "cell_type": "code",
   "execution_count": null,
   "metadata": {
    "collapsed": true
   },
   "outputs": [],
   "source": []
  }
 ],
 "metadata": {
  "kernelspec": {
   "display_name": "Python 3",
   "language": "python",
   "name": "python3"
  },
  "language_info": {
   "codemirror_mode": {
    "name": "ipython",
    "version": 3
   },
   "file_extension": ".py",
   "mimetype": "text/x-python",
   "name": "python",
   "nbconvert_exporter": "python",
   "pygments_lexer": "ipython3",
   "version": "3.6.3"
  }
 },
 "nbformat": 4,
 "nbformat_minor": 1
}
