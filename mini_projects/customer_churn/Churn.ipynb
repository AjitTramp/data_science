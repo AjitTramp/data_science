{
 "cells": [
  {
   "cell_type": "code",
   "execution_count": 523,
   "metadata": {
    "collapsed": true
   },
   "outputs": [],
   "source": [
    "%matplotlib inline\n",
    "import numpy as np\n",
    "import scipy as sp\n",
    "import matplotlib as mpl\n",
    "import matplotlib.cm as cm\n",
    "import matplotlib.pyplot as plt\n",
    "import pandas as pd\n",
    "import seaborn as sns"
   ]
  },
  {
   "cell_type": "code",
   "execution_count": 524,
   "metadata": {},
   "outputs": [
    {
     "name": "stdout",
     "output_type": "stream",
     "text": [
      "<class 'pandas.core.frame.DataFrame'>\n",
      "RangeIndex: 7043 entries, 0 to 7042\n",
      "Data columns (total 21 columns):\n",
      "customerID          7043 non-null object\n",
      "gender              7043 non-null object\n",
      "SeniorCitizen       7043 non-null int64\n",
      "Partner             7043 non-null object\n",
      "Dependents          7043 non-null object\n",
      "tenure              7043 non-null int64\n",
      "PhoneService        7043 non-null object\n",
      "MultipleLines       7043 non-null object\n",
      "InternetService     7043 non-null object\n",
      "OnlineSecurity      7043 non-null object\n",
      "OnlineBackup        7043 non-null object\n",
      "DeviceProtection    7043 non-null object\n",
      "TechSupport         7043 non-null object\n",
      "StreamingTV         7043 non-null object\n",
      "StreamingMovies     7043 non-null object\n",
      "Contract            7043 non-null object\n",
      "PaperlessBilling    7043 non-null object\n",
      "PaymentMethod       7043 non-null object\n",
      "MonthlyCharges      7043 non-null float64\n",
      "TotalCharges        7043 non-null object\n",
      "Churn               7043 non-null object\n",
      "dtypes: float64(1), int64(2), object(18)\n",
      "memory usage: 1.1+ MB\n"
     ]
    }
   ],
   "source": [
    "ch = pd.read_csv('Churn.csv')\n",
    "ch.info()\n",
    "ch_orig = ch.copy()"
   ]
  },
  {
   "cell_type": "code",
   "execution_count": 525,
   "metadata": {},
   "outputs": [
    {
     "data": {
      "text/plain": [
       "customerID          7043\n",
       "gender                 2\n",
       "SeniorCitizen          2\n",
       "Partner                2\n",
       "Dependents             2\n",
       "tenure                73\n",
       "PhoneService           2\n",
       "MultipleLines          3\n",
       "InternetService        3\n",
       "OnlineSecurity         3\n",
       "OnlineBackup           3\n",
       "DeviceProtection       3\n",
       "TechSupport            3\n",
       "StreamingTV            3\n",
       "StreamingMovies        3\n",
       "Contract               3\n",
       "PaperlessBilling       2\n",
       "PaymentMethod          4\n",
       "MonthlyCharges      1585\n",
       "TotalCharges        6531\n",
       "Churn                  2\n",
       "dtype: int64"
      ]
     },
     "execution_count": 525,
     "metadata": {},
     "output_type": "execute_result"
    }
   ],
   "source": [
    "ch.nunique()"
   ]
  },
  {
   "cell_type": "code",
   "execution_count": 526,
   "metadata": {},
   "outputs": [
    {
     "name": "stdout",
     "output_type": "stream",
     "text": [
      "<class 'pandas.core.frame.DataFrame'>\n",
      "RangeIndex: 7043 entries, 0 to 7042\n",
      "Data columns (total 21 columns):\n",
      "customerID          7043 non-null int16\n",
      "gender              7043 non-null int8\n",
      "Partner             7043 non-null int8\n",
      "Dependents          7043 non-null int8\n",
      "PhoneService        7043 non-null int8\n",
      "MultipleLines       7043 non-null int8\n",
      "InternetService     7043 non-null int8\n",
      "OnlineSecurity      7043 non-null int8\n",
      "OnlineBackup        7043 non-null int8\n",
      "DeviceProtection    7043 non-null int8\n",
      "TechSupport         7043 non-null int8\n",
      "StreamingTV         7043 non-null int8\n",
      "StreamingMovies     7043 non-null int8\n",
      "Contract            7043 non-null int8\n",
      "PaperlessBilling    7043 non-null int8\n",
      "PaymentMethod       7043 non-null int8\n",
      "TotalCharges        7043 non-null int16\n",
      "Churn               7043 non-null int8\n",
      "SeniorCitizen       7043 non-null int64\n",
      "tenure              7043 non-null int64\n",
      "MonthlyCharges      7043 non-null float64\n",
      "dtypes: float64(1), int16(2), int64(2), int8(16)\n",
      "memory usage: 302.7 KB\n"
     ]
    }
   ],
   "source": [
    "ch1 = ch[['SeniorCitizen','tenure','MonthlyCharges']]\n",
    "ch2 = ch.drop(['SeniorCitizen','tenure','MonthlyCharges'],axis=1)\n",
    "ch3 = ch2.apply(lambda x: x.astype('category'))\n",
    "ch  = ch3.apply(lambda x: x.cat.codes)\n",
    "ch[['SeniorCitizen','tenure','MonthlyCharges']] = ch1\n",
    "ch.info()"
   ]
  },
  {
   "cell_type": "code",
   "execution_count": 527,
   "metadata": {},
   "outputs": [
    {
     "data": {
      "text/plain": [
       "Text(0.5,1,'Histogram of tenure values for Churn =1')"
      ]
     },
     "execution_count": 527,
     "metadata": {},
     "output_type": "execute_result"
    },
    {
     "data": {
      "image/png": "[encoded data removed]",
      "text/plain": [
       "<matplotlib.figure.Figure at 0x1ed4aac77f0>"
      ]
     },
     "metadata": {},
     "output_type": "display_data"
    }
   ],
   "source": [
    "ch.loc[ch.Churn==1,'tenure'].hist()\n",
    "plt.title('Histogram of tenure values for Churn =1')"
   ]
  },
  {
   "cell_type": "code",
   "execution_count": 528,
   "metadata": {},
   "outputs": [
    {
     "data": {
      "image/png": "[encoded data removed]",
      "text/plain": [
       "<matplotlib.figure.Figure at 0x1ed4a9a1ac8>"
      ]
     },
     "metadata": {},
     "output_type": "display_data"
    }
   ],
   "source": [
    "plt.subplot(2,2,1)\n",
    "(ch.groupby('gender')['Churn'].sum()/ch.groupby('gender')['Churn'].sum().sum()).plot.bar(color='k')\n",
    "plt.title('P(gender = x | Churn = 1)')\n",
    "plt.subplot(2,2,2)\n",
    "(ch.groupby('Contract')['Churn'].sum()/ch.groupby('Contract')['Churn'].sum().sum()).plot.bar(color='r')\n",
    "plt.title('P(Contract = x | Churn = 1)')\n",
    "plt.subplot(2,2,3)\n",
    "(ch.groupby('PhoneService')['Churn'].sum()/ch.groupby('PhoneService')['Churn'].sum().sum()).plot.bar(color='b')\n",
    "plt.title('P(PhoneService = x | Churn = 1)')\n",
    "# Phone service and MultipleLines are related, and hence MultipleLines can be dropped\n",
    "plt.subplot(2,2,4)\n",
    "(ch.groupby('PaperlessBilling')['Churn'].sum()/ch.groupby('PaperlessBilling')['Churn'].sum().sum()).plot.bar(color='pink')\n",
    "plt.title('P(PaperlessBilling = x | Churn = 1)')\n",
    "plt.tight_layout()"
   ]
  },
  {
   "cell_type": "code",
   "execution_count": 529,
   "metadata": {},
   "outputs": [
    {
     "name": "stdout",
     "output_type": "stream",
     "text": [
      "PaperlessBilling\n",
      "0     469.0\n",
      "1    1400.0\n",
      "Name: Churn, dtype: float64\n",
      "1    4171\n",
      "0    2872\n",
      "Name: PaperlessBilling, dtype: int64\n"
     ]
    },
    {
     "data": {
      "text/plain": [
       "0.7490636704119851"
      ]
     },
     "execution_count": 529,
     "metadata": {},
     "output_type": "execute_result"
    }
   ],
   "source": [
    "(ch.groupby('PaperlessBilling')['Churn'].mean())\n",
    "print(ch.groupby('PaperlessBilling')['Churn'].sum())\n",
    "print(ch.PaperlessBilling.value_counts())\n",
    "1400/1869"
   ]
  },
  {
   "cell_type": "code",
   "execution_count": 530,
   "metadata": {},
   "outputs": [
    {
     "data": {
      "image/png": "[encoded data removed]",
      "text/plain": [
       "<matplotlib.figure.Figure at 0x1ed4a894518>"
      ]
     },
     "metadata": {},
     "output_type": "display_data"
    }
   ],
   "source": [
    "plt.subplot(2,2,1)\n",
    "(ch.groupby('InternetService')['Churn'].sum()/ch.groupby('InternetService')['Churn'].sum().sum()).plot.bar(color='b')\n",
    "plt.title('P(InternetService = x | Churn = 1)')\n",
    "plt.subplot(2,2,2)\n",
    "(ch.groupby('Partner')['Churn'].sum()/ch.groupby('Partner')['Churn'].sum().sum()).plot.bar(color='m')\n",
    "plt.title('P(Partner = x | Churn = 1)')\n",
    "plt.subplot(2,2,3)\n",
    "(ch.groupby('Dependents')['Churn'].sum()/ch.groupby('Dependents')['Churn'].sum().sum()).plot.bar(color='purple')\n",
    "plt.title('P(Dependents = x | Churn = 1)')\n",
    "plt.subplot(2,2,4)\n",
    "(ch.groupby('OnlineSecurity')['Churn'].sum()/ch.groupby('OnlineSecurity')['Churn'].sum().sum()).plot.bar(color='orange')\n",
    "plt.title('P(OnlineSecurity = x | Churn = 1)')\n",
    "plt.tight_layout()"
   ]
  },
  {
   "cell_type": "code",
   "execution_count": 531,
   "metadata": {},
   "outputs": [
    {
     "data": {
      "image/png": "[encoded data removed]",
      "text/plain": [
       "<matplotlib.figure.Figure at 0x1ed4a9a1160>"
      ]
     },
     "metadata": {},
     "output_type": "display_data"
    }
   ],
   "source": [
    "plt.subplot(2,2,1)\n",
    "(ch.groupby('OnlineBackup')['Churn'].sum()/ch.groupby('OnlineBackup')['Churn'].sum().sum()).plot.bar(color='b')\n",
    "plt.subplot(2,2,2)\n",
    "#(ch.groupby('DeviceProtection')['Churn'].sum()/ch.groupby('DeviceProtection')['Churn'].sum().sum()).plot.bar(color='m')\n",
    "(ch.groupby('StreamingMovies')['Churn'].sum()/ch.groupby('StreamingMovies')['Churn'].sum().sum()).plot.bar(color='m')\n",
    "plt.subplot(2,2,3)\n",
    "(ch.groupby('TechSupport')['Churn'].sum()/ch.groupby('TechSupport')['Churn'].sum().sum()).plot.bar(color='purple')\n",
    "plt.subplot(2,2,4)\n",
    "(ch.groupby('StreamingTV')['Churn'].sum()/ch.groupby('StreamingTV')['Churn'].sum().sum()).plot.bar(color='orange')\n",
    "plt.tight_layout()"
   ]
  },
  {
   "cell_type": "code",
   "execution_count": 532,
   "metadata": {},
   "outputs": [
    {
     "data": {
      "image/png": "[encoded data removed]",
      "text/plain": [
       "<matplotlib.figure.Figure at 0x1ed4a9a11d0>"
      ]
     },
     "metadata": {},
     "output_type": "display_data"
    }
   ],
   "source": [
    "plt.subplot(2,2,1)\n",
    "(ch.groupby('SeniorCitizen')['Churn'].sum()/ch.groupby('SeniorCitizen')['Churn'].sum().sum()).plot.bar(color='b')\n",
    "plt.title('P(SeniorCitizen = x | Churn = 1)')\n",
    "plt.subplot(2,2,2)\n",
    "(ch.groupby('SeniorCitizen')['Churn'].mean()).plot.bar(color='k')\n",
    "plt.title('P(Churn = 1 | SeniorCitizen = x)')\n",
    "plt.subplot(2,2,3)\n",
    "(ch.groupby('PaymentMethod')['Churn'].sum()/ch.groupby('PaymentMethod')['Churn'].sum().sum()).plot.bar(color='m')\n",
    "plt.title('P(PaymentMethod = x | Churn = 1)')\n",
    "plt.subplot(2,2,4)\n",
    "(ch.groupby('PaymentMethod')['Churn'].mean()).plot.bar(color='orange')\n",
    "plt.title('P(Churn = 1 | PaymentMethod = x)')\n",
    "plt.tight_layout()"
   ]
  },
  {
   "cell_type": "code",
   "execution_count": 533,
   "metadata": {},
   "outputs": [
    {
     "name": "stdout",
     "output_type": "stream",
     "text": [
      "0    5901\n",
      "1    1142\n",
      "Name: SeniorCitizen, dtype: int64\n",
      "SeniorCitizen\n",
      "0    1393.0\n",
      "1     476.0\n",
      "Name: Churn, dtype: float64\n"
     ]
    }
   ],
   "source": [
    "print(ch.SeniorCitizen.value_counts())\n",
    "print(ch.groupby('SeniorCitizen')['Churn'].sum())"
   ]
  },
  {
   "cell_type": "code",
   "execution_count": 534,
   "metadata": {},
   "outputs": [
    {
     "data": {
      "text/plain": [
       "Text(0.5,1,'Histogram of Total charges for Churn = 1')"
      ]
     },
     "execution_count": 534,
     "metadata": {},
     "output_type": "execute_result"
    },
    {
     "data": {
      "image/png": "[encoded data removed]",
      "text/plain": [
       "<matplotlib.figure.Figure at 0x1ed4aae2470>"
      ]
     },
     "metadata": {},
     "output_type": "display_data"
    }
   ],
   "source": [
    "ch.loc[ch.Churn==1,'TotalCharges'].hist()\n",
    "plt.title('Histogram of Total charges for Churn = 1')"
   ]
  },
  {
   "cell_type": "code",
   "execution_count": 535,
   "metadata": {},
   "outputs": [
    {
     "data": {
      "text/plain": [
       "Text(0.5,1,'Histogram of Monthly charges for Churn = 1')"
      ]
     },
     "execution_count": 535,
     "metadata": {},
     "output_type": "execute_result"
    },
    {
     "data": {
      "image/png": "[encoded data removed]",
      "text/plain": [
       "<matplotlib.figure.Figure at 0x1ed4e336a58>"
      ]
     },
     "metadata": {},
     "output_type": "display_data"
    }
   ],
   "source": [
    "ch.loc[ch.Churn==1,'MonthlyCharges'].hist()\n",
    "plt.title('Histogram of Monthly charges for Churn = 1')"
   ]
  },
  {
   "cell_type": "code",
   "execution_count": 536,
   "metadata": {},
   "outputs": [
    {
     "data": {
      "text/plain": [
       "(7043, 18)"
      ]
     },
     "execution_count": 536,
     "metadata": {},
     "output_type": "execute_result"
    }
   ],
   "source": [
    "y = ch.Churn\n",
    "#ch['tenure'] = ch['tenure'].apply(lambda x: np.log(x))\n",
    "X = np.array(ch.drop(['customerID','Churn','gender'],axis=1,inplace=False))\n",
    "X.shape"
   ]
  },
  {
   "cell_type": "code",
   "execution_count": 537,
   "metadata": {
    "collapsed": true
   },
   "outputs": [],
   "source": [
    "import numpy as np\n",
    "import pandas as pd\n",
    "from sklearn.preprocessing import StandardScaler\n",
    "from sklearn.cross_validation import cross_val_score\n",
    "from sklearn.cross_validation import train_test_split\n",
    "from sklearn.pipeline import make_pipeline\n",
    "from sklearn.tree import DecisionTreeClassifier\n",
    "from sklearn.svm import SVC\n",
    "from sklearn.ensemble import RandomForestClassifier\n",
    "from sklearn import tree"
   ]
  },
  {
   "cell_type": "code",
   "execution_count": 538,
   "metadata": {
    "collapsed": true
   },
   "outputs": [],
   "source": [
    "scaler = StandardScaler()\n",
    "Xtrain, Xtest, ytrain,ytest = train_test_split(X,y,test_size=0.3,random_state=42)"
   ]
  },
  {
   "cell_type": "code",
   "execution_count": 539,
   "metadata": {},
   "outputs": [
    {
     "name": "stdout",
     "output_type": "stream",
     "text": [
      "Train accuracy 0.997971602434\n",
      "Test accuracy 0.739233317558\n"
     ]
    }
   ],
   "source": [
    "dec_tree = DecisionTreeClassifier(random_state=21)\n",
    "pipetree = make_pipeline(scaler,dec_tree)\n",
    "dec_tree.fit(Xtrain,ytrain)\n",
    "print(\"Train accuracy\",dec_tree.score(Xtrain,ytrain))\n",
    "print(\"Test accuracy\",dec_tree.score(Xtest,ytest))"
   ]
  },
  {
   "cell_type": "code",
   "execution_count": 540,
   "metadata": {},
   "outputs": [
    {
     "name": "stdout",
     "output_type": "stream",
     "text": [
      "[ 0.72109533  0.73225152  0.72616633  0.72718053  0.72210953]\n"
     ]
    }
   ],
   "source": [
    "import sklearn.metrics as metrics\n",
    "scores = cross_val_score( pipetree, Xtrain, ytrain, cv=5)\n",
    "print(scores)"
   ]
  },
  {
   "cell_type": "code",
   "execution_count": 541,
   "metadata": {},
   "outputs": [
    {
     "name": "stdout",
     "output_type": "stream",
     "text": [
      "Train accuracy 0.987626774848\n",
      "Test accuracy 0.781353525793\n"
     ]
    }
   ],
   "source": [
    "rand_forest = RandomForestClassifier(n_estimators=14, random_state=21)\n",
    "pipeforest = make_pipeline(scaler,rand_forest) \n",
    "pipeforest.fit(Xtrain,ytrain)\n",
    "print(\"Train accuracy\",pipeforest.score(Xtrain,ytrain))\n",
    "print(\"Test accuracy\",pipeforest.score(Xtest,ytest))"
   ]
  },
  {
   "cell_type": "code",
   "execution_count": 542,
   "metadata": {},
   "outputs": [
    {
     "name": "stdout",
     "output_type": "stream",
     "text": [
      "Train accuracy 0.988235294118\n",
      "Test accuracy 0.747278750592\n"
     ]
    }
   ],
   "source": [
    "svc_model = SVC(C=3, random_state=21)\n",
    "pipesvc = make_pipeline(scaler,svc_model) \n",
    "svc_model.fit(Xtrain,ytrain)\n",
    "print(\"Train accuracy\",svc_model.score(Xtrain,ytrain))\n",
    "print(\"Test accuracy\",svc_model.score(Xtest,ytest))"
   ]
  },
  {
   "cell_type": "code",
   "execution_count": 543,
   "metadata": {},
   "outputs": [
    {
     "name": "stdout",
     "output_type": "stream",
     "text": [
      "Train accuracy 0.804462474645\n",
      "Test accuracy 0.808329389494\n"
     ]
    }
   ],
   "source": [
    "from sklearn.linear_model import LogisticRegression\n",
    "logreg = LogisticRegression()\n",
    "logreg.fit(Xtrain,ytrain)\n",
    "print(\"Train accuracy\",logreg.score(Xtrain,ytrain))\n",
    "print(\"Test accuracy\",logreg.score(Xtest,ytest))\n",
    "coeff = logreg.coef_\n"
   ]
  },
  {
   "cell_type": "code",
   "execution_count": 544,
   "metadata": {},
   "outputs": [
    {
     "name": "stdout",
     "output_type": "stream",
     "text": [
      "Train accuracy 0.904665314402\n",
      "Test accuracy 0.753431140558\n"
     ]
    }
   ],
   "source": [
    "from sklearn.neural_network import MLPClassifier\n",
    "mlp = MLPClassifier(hidden_layer_sizes=(30,30,30,30,30))\n",
    "pipemlp = make_pipeline(scaler,mlp)\n",
    "pipemlp.fit(Xtrain,ytrain)\n",
    "print(\"Train accuracy\",pipemlp.score(Xtrain,ytrain))\n",
    "print(\"Test accuracy\",pipemlp.score(Xtest,ytest))"
   ]
  },
  {
   "cell_type": "code",
   "execution_count": 545,
   "metadata": {},
   "outputs": [
    {
     "name": "stdout",
     "output_type": "stream",
     "text": [
      "Train accuracy 0.755172413793\n",
      "Test accuracy 0.755797444392\n"
     ]
    }
   ],
   "source": [
    "from sklearn.naive_bayes import GaussianNB\n",
    "nb_model = GaussianNB()\n",
    "nb_model.fit(Xtrain,ytrain)\n",
    "y_pred = nb_model.predict(Xtest)\n",
    "print(\"Train accuracy\",nb_model.score(Xtrain,ytrain))\n",
    "print(\"Test accuracy\",nb_model.score(Xtest,ytest))"
   ]
  },
  {
   "cell_type": "code",
   "execution_count": 546,
   "metadata": {},
   "outputs": [
    {
     "data": {
      "text/plain": [
       "(array([ 2.,  3.,  3.,  4.,  2.,  1.,  1.,  0.,  0.,  0.,  0.,  1.,  0.,\n",
       "         0.,  0.,  0.,  0.,  1.]),\n",
       " array([ 0.19341613,  0.38049299,  0.56756985,  0.75464671,  0.94172357,\n",
       "         1.12880043,  1.31587729,  1.50295415,  1.69003101,  1.87710787,\n",
       "         2.06418473,  2.25126159,  2.43833845,  2.62541531,  2.81249217,\n",
       "         2.99956903,  3.18664589,  3.37372275,  3.56079961]),\n",
       " <a list of 18 Patch objects>)"
      ]
     },
     "execution_count": 546,
     "metadata": {},
     "output_type": "execute_result"
    },
    {
     "data": {
      "image/png": "[encoded data removed]",
      "text/plain": [
       "<matplotlib.figure.Figure at 0x1ed39237eb8>"
      ]
     },
     "metadata": {},
     "output_type": "display_data"
    }
   ],
   "source": [
    "from sklearn.decomposition import PCA\n",
    "scaler = StandardScaler()\n",
    "XX = scaler.fit_transform(X)\n",
    "pca = PCA()\n",
    "XX1 = pca.fit_transform(XX)\n",
    "plt.hist(pca.explained_variance_,bins=pca.n_components_)"
   ]
  },
  {
   "cell_type": "code",
   "execution_count": 547,
   "metadata": {},
   "outputs": [
    {
     "name": "stdout",
     "output_type": "stream",
     "text": [
      "Train accuracy 0.988843813387\n",
      "Test accuracy 0.774727875059\n"
     ]
    }
   ],
   "source": [
    "XX = XX1[:,:]\n",
    "Xtrain, Xtest, ytrain,ytest = train_test_split(XX,y,test_size=0.3,random_state=42)\n",
    "rand_forest = RandomForestClassifier(n_estimators=14, random_state=21)\n",
    "rand_forest.fit(Xtrain,ytrain)\n",
    "print(\"Train accuracy\",rand_forest.score(Xtrain,ytrain))\n",
    "print(\"Test accuracy\",rand_forest.score(Xtest,ytest))"
   ]
  },
  {
   "cell_type": "code",
   "execution_count": 548,
   "metadata": {},
   "outputs": [
    {
     "data": {
      "text/plain": [
       "(1, 18)"
      ]
     },
     "execution_count": 548,
     "metadata": {},
     "output_type": "execute_result"
    }
   ],
   "source": [
    "coeff.shape"
   ]
  },
  {
   "cell_type": "code",
   "execution_count": 549,
   "metadata": {
    "collapsed": true
   },
   "outputs": [],
   "source": [
    "pp = ch.drop(['customerID','Churn','gender'],axis=1,inplace=False)"
   ]
  },
  {
   "cell_type": "code",
   "execution_count": 550,
   "metadata": {},
   "outputs": [
    {
     "data": {
      "text/plain": [
       "Index(['Partner', 'Dependents', 'PhoneService', 'MultipleLines',\n",
       "       'InternetService', 'OnlineSecurity', 'OnlineBackup', 'DeviceProtection',\n",
       "       'TechSupport', 'StreamingTV', 'StreamingMovies', 'Contract',\n",
       "       'PaperlessBilling', 'PaymentMethod', 'TotalCharges', 'SeniorCitizen',\n",
       "       'tenure', 'MonthlyCharges'],\n",
       "      dtype='object')"
      ]
     },
     "execution_count": 550,
     "metadata": {},
     "output_type": "execute_result"
    }
   ],
   "source": [
    "pp.columns"
   ]
  },
  {
   "cell_type": "code",
   "execution_count": 551,
   "metadata": {},
   "outputs": [
    {
     "data": {
      "text/plain": [
       "array([[ 2, 11,  5,  8,  1,  6,  7,  9, 16, 14,  0, 17, 13, 10,  3, 15,  4,\n",
       "        12]], dtype=int64)"
      ]
     },
     "execution_count": 551,
     "metadata": {},
     "output_type": "execute_result"
    }
   ],
   "source": [
    "np.argsort(coeff)"
   ]
  },
  {
   "cell_type": "code",
   "execution_count": 552,
   "metadata": {},
   "outputs": [
    {
     "data": {
      "text/plain": [
       "'InternetService'"
      ]
     },
     "execution_count": 552,
     "metadata": {},
     "output_type": "execute_result"
    }
   ],
   "source": [
    "pp.columns[4]"
   ]
  },
  {
   "cell_type": "code",
   "execution_count": 553,
   "metadata": {},
   "outputs": [
    {
     "data": {
      "text/plain": [
       "1    3096\n",
       "0    2421\n",
       "2    1526\n",
       "Name: InternetService, dtype: int64"
      ]
     },
     "execution_count": 553,
     "metadata": {},
     "output_type": "execute_result"
    }
   ],
   "source": [
    "ch.InternetService.value_counts()"
   ]
  },
  {
   "cell_type": "code",
   "execution_count": 554,
   "metadata": {},
   "outputs": [
    {
     "data": {
      "text/plain": [
       "InternetService\n",
       "0     459.0\n",
       "1    1297.0\n",
       "2     113.0\n",
       "Name: Churn, dtype: float64"
      ]
     },
     "execution_count": 554,
     "metadata": {},
     "output_type": "execute_result"
    }
   ],
   "source": [
    "ch.groupby('InternetService')['Churn'].sum()"
   ]
  },
  {
   "cell_type": "code",
   "execution_count": 555,
   "metadata": {},
   "outputs": [
    {
     "data": {
      "text/plain": [
       "array([[  6.11505654e-05,   1.10847342e-02,   2.62707328e-02,\n",
       "         -3.32884195e-02,   4.84937338e-02,  -5.40856214e-02,\n",
       "         -5.57335451e-02,   5.85539933e-02,   8.41120482e-02,\n",
       "         -1.47323989e-01,  -1.53444046e-01,   2.09363815e-01,\n",
       "         -2.21078848e-01,   2.30202627e-01,  -2.84417579e-01,\n",
       "          3.02846555e-01,  -7.17538085e-01,  -9.45321248e-01]])"
      ]
     },
     "execution_count": 555,
     "metadata": {},
     "output_type": "execute_result"
    }
   ],
   "source": [
    "coeff[0,np.argsort(abs(coeff))]"
   ]
  },
  {
   "cell_type": "code",
   "execution_count": 556,
   "metadata": {},
   "outputs": [
    {
     "data": {
      "text/plain": [
       "Index([['TotalCharges', 'Partner', 'MonthlyCharges', 'tenure', 'PaymentMethod', 'StreamingTV', 'DeviceProtection', 'StreamingMovies', 'MultipleLines', 'OnlineBackup', 'Dependents', 'SeniorCitizen', 'TechSupport', 'InternetService', 'OnlineSecurity', 'PaperlessBilling', 'Contract', 'PhoneService']], dtype='object')"
      ]
     },
     "execution_count": 556,
     "metadata": {},
     "output_type": "execute_result"
    }
   ],
   "source": [
    "pp.columns[np.argsort(abs(coeff))]"
   ]
  },
  {
   "cell_type": "code",
   "execution_count": 557,
   "metadata": {},
   "outputs": [
    {
     "data": {
      "text/plain": [
       "array([[14,  0, 17, 16, 13,  9,  7, 10,  3,  6,  1, 15,  8,  4,  5, 12, 11,\n",
       "         2]], dtype=int64)"
      ]
     },
     "execution_count": 557,
     "metadata": {},
     "output_type": "execute_result"
    }
   ],
   "source": [
    "np.argsort(abs(coeff))"
   ]
  },
  {
   "cell_type": "code",
   "execution_count": 558,
   "metadata": {},
   "outputs": [
    {
     "data": {
      "text/plain": [
       "array([[  1.10847342e-02,  -1.53444046e-01,  -9.45321248e-01,\n",
       "          8.41120482e-02,   2.30202627e-01,  -2.84417579e-01,\n",
       "         -1.47323989e-01,  -5.57335451e-02,  -2.21078848e-01,\n",
       "         -5.40856214e-02,   5.85539933e-02,  -7.17538085e-01,\n",
       "          3.02846555e-01,   4.84937338e-02,   6.11505654e-05,\n",
       "          2.09363815e-01,  -3.32884195e-02,   2.62707328e-02]])"
      ]
     },
     "execution_count": 558,
     "metadata": {},
     "output_type": "execute_result"
    }
   ],
   "source": [
    "coeff"
   ]
  },
  {
   "cell_type": "code",
   "execution_count": 559,
   "metadata": {},
   "outputs": [
    {
     "data": {
      "text/plain": [
       "Index(['PhoneService', 'StreamingTV', 'StreamingMovies', 'OnlineBackup',\n",
       "       'MultipleLines', 'DeviceProtection', 'TechSupport', 'PaperlessBilling',\n",
       "       'Dependents', 'SeniorCitizen', 'Partner', 'InternetService',\n",
       "       'PaymentMethod', 'OnlineSecurity', 'tenure', 'Contract', 'TotalCharges',\n",
       "       'MonthlyCharges'],\n",
       "      dtype='object')"
      ]
     },
     "execution_count": 559,
     "metadata": {},
     "output_type": "execute_result"
    }
   ],
   "source": [
    "fi = dec_tree.feature_importances_ \n",
    "fi[np.argsort(fi)]\n",
    "pp.columns[np.argsort(fi)]"
   ]
  },
  {
   "cell_type": "code",
   "execution_count": null,
   "metadata": {
    "collapsed": true
   },
   "outputs": [],
   "source": []
  }
 ],
 "metadata": {
  "kernelspec": {
   "display_name": "Python 3",
   "language": "python",
   "name": "python3"
  },
  "language_info": {
   "codemirror_mode": {
    "name": "ipython",
    "version": 3
   },
   "file_extension": ".py",
   "mimetype": "text/x-python",
   "name": "python",
   "nbconvert_exporter": "python",
   "pygments_lexer": "ipython3",
   "version": "3.6.3"
  }
 },
 "nbformat": 4,
 "nbformat_minor": 2
}
