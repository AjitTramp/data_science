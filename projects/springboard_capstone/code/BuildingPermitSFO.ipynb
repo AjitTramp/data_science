{
 "cells": [
  {
   "cell_type": "markdown",
   "metadata": {},
   "source": [
    "# **Predicting Building Permit Issuance Times for San Francisco**\n",
    "##                                                                                             ...and answering many questions!\n"
   ]
  },
  {
   "cell_type": "markdown",
   "metadata": {
    "ExecuteTime": {
     "end_time": "2018-02-18T03:25:41.260358Z",
     "start_time": "2018-02-18T03:25:41.255344Z"
    }
   },
   "source": [
    "***A Data Science Project by Aparna Shastry***"
   ]
  },
  {
   "cell_type": "markdown",
   "metadata": {},
   "source": [
    "## Content\n",
    "+ Introduction\n",
    "+ Data\n",
    "+ What Are We Trying to Find Out?\n",
    "+ Cleaning the Data\n",
    "+ Exploratory Data Analysis\n",
    "+ Drawing Inferences\n",
    "+ Identification of features\n",
    "+ Modeling\n",
    "+ Predicting\n",
    "+ Conclusions\n",
    "\n",
    "## Introduction\n",
    "A building permit is an official approval document issued by a governmental agency that allows you or your contractor to proceed with a construction or remodeling project on one's property. For more details click [here](https://www.thespruce.com/what-is-a-building-permit-1398344). Each city or county has its own office related to buildings, that can do multiple functions like issuing permits, inspecting buildings to enforce safety measures, modifying rules to accommodate needs of the growing population etc. For the city of San Francisco, permit issuing is taken care by [Permit Services wing of Department of Building Inspection](http://sfdbi.org/permit-services) (henceforth called DBI).\n",
    "The delays in permit issuance pose serious problems to construction industries and later on real estate agencies.Read this [Trulia study](https://www.trulia.com/blog/trends/elasticity-2016/) and [Vancouver city article](https://biv.com/article/2014/11/city-building-permit-delays-costing-developers-tim).\n",
    "\n",
    "## Data\n",
    "Data for this project is available in San Francisco city open data portal. It is updated every Saturday.\n",
    "1. Go to the link: [SF](https://data.sfgov.org/Housing-and-Buildings/Building-Permits/i98e-djp9/data) open portal. \n",
    "2. Click on Filter and \"Add a Filter Condition\".\n",
    "3. A drop down menu appears.\n",
    "4. Select, \"Filed Date\" and \"is after\".\n",
    "5. I entered date as 12/31/2012, because I wanted to do analysis of last 4-5 years. I think most recent data is important in matters such as this, the city council policies could change, there might be new rules, new employers to expedite process etc. Old data may not be too useful in modeling.\n",
    "6. I chose to download in CSV format because it is of the less than 100MB size and easy to load into notebook. If it gave issues, I might have chosen a different format.\n",
    "\n",
    "The file as of Feb 25, 2018 (Sunday) has been downloaded and kept for easy access. Size is about 75MB"
   ]
  },
  {
   "cell_type": "markdown",
   "metadata": {},
   "source": [
    "### What Are We Trying to Find Out?\n",
    "\n",
    "Primary Objective of this project is to model the building permit issuance times using at least last 3 years of permit filing/issuing data, so that this model can be used to predict the permit issuance times for the applications filed in future. Apart from that, this work will address a few concerns/answers a few questions which are of help in practical life in construction industry. We will get to the specifics once we get initial glimpse of columns in the data."
   ]
  },
  {
   "cell_type": "code",
   "execution_count": 1,
   "metadata": {
    "ExecuteTime": {
     "end_time": "2018-02-20T03:02:49.201132Z",
     "start_time": "2018-02-20T03:02:41.652462Z"
    }
   },
   "outputs": [
    {
     "name": "stderr",
     "output_type": "stream",
     "text": [
      "C:\\Users\\Aparn\\Anaconda3\\lib\\site-packages\\statsmodels\\compat\\pandas.py:56: FutureWarning: The pandas.core.datetools module is deprecated and will be removed in a future version. Please use the pandas.tseries module instead.\n",
      "  from pandas.core import datetools\n",
      "C:\\Users\\Aparn\\Anaconda3\\lib\\site-packages\\sklearn\\cross_validation.py:41: DeprecationWarning: This module was deprecated in version 0.18 in favor of the model_selection module into which all the refactored classes and functions are moved. Also note that the interface of the new CV iterators are different from that of this module. This module will be removed in 0.20.\n",
      "  \"This module will be removed in 0.20.\", DeprecationWarning)\n"
     ]
    }
   ],
   "source": [
    "import os\n",
    "import pandas as pd\n",
    "import numpy as np\n",
    "import time\n",
    "import datetime\n",
    "\n",
    "%matplotlib inline\n",
    "import matplotlib\n",
    "import matplotlib.pyplot as plt\n",
    "\n",
    "import seaborn as sns\n",
    "sns.set_style(style='white')\n",
    "\n",
    "from scipy.stats import pearsonr\n",
    "import statsmodels.api as sm\n",
    "from statsmodels.formula.api import ols\n",
    "\n",
    "from sklearn.linear_model import LogisticRegression\n",
    "from sklearn.ensemble import GradientBoostingClassifier\n",
    "from sklearn.ensemble import RandomForestClassifier\n",
    "from sklearn.model_selection import cross_val_score\n",
    "from sklearn.cross_validation import train_test_split\n",
    "from sklearn.metrics import classification_report,confusion_matrix,accuracy_score\n",
    "from sklearn.metrics import roc_curve, auc\n",
    "from sklearn.model_selection import cross_val_score\n",
    "\n",
    "import folium"
   ]
  },
  {
   "cell_type": "code",
   "execution_count": 2,
   "metadata": {
    "ExecuteTime": {
     "end_time": "2018-02-20T03:09:01.572569Z",
     "start_time": "2018-02-20T03:03:02.666085Z"
    }
   },
   "outputs": [
    {
     "name": "stdout",
     "output_type": "stream",
     "text": [
      "<class 'pandas.core.frame.DataFrame'>\n",
      "RangeIndex: 198900 entries, 0 to 198899\n",
      "Data columns (total 43 columns):\n",
      "Permit Number                             198900 non-null object\n",
      "Permit Type                               198900 non-null int64\n",
      "Permit Type Definition                    198900 non-null object\n",
      "Permit Creation Date                      198900 non-null object\n",
      "Block                                     198900 non-null object\n",
      "Lot                                       198900 non-null object\n",
      "Street Number                             198900 non-null int64\n",
      "Street Number Suffix                      2216 non-null object\n",
      "Street Name                               198900 non-null object\n",
      "Street Suffix                             196132 non-null object\n",
      "Unit                                      29479 non-null float64\n",
      "Unit Suffix                               1961 non-null object\n",
      "Description                               198610 non-null object\n",
      "Current Status                            198900 non-null object\n",
      "Current Status Date                       198900 non-null object\n",
      "Filed Date                                198900 non-null object\n",
      "Issued Date                               183960 non-null object\n",
      "Completed Date                            97191 non-null object\n",
      "First Construction Document Date          183954 non-null object\n",
      "Structural Notification                   6922 non-null object\n",
      "Number of Existing Stories                156116 non-null float64\n",
      "Number of Proposed Stories                156032 non-null float64\n",
      "Voluntary Soft-Story Retrofit             35 non-null object\n",
      "Fire Only Permit                          18827 non-null object\n",
      "Permit Expiration Date                    147020 non-null object\n",
      "Estimated Cost                            160834 non-null float64\n",
      "Revised Cost                              192834 non-null float64\n",
      "Existing Use                              157786 non-null object\n",
      "Existing Units                            147362 non-null float64\n",
      "Proposed Use                              156461 non-null object\n",
      "Proposed Units                            147989 non-null float64\n",
      "Plansets                                  161591 non-null float64\n",
      "TIDF Compliance                           2 non-null object\n",
      "Existing Construction Type                155534 non-null float64\n",
      "Existing Construction Type Description    155534 non-null object\n",
      "Proposed Construction Type                155738 non-null float64\n",
      "Proposed Construction Type Description    155738 non-null object\n",
      "Site Permit                               5359 non-null object\n",
      "Supervisor District                       197183 non-null float64\n",
      "Neighborhoods - Analysis Boundaries       197175 non-null object\n",
      "Zipcode                                   197184 non-null float64\n",
      "Location                                  197200 non-null object\n",
      "Record ID                                 198900 non-null int64\n",
      "dtypes: float64(12), int64(3), object(28)\n",
      "memory usage: 65.3+ MB\n",
      "Wall time: 3.6 s\n"
     ]
    }
   ],
   "source": [
    "%%time\n",
    "# Read and make a copy for speed\n",
    "sf = pd.read_csv('../data/Building_Permits.csv',low_memory=False)\n",
    "sf.info()"
   ]
  },
  {
   "cell_type": "markdown",
   "metadata": {},
   "source": [
    "### What are We Trying to Find Out (Continued):\n",
    "\n",
    "Specifically, we will be trying to answer the following in the next parts:\n",
    "\n",
    "+ **Data Cleaning:**      \n",
    "1) Which of these columns we should retain for further analysis? This is the first question to answer because eliminating obviously non-useful columns would save lot of time.        \n",
    "2) How to interpret the records with zero or very small values for cost variables related to the construction?                \n",
    "3) What to do we do if dates map to Saturday or Sunday? A date having invalid numbers for month and day of the month?      \n",
    "4) Should we replace blanks in some columns where the valid value is 'Y'?    \n",
    "5) What do we do with blank cells in date columns?    \n",
    "         \n",
    "+ **Exploratory Data Analysis:**   \n",
    "1) What is the best day of the week to visit DBI, to file an application form? Is the popular belief “mid-week (Wednesday) is the least crowded and hence best to visit government or city agencies” true in this case?    \n",
    "2) Which weekday has maximum percentage of permits issued on the same day, among the 5 weekdays?        \n",
    "3) What type of permits are mostly issued on the same day of filing?     \n",
    "4) Which types take least average time issue if not issued on the same day?    \n",
    "5) Is there any particular quarter of each year which has higher application counts or average wait times? Can it be justified from the business knowledge?    \n",
    "6) How does the wait time  vary across plansets?  \n",
    "7) How is permit times related to cost?\n",
    "\n",
    "\n",
    "+ **Drawing Inferences:**         \n",
    "\n",
    "  1) Assume there is a claim by the DBI. \"60% of **all** the permit applications are processed on the same day.\" Can we formulate a hypothesis test? What are the null and alternate hypothesis? What is the significance level you want to chose? {Keep in mind that data we have is entire population for year 2013 onwards. Hence the tests have to be performed on a randomly chosen subset assuming entire population is not available. This is true for next two questions as well}   \n",
    "  1a) Estimate the proportion that get processed the same day corresponding to 95% confidence level.       \n",
    "  2) Is there a statistically significant difference between mean wait times of fire only permits and not fire only permits?      \n",
    "  3) Can we do Anova test to verify variability across mean wait times for various permit types? If yes, demonstrate. If no, justify.\n",
    "  \n",
    "\n",
    "+ **Modeling:**     \n",
    "1) What are the main factors influencing the building permit issuance times?         \n",
    "2) How does the building estimated cost relate to wait times?    \n",
    "\n",
    "\n",
    "+ **Predicting:**      \n",
    "1) Predict the time to issue from  the date of filing, based on the model chosen in modeling stage"
   ]
  },
  {
   "cell_type": "code",
   "execution_count": 3,
   "metadata": {},
   "outputs": [],
   "source": [
    "# Conversion to datetime\n",
    "import traceback\n",
    "try :\n",
    "    sf['Filed Date'] = pd.to_datetime(sf['Filed Date'],errors='coerce')\n",
    "    sf['Issued Date'] = pd.to_datetime(sf['Issued Date'],errors='coerce')\n",
    "    sf['Permit Expiration Date'] = pd.to_datetime(sf['Permit Expiration Date'],errors='coerce')\n",
    "except :    \n",
    "    traceback.print_exc()\n",
    "\n",
    "# Keep a copy to reload\n",
    "sfcpy = sf.copy()"
   ]
  },
  {
   "cell_type": "code",
   "execution_count": 4,
   "metadata": {
    "ExecuteTime": {
     "end_time": "2018-02-20T03:09:01.964969Z",
     "start_time": "2018-02-20T03:09:01.574935Z"
    }
   },
   "outputs": [],
   "source": [
    "# Sometimes when re-run is required, one can start from just here, to save time\n",
    "sf = sfcpy.copy()"
   ]
  },
  {
   "cell_type": "code",
   "execution_count": 5,
   "metadata": {},
   "outputs": [],
   "source": [
    "# Rename for brevity/readability\n",
    "sf = sf.rename(columns =   {'Neighborhoods - Analysis Boundaries':'neighborhoods',\n",
    "                            'Permit Type' : 'perm_typ',\n",
    "                            'Permit Type Definition': 'perm_typ_def',\n",
    "                            'Filed Date':'file_dt',\n",
    "                            'Issued Date':'issue_dt',\n",
    "                            'Permit Expiration Date' : 'perm_exp_dt',\n",
    "                            'Structural Notification':'strct_notif',\n",
    "                            'Number of Existing Stories':'no_exist_stry',\n",
    "                            'Number of Proposed Stories':'no_prop_stry',\n",
    "                            'Fire Only Permit':'fire_only_permit',\n",
    "                            'Estimated Cost':'est_cost',\n",
    "                            'Revised Cost':'rev_cost',\n",
    "                            'Existing Use':'exist_use',\n",
    "                            'Proposed Use': 'prop_use',\n",
    "                            'Plansets':'plansets',\n",
    "                            'Existing Construction Type': 'exist_const_type',\n",
    "                            'Existing Construction Type Description': 'exist_const_type_descr',\n",
    "                            'Proposed Construction Type': 'prop_const_type',\n",
    "                            'Proposed Construction Type Description': 'prop_const_type_descr',\n",
    "                            'Site Permit':'site_permit',\n",
    "                            'Supervisor District':'sup_dist',\n",
    "                            'Location':'location'\n",
    "                            })"
   ]
  },
  {
   "cell_type": "code",
   "execution_count": 6,
   "metadata": {},
   "outputs": [
    {
     "data": {
      "text/plain": [
       "Index(['Permit Number', 'perm_typ', 'perm_typ_def', 'Permit Creation Date',\n",
       "       'Block', 'Lot', 'Street Number', 'Street Number Suffix', 'Street Name',\n",
       "       'Street Suffix', 'Unit', 'Unit Suffix', 'Description', 'Current Status',\n",
       "       'Current Status Date', 'file_dt', 'issue_dt', 'Completed Date',\n",
       "       'First Construction Document Date', 'strct_notif', 'no_exist_stry',\n",
       "       'no_prop_stry', 'Voluntary Soft-Story Retrofit', 'fire_only_permit',\n",
       "       'perm_exp_dt', 'est_cost', 'rev_cost', 'exist_use', 'Existing Units',\n",
       "       'prop_use', 'Proposed Units', 'plansets', 'TIDF Compliance',\n",
       "       'exist_const_type', 'exist_const_type_descr', 'prop_const_type',\n",
       "       'prop_const_type_descr', 'site_permit', 'sup_dist', 'neighborhoods',\n",
       "       'Zipcode', 'location', 'Record ID'],\n",
       "      dtype='object')"
      ]
     },
     "execution_count": 6,
     "metadata": {},
     "output_type": "execute_result"
    }
   ],
   "source": [
    "sf.columns"
   ]
  },
  {
   "cell_type": "markdown",
   "metadata": {},
   "source": [
    "## Cleaning the Data\n",
    "\n",
    "The Tricky part of Data Wrangling in my knowledge so far,   \n",
    "\n",
    "a) Knowing what is present in the 'null' cells, is it NaN or simply ' '     \n",
    "b) In the non-null cells, if the all values are meaningful       \n",
    "c) Recognizing that even if a column has all non-null and meaningful values, the future updates to the column may have problems. Hence need to expect it and handle it      \n",
    "d) See the data and think if certain value make sense for the business and decide to drop those which are not relevant"
   ]
  },
  {
   "cell_type": "markdown",
   "metadata": {},
   "source": [
    "##### Answering the questions:\n",
    "1) The following columns are retained for further analysis. More could be added after discussion"
   ]
  },
  {
   "cell_type": "code",
   "execution_count": 7,
   "metadata": {},
   "outputs": [],
   "source": [
    "sfr = sf[['perm_typ','perm_typ_def','file_dt','issue_dt','perm_exp_dt','strct_notif','no_exist_stry','no_prop_stry','fire_only_permit','est_cost','rev_cost',\n",
    "          'exist_use','prop_use','plansets','exist_const_type','prop_const_type','site_permit','neighborhoods',\n",
    "          'sup_dist','location']].copy()\n",
    "sfr = sfr.sort_values('file_dt')"
   ]
  },
  {
   "cell_type": "markdown",
   "metadata": {},
   "source": [
    "2) NaN or too small costs: Cost of the project is an essential part of the application according to [this post](http://www.herald-journal.com/housing/pages/older/permit.html). Examining if the cost columns have valid values."
   ]
  },
  {
   "cell_type": "code",
   "execution_count": 8,
   "metadata": {},
   "outputs": [
    {
     "name": "stdout",
     "output_type": "stream",
     "text": [
      "Percentage of null values in revised cost: 3.0498\n",
      "Percentage of null values in estimated cost: 19.1383\n"
     ]
    }
   ],
   "source": [
    "print('Percentage of null values in revised cost:',round(100*sfr['rev_cost'].isnull().sum()/sfr['rev_cost'].isnull().count(),4))\n",
    "print('Percentage of null values in estimated cost:',round(100*sfr['est_cost'].isnull().sum()/sfr['est_cost'].isnull().count(),4))"
   ]
  },
  {
   "cell_type": "code",
   "execution_count": 9,
   "metadata": {},
   "outputs": [
    {
     "name": "stdout",
     "output_type": "stream",
     "text": [
      "Percentage of values < 10$ in estimated cost: 8.56 and the same in revised cost is 28.03\n"
     ]
    }
   ],
   "source": [
    "print('Percentage of values < 10$ in estimated cost: {:.2f} and the same in revised cost is {:.2f}'\n",
    "     .format(100*(sfr['est_cost'] < 10).sum()/(sfr['est_cost'] < 10).count(),100*(sfr['rev_cost'] < 10).sum()/(sfr['rev_cost'] < 10).count() ))"
   ]
  },
  {
   "cell_type": "markdown",
   "metadata": {},
   "source": [
    "Revised cost is most recent, and also has less null values compared to estimated cost. Hence, revised cost is more meaningful. However, since estimated cost has 20% null values, examining the time taken for those records might reveal something. Permit application without cost estimation might be delayed. The moment revised cost was entered, application might be processed. We would know that in the EDA part. For now, it is best to leave these alone. We could come back after cleaning some more columns"
   ]
  },
  {
   "cell_type": "markdown",
   "metadata": {},
   "source": [
    "3) Dealing with dates falling on weekends: I would attribute it to typing mistake and make it previous or next day respectively. This may not be accurate, however it will not show a weekend in the EDA part.   "
   ]
  },
  {
   "cell_type": "code",
   "execution_count": 10,
   "metadata": {},
   "outputs": [
    {
     "name": "stdout",
     "output_type": "stream",
     "text": [
      "<class 'pandas.core.frame.DataFrame'>\n",
      "Int64Index: 198900 entries, 559 to 198761\n",
      "Data columns (total 3 columns):\n",
      "file_dt     198900 non-null datetime64[ns]\n",
      "issue_dt    183960 non-null datetime64[ns]\n",
      "perm_typ    198900 non-null int64\n",
      "dtypes: datetime64[ns](2), int64(1)\n",
      "memory usage: 6.1 MB\n"
     ]
    }
   ],
   "source": [
    "sfr[['file_dt','issue_dt','perm_typ']].info()"
   ]
  },
  {
   "cell_type": "markdown",
   "metadata": {},
   "source": [
    "Note that permit type and file dates have no NaNs, whereas issue date has 14940 NaNs, because at the time of data download, they were not yet issued. We decide to keep it as is at this stage, because dropping them would introduce survivorship bias in others. Imputation would still introduce bias."
   ]
  },
  {
   "cell_type": "code",
   "execution_count": 11,
   "metadata": {},
   "outputs": [],
   "source": [
    "sfr = sfr.assign(time_taken = (sfr['issue_dt'] - sfr['file_dt']).dt.days)"
   ]
  },
  {
   "cell_type": "code",
   "execution_count": 12,
   "metadata": {},
   "outputs": [],
   "source": [
    "sfr = sfr.assign(file_day = sfr.file_dt.dt.weekday_name)\n",
    "sfr = sfr.assign(issue_day = sfr.issue_dt.dt.weekday_name)\n",
    "sfr.loc[sfr['file_day']=='Saturday','file_dt']  = sfr.loc[sfr['file_day']=='Saturday','file_dt'] - datetime.timedelta(1)\n",
    "sfr.loc[sfr['file_day']=='Saturday','file_day'] = 'Friday'\n",
    "sfr.loc[sfr['file_day']=='Sunday','file_dt'] =  sfr.loc[sfr['file_day']=='Sunday','file_dt'] + datetime.timedelta(1)\n",
    "sfr.loc[sfr['file_day']=='Sunday','file_day'] = 'Monday'\n",
    "sfr.loc[sfr['issue_day']=='Saturday','issue_dt'] = sfr.loc[sfr['issue_day']=='Saturday','issue_dt'] - datetime.timedelta(1)\n",
    "sfr.loc[sfr['issue_day']=='Saturday','issue_day'] = 'Friday'\n",
    "sfr.loc[sfr['issue_day']=='Sunday','issue_dt'] = sfr.loc[sfr['issue_day']=='Sunday','issue_dt'] + datetime.timedelta(1)\n",
    "sfr.loc[sfr['issue_day']=='Sunday','issue_day'] = 'Monday'"
   ]
  },
  {
   "cell_type": "markdown",
   "metadata": {},
   "source": [
    "4) In the application forms (both physical or online), normally the applicant is supposed to tick the option if applicable. Otherwise nothing needs to be done. Hence it is understandable that blanks mean not applicable, a \"No\"."
   ]
  },
  {
   "cell_type": "code",
   "execution_count": 13,
   "metadata": {},
   "outputs": [],
   "source": [
    "# Fill na with N. because in building permit databases, this is ticked if yes and left blank if it is not applicable\n",
    "sfr['fire_only_permit'].fillna('N',inplace=True)\n",
    "sfr['site_permit'].fillna('N',inplace=True)\n",
    "sfr['strct_notif'].fillna('N',inplace=True)"
   ]
  },
  {
   "cell_type": "markdown",
   "metadata": {},
   "source": [
    "One needs to constantly remind oneself that this is a building permit application. Absence of values in some columns can not be filled in isolation. For example, revised cost null values might mean applicant does not want to reveal the cost. Same with 0 cost. We will plot a bar chart. Even though this is data wrangling part and not EDA, sometimes the boundary is very thin"
   ]
  },
  {
   "cell_type": "code",
   "execution_count": 14,
   "metadata": {},
   "outputs": [
    {
     "data": {
      "image/png": "[encoded data removed]",
      "text/plain": [
       "<matplotlib.figure.Figure at 0x2a7b04338d0>"
      ]
     },
     "metadata": {},
     "output_type": "display_data"
    }
   ],
   "source": [
    "_ = sfr.loc[sfr.rev_cost.isnull(),'perm_typ_def'].value_counts().plot.bar()\n",
    "_ = plt.title('Counts of missing Revised cost by permit type')"
   ]
  },
  {
   "cell_type": "code",
   "execution_count": 15,
   "metadata": {},
   "outputs": [
    {
     "data": {
      "text/html": [
       "<div>\n",
       "<style scoped>\n",
       "    .dataframe tbody tr th:only-of-type {\n",
       "        vertical-align: middle;\n",
       "    }\n",
       "\n",
       "    .dataframe tbody tr th {\n",
       "        vertical-align: top;\n",
       "    }\n",
       "\n",
       "    .dataframe thead th {\n",
       "        text-align: right;\n",
       "    }\n",
       "</style>\n",
       "<table border=\"1\" class=\"dataframe\">\n",
       "  <thead>\n",
       "    <tr style=\"text-align: right;\">\n",
       "      <th></th>\n",
       "      <th>count</th>\n",
       "      <th>mean</th>\n",
       "      <th>std</th>\n",
       "      <th>min</th>\n",
       "      <th>25%</th>\n",
       "      <th>50%</th>\n",
       "      <th>75%</th>\n",
       "      <th>max</th>\n",
       "    </tr>\n",
       "    <tr>\n",
       "      <th>perm_typ</th>\n",
       "      <th></th>\n",
       "      <th></th>\n",
       "      <th></th>\n",
       "      <th></th>\n",
       "      <th></th>\n",
       "      <th></th>\n",
       "      <th></th>\n",
       "      <th></th>\n",
       "    </tr>\n",
       "  </thead>\n",
       "  <tbody>\n",
       "    <tr>\n",
       "      <th>1</th>\n",
       "      <td>206.0</td>\n",
       "      <td>5.374473e+07</td>\n",
       "      <td>9.015414e+07</td>\n",
       "      <td>8000.0</td>\n",
       "      <td>6776200.0</td>\n",
       "      <td>22900000.0</td>\n",
       "      <td>51875000.0</td>\n",
       "      <td>780500000.0</td>\n",
       "    </tr>\n",
       "    <tr>\n",
       "      <th>2</th>\n",
       "      <td>640.0</td>\n",
       "      <td>2.154835e+06</td>\n",
       "      <td>6.840046e+06</td>\n",
       "      <td>15000.0</td>\n",
       "      <td>498485.0</td>\n",
       "      <td>706841.0</td>\n",
       "      <td>1111231.5</td>\n",
       "      <td>123000000.0</td>\n",
       "    </tr>\n",
       "    <tr>\n",
       "      <th>3</th>\n",
       "      <td>10387.0</td>\n",
       "      <td>5.436800e+05</td>\n",
       "      <td>4.121239e+06</td>\n",
       "      <td>0.0</td>\n",
       "      <td>25000.0</td>\n",
       "      <td>100000.0</td>\n",
       "      <td>339235.0</td>\n",
       "      <td>266061486.0</td>\n",
       "    </tr>\n",
       "    <tr>\n",
       "      <th>4</th>\n",
       "      <td>2463.0</td>\n",
       "      <td>4.880860e+03</td>\n",
       "      <td>8.369167e+03</td>\n",
       "      <td>1.0</td>\n",
       "      <td>1500.0</td>\n",
       "      <td>3000.0</td>\n",
       "      <td>5000.0</td>\n",
       "      <td>150000.0</td>\n",
       "    </tr>\n",
       "    <tr>\n",
       "      <th>5</th>\n",
       "      <td>88.0</td>\n",
       "      <td>1.229301e+06</td>\n",
       "      <td>2.369108e+06</td>\n",
       "      <td>1.0</td>\n",
       "      <td>42625.0</td>\n",
       "      <td>400000.0</td>\n",
       "      <td>1456750.0</td>\n",
       "      <td>14800000.0</td>\n",
       "    </tr>\n",
       "    <tr>\n",
       "      <th>6</th>\n",
       "      <td>422.0</td>\n",
       "      <td>1.148496e+05</td>\n",
       "      <td>4.188830e+05</td>\n",
       "      <td>1.0</td>\n",
       "      <td>10000.0</td>\n",
       "      <td>25000.0</td>\n",
       "      <td>97250.0</td>\n",
       "      <td>6300000.0</td>\n",
       "    </tr>\n",
       "    <tr>\n",
       "      <th>7</th>\n",
       "      <td>385.0</td>\n",
       "      <td>1.825654e+03</td>\n",
       "      <td>4.282570e+03</td>\n",
       "      <td>1.0</td>\n",
       "      <td>400.0</td>\n",
       "      <td>800.0</td>\n",
       "      <td>2000.0</td>\n",
       "      <td>50000.0</td>\n",
       "    </tr>\n",
       "    <tr>\n",
       "      <th>8</th>\n",
       "      <td>178243.0</td>\n",
       "      <td>4.124766e+04</td>\n",
       "      <td>1.986577e+05</td>\n",
       "      <td>0.0</td>\n",
       "      <td>1.0</td>\n",
       "      <td>6000.0</td>\n",
       "      <td>24000.0</td>\n",
       "      <td>25000000.0</td>\n",
       "    </tr>\n",
       "  </tbody>\n",
       "</table>\n",
       "</div>"
      ],
      "text/plain": [
       "             count          mean           std      min        25%  \\\n",
       "perm_typ                                                             \n",
       "1            206.0  5.374473e+07  9.015414e+07   8000.0  6776200.0   \n",
       "2            640.0  2.154835e+06  6.840046e+06  15000.0   498485.0   \n",
       "3          10387.0  5.436800e+05  4.121239e+06      0.0    25000.0   \n",
       "4           2463.0  4.880860e+03  8.369167e+03      1.0     1500.0   \n",
       "5             88.0  1.229301e+06  2.369108e+06      1.0    42625.0   \n",
       "6            422.0  1.148496e+05  4.188830e+05      1.0    10000.0   \n",
       "7            385.0  1.825654e+03  4.282570e+03      1.0      400.0   \n",
       "8         178243.0  4.124766e+04  1.986577e+05      0.0        1.0   \n",
       "\n",
       "                 50%         75%          max  \n",
       "perm_typ                                       \n",
       "1         22900000.0  51875000.0  780500000.0  \n",
       "2           706841.0   1111231.5  123000000.0  \n",
       "3           100000.0    339235.0  266061486.0  \n",
       "4             3000.0      5000.0     150000.0  \n",
       "5           400000.0   1456750.0   14800000.0  \n",
       "6            25000.0     97250.0    6300000.0  \n",
       "7              800.0      2000.0      50000.0  \n",
       "8             6000.0     24000.0   25000000.0  "
      ]
     },
     "execution_count": 15,
     "metadata": {},
     "output_type": "execute_result"
    }
   ],
   "source": [
    "sfr.groupby('perm_typ')['rev_cost'].describe()"
   ]
  },
  {
   "cell_type": "markdown",
   "metadata": {},
   "source": [
    "Looking at the matrix above, it seems unlikely that nulls or very small values of rev_cost is really so small. We should impute the missing or too small values, instead of dropping those rows. There are several options, like replacing by mean or median. Here we see that across permit types, revised cost has too much variability. Hence it may be worthwhile to consider replacing the median of each permit type. This is still too soon, we will postpone this for EDA."
   ]
  },
  {
   "cell_type": "code",
   "execution_count": 16,
   "metadata": {},
   "outputs": [],
   "source": [
    "sfr['rev_cost'].fillna(sfr['rev_cost'].min(),inplace=True)"
   ]
  },
  {
   "cell_type": "code",
   "execution_count": 17,
   "metadata": {},
   "outputs": [
    {
     "data": {
      "image/png": "[encoded data removed]",
      "text/plain": [
       "<matplotlib.figure.Figure at 0x2a7949319e8>"
      ]
     },
     "metadata": {},
     "output_type": "display_data"
    }
   ],
   "source": [
    "_ = sfr.loc[sfr.rev_cost < 5,'perm_typ_def'].value_counts().plot.bar()\n",
    "_ = plt.title('Counts of Revised cost < 5$ by permit type')"
   ]
  },
  {
   "cell_type": "markdown",
   "metadata": {},
   "source": [
    "Interesting to see that the first two positions are exchanged in the last two plots!"
   ]
  },
  {
   "cell_type": "code",
   "execution_count": 18,
   "metadata": {
    "scrolled": true
   },
   "outputs": [
    {
     "name": "stdout",
     "output_type": "stream",
     "text": [
      "<class 'pandas.core.frame.DataFrame'>\n",
      "Int64Index: 198900 entries, 559 to 198761\n",
      "Data columns (total 23 columns):\n",
      "perm_typ            198900 non-null int64\n",
      "perm_typ_def        198900 non-null object\n",
      "file_dt             198900 non-null datetime64[ns]\n",
      "issue_dt            183960 non-null datetime64[ns]\n",
      "perm_exp_dt         147020 non-null datetime64[ns]\n",
      "strct_notif         198900 non-null object\n",
      "no_exist_stry       156116 non-null float64\n",
      "no_prop_stry        156032 non-null float64\n",
      "fire_only_permit    198900 non-null object\n",
      "est_cost            160834 non-null float64\n",
      "rev_cost            198900 non-null float64\n",
      "exist_use           157786 non-null object\n",
      "prop_use            156461 non-null object\n",
      "plansets            161591 non-null float64\n",
      "exist_const_type    155534 non-null float64\n",
      "prop_const_type     155738 non-null float64\n",
      "site_permit         198900 non-null object\n",
      "neighborhoods       197175 non-null object\n",
      "sup_dist            197183 non-null float64\n",
      "location            197200 non-null object\n",
      "time_taken          183960 non-null float64\n",
      "file_day            198900 non-null object\n",
      "issue_day           183960 non-null object\n",
      "dtypes: datetime64[ns](3), float64(9), int64(1), object(10)\n",
      "memory usage: 36.4+ MB\n"
     ]
    }
   ],
   "source": [
    "sfr.info()"
   ]
  },
  {
   "cell_type": "code",
   "execution_count": 19,
   "metadata": {},
   "outputs": [],
   "source": [
    "sfr = sfr.assign(month = sfr['file_dt'].dt.month)\n",
    "sfr = sfr.assign(year = sfr['file_dt'].dt.year)"
   ]
  },
  {
   "cell_type": "markdown",
   "metadata": {},
   "source": [
    "There is no need to check for validity in month or days because otherwise datatime conversion would have failed."
   ]
  },
  {
   "cell_type": "code",
   "execution_count": 20,
   "metadata": {},
   "outputs": [
    {
     "name": "stdout",
     "output_type": "stream",
     "text": [
      "There is 18.76% NaN in plansets\n"
     ]
    }
   ],
   "source": [
    "print('There is {}% NaN in plansets'.format(round(100*sfr[sfr.exist_const_type.isnull()]['plansets'].isnull().sum()/sfr.shape[0],2)))"
   ]
  },
  {
   "cell_type": "markdown",
   "metadata": {},
   "source": [
    "We let the NaN's in exist_const_type,prop_const_type,no_exist_stry,no_prop_stry, and plansets as they are because this is building permit application. If it is not mentioned, it is not applicable."
   ]
  },
  {
   "cell_type": "code",
   "execution_count": 21,
   "metadata": {},
   "outputs": [],
   "source": [
    "# Fill location unknowns with 0's to indicate, it is unknown\n",
    "sfr.location.fillna('(0,0)',inplace=True)\n",
    "sfr.location = sfr.location.apply(lambda x: tuple([float((str(x).split('(')[1]).split(',')[0]),float((str(x).split('(')[1]).split(',')[1].split(')')[0])]))"
   ]
  },
  {
   "cell_type": "code",
   "execution_count": 22,
   "metadata": {},
   "outputs": [],
   "source": [
    "# Replace nans with strings \"Unknown\"\n",
    "sfr.exist_use.fillna('Unknown',inplace=True)\n",
    "sfr.prop_use.fillna('Unknown',inplace=True)\n",
    "\n",
    "# Some more variables\n",
    "sfr.neighborhoods.fillna('Unknown',inplace=True)\n",
    "sfr.sup_dist.fillna('Unknown',inplace=True)\n",
    "\n",
    "# Taking care to ensure that future data will not have Nans\n",
    "# Currently none"
   ]
  },
  {
   "cell_type": "code",
   "execution_count": 23,
   "metadata": {},
   "outputs": [
    {
     "name": "stdout",
     "output_type": "stream",
     "text": [
      "<class 'pandas.core.frame.DataFrame'>\n",
      "Int64Index: 198900 entries, 559 to 198761\n",
      "Data columns (total 25 columns):\n",
      "perm_typ            198900 non-null int64\n",
      "perm_typ_def        198900 non-null object\n",
      "file_dt             198900 non-null datetime64[ns]\n",
      "issue_dt            183960 non-null datetime64[ns]\n",
      "perm_exp_dt         147020 non-null datetime64[ns]\n",
      "strct_notif         198900 non-null object\n",
      "no_exist_stry       156116 non-null float64\n",
      "no_prop_stry        156032 non-null float64\n",
      "fire_only_permit    198900 non-null object\n",
      "est_cost            160834 non-null float64\n",
      "rev_cost            198900 non-null float64\n",
      "exist_use           198900 non-null object\n",
      "prop_use            198900 non-null object\n",
      "plansets            161591 non-null float64\n",
      "exist_const_type    155534 non-null float64\n",
      "prop_const_type     155738 non-null float64\n",
      "site_permit         198900 non-null object\n",
      "neighborhoods       198900 non-null object\n",
      "sup_dist            198900 non-null object\n",
      "location            198900 non-null object\n",
      "time_taken          183960 non-null float64\n",
      "file_day            198900 non-null object\n",
      "issue_day           183960 non-null object\n",
      "month               198900 non-null int64\n",
      "year                198900 non-null int64\n",
      "dtypes: datetime64[ns](3), float64(8), int64(3), object(11)\n",
      "memory usage: 39.5+ MB\n"
     ]
    }
   ],
   "source": [
    "sfr.info()"
   ]
  },
  {
   "cell_type": "code",
   "execution_count": 24,
   "metadata": {},
   "outputs": [],
   "source": [
    "# Save the clean file\n",
    "sfr.to_csv('../data/building_permit_clean.csv',index=True)"
   ]
  },
  {
   "cell_type": "markdown",
   "metadata": {},
   "source": [
    "### Exploratory Data Analysis/Data Story Telling"
   ]
  },
  {
   "cell_type": "markdown",
   "metadata": {},
   "source": [
    "#### Time Taken Variable"
   ]
  },
  {
   "cell_type": "code",
   "execution_count": 25,
   "metadata": {},
   "outputs": [
    {
     "data": {
      "text/plain": [
       "count    183960.00\n",
       "mean         26.05\n",
       "std          91.06\n",
       "min           0.00\n",
       "25%           0.00\n",
       "50%           0.00\n",
       "75%           6.00\n",
       "max        1740.00\n",
       "Name: time_taken, dtype: float64"
      ]
     },
     "execution_count": 25,
     "metadata": {},
     "output_type": "execute_result"
    }
   ],
   "source": [
    "np.round(sfr.time_taken.describe(),2)"
   ]
  },
  {
   "cell_type": "markdown",
   "metadata": {},
   "source": [
    "+ The average wait time is 26 days\n",
    "+ Standard deviation is too high at 91, and that is due to a very few large wait outliers\n",
    "\n",
    "This variable needs a bit of scrutiny before its relation to other variables be understood. We will see how it varies across the months and years."
   ]
  },
  {
   "cell_type": "code",
   "execution_count": 26,
   "metadata": {},
   "outputs": [
    {
     "name": "stdout",
     "output_type": "stream",
     "text": [
      "Average wait time by year:\n",
      "year\n",
      "2013    26.44\n",
      "2014    31.84\n",
      "2015    33.61\n",
      "2016    28.66\n",
      "2017    12.42\n",
      "2018     2.15\n",
      "Name: time_taken, dtype: float64\n",
      "Total permits processed by year:\n",
      "year\n",
      "2013    33859\n",
      "2014    34925\n",
      "2015    37991\n",
      "2016    36751\n",
      "2017    35919\n",
      "2018     4515\n",
      "Name: time_taken, dtype: int64\n"
     ]
    }
   ],
   "source": [
    "count_appl_month = sfr.groupby(['year','month'])['time_taken'].count()\n",
    "avg_days_month = sfr.groupby(['year','month'])['time_taken'].mean()\n",
    "\n",
    "print('Average wait time by year:')\n",
    "print(np.round(sfr.groupby('year')['time_taken'].mean(),2))\n",
    "\n",
    "print('Total permits processed by year:')\n",
    "print(np.round(sfr.groupby('year')['time_taken'].count(),2))"
   ]
  },
  {
   "cell_type": "code",
   "execution_count": 27,
   "metadata": {
    "ExecuteTime": {
     "start_time": "2018-02-20T00:34:44.056Z"
    }
   },
   "outputs": [
    {
     "data": {
      "text/plain": [
       "Text(0.5,1,'Normalized Permit Count')"
      ]
     },
     "execution_count": 27,
     "metadata": {},
     "output_type": "execute_result"
    },
    {
     "data": {
      "image/png": "[encoded data removed]",
      "text/plain": [
       "<matplotlib.figure.Figure at 0x2a794ed79b0>"
      ]
     },
     "metadata": {},
     "output_type": "display_data"
    },
    {
     "data": {
      "image/png": "[encoded data removed]",
      "text/plain": [
       "<matplotlib.figure.Figure at 0x2a794ecc710>"
      ]
     },
     "metadata": {},
     "output_type": "display_data"
    }
   ],
   "source": [
    "# Bar Plots of the same\n",
    "(avg_days_month.groupby('year').mean()/avg_days_month.groupby('year').mean().max()).plot.bar()\n",
    "plt.title('Normalized Average wait time')\n",
    "plt.figure()\n",
    "(count_appl_month.groupby('year').sum()/count_appl_month.groupby('year').sum().max()).plot.bar()\n",
    "plt.title('Normalized Permit Count')"
   ]
  },
  {
   "cell_type": "markdown",
   "metadata": {},
   "source": [
    "We can drop year 2018 as it has been only 2 months, so this is a different case where delays can at most be 59 days.\n",
    "We will analyze 2017 to get more insight. \n",
    "\n",
    "There is drastic reduction in wait time for the year 2017, although the counts have remained at similar levels across the years. In 2016, there were many posts talking about permit delays causing major problems to builders and contractors. A few measures might have been taken in 2017, to reduce the delays. Tried to find out from the San Francisco city if this is true and what is the reason for improvement in issuing process. However, even if this was the case, there is another issue with the bar charts above. The charts will consider data points that have valid values for time_taken column. Time difference is valid only if the permit was issued at the time of data set download.\n",
    "\n",
    "To validate this, let us, just fill issue date NaNs with today's date and see how the bar chart changes."
   ]
  },
  {
   "cell_type": "code",
   "execution_count": 28,
   "metadata": {},
   "outputs": [],
   "source": [
    "sfr = sfr.loc[sfr['file_dt'] < 'Oct 1, 2017',:] "
   ]
  },
  {
   "cell_type": "code",
   "execution_count": 29,
   "metadata": {},
   "outputs": [],
   "source": [
    "sfr['issue_mod'] = sfr['issue_dt'].fillna(datetime.date.today())\n",
    "sfr['time_taken_filled'] = (sfr['issue_mod'] - sfr['file_dt']).dt.days"
   ]
  },
  {
   "cell_type": "code",
   "execution_count": 30,
   "metadata": {},
   "outputs": [
    {
     "data": {
      "text/plain": [
       "count    182871.00\n",
       "mean         77.59\n",
       "std         245.33\n",
       "min           0.00\n",
       "25%           0.00\n",
       "50%           0.00\n",
       "75%          14.00\n",
       "max        1885.00\n",
       "Name: time_taken_filled, dtype: float64"
      ]
     },
     "execution_count": 30,
     "metadata": {},
     "output_type": "execute_result"
    }
   ],
   "source": [
    "np.round(sfr.time_taken_filled.describe(),2)"
   ]
  },
  {
   "cell_type": "markdown",
   "metadata": {},
   "source": [
    "Compare the mean,standard deviation and max values of this with the earlier one! 26 to 72, 91 to 235 and 1740 to 1882  respectively. But this is again hypothetical assuming all the pending ones are issued today. "
   ]
  },
  {
   "cell_type": "code",
   "execution_count": 31,
   "metadata": {},
   "outputs": [
    {
     "data": {
      "text/html": [
       "<div>\n",
       "<style scoped>\n",
       "    .dataframe tbody tr th:only-of-type {\n",
       "        vertical-align: middle;\n",
       "    }\n",
       "\n",
       "    .dataframe tbody tr th {\n",
       "        vertical-align: top;\n",
       "    }\n",
       "\n",
       "    .dataframe thead th {\n",
       "        text-align: right;\n",
       "    }\n",
       "</style>\n",
       "<table border=\"1\" class=\"dataframe\">\n",
       "  <thead>\n",
       "    <tr style=\"text-align: right;\">\n",
       "      <th></th>\n",
       "      <th>count</th>\n",
       "      <th>mean</th>\n",
       "      <th>std</th>\n",
       "      <th>min</th>\n",
       "      <th>25%</th>\n",
       "      <th>50%</th>\n",
       "      <th>75%</th>\n",
       "      <th>max</th>\n",
       "    </tr>\n",
       "    <tr>\n",
       "      <th>year</th>\n",
       "      <th></th>\n",
       "      <th></th>\n",
       "      <th></th>\n",
       "      <th></th>\n",
       "      <th></th>\n",
       "      <th></th>\n",
       "      <th></th>\n",
       "      <th></th>\n",
       "    </tr>\n",
       "  </thead>\n",
       "  <tbody>\n",
       "    <tr>\n",
       "      <th>2013</th>\n",
       "      <td>33859.0</td>\n",
       "      <td>26.44</td>\n",
       "      <td>104.74</td>\n",
       "      <td>0.0</td>\n",
       "      <td>0.0</td>\n",
       "      <td>0.0</td>\n",
       "      <td>5.0</td>\n",
       "      <td>1740.0</td>\n",
       "    </tr>\n",
       "    <tr>\n",
       "      <th>2014</th>\n",
       "      <td>34925.0</td>\n",
       "      <td>31.84</td>\n",
       "      <td>114.24</td>\n",
       "      <td>0.0</td>\n",
       "      <td>0.0</td>\n",
       "      <td>0.0</td>\n",
       "      <td>7.0</td>\n",
       "      <td>1421.0</td>\n",
       "    </tr>\n",
       "    <tr>\n",
       "      <th>2015</th>\n",
       "      <td>37991.0</td>\n",
       "      <td>33.61</td>\n",
       "      <td>101.30</td>\n",
       "      <td>0.0</td>\n",
       "      <td>0.0</td>\n",
       "      <td>0.0</td>\n",
       "      <td>9.0</td>\n",
       "      <td>1071.0</td>\n",
       "    </tr>\n",
       "    <tr>\n",
       "      <th>2016</th>\n",
       "      <td>36751.0</td>\n",
       "      <td>28.66</td>\n",
       "      <td>81.93</td>\n",
       "      <td>0.0</td>\n",
       "      <td>0.0</td>\n",
       "      <td>0.0</td>\n",
       "      <td>9.0</td>\n",
       "      <td>750.0</td>\n",
       "    </tr>\n",
       "    <tr>\n",
       "      <th>2017</th>\n",
       "      <td>27306.0</td>\n",
       "      <td>14.25</td>\n",
       "      <td>40.91</td>\n",
       "      <td>0.0</td>\n",
       "      <td>0.0</td>\n",
       "      <td>0.0</td>\n",
       "      <td>5.0</td>\n",
       "      <td>404.0</td>\n",
       "    </tr>\n",
       "  </tbody>\n",
       "</table>\n",
       "</div>"
      ],
      "text/plain": [
       "        count   mean     std  min  25%  50%  75%     max\n",
       "year                                                    \n",
       "2013  33859.0  26.44  104.74  0.0  0.0  0.0  5.0  1740.0\n",
       "2014  34925.0  31.84  114.24  0.0  0.0  0.0  7.0  1421.0\n",
       "2015  37991.0  33.61  101.30  0.0  0.0  0.0  9.0  1071.0\n",
       "2016  36751.0  28.66   81.93  0.0  0.0  0.0  9.0   750.0\n",
       "2017  27306.0  14.25   40.91  0.0  0.0  0.0  5.0   404.0"
      ]
     },
     "execution_count": 31,
     "metadata": {},
     "output_type": "execute_result"
    }
   ],
   "source": [
    "np.round(sfr.groupby('year').time_taken.describe(),2)"
   ]
  },
  {
   "cell_type": "markdown",
   "metadata": {},
   "source": [
    "**Note:** These numbers do not look good in box plots because of median being at 0 and even 3rd quantile being at very small value"
   ]
  },
  {
   "cell_type": "code",
   "execution_count": 32,
   "metadata": {},
   "outputs": [
    {
     "data": {
      "text/html": [
       "<div>\n",
       "<style scoped>\n",
       "    .dataframe tbody tr th:only-of-type {\n",
       "        vertical-align: middle;\n",
       "    }\n",
       "\n",
       "    .dataframe tbody tr th {\n",
       "        vertical-align: top;\n",
       "    }\n",
       "\n",
       "    .dataframe thead th {\n",
       "        text-align: right;\n",
       "    }\n",
       "</style>\n",
       "<table border=\"1\" class=\"dataframe\">\n",
       "  <thead>\n",
       "    <tr style=\"text-align: right;\">\n",
       "      <th></th>\n",
       "      <th>count</th>\n",
       "      <th>mean</th>\n",
       "      <th>std</th>\n",
       "      <th>min</th>\n",
       "      <th>25%</th>\n",
       "      <th>50%</th>\n",
       "      <th>75%</th>\n",
       "      <th>max</th>\n",
       "    </tr>\n",
       "    <tr>\n",
       "      <th>year</th>\n",
       "      <th></th>\n",
       "      <th></th>\n",
       "      <th></th>\n",
       "      <th></th>\n",
       "      <th></th>\n",
       "      <th></th>\n",
       "      <th></th>\n",
       "      <th></th>\n",
       "    </tr>\n",
       "  </thead>\n",
       "  <tbody>\n",
       "    <tr>\n",
       "      <th>2013</th>\n",
       "      <td>35227.0</td>\n",
       "      <td>91.277145</td>\n",
       "      <td>339.162694</td>\n",
       "      <td>0.0</td>\n",
       "      <td>0.0</td>\n",
       "      <td>0.0</td>\n",
       "      <td>7.0</td>\n",
       "      <td>1885.0</td>\n",
       "    </tr>\n",
       "    <tr>\n",
       "      <th>2014</th>\n",
       "      <td>36691.0</td>\n",
       "      <td>94.146739</td>\n",
       "      <td>299.437496</td>\n",
       "      <td>0.0</td>\n",
       "      <td>0.0</td>\n",
       "      <td>0.0</td>\n",
       "      <td>11.0</td>\n",
       "      <td>1520.0</td>\n",
       "    </tr>\n",
       "    <tr>\n",
       "      <th>2015</th>\n",
       "      <td>40138.0</td>\n",
       "      <td>83.530794</td>\n",
       "      <td>233.164678</td>\n",
       "      <td>0.0</td>\n",
       "      <td>0.0</td>\n",
       "      <td>0.0</td>\n",
       "      <td>16.0</td>\n",
       "      <td>1155.0</td>\n",
       "    </tr>\n",
       "    <tr>\n",
       "      <th>2016</th>\n",
       "      <td>39740.0</td>\n",
       "      <td>71.369074</td>\n",
       "      <td>171.848732</td>\n",
       "      <td>0.0</td>\n",
       "      <td>0.0</td>\n",
       "      <td>0.0</td>\n",
       "      <td>21.0</td>\n",
       "      <td>788.0</td>\n",
       "    </tr>\n",
       "    <tr>\n",
       "      <th>2017</th>\n",
       "      <td>31075.0</td>\n",
       "      <td>42.780595</td>\n",
       "      <td>89.979584</td>\n",
       "      <td>0.0</td>\n",
       "      <td>0.0</td>\n",
       "      <td>0.0</td>\n",
       "      <td>21.0</td>\n",
       "      <td>423.0</td>\n",
       "    </tr>\n",
       "  </tbody>\n",
       "</table>\n",
       "</div>"
      ],
      "text/plain": [
       "        count       mean         std  min  25%  50%   75%     max\n",
       "year                                                             \n",
       "2013  35227.0  91.277145  339.162694  0.0  0.0  0.0   7.0  1885.0\n",
       "2014  36691.0  94.146739  299.437496  0.0  0.0  0.0  11.0  1520.0\n",
       "2015  40138.0  83.530794  233.164678  0.0  0.0  0.0  16.0  1155.0\n",
       "2016  39740.0  71.369074  171.848732  0.0  0.0  0.0  21.0   788.0\n",
       "2017  31075.0  42.780595   89.979584  0.0  0.0  0.0  21.0   423.0"
      ]
     },
     "execution_count": 32,
     "metadata": {},
     "output_type": "execute_result"
    }
   ],
   "source": [
    "sfr.groupby('year').time_taken_filled.describe()"
   ]
  },
  {
   "cell_type": "markdown",
   "metadata": {},
   "source": [
    "**Observations:**\n",
    "The above two tables clearly show the difference in descriptive statistics with and without putting a hypothetical issue date to blank cells.\n",
    "\n",
    "+ Just note how the count itself has increased by a few thousands in each year. In 2017, the difference is highest at 5000+, for obvious reason - it has not been long enough since the permits were filed.\n",
    "+ Mean wait time and Standard deviation has blown up too.\n",
    "+ But the number of permits with longer wait times are not big enough to shift the median. Surely, still at least 50% of them get processed on the same day, in every year.\n",
    "+ The max column in the second table is hypothetical assuming pending ones were issued today."
   ]
  },
  {
   "cell_type": "code",
   "execution_count": 33,
   "metadata": {},
   "outputs": [],
   "source": [
    "def divide_time_taken(sfr) :\n",
    "    perc_issued_table = np.empty((5,2),dtype=float)\n",
    "    perc_issued_table[0,0] = round(100*(sfr.time_taken == 0).sum()/sfr.time_taken.count(),2) # Count counts only non nulls\n",
    "    perc_issued_table[0,1] = round(100*(sfr.time_taken_filled == 0).sum()/sfr.time_taken_filled.count(),2)\n",
    "    perc_issued_table[1,0] = round(100*(sfr.time_taken < 15).sum()/sfr.time_taken.count(),2) # Count counts only non nulls\n",
    "    perc_issued_table[1,1] = round(100*(sfr.time_taken_filled < 15).sum()/sfr.time_taken_filled.count(),2) \n",
    "    perc_issued_table[2,0] = round(100*(sfr.time_taken < 91).sum()/sfr.time_taken.count(),2) # Count counts only non nulls\n",
    "    perc_issued_table[2,1] = round(100*(sfr.time_taken_filled < 91).sum()/sfr.time_taken_filled.count(),2)\n",
    "    perc_issued_table[3,0] = round(100*(sfr.time_taken < 182).sum()/sfr.time_taken.count(),2) # Count counts only non nulls\n",
    "    perc_issued_table[3,1] = round(100*(sfr.time_taken_filled < 182).sum()/sfr.time_taken_filled.count(),2)\n",
    "    perc_issued_table[4,0] = round(100*(sfr.time_taken < 366).sum()/sfr.time_taken.count(),2) # Count counts only non nulls\n",
    "    perc_issued_table[4,1] = round(100*(sfr.time_taken_filled < 366).sum()/sfr.time_taken_filled.count(),2) # Count counts only non nulls\n",
    "    return perc_issued_table"
   ]
  },
  {
   "cell_type": "code",
   "execution_count": 34,
   "metadata": {},
   "outputs": [
    {
     "name": "stdout",
     "output_type": "stream",
     "text": [
      "Percentage of permits issued table, both without and with filling the issue date (Years 2013-2017)\n",
      "Number of records: 170832 for first column and 182871 for second column\n"
     ]
    },
    {
     "data": {
      "text/html": [
       "<div>\n",
       "<style scoped>\n",
       "    .dataframe tbody tr th:only-of-type {\n",
       "        vertical-align: middle;\n",
       "    }\n",
       "\n",
       "    .dataframe tbody tr th {\n",
       "        vertical-align: top;\n",
       "    }\n",
       "\n",
       "    .dataframe thead th {\n",
       "        text-align: right;\n",
       "    }\n",
       "</style>\n",
       "<table border=\"1\" class=\"dataframe\">\n",
       "  <thead>\n",
       "    <tr style=\"text-align: right;\">\n",
       "      <th></th>\n",
       "      <th>Percentage with dropping</th>\n",
       "      <th>Percentage with hypothetical issue date</th>\n",
       "    </tr>\n",
       "  </thead>\n",
       "  <tbody>\n",
       "    <tr>\n",
       "      <th>same day</th>\n",
       "      <td>62.21</td>\n",
       "      <td>58.11</td>\n",
       "    </tr>\n",
       "    <tr>\n",
       "      <th>less than 15 days</th>\n",
       "      <td>80.74</td>\n",
       "      <td>75.43</td>\n",
       "    </tr>\n",
       "    <tr>\n",
       "      <th>less than 3 months</th>\n",
       "      <td>91.97</td>\n",
       "      <td>85.92</td>\n",
       "    </tr>\n",
       "    <tr>\n",
       "      <th>less than 6 months</th>\n",
       "      <td>95.19</td>\n",
       "      <td>89.51</td>\n",
       "    </tr>\n",
       "    <tr>\n",
       "      <th>less than a year</th>\n",
       "      <td>98.26</td>\n",
       "      <td>93.62</td>\n",
       "    </tr>\n",
       "  </tbody>\n",
       "</table>\n",
       "</div>"
      ],
      "text/plain": [
       "                    Percentage with dropping  \\\n",
       "same day                               62.21   \n",
       "less than 15 days                      80.74   \n",
       "less than 3 months                     91.97   \n",
       "less than 6 months                     95.19   \n",
       "less than a year                       98.26   \n",
       "\n",
       "                    Percentage with hypothetical issue date  \n",
       "same day                                              58.11  \n",
       "less than 15 days                                     75.43  \n",
       "less than 3 months                                    85.92  \n",
       "less than 6 months                                    89.51  \n",
       "less than a year                                      93.62  "
      ]
     },
     "execution_count": 34,
     "metadata": {},
     "output_type": "execute_result"
    }
   ],
   "source": [
    "issue_stats = divide_time_taken(sfr)\n",
    "print('Percentage of permits issued table, both without and with filling the issue date (Years 2013-2017)')\n",
    "print('Number of records: {} for first column and {} for second column'.format(sfr.time_taken.count(),sfr.shape[0]))\n",
    "pd.DataFrame(issue_stats,columns=['Percentage with dropping','Percentage with hypothetical issue date'],index=['same day','less than 15 days','less than 3 months','less than 6 months','less than a year'])"
   ]
  },
  {
   "cell_type": "code",
   "execution_count": 35,
   "metadata": {},
   "outputs": [
    {
     "name": "stdout",
     "output_type": "stream",
     "text": [
      "Percentage of permits issued table, both without and with filling the issue date (Years 2013-Q3,2016)\n",
      "Note that Q4, 2017 is dropped\n",
      "Number of records: 170832 for first column and 182871 for second column\n"
     ]
    },
    {
     "data": {
      "text/html": [
       "<div>\n",
       "<style scoped>\n",
       "    .dataframe tbody tr th:only-of-type {\n",
       "        vertical-align: middle;\n",
       "    }\n",
       "\n",
       "    .dataframe tbody tr th {\n",
       "        vertical-align: top;\n",
       "    }\n",
       "\n",
       "    .dataframe thead th {\n",
       "        text-align: right;\n",
       "    }\n",
       "</style>\n",
       "<table border=\"1\" class=\"dataframe\">\n",
       "  <thead>\n",
       "    <tr style=\"text-align: right;\">\n",
       "      <th></th>\n",
       "      <th>Percentage with dropping</th>\n",
       "      <th>Percentage with hypothetical issue date</th>\n",
       "    </tr>\n",
       "  </thead>\n",
       "  <tbody>\n",
       "    <tr>\n",
       "      <th>same day</th>\n",
       "      <td>62.21</td>\n",
       "      <td>58.11</td>\n",
       "    </tr>\n",
       "    <tr>\n",
       "      <th>less than 15 days</th>\n",
       "      <td>80.74</td>\n",
       "      <td>75.43</td>\n",
       "    </tr>\n",
       "    <tr>\n",
       "      <th>less than 3 months</th>\n",
       "      <td>91.97</td>\n",
       "      <td>85.92</td>\n",
       "    </tr>\n",
       "    <tr>\n",
       "      <th>less than 6 months</th>\n",
       "      <td>95.19</td>\n",
       "      <td>89.51</td>\n",
       "    </tr>\n",
       "    <tr>\n",
       "      <th>less than a year</th>\n",
       "      <td>98.26</td>\n",
       "      <td>93.62</td>\n",
       "    </tr>\n",
       "  </tbody>\n",
       "</table>\n",
       "</div>"
      ],
      "text/plain": [
       "                    Percentage with dropping  \\\n",
       "same day                               62.21   \n",
       "less than 15 days                      80.74   \n",
       "less than 3 months                     91.97   \n",
       "less than 6 months                     95.19   \n",
       "less than a year                       98.26   \n",
       "\n",
       "                    Percentage with hypothetical issue date  \n",
       "same day                                              58.11  \n",
       "less than 15 days                                     75.43  \n",
       "less than 3 months                                    85.92  \n",
       "less than 6 months                                    89.51  \n",
       "less than a year                                      93.62  "
      ]
     },
     "execution_count": 35,
     "metadata": {},
     "output_type": "execute_result"
    }
   ],
   "source": [
    "print('Percentage of permits issued table, both without and with filling the issue date (Years 2013-Q3,2016)')\n",
    "print('Note that Q4, 2017 is dropped')\n",
    "print('Number of records: {} for first column and {} for second column'.format(sfr[sfr['file_dt'] < 'Oct 1, 2017'].time_taken.count(),sfr[sfr['file_dt'] < 'Oct 1, 2017'].shape[0]))\n",
    "pd.DataFrame(divide_time_taken(sfr[sfr['file_dt'] < 'Oct 1, 2017']),columns=['Percentage with dropping','Percentage with hypothetical issue date'],index=['same day','less than 15 days','less than 3 months','less than 6 months','less than a year'])"
   ]
  },
  {
   "cell_type": "markdown",
   "metadata": {},
   "source": [
    "**Comments:** If we drop the last quarter of the year 2017 and add hypothetical issue date of today to retain all the remaining  records, rather than dropping those which are not issued, we get more perssimistic numbers for the percentage of permits issued in every interval. This is actually good for planning the construction. We will make two calls at this stage:\n",
    "+ Drop records for last quarter of the year 2017\n",
    "+ Retain all records and fill the NaT in issue dates with today's date.      \n",
    "\n",
    "Dropping of Q4, 2017 makes sure that the permits which are not issued yet have wait times of at least 5 months, that is they fall into more than 3 months category. \n",
    "\n",
    "In this problem, if permit is not obtained within 3 months, it is unlikely that any business would want to know the likelihood of it coming within next 9 months or 3 months or beyond a year. Instead, if it matters to them, they would follow up. Hence, we would make 3 meaningful classes in time taken target variable, i.e. less than a week, less than 3 months and more than 3 months."
   ]
  },
  {
   "cell_type": "code",
   "execution_count": 36,
   "metadata": {},
   "outputs": [],
   "source": [
    "sfr = sfr.loc[sfr['file_dt'] < 'Oct 1, 2017',:] "
   ]
  },
  {
   "cell_type": "code",
   "execution_count": 37,
   "metadata": {},
   "outputs": [],
   "source": [
    "# Executing the above decisions:\n",
    "# Henceforth time_taken is replaced with time_taken_filled \n",
    "#sfr = sfr.loc[sfr.year<2017,:]\n",
    "\n",
    "sfr.loc[:,'time_taken'] = sfr.loc[:,'time_taken_filled']\n",
    "sfr.drop('time_taken_filled',axis=1,inplace=True)"
   ]
  },
  {
   "cell_type": "code",
   "execution_count": 38,
   "metadata": {},
   "outputs": [
    {
     "name": "stdout",
     "output_type": "stream",
     "text": [
      "Wall time: 3min 27s\n"
     ]
    },
    {
     "data": {
      "image/png": "[encoded data removed]",
      "text/plain": [
       "<matplotlib.figure.Figure at 0x2a79013ab70>"
      ]
     },
     "metadata": {},
     "output_type": "display_data"
    }
   ],
   "source": [
    "%%time\n",
    "# The cumulative distribution of the time taken variable: This enables us to see the probability distribution\n",
    "_ = sns.distplot(sfr['time_taken'],hist_kws=dict(cumulative=True), kde_kws=dict(cumulative=True))\n",
    "_ = plt.title('Cumulative Distribution Plot of time taken')"
   ]
  },
  {
   "cell_type": "code",
   "execution_count": 39,
   "metadata": {},
   "outputs": [
    {
     "name": "stdout",
     "output_type": "stream",
     "text": [
      "Number of months for which each week day is least crowded:\n",
      " {'Monday': 31, 'Tuesday': 1, 'Wednesday': 13, 'Thursday': 6, 'Friday': 6}\n",
      "Number of months for which each week day is most crowded:\n",
      " {'Monday': 7, 'Tuesday': 15, 'Wednesday': 9, 'Thursday': 14, 'Friday': 12}\n"
     ]
    }
   ],
   "source": [
    "weekday_cnt =  dict({'Monday':0,'Tuesday':0,'Wednesday':0,'Thursday':0,'Friday':0})\n",
    "weekday_cnt_max =  dict({'Monday':0,'Tuesday':0,'Wednesday':0,'Thursday':0,'Friday':0})\n",
    "for k,d in sfr.groupby(['year','month']) : \n",
    "    weekday_cnt_max[d.groupby('file_day')['time_taken'].count().idxmax()] = weekday_cnt_max[d.groupby('file_day')['time_taken'].count().idxmax()] + 1\n",
    "    weekday_cnt[d.groupby('file_day')['time_taken'].count().idxmin()] = weekday_cnt[d.groupby('file_day')['time_taken'].count().idxmin()] + 1\n",
    "    #print(d.groupby('file_day')['time_taken'].count().idxmin(),d.groupby('file_day')['time_taken'].count().min())\n",
    "    #print(d.groupby('file_day')['time_taken'].count().idxmax(),d.groupby('file_day')['time_taken'].count().max())\n",
    "print(\"Number of months for which each week day is least crowded:\\n\",weekday_cnt)\n",
    "print(\"Number of months for which each week day is most crowded:\\n\",weekday_cnt_max)"
   ]
  },
  {
   "cell_type": "markdown",
   "metadata": {},
   "source": [
    "Clear winner is Monday, among least crowded weekdays, contrary to the belief of Wednesday. We will validate this observation with statistical tests later.\n",
    "\n",
    "There is no such clear majority for most crowded. We could still conduct a 2 sample t-test by grouping Monday and Wednesday into one group and Tuesday, Thursday, Friday into another group."
   ]
  },
  {
   "cell_type": "code",
   "execution_count": 40,
   "metadata": {},
   "outputs": [
    {
     "data": {
      "text/plain": [
       "file_day\n",
       "Friday       0.5697\n",
       "Monday       0.6132\n",
       "Thursday     0.5718\n",
       "Tuesday      0.5871\n",
       "Wednesday    0.5671\n",
       "Name: time_taken, dtype: float64"
      ]
     },
     "execution_count": 40,
     "metadata": {},
     "output_type": "execute_result"
    },
    {
     "data": {
      "image/png": "[encoded data removed]",
      "text/plain": [
       "<matplotlib.figure.Figure at 0x2a7b0433470>"
      ]
     },
     "metadata": {},
     "output_type": "display_data"
    }
   ],
   "source": [
    "# Examinining if certain weekdays are efficient at processing wrt the permits they receive on that day.\n",
    "_ = plt.figure(figsize=(16,5))\n",
    "_ = plt.subplot(1,2,1)\n",
    "(sfr.loc[sfr['time_taken']==0,:].groupby('file_day')['time_taken'].count()/sfr.groupby('file_day')['time_taken'].count()).plot.bar()\n",
    "_ = plt.title('Fraction of permits issued on the same day across different weekdays')\n",
    "_ = plt.subplot(1,2,2)\n",
    "sfr.groupby('file_day')['time_taken'].count().plot.bar()\n",
    "_ = plt.title('Number of permits filed on different weekdays')\n",
    "np.round(sfr.loc[sfr['time_taken']==0,:].groupby('file_day')['time_taken'].count()/sfr.groupby('file_day')['time_taken'].count(),4)"
   ]
  },
  {
   "cell_type": "markdown",
   "metadata": {},
   "source": [
    "**Observations:**\n",
    "+ Mondays are most efficient.\n",
    "+ Next place is Tuesday, although Thursday and Friday closely follow.\n",
    "+ Wednesday is worst in issuing on the same day.\n",
    "+ Interestingly, Mondays receive least number of applications, and Wednesday's receive next least number of applications, yet they are not efficient.\n",
    "+ Tuesdays are most crowded as per the previous analysis and also in the second plot above. However, Tuesday's come second in issuing permits on the same day.\n",
    "\n",
    "These differences will have to be statistically validated."
   ]
  },
  {
   "cell_type": "code",
   "execution_count": 41,
   "metadata": {},
   "outputs": [],
   "source": [
    "def conv_quarter(v) :\n",
    "    if v < 4 :\n",
    "        q = 1\n",
    "    elif v < 7:\n",
    "        q = 2\n",
    "    elif v < 10:\n",
    "        q = 3\n",
    "    else :\n",
    "        q = 4\n",
    "    return q"
   ]
  },
  {
   "cell_type": "code",
   "execution_count": 42,
   "metadata": {},
   "outputs": [],
   "source": [
    "sfr = sfr.assign(quarter=sfr.month.apply(conv_quarter))"
   ]
  },
  {
   "cell_type": "code",
   "execution_count": 43,
   "metadata": {},
   "outputs": [
    {
     "data": {
      "image/png": "[encoded data removed]",
      "text/plain": [
       "<matplotlib.figure.Figure at 0x2a79c845208>"
      ]
     },
     "metadata": {},
     "output_type": "display_data"
    }
   ],
   "source": [
    "_ = sfr.groupby(['year','quarter']).time_taken.mean().plot.bar()\n",
    "_ = plt.title('Variation of Avg wait time by quarter')"
   ]
  },
  {
   "cell_type": "markdown",
   "metadata": {},
   "source": [
    "There is no visible pattern w.r.t quarters over years."
   ]
  },
  {
   "cell_type": "markdown",
   "metadata": {},
   "source": [
    "#### Revised Cost Vs Time Taken"
   ]
  },
  {
   "cell_type": "code",
   "execution_count": 44,
   "metadata": {},
   "outputs": [
    {
     "data": {
      "image/png": "[encoded data removed]",
      "text/plain": [
       "<matplotlib.figure.Figure at 0x2a795c2e588>"
      ]
     },
     "metadata": {},
     "output_type": "display_data"
    }
   ],
   "source": [
    "_ = sns.jointplot('rev_cost','time_taken',sfr)\n",
    "_ = plt.title('Time Taken Vs Revised cost')"
   ]
  },
  {
   "cell_type": "markdown",
   "metadata": {},
   "source": [
    "There is no apparent correlation between revised cost and time taken. Convert to Logarithm and see. Care is taken to see that log (0) does not happen"
   ]
  },
  {
   "cell_type": "code",
   "execution_count": 45,
   "metadata": {},
   "outputs": [
    {
     "name": "stdout",
     "output_type": "stream",
     "text": [
      "Percentage of zeros in Revised Cost: 6.45\n"
     ]
    },
    {
     "data": {
      "image/png": "[encoded data removed]",
      "text/plain": [
       "<matplotlib.figure.Figure at 0x2a79c845b70>"
      ]
     },
     "metadata": {},
     "output_type": "display_data"
    }
   ],
   "source": [
    "# Convert to Logarithm\n",
    "#sfr['log_est_cost'] = np.log(sfr['est_cost']+0.00000001)  # Keep it small enough to separate from the actial data\n",
    "print('Percentage of zeros in Revised Cost:',round(100*(sfr['rev_cost']==0).sum()/(sfr['rev_cost']==0).count(),2))\n",
    "sfr['log_rev_cost'] = np.log(sfr['rev_cost']+0.0000000001)\n",
    "_ = sns.jointplot('log_rev_cost','time_taken',sfr)\n",
    "_ = plt.title('Time Taken Vs Logarithm of the revised cost')"
   ]
  },
  {
   "cell_type": "markdown",
   "metadata": {},
   "source": [
    "This graph reveals a few points:\n",
    "\n",
    "+ The pearson correlation is negative. Looking at the scatterplot, it does not make practical sense.\n",
    "+ The bin with close to zero values for revised cost have maximum count in the histogram of log_rev_cost. The bin with negative center value is corresponding to the NaNs in revised cost. To prevent error, they were substituted with very small values. \n",
    "+ One observation is, if zeros were substituted with 0.1, the correlation was -0.18, and if they were substituded with 0.000000001, it is -0.45. There are only 5.39% zeros, however 3% of these were NaN's replaced with zeros in data wrangling step. \n",
    "+ **The above observation certainly means that absence of entry in cost column delays the issuance time**. "
   ]
  },
  {
   "cell_type": "code",
   "execution_count": 46,
   "metadata": {},
   "outputs": [
    {
     "data": {
      "image/png": "[encoded data removed]",
      "text/plain": [
       "<matplotlib.figure.Figure at 0x2a795c8cac8>"
      ]
     },
     "metadata": {},
     "output_type": "display_data"
    }
   ],
   "source": [
    "# Clearer view of Logarithm of revised cost\n",
    "_ = plt.hist(sfr['log_rev_cost'],bins=50)\n",
    "_ = plt.xlabel('Log(Revised Cost($))')\n",
    "_ = plt.title('Histogram of Logarithm of revised cost')"
   ]
  },
  {
   "cell_type": "markdown",
   "metadata": {},
   "source": [
    "The Logarithm of Revised cost is nearly normal. "
   ]
  },
  {
   "cell_type": "markdown",
   "metadata": {},
   "source": [
    "#### Time Taken w.r.t Permit Type"
   ]
  },
  {
   "cell_type": "code",
   "execution_count": 47,
   "metadata": {},
   "outputs": [
    {
     "data": {
      "text/html": [
       "<div>\n",
       "<style scoped>\n",
       "    .dataframe tbody tr th:only-of-type {\n",
       "        vertical-align: middle;\n",
       "    }\n",
       "\n",
       "    .dataframe tbody tr th {\n",
       "        vertical-align: top;\n",
       "    }\n",
       "\n",
       "    .dataframe thead th {\n",
       "        text-align: right;\n",
       "    }\n",
       "</style>\n",
       "<table border=\"1\" class=\"dataframe\">\n",
       "  <thead>\n",
       "    <tr style=\"text-align: right;\">\n",
       "      <th></th>\n",
       "      <th>count</th>\n",
       "      <th>mean</th>\n",
       "      <th>std</th>\n",
       "      <th>min</th>\n",
       "      <th>25%</th>\n",
       "      <th>50%</th>\n",
       "      <th>75%</th>\n",
       "      <th>max</th>\n",
       "    </tr>\n",
       "    <tr>\n",
       "      <th>perm_typ_def</th>\n",
       "      <th></th>\n",
       "      <th></th>\n",
       "      <th></th>\n",
       "      <th></th>\n",
       "      <th></th>\n",
       "      <th></th>\n",
       "      <th></th>\n",
       "      <th></th>\n",
       "    </tr>\n",
       "  </thead>\n",
       "  <tbody>\n",
       "    <tr>\n",
       "      <th>new construction</th>\n",
       "      <td>313.0</td>\n",
       "      <td>595.166134</td>\n",
       "      <td>365.478196</td>\n",
       "      <td>60.0</td>\n",
       "      <td>337.00</td>\n",
       "      <td>465.0</td>\n",
       "      <td>810.00</td>\n",
       "      <td>1750.0</td>\n",
       "    </tr>\n",
       "    <tr>\n",
       "      <th>new construction wood frame</th>\n",
       "      <td>909.0</td>\n",
       "      <td>538.476348</td>\n",
       "      <td>404.502744</td>\n",
       "      <td>2.0</td>\n",
       "      <td>225.00</td>\n",
       "      <td>428.0</td>\n",
       "      <td>788.00</td>\n",
       "      <td>1842.0</td>\n",
       "    </tr>\n",
       "    <tr>\n",
       "      <th>demolitions</th>\n",
       "      <td>542.0</td>\n",
       "      <td>505.630996</td>\n",
       "      <td>424.885202</td>\n",
       "      <td>0.0</td>\n",
       "      <td>166.00</td>\n",
       "      <td>387.0</td>\n",
       "      <td>799.50</td>\n",
       "      <td>1829.0</td>\n",
       "    </tr>\n",
       "    <tr>\n",
       "      <th>additions alterations or repairs</th>\n",
       "      <td>13507.0</td>\n",
       "      <td>393.617384</td>\n",
       "      <td>381.335969</td>\n",
       "      <td>0.0</td>\n",
       "      <td>147.00</td>\n",
       "      <td>261.0</td>\n",
       "      <td>506.00</td>\n",
       "      <td>1885.0</td>\n",
       "    </tr>\n",
       "    <tr>\n",
       "      <th>wall or painted sign</th>\n",
       "      <td>462.0</td>\n",
       "      <td>306.487013</td>\n",
       "      <td>483.987992</td>\n",
       "      <td>0.0</td>\n",
       "      <td>3.00</td>\n",
       "      <td>43.0</td>\n",
       "      <td>356.75</td>\n",
       "      <td>1864.0</td>\n",
       "    </tr>\n",
       "    <tr>\n",
       "      <th>grade or quarry or fill or excavate</th>\n",
       "      <td>88.0</td>\n",
       "      <td>204.352273</td>\n",
       "      <td>388.417924</td>\n",
       "      <td>0.0</td>\n",
       "      <td>44.75</td>\n",
       "      <td>81.0</td>\n",
       "      <td>156.25</td>\n",
       "      <td>1808.0</td>\n",
       "    </tr>\n",
       "    <tr>\n",
       "      <th>sign - erect</th>\n",
       "      <td>2703.0</td>\n",
       "      <td>200.916389</td>\n",
       "      <td>404.300079</td>\n",
       "      <td>0.0</td>\n",
       "      <td>2.00</td>\n",
       "      <td>19.0</td>\n",
       "      <td>158.00</td>\n",
       "      <td>1883.0</td>\n",
       "    </tr>\n",
       "    <tr>\n",
       "      <th>otc alterations permit</th>\n",
       "      <td>164347.0</td>\n",
       "      <td>43.925779</td>\n",
       "      <td>194.440119</td>\n",
       "      <td>0.0</td>\n",
       "      <td>0.00</td>\n",
       "      <td>0.0</td>\n",
       "      <td>5.00</td>\n",
       "      <td>1885.0</td>\n",
       "    </tr>\n",
       "  </tbody>\n",
       "</table>\n",
       "</div>"
      ],
      "text/plain": [
       "                                        count        mean         std   min  \\\n",
       "perm_typ_def                                                                  \n",
       "new construction                        313.0  595.166134  365.478196  60.0   \n",
       "new construction wood frame             909.0  538.476348  404.502744   2.0   \n",
       "demolitions                             542.0  505.630996  424.885202   0.0   \n",
       "additions alterations or repairs      13507.0  393.617384  381.335969   0.0   \n",
       "wall or painted sign                    462.0  306.487013  483.987992   0.0   \n",
       "grade or quarry or fill or excavate      88.0  204.352273  388.417924   0.0   \n",
       "sign - erect                           2703.0  200.916389  404.300079   0.0   \n",
       "otc alterations permit               164347.0   43.925779  194.440119   0.0   \n",
       "\n",
       "                                        25%    50%     75%     max  \n",
       "perm_typ_def                                                        \n",
       "new construction                     337.00  465.0  810.00  1750.0  \n",
       "new construction wood frame          225.00  428.0  788.00  1842.0  \n",
       "demolitions                          166.00  387.0  799.50  1829.0  \n",
       "additions alterations or repairs     147.00  261.0  506.00  1885.0  \n",
       "wall or painted sign                   3.00   43.0  356.75  1864.0  \n",
       "grade or quarry or fill or excavate   44.75   81.0  156.25  1808.0  \n",
       "sign - erect                           2.00   19.0  158.00  1883.0  \n",
       "otc alterations permit                 0.00    0.0    5.00  1885.0  "
      ]
     },
     "execution_count": 47,
     "metadata": {},
     "output_type": "execute_result"
    }
   ],
   "source": [
    "sfr.groupby('perm_typ_def')['time_taken'].describe().sort_values('mean',ascending=False)"
   ]
  },
  {
   "cell_type": "markdown",
   "metadata": {},
   "source": [
    "**Observations:**\n",
    "1) As expected, New construction permits take longer time to get issued. But their representation in the data set is very low. New construction minimum itself is 60 days, this might be as per rules for a new construction.     \n",
    "2) Only one category of the permits, that is otc alteration permit has at least 50% of the applications issued on the same day.   \n",
    "3) OTC alterations permit category is huge with 89.66% of the records. Next big category is again additions alterations or repairs. But this second category does not get issued as fast. OTC alterations permit, as the name suggests, is \"Over the Counter\" permit. Ideally all of them have to be issued immediately.    "
   ]
  },
  {
   "cell_type": "markdown",
   "metadata": {},
   "source": [
    "#### Plot of the Median Cost and Time Taken of a Building By Permit Type"
   ]
  },
  {
   "cell_type": "code",
   "execution_count": 48,
   "metadata": {},
   "outputs": [
    {
     "data": {
      "image/png": "[encoded data removed]",
      "text/plain": [
       "<matplotlib.figure.Figure at 0x2a79cdd8e80>"
      ]
     },
     "metadata": {},
     "output_type": "display_data"
    },
    {
     "data": {
      "image/png": "[encoded data removed]",
      "text/plain": [
       "<matplotlib.figure.Figure at 0x2a79cdd8278>"
      ]
     },
     "metadata": {},
     "output_type": "display_data"
    }
   ],
   "source": [
    "_ = sfr.groupby('perm_typ_def')['log_rev_cost'].median().plot.bar()\n",
    "_ = plt.title('Logarithm of Building Revised Cost as in Application')\n",
    "_ = plt.ylabel('Log (Revised Cost)')\n",
    "_ = plt.figure()\n",
    "_ = sfr.groupby('perm_typ_def')['time_taken'].median().plot.bar()\n",
    "_ = plt.title('Average wait time by Permit type')\n",
    "_ = plt.ylabel('Time taken in days')"
   ]
  },
  {
   "cell_type": "markdown",
   "metadata": {},
   "source": [
    "The new construction is high cost, but it takes highest average time. Its representation is low in the dataset, so it may not have much impact on the overal correlation properties between revised cost and time taken columns.\n",
    "For others it is hard to conclude anything from these visualizations. **This kind of justifies the use of statistical models to understand the relations and make predictions for future applications.**"
   ]
  },
  {
   "cell_type": "markdown",
   "metadata": {},
   "source": [
    "The Special cases Revised Cost = 0 and Revised Cost being too small, something like < 20$ need special analysis, to see the characteristics of average time taken."
   ]
  },
  {
   "cell_type": "code",
   "execution_count": 49,
   "metadata": {},
   "outputs": [
    {
     "data": {
      "text/html": [
       "<div>\n",
       "<style scoped>\n",
       "    .dataframe tbody tr th:only-of-type {\n",
       "        vertical-align: middle;\n",
       "    }\n",
       "\n",
       "    .dataframe tbody tr th {\n",
       "        vertical-align: top;\n",
       "    }\n",
       "\n",
       "    .dataframe thead th {\n",
       "        text-align: right;\n",
       "    }\n",
       "</style>\n",
       "<table border=\"1\" class=\"dataframe\">\n",
       "  <thead>\n",
       "    <tr style=\"text-align: right;\">\n",
       "      <th></th>\n",
       "      <th>count</th>\n",
       "      <th>mean</th>\n",
       "      <th>std</th>\n",
       "      <th>min</th>\n",
       "      <th>25%</th>\n",
       "      <th>50%</th>\n",
       "      <th>75%</th>\n",
       "      <th>max</th>\n",
       "    </tr>\n",
       "    <tr>\n",
       "      <th>perm_typ_def</th>\n",
       "      <th></th>\n",
       "      <th></th>\n",
       "      <th></th>\n",
       "      <th></th>\n",
       "      <th></th>\n",
       "      <th></th>\n",
       "      <th></th>\n",
       "      <th></th>\n",
       "    </tr>\n",
       "  </thead>\n",
       "  <tbody>\n",
       "    <tr>\n",
       "      <th>grade or quarry or fill or excavate</th>\n",
       "      <td>2.0</td>\n",
       "      <td>1789.500000</td>\n",
       "      <td>26.162951</td>\n",
       "      <td>1771.0</td>\n",
       "      <td>1780.25</td>\n",
       "      <td>1789.5</td>\n",
       "      <td>1798.75</td>\n",
       "      <td>1808.0</td>\n",
       "    </tr>\n",
       "    <tr>\n",
       "      <th>sign - erect</th>\n",
       "      <td>375.0</td>\n",
       "      <td>1013.125333</td>\n",
       "      <td>502.747678</td>\n",
       "      <td>156.0</td>\n",
       "      <td>554.50</td>\n",
       "      <td>1011.0</td>\n",
       "      <td>1406.00</td>\n",
       "      <td>1883.0</td>\n",
       "    </tr>\n",
       "    <tr>\n",
       "      <th>wall or painted sign</th>\n",
       "      <td>111.0</td>\n",
       "      <td>946.612613</td>\n",
       "      <td>493.712396</td>\n",
       "      <td>154.0</td>\n",
       "      <td>557.00</td>\n",
       "      <td>900.0</td>\n",
       "      <td>1366.00</td>\n",
       "      <td>1864.0</td>\n",
       "    </tr>\n",
       "    <tr>\n",
       "      <th>demolitions</th>\n",
       "      <td>142.0</td>\n",
       "      <td>793.007042</td>\n",
       "      <td>457.723995</td>\n",
       "      <td>39.0</td>\n",
       "      <td>429.00</td>\n",
       "      <td>680.5</td>\n",
       "      <td>1142.50</td>\n",
       "      <td>1829.0</td>\n",
       "    </tr>\n",
       "    <tr>\n",
       "      <th>new construction wood frame</th>\n",
       "      <td>269.0</td>\n",
       "      <td>787.613383</td>\n",
       "      <td>418.987238</td>\n",
       "      <td>176.0</td>\n",
       "      <td>434.00</td>\n",
       "      <td>788.0</td>\n",
       "      <td>1078.00</td>\n",
       "      <td>1842.0</td>\n",
       "    </tr>\n",
       "    <tr>\n",
       "      <th>new construction</th>\n",
       "      <td>107.0</td>\n",
       "      <td>750.738318</td>\n",
       "      <td>425.648525</td>\n",
       "      <td>178.0</td>\n",
       "      <td>431.50</td>\n",
       "      <td>598.0</td>\n",
       "      <td>1032.50</td>\n",
       "      <td>1750.0</td>\n",
       "    </tr>\n",
       "    <tr>\n",
       "      <th>additions alterations or repairs</th>\n",
       "      <td>3341.0</td>\n",
       "      <td>710.135588</td>\n",
       "      <td>475.415791</td>\n",
       "      <td>154.0</td>\n",
       "      <td>302.00</td>\n",
       "      <td>582.0</td>\n",
       "      <td>1023.00</td>\n",
       "      <td>1885.0</td>\n",
       "    </tr>\n",
       "    <tr>\n",
       "      <th>otc alterations permit</th>\n",
       "      <td>7452.0</td>\n",
       "      <td>501.714842</td>\n",
       "      <td>575.729257</td>\n",
       "      <td>0.0</td>\n",
       "      <td>0.00</td>\n",
       "      <td>218.5</td>\n",
       "      <td>938.00</td>\n",
       "      <td>1885.0</td>\n",
       "    </tr>\n",
       "  </tbody>\n",
       "</table>\n",
       "</div>"
      ],
      "text/plain": [
       "                                      count         mean         std     min  \\\n",
       "perm_typ_def                                                                   \n",
       "grade or quarry or fill or excavate     2.0  1789.500000   26.162951  1771.0   \n",
       "sign - erect                          375.0  1013.125333  502.747678   156.0   \n",
       "wall or painted sign                  111.0   946.612613  493.712396   154.0   \n",
       "demolitions                           142.0   793.007042  457.723995    39.0   \n",
       "new construction wood frame           269.0   787.613383  418.987238   176.0   \n",
       "new construction                      107.0   750.738318  425.648525   178.0   \n",
       "additions alterations or repairs     3341.0   710.135588  475.415791   154.0   \n",
       "otc alterations permit               7452.0   501.714842  575.729257     0.0   \n",
       "\n",
       "                                         25%     50%      75%     max  \n",
       "perm_typ_def                                                           \n",
       "grade or quarry or fill or excavate  1780.25  1789.5  1798.75  1808.0  \n",
       "sign - erect                          554.50  1011.0  1406.00  1883.0  \n",
       "wall or painted sign                  557.00   900.0  1366.00  1864.0  \n",
       "demolitions                           429.00   680.5  1142.50  1829.0  \n",
       "new construction wood frame           434.00   788.0  1078.00  1842.0  \n",
       "new construction                      431.50   598.0  1032.50  1750.0  \n",
       "additions alterations or repairs      302.00   582.0  1023.00  1885.0  \n",
       "otc alterations permit                  0.00   218.5   938.00  1885.0  "
      ]
     },
     "execution_count": 49,
     "metadata": {},
     "output_type": "execute_result"
    }
   ],
   "source": [
    "(sfr.loc[sfr['rev_cost'] == 0,:]).groupby('perm_typ_def')['time_taken'].describe().sort_values('mean',ascending=False)"
   ]
  },
  {
   "cell_type": "markdown",
   "metadata": {},
   "source": [
    "**Remarks:** If revised cost is 0, then except otc alterations permit,  all of them take a minimum of 1 year 2 months to be issued. Even the OTC alterations permits have less chances of getting issued on the same day.\n"
   ]
  },
  {
   "cell_type": "code",
   "execution_count": 50,
   "metadata": {},
   "outputs": [
    {
     "data": {
      "text/html": [
       "<div>\n",
       "<style scoped>\n",
       "    .dataframe tbody tr th:only-of-type {\n",
       "        vertical-align: middle;\n",
       "    }\n",
       "\n",
       "    .dataframe tbody tr th {\n",
       "        vertical-align: top;\n",
       "    }\n",
       "\n",
       "    .dataframe thead th {\n",
       "        text-align: right;\n",
       "    }\n",
       "</style>\n",
       "<table border=\"1\" class=\"dataframe\">\n",
       "  <thead>\n",
       "    <tr style=\"text-align: right;\">\n",
       "      <th></th>\n",
       "      <th>count</th>\n",
       "      <th>mean</th>\n",
       "      <th>std</th>\n",
       "      <th>min</th>\n",
       "      <th>25%</th>\n",
       "      <th>50%</th>\n",
       "      <th>75%</th>\n",
       "      <th>max</th>\n",
       "    </tr>\n",
       "    <tr>\n",
       "      <th>perm_typ_def</th>\n",
       "      <th></th>\n",
       "      <th></th>\n",
       "      <th></th>\n",
       "      <th></th>\n",
       "      <th></th>\n",
       "      <th></th>\n",
       "      <th></th>\n",
       "      <th></th>\n",
       "    </tr>\n",
       "  </thead>\n",
       "  <tbody>\n",
       "    <tr>\n",
       "      <th>additions alterations or repairs</th>\n",
       "      <td>513.0</td>\n",
       "      <td>246.65</td>\n",
       "      <td>329.41</td>\n",
       "      <td>0.0</td>\n",
       "      <td>63.0</td>\n",
       "      <td>127.0</td>\n",
       "      <td>269.0</td>\n",
       "      <td>1836.0</td>\n",
       "    </tr>\n",
       "    <tr>\n",
       "      <th>wall or painted sign</th>\n",
       "      <td>9.0</td>\n",
       "      <td>214.44</td>\n",
       "      <td>374.40</td>\n",
       "      <td>0.0</td>\n",
       "      <td>44.0</td>\n",
       "      <td>44.0</td>\n",
       "      <td>280.0</td>\n",
       "      <td>1170.0</td>\n",
       "    </tr>\n",
       "    <tr>\n",
       "      <th>sign - erect</th>\n",
       "      <td>10.0</td>\n",
       "      <td>186.10</td>\n",
       "      <td>185.49</td>\n",
       "      <td>0.0</td>\n",
       "      <td>16.0</td>\n",
       "      <td>189.0</td>\n",
       "      <td>362.0</td>\n",
       "      <td>362.0</td>\n",
       "    </tr>\n",
       "    <tr>\n",
       "      <th>grade or quarry or fill or excavate</th>\n",
       "      <td>6.0</td>\n",
       "      <td>41.67</td>\n",
       "      <td>20.41</td>\n",
       "      <td>0.0</td>\n",
       "      <td>50.0</td>\n",
       "      <td>50.0</td>\n",
       "      <td>50.0</td>\n",
       "      <td>50.0</td>\n",
       "    </tr>\n",
       "    <tr>\n",
       "      <th>otc alterations permit</th>\n",
       "      <td>42662.0</td>\n",
       "      <td>10.97</td>\n",
       "      <td>97.04</td>\n",
       "      <td>0.0</td>\n",
       "      <td>0.0</td>\n",
       "      <td>0.0</td>\n",
       "      <td>0.0</td>\n",
       "      <td>1884.0</td>\n",
       "    </tr>\n",
       "    <tr>\n",
       "      <th>demolitions</th>\n",
       "      <td>1.0</td>\n",
       "      <td>0.00</td>\n",
       "      <td>NaN</td>\n",
       "      <td>0.0</td>\n",
       "      <td>0.0</td>\n",
       "      <td>0.0</td>\n",
       "      <td>0.0</td>\n",
       "      <td>0.0</td>\n",
       "    </tr>\n",
       "  </tbody>\n",
       "</table>\n",
       "</div>"
      ],
      "text/plain": [
       "                                       count    mean     std  min   25%  \\\n",
       "perm_typ_def                                                              \n",
       "additions alterations or repairs       513.0  246.65  329.41  0.0  63.0   \n",
       "wall or painted sign                     9.0  214.44  374.40  0.0  44.0   \n",
       "sign - erect                            10.0  186.10  185.49  0.0  16.0   \n",
       "grade or quarry or fill or excavate      6.0   41.67   20.41  0.0  50.0   \n",
       "otc alterations permit               42662.0   10.97   97.04  0.0   0.0   \n",
       "demolitions                              1.0    0.00     NaN  0.0   0.0   \n",
       "\n",
       "                                       50%    75%     max  \n",
       "perm_typ_def                                               \n",
       "additions alterations or repairs     127.0  269.0  1836.0  \n",
       "wall or painted sign                  44.0  280.0  1170.0  \n",
       "sign - erect                         189.0  362.0   362.0  \n",
       "grade or quarry or fill or excavate   50.0   50.0    50.0  \n",
       "otc alterations permit                 0.0    0.0  1884.0  \n",
       "demolitions                            0.0    0.0     0.0  "
      ]
     },
     "execution_count": 50,
     "metadata": {},
     "output_type": "execute_result"
    }
   ],
   "source": [
    "sfr_sub = (sfr.loc[sfr['rev_cost'] < 20,:])\n",
    "np.round(sfr_sub.loc[sfr_sub['rev_cost'] > 0,:].groupby('perm_typ_def')['time_taken'].describe(),2).sort_values('mean',ascending=False)"
   ]
  },
  {
   "cell_type": "markdown",
   "metadata": {},
   "source": [
    "**Comments:** Notice that new construction permit types are absent in this table. Minimum time taken is 0, hence small entries are not the problem, absence of entry for the cost is the problem. \n",
    "\n",
    "**Recommendation:** Always put a valid entry for cost in applications."
   ]
  },
  {
   "cell_type": "markdown",
   "metadata": {},
   "source": [
    "#### Existing/Proposed Use variables"
   ]
  },
  {
   "cell_type": "code",
   "execution_count": 51,
   "metadata": {},
   "outputs": [
    {
     "data": {
      "image/png": "[encoded data removed]",
      "text/plain": [
       "<matplotlib.figure.Figure at 0x2a79c85c940>"
      ]
     },
     "metadata": {},
     "output_type": "display_data"
    },
    {
     "data": {
      "image/png": "[encoded data removed]",
      "text/plain": [
       "<matplotlib.figure.Figure at 0x2a79c85cfd0>"
      ]
     },
     "metadata": {},
     "output_type": "display_data"
    }
   ],
   "source": [
    "_ = sfr.groupby('exist_const_type').time_taken.mean().plot.bar()\n",
    "_ = plt.title('Average Time taken for existing type')\n",
    "_ = plt.figure()\n",
    "_ = sfr.groupby('prop_const_type').time_taken.mean().plot.bar()\n",
    "_ = plt.title('Average Time taken for proposed type')"
   ]
  },
  {
   "cell_type": "code",
   "execution_count": 52,
   "metadata": {},
   "outputs": [
    {
     "data": {
      "image/png": "[encoded data removed]",
      "text/plain": [
       "<matplotlib.figure.Figure at 0x2a79c8c62b0>"
      ]
     },
     "metadata": {},
     "output_type": "display_data"
    }
   ],
   "source": [
    "_ = sfr.groupby('sup_dist').time_taken.mean().plot.bar()\n",
    "_ = plt.title('Average time taken Vs Supervisor District')"
   ]
  },
  {
   "cell_type": "markdown",
   "metadata": {},
   "source": [
    "There is a clear variability across different supervisor districts"
   ]
  },
  {
   "cell_type": "markdown",
   "metadata": {},
   "source": [
    "#### Some more numerical EDAs"
   ]
  },
  {
   "cell_type": "code",
   "execution_count": 53,
   "metadata": {},
   "outputs": [
    {
     "data": {
      "text/html": [
       "<div>\n",
       "<style scoped>\n",
       "    .dataframe tbody tr th:only-of-type {\n",
       "        vertical-align: middle;\n",
       "    }\n",
       "\n",
       "    .dataframe tbody tr th {\n",
       "        vertical-align: top;\n",
       "    }\n",
       "\n",
       "    .dataframe thead th {\n",
       "        text-align: right;\n",
       "    }\n",
       "</style>\n",
       "<table border=\"1\" class=\"dataframe\">\n",
       "  <thead>\n",
       "    <tr style=\"text-align: right;\">\n",
       "      <th></th>\n",
       "      <th>count</th>\n",
       "      <th>mean</th>\n",
       "      <th>std</th>\n",
       "      <th>min</th>\n",
       "      <th>25%</th>\n",
       "      <th>50%</th>\n",
       "      <th>75%</th>\n",
       "      <th>max</th>\n",
       "    </tr>\n",
       "    <tr>\n",
       "      <th>fire_only_permit</th>\n",
       "      <th></th>\n",
       "      <th></th>\n",
       "      <th></th>\n",
       "      <th></th>\n",
       "      <th></th>\n",
       "      <th></th>\n",
       "      <th></th>\n",
       "      <th></th>\n",
       "    </tr>\n",
       "  </thead>\n",
       "  <tbody>\n",
       "    <tr>\n",
       "      <th>N</th>\n",
       "      <td>165649.0</td>\n",
       "      <td>82.06</td>\n",
       "      <td>251.37</td>\n",
       "      <td>0.0</td>\n",
       "      <td>0.0</td>\n",
       "      <td>0.0</td>\n",
       "      <td>16.0</td>\n",
       "      <td>1885.0</td>\n",
       "    </tr>\n",
       "    <tr>\n",
       "      <th>Y</th>\n",
       "      <td>17222.0</td>\n",
       "      <td>34.56</td>\n",
       "      <td>171.10</td>\n",
       "      <td>0.0</td>\n",
       "      <td>0.0</td>\n",
       "      <td>0.0</td>\n",
       "      <td>3.0</td>\n",
       "      <td>1885.0</td>\n",
       "    </tr>\n",
       "  </tbody>\n",
       "</table>\n",
       "</div>"
      ],
      "text/plain": [
       "                     count   mean     std  min  25%  50%   75%     max\n",
       "fire_only_permit                                                      \n",
       "N                 165649.0  82.06  251.37  0.0  0.0  0.0  16.0  1885.0\n",
       "Y                  17222.0  34.56  171.10  0.0  0.0  0.0   3.0  1885.0"
      ]
     },
     "execution_count": 53,
     "metadata": {},
     "output_type": "execute_result"
    }
   ],
   "source": [
    "np.round(sfr.groupby('fire_only_permit')['time_taken'].describe(),2)"
   ]
  },
  {
   "cell_type": "code",
   "execution_count": 54,
   "metadata": {},
   "outputs": [
    {
     "data": {
      "text/html": [
       "<div>\n",
       "<style scoped>\n",
       "    .dataframe tbody tr th:only-of-type {\n",
       "        vertical-align: middle;\n",
       "    }\n",
       "\n",
       "    .dataframe tbody tr th {\n",
       "        vertical-align: top;\n",
       "    }\n",
       "\n",
       "    .dataframe thead th {\n",
       "        text-align: right;\n",
       "    }\n",
       "</style>\n",
       "<table border=\"1\" class=\"dataframe\">\n",
       "  <thead>\n",
       "    <tr style=\"text-align: right;\">\n",
       "      <th></th>\n",
       "      <th>count</th>\n",
       "      <th>mean</th>\n",
       "      <th>std</th>\n",
       "      <th>min</th>\n",
       "      <th>25%</th>\n",
       "      <th>50%</th>\n",
       "      <th>75%</th>\n",
       "      <th>max</th>\n",
       "    </tr>\n",
       "    <tr>\n",
       "      <th>site_permit</th>\n",
       "      <th></th>\n",
       "      <th></th>\n",
       "      <th></th>\n",
       "      <th></th>\n",
       "      <th></th>\n",
       "      <th></th>\n",
       "      <th></th>\n",
       "      <th></th>\n",
       "    </tr>\n",
       "  </thead>\n",
       "  <tbody>\n",
       "    <tr>\n",
       "      <th>N</th>\n",
       "      <td>177911.0</td>\n",
       "      <td>65.38</td>\n",
       "      <td>229.27</td>\n",
       "      <td>0.0</td>\n",
       "      <td>0.0</td>\n",
       "      <td>0.0</td>\n",
       "      <td>10.0</td>\n",
       "      <td>1885.0</td>\n",
       "    </tr>\n",
       "    <tr>\n",
       "      <th>Y</th>\n",
       "      <td>4960.0</td>\n",
       "      <td>515.48</td>\n",
       "      <td>369.44</td>\n",
       "      <td>0.0</td>\n",
       "      <td>241.0</td>\n",
       "      <td>392.5</td>\n",
       "      <td>670.0</td>\n",
       "      <td>1885.0</td>\n",
       "    </tr>\n",
       "  </tbody>\n",
       "</table>\n",
       "</div>"
      ],
      "text/plain": [
       "                count    mean     std  min    25%    50%    75%     max\n",
       "site_permit                                                            \n",
       "N            177911.0   65.38  229.27  0.0    0.0    0.0   10.0  1885.0\n",
       "Y              4960.0  515.48  369.44  0.0  241.0  392.5  670.0  1885.0"
      ]
     },
     "execution_count": 54,
     "metadata": {},
     "output_type": "execute_result"
    }
   ],
   "source": [
    "np.round(sfr.groupby('site_permit')['time_taken'].describe(),2)"
   ]
  },
  {
   "cell_type": "code",
   "execution_count": 55,
   "metadata": {},
   "outputs": [
    {
     "data": {
      "text/html": [
       "<div>\n",
       "<style scoped>\n",
       "    .dataframe tbody tr th:only-of-type {\n",
       "        vertical-align: middle;\n",
       "    }\n",
       "\n",
       "    .dataframe tbody tr th {\n",
       "        vertical-align: top;\n",
       "    }\n",
       "\n",
       "    .dataframe thead th {\n",
       "        text-align: right;\n",
       "    }\n",
       "</style>\n",
       "<table border=\"1\" class=\"dataframe\">\n",
       "  <thead>\n",
       "    <tr style=\"text-align: right;\">\n",
       "      <th></th>\n",
       "      <th>count</th>\n",
       "      <th>mean</th>\n",
       "      <th>std</th>\n",
       "      <th>min</th>\n",
       "      <th>25%</th>\n",
       "      <th>50%</th>\n",
       "      <th>75%</th>\n",
       "      <th>max</th>\n",
       "    </tr>\n",
       "    <tr>\n",
       "      <th>strct_notif</th>\n",
       "      <th></th>\n",
       "      <th></th>\n",
       "      <th></th>\n",
       "      <th></th>\n",
       "      <th></th>\n",
       "      <th></th>\n",
       "      <th></th>\n",
       "      <th></th>\n",
       "    </tr>\n",
       "  </thead>\n",
       "  <tbody>\n",
       "    <tr>\n",
       "      <th>N</th>\n",
       "      <td>176463.0</td>\n",
       "      <td>68.29</td>\n",
       "      <td>234.32</td>\n",
       "      <td>0.0</td>\n",
       "      <td>0.0</td>\n",
       "      <td>0.0</td>\n",
       "      <td>10.0</td>\n",
       "      <td>1885.0</td>\n",
       "    </tr>\n",
       "    <tr>\n",
       "      <th>Y</th>\n",
       "      <td>6408.0</td>\n",
       "      <td>333.53</td>\n",
       "      <td>371.07</td>\n",
       "      <td>0.0</td>\n",
       "      <td>34.0</td>\n",
       "      <td>231.0</td>\n",
       "      <td>465.0</td>\n",
       "      <td>1880.0</td>\n",
       "    </tr>\n",
       "  </tbody>\n",
       "</table>\n",
       "</div>"
      ],
      "text/plain": [
       "                count    mean     std  min   25%    50%    75%     max\n",
       "strct_notif                                                           \n",
       "N            176463.0   68.29  234.32  0.0   0.0    0.0   10.0  1885.0\n",
       "Y              6408.0  333.53  371.07  0.0  34.0  231.0  465.0  1880.0"
      ]
     },
     "execution_count": 55,
     "metadata": {},
     "output_type": "execute_result"
    }
   ],
   "source": [
    "np.round(sfr.groupby('strct_notif')['time_taken'].describe(),2)"
   ]
  },
  {
   "cell_type": "markdown",
   "metadata": {},
   "source": [
    "The above 3 tables are self-explanatory.\n",
    "#### Plansets Variable"
   ]
  },
  {
   "cell_type": "code",
   "execution_count": 56,
   "metadata": {},
   "outputs": [
    {
     "data": {
      "text/html": [
       "<div>\n",
       "<style scoped>\n",
       "    .dataframe tbody tr th:only-of-type {\n",
       "        vertical-align: middle;\n",
       "    }\n",
       "\n",
       "    .dataframe tbody tr th {\n",
       "        vertical-align: top;\n",
       "    }\n",
       "\n",
       "    .dataframe thead th {\n",
       "        text-align: right;\n",
       "    }\n",
       "</style>\n",
       "<table border=\"1\" class=\"dataframe\">\n",
       "  <thead>\n",
       "    <tr style=\"text-align: right;\">\n",
       "      <th></th>\n",
       "      <th>count</th>\n",
       "      <th>mean</th>\n",
       "      <th>std</th>\n",
       "      <th>min</th>\n",
       "      <th>25%</th>\n",
       "      <th>50%</th>\n",
       "      <th>75%</th>\n",
       "      <th>max</th>\n",
       "    </tr>\n",
       "    <tr>\n",
       "      <th>plansets</th>\n",
       "      <th></th>\n",
       "      <th></th>\n",
       "      <th></th>\n",
       "      <th></th>\n",
       "      <th></th>\n",
       "      <th></th>\n",
       "      <th></th>\n",
       "      <th></th>\n",
       "    </tr>\n",
       "  </thead>\n",
       "  <tbody>\n",
       "    <tr>\n",
       "      <th>0.0</th>\n",
       "      <td>58524.0</td>\n",
       "      <td>14.04</td>\n",
       "      <td>121.55</td>\n",
       "      <td>0.0</td>\n",
       "      <td>0.0</td>\n",
       "      <td>0.0</td>\n",
       "      <td>0.0</td>\n",
       "      <td>1884.0</td>\n",
       "    </tr>\n",
       "    <tr>\n",
       "      <th>1.0</th>\n",
       "      <td>2.0</td>\n",
       "      <td>281.00</td>\n",
       "      <td>0.00</td>\n",
       "      <td>281.0</td>\n",
       "      <td>281.0</td>\n",
       "      <td>281.0</td>\n",
       "      <td>281.0</td>\n",
       "      <td>281.0</td>\n",
       "    </tr>\n",
       "    <tr>\n",
       "      <th>2.0</th>\n",
       "      <td>90288.0</td>\n",
       "      <td>143.29</td>\n",
       "      <td>315.24</td>\n",
       "      <td>0.0</td>\n",
       "      <td>1.0</td>\n",
       "      <td>12.0</td>\n",
       "      <td>108.0</td>\n",
       "      <td>1885.0</td>\n",
       "    </tr>\n",
       "    <tr>\n",
       "      <th>3.0</th>\n",
       "      <td>246.0</td>\n",
       "      <td>231.14</td>\n",
       "      <td>70.85</td>\n",
       "      <td>72.0</td>\n",
       "      <td>225.0</td>\n",
       "      <td>225.0</td>\n",
       "      <td>225.0</td>\n",
       "      <td>1183.0</td>\n",
       "    </tr>\n",
       "    <tr>\n",
       "      <th>4.0</th>\n",
       "      <td>3.0</td>\n",
       "      <td>178.33</td>\n",
       "      <td>163.66</td>\n",
       "      <td>55.0</td>\n",
       "      <td>85.5</td>\n",
       "      <td>116.0</td>\n",
       "      <td>240.0</td>\n",
       "      <td>364.0</td>\n",
       "    </tr>\n",
       "    <tr>\n",
       "      <th>6.0</th>\n",
       "      <td>2.0</td>\n",
       "      <td>327.00</td>\n",
       "      <td>0.00</td>\n",
       "      <td>327.0</td>\n",
       "      <td>327.0</td>\n",
       "      <td>327.0</td>\n",
       "      <td>327.0</td>\n",
       "      <td>327.0</td>\n",
       "    </tr>\n",
       "    <tr>\n",
       "      <th>20.0</th>\n",
       "      <td>1.0</td>\n",
       "      <td>1246.00</td>\n",
       "      <td>NaN</td>\n",
       "      <td>1246.0</td>\n",
       "      <td>1246.0</td>\n",
       "      <td>1246.0</td>\n",
       "      <td>1246.0</td>\n",
       "      <td>1246.0</td>\n",
       "    </tr>\n",
       "    <tr>\n",
       "      <th>9000.0</th>\n",
       "      <td>1.0</td>\n",
       "      <td>2.00</td>\n",
       "      <td>NaN</td>\n",
       "      <td>2.0</td>\n",
       "      <td>2.0</td>\n",
       "      <td>2.0</td>\n",
       "      <td>2.0</td>\n",
       "      <td>2.0</td>\n",
       "    </tr>\n",
       "  </tbody>\n",
       "</table>\n",
       "</div>"
      ],
      "text/plain": [
       "            count     mean     std     min     25%     50%     75%     max\n",
       "plansets                                                                  \n",
       "0.0       58524.0    14.04  121.55     0.0     0.0     0.0     0.0  1884.0\n",
       "1.0           2.0   281.00    0.00   281.0   281.0   281.0   281.0   281.0\n",
       "2.0       90288.0   143.29  315.24     0.0     1.0    12.0   108.0  1885.0\n",
       "3.0         246.0   231.14   70.85    72.0   225.0   225.0   225.0  1183.0\n",
       "4.0           3.0   178.33  163.66    55.0    85.5   116.0   240.0   364.0\n",
       "6.0           2.0   327.00    0.00   327.0   327.0   327.0   327.0   327.0\n",
       "20.0          1.0  1246.00     NaN  1246.0  1246.0  1246.0  1246.0  1246.0\n",
       "9000.0        1.0     2.00     NaN     2.0     2.0     2.0     2.0     2.0"
      ]
     },
     "execution_count": 56,
     "metadata": {},
     "output_type": "execute_result"
    }
   ],
   "source": [
    "np.round(sfr.groupby('plansets')['time_taken'].describe(),2)"
   ]
  },
  {
   "cell_type": "markdown",
   "metadata": {},
   "source": [
    "The 4 plansets out of 7 have very insignificant representation. The other 3 are interesting. The planset '0' is the fastest issued one and '3' is the slowest among these 3."
   ]
  },
  {
   "cell_type": "markdown",
   "metadata": {},
   "source": [
    "## **Conclusions of Exploratory Data Analysis:**     \n",
    "\n",
    "1) What is the best day of the week to visit DBI, to file an application form? Is the popular belief “mid-week (Wednesday) is the least crowded and hence best to visit government or city agencies” true in this case?     \n",
    "\n",
    "-Over the 4 years, it is found that in 25 out of 48 months, Monday has been the week day with least number of permit applications. Wednesday was least crowded only in 8 months. It is also interesting to know that while Tuesday was the week to receive maximum number of applications in 12 months, it is not a clear winner. So, there is not a clear \"Most\" crowded week day.\n",
    "\n",
    "2) What type of permits are mostly issued on the same day of filing?\n",
    "\n",
    "\"OTC alterations permits\" as the name suggests, are issued mostly on the same day of filing. More than 75% of these are issued within a week. \n",
    "\n",
    "3) Which types take least average time issue if not issued on the same day?   \n",
    "\n",
    "Once again the answer is OTC alterations permits. They are 89% of the total permit applications, and they have very low average wait time.\n",
    "\n",
    "4) Is there any particular quarter of each year which has higher application counts or average wait times? Can it be justified from the business knowledge?         \n",
    "\n",
    "No.\n",
    "\n",
    "5) Is there a correlation between the supervisor district and wait times?       \n",
    "Certainly there is difference in wait times based on what is entered as supervisor district in the application form. It is shown above with a bar chart.\n",
    "\n",
    "6) How does the permit times vary across plansets?   \n",
    "There are 7 different plansets, of which 3 seem significant. They are highly variable\n",
    "\n",
    "7) How is permit times related to cost?   \n",
    "We looked at permit times' relationship with revised cost, as that is the most recent estimate. There is no clear relationship when the cost is some reasonable number. However, if the cost is not entered or entered too low to believe, there is a greater possibility of delay in issuing.\n"
   ]
  },
  {
   "cell_type": "markdown",
   "metadata": {},
   "source": [
    "### Inferential Statistics"
   ]
  },
  {
   "cell_type": "markdown",
   "metadata": {},
   "source": [
    "In this section, we will answer the following questions one by one:     \n",
    "  1) Assume there is a claim by the DBI. \"60% of **all** the permit applications are processed on the same day.\" Can we formulate a hypothesis test? What are the null and alternate hypothesis? What is the significance level you want to chose?  \n",
    "  1a) Estimate the confidence interval of percentage corresponding to 95% confidence.\n",
    "  2) Is there a statistically significant difference between wait times of fire only permits and not fire only permits?      \n",
    "  3) Can we do Anova test to verify variability across wait times for various permit types?        \n",
    "  \n",
    "**Simulating restricted availability of the population**  \n",
    "We have entire population (records of applications) for the years 2013-present. Hence we can readily verify it by the pandas built-in function describe. However, we want to simulate the scenario of having a subset of the population and then conduct statistical tests to answer the above questions. This can happen in real life.\n",
    "\n",
    "\n",
    "Suppose DBI does not let you download all 150k+ records, but only 7500 records once a day and you want to know if their claim is true, before visiting them today!"
   ]
  },
  {
   "cell_type": "code",
   "execution_count": 57,
   "metadata": {},
   "outputs": [],
   "source": [
    "# Choose 7500 random records without replacement and use this for all the three tests\n",
    "n=7500\n",
    "indices = np.random.choice(a=sfr.index,size=n,replace=False)"
   ]
  },
  {
   "cell_type": "markdown",
   "metadata": {},
   "source": [
    "**Answer to 1:**    \n",
    "\n",
    "\n",
    "We can apply a one sample test for [**population proportion**](https://onlinecourses.science.psu.edu/stat500/node/41)\n",
    "\n",
    "**Null Hypothesis H0:** DBI processes 60% permit applications the same day.    \n",
    "**Alternate Hypothesis HA:** DBI normally processes a different percentage of applications than 60% the same day and difference is statistically significant.       \n",
    "\n",
    "1. Independence: The samples are independent and without replacement, with sample size < 5% of population\n",
    "2. Sample size/skew: Expected value of success: np >= 10, Expected value of failure: n(1-p)>=10 are satisfied for n=7500, p=0.6\n",
    "\n",
    "Hence the central limit theorem kicks in. \n",
    "DBI can not process less than 0% applications. Hence this is a skewed distribution, but that is different from it being one or two sided test. This is a two sided z-test, as stated in HA.       \n",
    "Let us have significance level alpha = 0.01   "
   ]
  },
  {
   "cell_type": "code",
   "execution_count": 58,
   "metadata": {},
   "outputs": [
    {
     "data": {
      "image/png": "[encoded data removed]",
      "text/plain": [
       "<matplotlib.figure.Figure at 0x2a7988912b0>"
      ]
     },
     "metadata": {},
     "output_type": "display_data"
    }
   ],
   "source": [
    "time_taken_sample = sfr.time_taken[indices]\n",
    "_ = sns.distplot(time_taken_sample,hist=True)\n",
    "_ = plt.title('Distribution of wait times for permits to be issued')\n",
    "_ = plt.xlabel('Number of days')"
   ]
  },
  {
   "cell_type": "code",
   "execution_count": 59,
   "metadata": {},
   "outputs": [
    {
     "name": "stdout",
     "output_type": "stream",
     "text": [
      "Observed proportion of permits issued same day is 57.83% \n"
     ]
    }
   ],
   "source": [
    "# The Hypothesis test code. time_taken_sample is the array containing wait times.\n",
    "# Claimed by DBI, the null proportion\n",
    "claimed_proportion = 0.60\n",
    "# Observed proportion, the alternate proportion\n",
    "observed_proportion = (time_taken_sample == 0).sum()/time_taken_sample.shape[0]\n",
    "print(\"Observed proportion of permits issued same day is {:.2f}% \".format(100*observed_proportion))"
   ]
  },
  {
   "cell_type": "markdown",
   "metadata": {},
   "source": [
    "This could be just a chance. Hence let us find the z score:"
   ]
  },
  {
   "cell_type": "code",
   "execution_count": 60,
   "metadata": {},
   "outputs": [
    {
     "name": "stdout",
     "output_type": "stream",
     "text": [
      "Z score: 3.84\n",
      "p-value is 0.00012206227441424744\n"
     ]
    }
   ],
   "source": [
    "from scipy import stats\n",
    "zsc = (claimed_proportion - observed_proportion)/np.sqrt(claimed_proportion*(1-claimed_proportion)/n)\n",
    "print(\"Z score: {:.2f}\".format(zsc))\n",
    "pval_test1 = 2*(1 - stats.norm.cdf(abs(zsc)))\n",
    "print(\"p-value is\",pval_test1)"
   ]
  },
  {
   "cell_type": "markdown",
   "metadata": {},
   "source": [
    "The Z score of 2.6+ corresponds to a p-value < alpha = 0.01. Hence this difference in proportion is statistically significant. Therefore we reject the null hypothesis that 60% of the applications are processed the same day in favor of alternate hypothesis that less than 60% applications are processed on the same day.     \n",
    "\n",
    "1a) Finding confidence interval corresponding to the observed proportion:"
   ]
  },
  {
   "cell_type": "code",
   "execution_count": 61,
   "metadata": {},
   "outputs": [
    {
     "name": "stdout",
     "output_type": "stream",
     "text": [
      "Margin of error for population proportion: 0.0112\n",
      "95% confidence interval of the population proportion: (56.71000000000001, 58.940000000000005) %\n"
     ]
    }
   ],
   "source": [
    "# Z score for 95% CI is 1.96\n",
    "z_95 = 1.96\n",
    "# From the formula for margin of error,\n",
    "margin_error = z_95 * np.sqrt(observed_proportion*(1-observed_proportion)/n)\n",
    "print(\"Margin of error for population proportion: {:.4f}\".format(margin_error))\n",
    "# By definition, confidence interval:\n",
    "ci = (100*round(observed_proportion-margin_error,4),100*round(observed_proportion+margin_error,4))\n",
    "print('95% confidence interval of the population proportion:',ci,'%')"
   ]
  },
  {
   "cell_type": "markdown",
   "metadata": {},
   "source": [
    "**Answer to 2:**\n",
    "\n",
    "Here we are comparing mean wait times between two samples. We would need a 2 sample t-test/z-test\n",
    "\n",
    "H0: Average wait times are same whether it is fire only permit or not\n",
    "HA: Average wait times are different\n",
    "\n",
    "Again alpha = 0.01"
   ]
  },
  {
   "cell_type": "code",
   "execution_count": 62,
   "metadata": {},
   "outputs": [
    {
     "data": {
      "text/html": [
       "<div>\n",
       "<style scoped>\n",
       "    .dataframe tbody tr th:only-of-type {\n",
       "        vertical-align: middle;\n",
       "    }\n",
       "\n",
       "    .dataframe tbody tr th {\n",
       "        vertical-align: top;\n",
       "    }\n",
       "\n",
       "    .dataframe thead th {\n",
       "        text-align: right;\n",
       "    }\n",
       "</style>\n",
       "<table border=\"1\" class=\"dataframe\">\n",
       "  <thead>\n",
       "    <tr style=\"text-align: right;\">\n",
       "      <th></th>\n",
       "      <th>count</th>\n",
       "      <th>mean</th>\n",
       "      <th>std</th>\n",
       "      <th>min</th>\n",
       "      <th>25%</th>\n",
       "      <th>50%</th>\n",
       "      <th>75%</th>\n",
       "      <th>max</th>\n",
       "    </tr>\n",
       "    <tr>\n",
       "      <th>fire_only_permit</th>\n",
       "      <th></th>\n",
       "      <th></th>\n",
       "      <th></th>\n",
       "      <th></th>\n",
       "      <th></th>\n",
       "      <th></th>\n",
       "      <th></th>\n",
       "      <th></th>\n",
       "    </tr>\n",
       "  </thead>\n",
       "  <tbody>\n",
       "    <tr>\n",
       "      <th>N</th>\n",
       "      <td>6818.0</td>\n",
       "      <td>81.209299</td>\n",
       "      <td>250.479099</td>\n",
       "      <td>0.0</td>\n",
       "      <td>0.0</td>\n",
       "      <td>0.0</td>\n",
       "      <td>16.0</td>\n",
       "      <td>1872.0</td>\n",
       "    </tr>\n",
       "    <tr>\n",
       "      <th>Y</th>\n",
       "      <td>682.0</td>\n",
       "      <td>29.840176</td>\n",
       "      <td>154.901426</td>\n",
       "      <td>0.0</td>\n",
       "      <td>0.0</td>\n",
       "      <td>0.0</td>\n",
       "      <td>3.0</td>\n",
       "      <td>1765.0</td>\n",
       "    </tr>\n",
       "  </tbody>\n",
       "</table>\n",
       "</div>"
      ],
      "text/plain": [
       "                   count       mean         std  min  25%  50%   75%     max\n",
       "fire_only_permit                                                            \n",
       "N                 6818.0  81.209299  250.479099  0.0  0.0  0.0  16.0  1872.0\n",
       "Y                  682.0  29.840176  154.901426  0.0  0.0  0.0   3.0  1765.0"
      ]
     },
     "execution_count": 62,
     "metadata": {},
     "output_type": "execute_result"
    }
   ],
   "source": [
    "test2 = pd.DataFrame(sfr.fire_only_permit[indices].copy())\n",
    "test2 = test2.assign(time_taken_sample = sfr.time_taken[indices].copy())\n",
    "sample_stats = test2.groupby('fire_only_permit').time_taken_sample.describe()\n",
    "sample_stats"
   ]
  },
  {
   "cell_type": "code",
   "execution_count": 63,
   "metadata": {},
   "outputs": [
    {
     "name": "stdout",
     "output_type": "stream",
     "text": [
      "Z score for 2 sample z test: 7.71\n",
      "p-value for 2 sample test is 1.2434497875801753e-14\n"
     ]
    }
   ],
   "source": [
    "# Compute combined standard deviation\n",
    "comb_sigma = np.sqrt((sample_stats.loc['N','std']**2 / sample_stats.loc['N','count'])\n",
    "                     + (sample_stats.loc['Y','std']**2 / sample_stats.loc['Y','count']))\n",
    "\n",
    "# Z-score\n",
    "zsc2 = (sample_stats.loc['N','mean'] - sample_stats.loc['Y','mean'])/comb_sigma\n",
    "print(\"Z score for 2 sample z test: {:.2f}\".format(zsc2))\n",
    "\n",
    "# p-value\n",
    "pval_test2 = 2*(1 - stats.norm.cdf(abs(zsc2)))\n",
    "print(\"p-value for 2 sample test is\",pval_test2)"
   ]
  },
  {
   "cell_type": "markdown",
   "metadata": {},
   "source": [
    "The high value for z score above makes us reject H0 in favor of HA"
   ]
  },
  {
   "cell_type": "markdown",
   "metadata": {},
   "source": [
    "**Answer to 3:**\n",
    "\n",
    "Can we do ANOVA test to compare the average wait time across permit types? May be. Let us check it out."
   ]
  },
  {
   "cell_type": "code",
   "execution_count": 64,
   "metadata": {},
   "outputs": [
    {
     "data": {
      "text/html": [
       "<div>\n",
       "<style scoped>\n",
       "    .dataframe tbody tr th:only-of-type {\n",
       "        vertical-align: middle;\n",
       "    }\n",
       "\n",
       "    .dataframe tbody tr th {\n",
       "        vertical-align: top;\n",
       "    }\n",
       "\n",
       "    .dataframe thead th {\n",
       "        text-align: right;\n",
       "    }\n",
       "</style>\n",
       "<table border=\"1\" class=\"dataframe\">\n",
       "  <thead>\n",
       "    <tr style=\"text-align: right;\">\n",
       "      <th></th>\n",
       "      <th>count</th>\n",
       "      <th>mean</th>\n",
       "      <th>std</th>\n",
       "      <th>min</th>\n",
       "      <th>25%</th>\n",
       "      <th>50%</th>\n",
       "      <th>75%</th>\n",
       "      <th>max</th>\n",
       "    </tr>\n",
       "    <tr>\n",
       "      <th>perm_typ</th>\n",
       "      <th></th>\n",
       "      <th></th>\n",
       "      <th></th>\n",
       "      <th></th>\n",
       "      <th></th>\n",
       "      <th></th>\n",
       "      <th></th>\n",
       "      <th></th>\n",
       "    </tr>\n",
       "  </thead>\n",
       "  <tbody>\n",
       "    <tr>\n",
       "      <th>1</th>\n",
       "      <td>13.0</td>\n",
       "      <td>621.153846</td>\n",
       "      <td>405.392782</td>\n",
       "      <td>142.0</td>\n",
       "      <td>365.00</td>\n",
       "      <td>459.0</td>\n",
       "      <td>836.00</td>\n",
       "      <td>1345.0</td>\n",
       "    </tr>\n",
       "    <tr>\n",
       "      <th>2</th>\n",
       "      <td>40.0</td>\n",
       "      <td>436.500000</td>\n",
       "      <td>362.135688</td>\n",
       "      <td>68.0</td>\n",
       "      <td>165.75</td>\n",
       "      <td>341.5</td>\n",
       "      <td>509.00</td>\n",
       "      <td>1344.0</td>\n",
       "    </tr>\n",
       "    <tr>\n",
       "      <th>3</th>\n",
       "      <td>535.0</td>\n",
       "      <td>375.897196</td>\n",
       "      <td>369.169838</td>\n",
       "      <td>4.0</td>\n",
       "      <td>125.50</td>\n",
       "      <td>248.0</td>\n",
       "      <td>481.50</td>\n",
       "      <td>1788.0</td>\n",
       "    </tr>\n",
       "    <tr>\n",
       "      <th>4</th>\n",
       "      <td>105.0</td>\n",
       "      <td>188.695238</td>\n",
       "      <td>403.232590</td>\n",
       "      <td>0.0</td>\n",
       "      <td>2.00</td>\n",
       "      <td>19.0</td>\n",
       "      <td>172.00</td>\n",
       "      <td>1788.0</td>\n",
       "    </tr>\n",
       "    <tr>\n",
       "      <th>5</th>\n",
       "      <td>6.0</td>\n",
       "      <td>338.833333</td>\n",
       "      <td>720.159543</td>\n",
       "      <td>0.0</td>\n",
       "      <td>44.00</td>\n",
       "      <td>56.5</td>\n",
       "      <td>68.25</td>\n",
       "      <td>1808.0</td>\n",
       "    </tr>\n",
       "    <tr>\n",
       "      <th>6</th>\n",
       "      <td>20.0</td>\n",
       "      <td>512.900000</td>\n",
       "      <td>388.152561</td>\n",
       "      <td>0.0</td>\n",
       "      <td>250.00</td>\n",
       "      <td>396.0</td>\n",
       "      <td>819.25</td>\n",
       "      <td>1159.0</td>\n",
       "    </tr>\n",
       "    <tr>\n",
       "      <th>7</th>\n",
       "      <td>21.0</td>\n",
       "      <td>234.380952</td>\n",
       "      <td>416.017124</td>\n",
       "      <td>0.0</td>\n",
       "      <td>0.00</td>\n",
       "      <td>31.0</td>\n",
       "      <td>168.00</td>\n",
       "      <td>1375.0</td>\n",
       "    </tr>\n",
       "    <tr>\n",
       "      <th>8</th>\n",
       "      <td>6760.0</td>\n",
       "      <td>45.912722</td>\n",
       "      <td>200.086500</td>\n",
       "      <td>0.0</td>\n",
       "      <td>0.00</td>\n",
       "      <td>0.0</td>\n",
       "      <td>6.00</td>\n",
       "      <td>1872.0</td>\n",
       "    </tr>\n",
       "  </tbody>\n",
       "</table>\n",
       "</div>"
      ],
      "text/plain": [
       "           count        mean         std    min     25%    50%     75%     max\n",
       "perm_typ                                                                      \n",
       "1           13.0  621.153846  405.392782  142.0  365.00  459.0  836.00  1345.0\n",
       "2           40.0  436.500000  362.135688   68.0  165.75  341.5  509.00  1344.0\n",
       "3          535.0  375.897196  369.169838    4.0  125.50  248.0  481.50  1788.0\n",
       "4          105.0  188.695238  403.232590    0.0    2.00   19.0  172.00  1788.0\n",
       "5            6.0  338.833333  720.159543    0.0   44.00   56.5   68.25  1808.0\n",
       "6           20.0  512.900000  388.152561    0.0  250.00  396.0  819.25  1159.0\n",
       "7           21.0  234.380952  416.017124    0.0    0.00   31.0  168.00  1375.0\n",
       "8         6760.0   45.912722  200.086500    0.0    0.00    0.0    6.00  1872.0"
      ]
     },
     "execution_count": 64,
     "metadata": {},
     "output_type": "execute_result"
    }
   ],
   "source": [
    "test3 = pd.DataFrame(sfr.perm_typ[indices].copy())\n",
    "test3 = test3.assign(time_taken_sample = sfr.time_taken[indices].copy())\n",
    "sample_stats3 = test3.groupby('perm_typ').time_taken_sample.describe()\n",
    "sample_stats3"
   ]
  },
  {
   "cell_type": "markdown",
   "metadata": {},
   "source": [
    "The conditions for doing ANOVA test:    \n",
    "+ The observations should be independent within and across groups : This is met.    \n",
    "+ The data within each group are nearly normal: This is not met as can be seen from the asymmetric percentile values in the above table.   \n",
    "+ The variability across the groups is about equal (and use graphical diagnostics to check if these conditions are met.): Without graphical diagnostics, it is evident from the \"std\" column that variability is not met.  \n",
    "[Conditions required for ANOVA test](https://www.coursera.org/learn/inferential-statistics-intro/supplement/ctr7d/lesson-learning-objectives)* are not satisfied. Hence we can not conduct ANOVA test for comparing means average time across permit types.         \n",
    "* : You might need to login and enroll into the course to access the link"
   ]
  },
  {
   "cell_type": "code",
   "execution_count": 65,
   "metadata": {},
   "outputs": [
    {
     "name": "stdout",
     "output_type": "stream",
     "text": [
      "<class 'pandas.core.frame.DataFrame'>\n",
      "Int64Index: 181290 entries, 559 to 184415\n",
      "Data columns (total 28 columns):\n",
      "perm_typ            181290 non-null int64\n",
      "perm_typ_def        181290 non-null object\n",
      "file_dt             181290 non-null datetime64[ns]\n",
      "issue_dt            169298 non-null datetime64[ns]\n",
      "perm_exp_dt         136378 non-null datetime64[ns]\n",
      "strct_notif         181290 non-null object\n",
      "no_exist_stry       143053 non-null float64\n",
      "no_prop_stry        142981 non-null float64\n",
      "fire_only_permit    181290 non-null object\n",
      "est_cost            147403 non-null float64\n",
      "rev_cost            181290 non-null float64\n",
      "exist_use           181290 non-null object\n",
      "prop_use            181290 non-null object\n",
      "plansets            148041 non-null float64\n",
      "exist_const_type    142495 non-null float64\n",
      "prop_const_type     142712 non-null float64\n",
      "site_permit         181290 non-null object\n",
      "neighborhoods       181290 non-null object\n",
      "sup_dist            181290 non-null object\n",
      "location            181290 non-null object\n",
      "time_taken          181290 non-null int64\n",
      "file_day            181290 non-null object\n",
      "issue_day           169298 non-null object\n",
      "month               181290 non-null int64\n",
      "year                181290 non-null int64\n",
      "issue_mod           181290 non-null datetime64[ns]\n",
      "quarter             181290 non-null int64\n",
      "log_rev_cost        181290 non-null float64\n",
      "dtypes: datetime64[ns](4), float64(8), int64(5), object(11)\n",
      "memory usage: 40.1+ MB\n"
     ]
    }
   ],
   "source": [
    "sfr = sfr.loc[sfr['location'] != (0, 0),:]\n",
    "sfr.info()"
   ]
  },
  {
   "cell_type": "code",
   "execution_count": 66,
   "metadata": {},
   "outputs": [],
   "source": [
    "sfr = sfr.assign(longitude=sfr.location.apply(lambda x:x[0]))\n",
    "sfr = sfr.assign(latitude=sfr.location.apply(lambda x: x[1]))"
   ]
  },
  {
   "cell_type": "code",
   "execution_count": 67,
   "metadata": {},
   "outputs": [],
   "source": [
    "sfr.drop('location',axis=1,inplace=True)"
   ]
  },
  {
   "cell_type": "code",
   "execution_count": 68,
   "metadata": {},
   "outputs": [],
   "source": [
    "sfr[sfr['exist_use'] != sfr['prop_use']].groupby('perm_typ').time_taken.describe()\n",
    "sfr = sfr.assign(dff_use = 1*(sfr['exist_use'] != sfr['prop_use']))\n",
    "sfr = sfr.assign(diff_stry=1*(sfr.no_prop_stry != sfr.no_exist_stry))"
   ]
  },
  {
   "cell_type": "code",
   "execution_count": 69,
   "metadata": {},
   "outputs": [],
   "source": [
    "def convert_categories(y) :\n",
    "    '''Function to convert a numerical variable into 5 categories''' \n",
    "    if y < 8:\n",
    "        z = 0\n",
    "    elif y < 92 :\n",
    "        z = 1\n",
    "    else :\n",
    "        z = 2\n",
    "    return z\n",
    "def convert_bin_categories(y) :\n",
    "    '''Function to convert a numerical variable into 2 categories'''\n",
    "    if y < 15:\n",
    "        z = 0\n",
    "    else :\n",
    "        z = 1\n",
    "    return z\n",
    "def pre_process_Xy(Xarray,yarray,test_tr_split_size=0.4,dev_test_split_size=0.5) :\n",
    "    '''Function to split given data into test and (train, dev) set'''\n",
    "    Xtr,Xte,ytr,yte = train_test_split(Xarray,yarray,test_size=test_tr_split_size,random_state=42,stratify=yarray)\n",
    "    Xte,Xdev,yte,ydev = train_test_split(Xte,yte,test_size=dev_test_split_size,random_state=21,stratify=yte)\n",
    "    return Xtr,Xdev,Xte,ytr,ydev,yte\n",
    "\n",
    "def find_auc_score(model,Xtrain,ytrain,Xdev,ydev,color='b',name='LogReg') :\n",
    "    '''Function to plot Receiver characteristics and find AUC'''\n",
    "    yscore = model.predict_proba(Xtrain)\n",
    "    false_positive_rate, true_positive_rate, thresholds = roc_curve(ytrain, yscore[:,1],pos_label=1)\n",
    "    roc_auc = auc(false_positive_rate, true_positive_rate)\n",
    "    plt.title('Receiver Operating Characteristic')\n",
    "    plt.plot(false_positive_rate, true_positive_rate,color ,label='AUC '+name+' = %0.2f'% roc_auc)\n",
    "    plt.legend(loc='lower right')\n",
    "    plt.plot([0,1],[0,1],'r--')\n",
    "    plt.xlim([-0.01,1.01])\n",
    "    plt.ylim([-0.01,1.01])\n",
    "    plt.ylabel('True Positive Rate')\n",
    "    plt.xlabel('False Positive Rate')\n",
    "    return np.concatenate((false_positive_rate,true_positive_rate))"
   ]
  },
  {
   "cell_type": "code",
   "execution_count": 70,
   "metadata": {},
   "outputs": [],
   "source": [
    "X = sfr[['log_rev_cost','perm_typ','file_day','month','plansets','site_permit','fire_only_permit','strct_notif','exist_const_type',\n",
    "         'prop_const_type','dff_use','diff_stry','longitude','latitude']].copy()"
   ]
  },
  {
   "cell_type": "code",
   "execution_count": 71,
   "metadata": {},
   "outputs": [
    {
     "data": {
      "text/plain": [
       "0    0.709471\n",
       "1    0.149859\n",
       "2    0.140670\n",
       "Name: time_taken, dtype: float64"
      ]
     },
     "execution_count": 71,
     "metadata": {},
     "output_type": "execute_result"
    }
   ],
   "source": [
    "y = sfr.time_taken.copy()\n",
    "y = y.apply(convert_categories)\n",
    "y.value_counts()/y.count()"
   ]
  },
  {
   "cell_type": "code",
   "execution_count": 72,
   "metadata": {},
   "outputs": [],
   "source": [
    "Xlr = X.copy()\n",
    "cat_vars = ['perm_typ','file_day','month','plansets','exist_const_type','prop_const_type']\n",
    "for var in cat_vars:\n",
    "    cat_list='var'+'_'+var\n",
    "    cat_list = pd.get_dummies(Xlr[var], prefix=var,drop_first=True)\n",
    "    X1=Xlr.join(cat_list)\n",
    "    Xlr=X1\n",
    "Xlr.drop(cat_vars,axis=1,inplace=True) # Originals need to be dropped\n",
    "Xlr['site_permit'] = Xlr['site_permit'].astype('category').cat.codes\n",
    "Xlr['fire_only_permit'] = Xlr['fire_only_permit'].astype('category').cat.codes\n",
    "Xlr['strct_notif'] = Xlr['strct_notif'].astype('category').cat.codes"
   ]
  },
  {
   "cell_type": "code",
   "execution_count": 73,
   "metadata": {},
   "outputs": [
    {
     "name": "stdout",
     "output_type": "stream",
     "text": [
      "0.8093386287164211\n",
      "0.8104418335263942\n"
     ]
    }
   ],
   "source": [
    "from sklearn.metrics import precision_recall_curve\n",
    "from sklearn.metrics import average_precision_score\n",
    "lr = LogisticRegression(C=1)\n",
    "Xl_tr,Xl_dev,Xl_te,yl_tr,yl_dev,yl_te = pre_process_Xy(Xlr,y)\n",
    "lr.fit(Xl_tr,yl_tr)\n",
    "Xpre = lr.predict(Xl_tr)\n",
    "print(accuracy_score(yl_tr,Xpre))\n",
    "Xrr=lr.predict(Xl_dev)\n",
    "print(accuracy_score(yl_dev,Xrr))"
   ]
  },
  {
   "cell_type": "code",
   "execution_count": 74,
   "metadata": {},
   "outputs": [],
   "source": [
    "X['file_day'] = X['file_day'].astype('category').cat.codes\n",
    "X['plansets'] = X['plansets'].astype('category').cat.codes\n",
    "X['site_permit'] = X['site_permit'].astype('category').cat.codes\n",
    "X['fire_only_permit'] = X['fire_only_permit'].astype('category').cat.codes\n",
    "X['strct_notif'] = X['strct_notif'].astype('category').cat.codes\n",
    "X['exist_const_type'] = X['exist_const_type'].astype('category').cat.codes\n",
    "X['prop_const_type'] = X['prop_const_type'].astype('category').cat.codes"
   ]
  },
  {
   "cell_type": "code",
   "execution_count": 75,
   "metadata": {},
   "outputs": [],
   "source": [
    "Xtr,Xdev,Xte,ytr,ydev,yte = pre_process_Xy(X,y) "
   ]
  },
  {
   "cell_type": "code",
   "execution_count": 76,
   "metadata": {},
   "outputs": [
    {
     "name": "stdout",
     "output_type": "stream",
     "text": [
      "0.8330023718903414\n",
      "0.8230459484803354\n",
      "Wall time: 1.2 s\n"
     ]
    },
    {
     "data": {
      "image/png": "[encoded data removed]",
      "text/plain": [
       "<matplotlib.figure.Figure at 0x2a798a0c668>"
      ]
     },
     "metadata": {},
     "output_type": "display_data"
    }
   ],
   "source": [
    "%%time\n",
    "\n",
    "from sklearn.tree import DecisionTreeClassifier\n",
    "tr = DecisionTreeClassifier(min_weight_fraction_leaf=0.001)\n",
    "tr.fit(Xtr,ytr)\n",
    "Xpre = tr.predict(Xtr)\n",
    "print(accuracy_score(ytr,Xpre))\n",
    "Xrr=tr.predict(Xdev)\n",
    "print(accuracy_score(ydev,Xrr))\n",
    "#precision, recall, _ = precision_recall_curve(ydev, Xrr)\n",
    "ret_ar_tr = find_auc_score(tr,Xtr,ytr,Xdev,ydev,name='DecisionTree')\n"
   ]
  },
  {
   "cell_type": "code",
   "execution_count": 77,
   "metadata": {},
   "outputs": [],
   "source": [
    "from sklearn.ensemble import BaggingClassifier\n",
    "bag = BaggingClassifier(base_estimator=tr, n_estimators=50,max_samples=10000,max_features=4,bootstrap=True,bootstrap_features=False,n_jobs=1,random_state=1)"
   ]
  },
  {
   "cell_type": "code",
   "execution_count": 78,
   "metadata": {},
   "outputs": [
    {
     "name": "stdout",
     "output_type": "stream",
     "text": [
      "0.7794785518598194\n",
      "0.7784764741574274\n",
      "Wall time: 4.5 s\n"
     ]
    },
    {
     "data": {
      "image/png": "[encoded data removed]",
      "text/plain": [
       "<matplotlib.figure.Figure at 0x2a794e6b630>"
      ]
     },
     "metadata": {},
     "output_type": "display_data"
    }
   ],
   "source": [
    "%%time\n",
    "bag.fit(Xtr,ytr)\n",
    "Xpre = bag.predict(Xtr)\n",
    "print(accuracy_score(ytr,Xpre))\n",
    "Xrr=bag.predict(Xdev)\n",
    "print(accuracy_score(ydev,Xrr))\n",
    "ret_ar_bg = find_auc_score(bag,Xdev,ydev,Xdev,ydev,'m','Bagging')"
   ]
  },
  {
   "cell_type": "code",
   "execution_count": 79,
   "metadata": {},
   "outputs": [
    {
     "name": "stdout",
     "output_type": "stream",
     "text": [
      "0.8357695772886903\n",
      "0.829306635776932\n",
      "[[73469  3613    90]\n",
      " [ 8405  6874  1022]\n",
      " [ 2626  2108 10567]]\n",
      "             precision    recall  f1-score   support\n",
      "\n",
      "          0       0.87      0.95      0.91     25724\n",
      "          1       0.51      0.40      0.45      5433\n",
      "          2       0.90      0.69      0.78      5101\n",
      "\n",
      "avg / total       0.82      0.83      0.82     36258\n",
      "\n",
      "Wall time: 1min 8s\n"
     ]
    }
   ],
   "source": [
    "%%time\n",
    "rf = RandomForestClassifier(300,'entropy',n_jobs=2,max_features=7,min_weight_fraction_leaf=0.001)\n",
    "rf.fit(Xtr,ytr)\n",
    "Xpre = rf.predict(Xtr)\n",
    "print(accuracy_score(ytr,Xpre))\n",
    "Xrr=rf.predict(Xdev)\n",
    "print(accuracy_score(ydev,Xrr))\n",
    "print(confusion_matrix(ytr,Xpre))\n",
    "print(classification_report(ydev,Xrr))"
   ]
  },
  {
   "cell_type": "code",
   "execution_count": 80,
   "metadata": {},
   "outputs": [
    {
     "name": "stdout",
     "output_type": "stream",
     "text": [
      "0.8245904352142975\n",
      "0.8263004026697557\n",
      "Wall time: 14.5 s\n"
     ]
    }
   ],
   "source": [
    "%%time\n",
    "gb = GradientBoostingClassifier(n_estimators=30) #'exponential',learning_rate=0.08,max_depth=4,min_weight_fraction_leaf=0.001\n",
    "gb.fit(Xtr,ytr)\n",
    "Xpre = gb.predict(Xtr)\n",
    "print(accuracy_score(ytr,Xpre))\n",
    "Xrr=gb.predict(Xdev)\n",
    "print(accuracy_score(ydev,Xrr))"
   ]
  },
  {
   "cell_type": "code",
   "execution_count": 81,
   "metadata": {
    "scrolled": true
   },
   "outputs": [
    {
     "data": {
      "image/png": "[encoded data removed]",
      "text/plain": [
       "<matplotlib.figure.Figure at 0x2a79c9dce48>"
      ]
     },
     "metadata": {},
     "output_type": "display_data"
    }
   ],
   "source": [
    "ret_ar_rf = find_auc_score(rf,Xdev,ydev,Xdev,ydev,name='RandomForest')\n",
    "ret_ar_lr = find_auc_score(lr,Xl_dev,yl_dev,Xl_dev,yl_dev,'g') \n",
    "ret_ar_gb = find_auc_score(gb,Xdev,ydev,Xdev,ydev,'m','GradientBoosting')  "
   ]
  },
  {
   "cell_type": "code",
   "execution_count": 82,
   "metadata": {},
   "outputs": [
    {
     "data": {
      "text/plain": [
       "plansets            0.380399\n",
       "perm_typ            0.224549\n",
       "log_rev_cost        0.210630\n",
       "fire_only_permit    0.056987\n",
       "latitude            0.026643\n",
       "site_permit         0.026073\n",
       "longitude           0.022102\n",
       "exist_const_type    0.012352\n",
       "prop_const_type     0.011289\n",
       "month               0.010351\n",
       "strct_notif         0.005681\n",
       "file_day            0.005505\n",
       "dff_use             0.003982\n",
       "diff_stry           0.003457\n",
       "dtype: float64"
      ]
     },
     "execution_count": 82,
     "metadata": {},
     "output_type": "execute_result"
    }
   ],
   "source": [
    "feature_labels = np.array(list(X.columns))\n",
    "pd.Series(rf.feature_importances_,index=feature_labels).sort_values(ascending=False)"
   ]
  },
  {
   "cell_type": "code",
   "execution_count": 83,
   "metadata": {},
   "outputs": [
    {
     "data": {
      "image/png": "[encoded data removed]",
      "text/plain": [
       "<matplotlib.figure.Figure at 0x2a794ed7ac8>"
      ]
     },
     "metadata": {},
     "output_type": "display_data"
    }
   ],
   "source": [
    "(pd.Series(rf.feature_importances_,index=feature_labels).sort_values(ascending=True)).plot.barh(color='g')\n",
    "_ = plt.title('Feature Importance in Descending Order, From RF model')"
   ]
  },
  {
   "cell_type": "markdown",
   "metadata": {},
   "source": [
    "**References**\n",
    "1. [Precision Recall Curve](http://scikit-learn.org/stable/auto_examples/model_selection/plot_precision_recall.html)\n",
    "2. [Population proportions](https://www.coursera.org/learn/inferential-statistics-intro/supplement/AphlU/lesson-learning-objectives)"
   ]
  },
  {
   "cell_type": "code",
   "execution_count": null,
   "metadata": {},
   "outputs": [],
   "source": []
  }
 ],
 "metadata": {
  "kernelspec": {
   "display_name": "Python 3",
   "language": "python",
   "name": "python3"
  },
  "language_info": {
   "codemirror_mode": {
    "name": "ipython",
    "version": 3
   },
   "file_extension": ".py",
   "mimetype": "text/x-python",
   "name": "python",
   "nbconvert_exporter": "python",
   "pygments_lexer": "ipython3",
   "version": "3.6.4"
  }
 },
 "nbformat": 4,
 "nbformat_minor": 2
}
