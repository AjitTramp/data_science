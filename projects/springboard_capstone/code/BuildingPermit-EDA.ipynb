{
 "cells": [
  {
   "cell_type": "markdown",
   "metadata": {},
   "source": [
    "# **Predicting Building Permit Issuance Times**\n",
    "##                                                                                             ...and answering many questions!\n"
   ]
  },
  {
   "cell_type": "markdown",
   "metadata": {
    "ExecuteTime": {
     "end_time": "2018-02-18T03:25:41.260358Z",
     "start_time": "2018-02-18T03:25:41.255344Z"
    }
   },
   "source": [
    "**A Data Science Project**     \n",
    "*by Aparna Shastry*"
   ]
  },
  {
   "cell_type": "markdown",
   "metadata": {},
   "source": [
    "## Content\n",
    "+ Introduction / Scope\n",
    "+ Exploratory Data Analysis\n",
    "+ Conclusions of EDA\n",
    "+ Inferential Statistics\n",
    "+ Conclusions of Inferential Statistics"
   ]
  },
  {
   "cell_type": "markdown",
   "metadata": {},
   "source": [
    "### Introduction / Scope of this Notebook\n",
    "A detailed introduction to the problem, data and data cleaning part is explained in the first part of the project notebook in the same folder, by name BuildingPermitSFODataWrangling.ipynb.  \n",
    "This notebook explains the numerical and visual Exploratory Data Analysis done on the cleaned data"
   ]
  },
  {
   "cell_type": "code",
   "execution_count": 1,
   "metadata": {
    "ExecuteTime": {
     "end_time": "2018-02-20T03:02:49.201132Z",
     "start_time": "2018-02-20T03:02:41.652462Z"
    }
   },
   "outputs": [],
   "source": [
    "import os\n",
    "import pandas as pd\n",
    "import numpy as np\n",
    "import time\n",
    "import datetime\n",
    "\n",
    "%matplotlib inline\n",
    "import matplotlib\n",
    "import matplotlib.pyplot as plt\n",
    "\n",
    "import seaborn as sns\n",
    "sns.set_style(style='darkgrid')\n",
    "sns.set_context(\"talk\")\n",
    "\n",
    "from scipy import stats"
   ]
  },
  {
   "cell_type": "markdown",
   "metadata": {},
   "source": [
    "## **Exploratory Data Analysis:**   \n",
    "1) What is the best day of the week to visit DBI, to file an application form? Is the popular belief “mid-week (Wednesday) is the least crowded and hence best to visit government or city agencies” true in this case?    \n",
    "2) What type of permits are mostly issued on the same day of filing?     \n",
    "3) Which types take least average time issue if not issued on the same day?    \n",
    "4) Is there any particular quarter of each year which has higher application counts or average wait times? Can it be justified from the business knowledge?    \n",
    "5) How does the wait time  vary across plansets?  \n",
    "6) How is permit times related to cost?       \n",
    "7) How is the wait time related to a few other columns?    "
   ]
  },
  {
   "cell_type": "code",
   "execution_count": 2,
   "metadata": {},
   "outputs": [],
   "source": [
    "# Retrieve dataframe from previous notebook, datawrangling.\n",
    "%store -r sfr"
   ]
  },
  {
   "cell_type": "code",
   "execution_count": 3,
   "metadata": {},
   "outputs": [
    {
     "name": "stdout",
     "output_type": "stream",
     "text": [
      "<class 'pandas.core.frame.DataFrame'>\n",
      "Int64Index: 196806 entries, 0 to 198899\n",
      "Data columns (total 24 columns):\n",
      "perm_typ            196806 non-null int64\n",
      "perm_typ_def        196806 non-null object\n",
      "file_dt             196806 non-null datetime64[ns]\n",
      "issue_dt            183960 non-null datetime64[ns]\n",
      "cur_st              196806 non-null object\n",
      "strct_notif         196806 non-null object\n",
      "no_exist_stry       154195 non-null float64\n",
      "no_prop_stry        154150 non-null float64\n",
      "fire_only_permit    196806 non-null object\n",
      "est_cost            158767 non-null float64\n",
      "rev_cost            196806 non-null float64\n",
      "exist_use           196806 non-null object\n",
      "prop_use            196806 non-null object\n",
      "plansets            159498 non-null float64\n",
      "exist_const_type    153629 non-null float64\n",
      "prop_const_type     153863 non-null float64\n",
      "site_permit         196806 non-null object\n",
      "time_taken          183960 non-null float64\n",
      "file_day            196806 non-null object\n",
      "issue_day           183960 non-null object\n",
      "month               196806 non-null int64\n",
      "year                196806 non-null int64\n",
      "latitude            196806 non-null float64\n",
      "longitude           196806 non-null float64\n",
      "dtypes: datetime64[ns](2), float64(10), int64(3), object(9)\n",
      "memory usage: 37.5+ MB\n"
     ]
    }
   ],
   "source": [
    "sfr.info()"
   ]
  },
  {
   "cell_type": "markdown",
   "metadata": {},
   "source": [
    "#### Time Taken Variable"
   ]
  },
  {
   "cell_type": "code",
   "execution_count": 4,
   "metadata": {},
   "outputs": [
    {
     "data": {
      "text/plain": [
       "count    183960.00\n",
       "mean         26.05\n",
       "std          91.06\n",
       "min           0.00\n",
       "25%           0.00\n",
       "50%           0.00\n",
       "75%           6.00\n",
       "max        1740.00\n",
       "Name: time_taken, dtype: float64"
      ]
     },
     "execution_count": 4,
     "metadata": {},
     "output_type": "execute_result"
    }
   ],
   "source": [
    "np.round(sfr.time_taken.describe(),2)"
   ]
  },
  {
   "cell_type": "markdown",
   "metadata": {},
   "source": [
    "+ The average wait time is 26 days\n",
    "+ Standard deviation is too high at 91, and that is due to a very few large wait outliers\n",
    "\n",
    "This variable needs a bit of scrutiny before its relation to other variables be understood. We will see how it varies across the months and years."
   ]
  },
  {
   "cell_type": "code",
   "execution_count": 5,
   "metadata": {},
   "outputs": [
    {
     "name": "stdout",
     "output_type": "stream",
     "text": [
      "Average wait time by year:\n",
      "year\n",
      "2013    26.44\n",
      "2014    31.84\n",
      "2015    33.61\n",
      "2016    28.66\n",
      "2017    12.42\n",
      "2018     2.15\n",
      "Name: time_taken, dtype: float64\n",
      "Total permits processed by year:\n",
      "year\n",
      "2013    33859\n",
      "2014    34925\n",
      "2015    37991\n",
      "2016    36751\n",
      "2017    35919\n",
      "2018     4515\n",
      "Name: time_taken, dtype: int64\n"
     ]
    }
   ],
   "source": [
    "count_appl_month = sfr.groupby(['year','month'])['time_taken'].count()\n",
    "avg_days_month = sfr.groupby(['year','month'])['time_taken'].mean()\n",
    "\n",
    "print('Average wait time by year:')\n",
    "print(np.round(sfr.groupby('year')['time_taken'].mean(),2))\n",
    "\n",
    "print('Total permits processed by year:')\n",
    "print(np.round(sfr.groupby('year')['time_taken'].count(),2))"
   ]
  },
  {
   "cell_type": "code",
   "execution_count": 6,
   "metadata": {
    "ExecuteTime": {
     "start_time": "2018-02-20T00:34:44.056Z"
    }
   },
   "outputs": [
    {
     "data": {
      "text/plain": [
       "Text(0.5,1,'Normalized Permit Count')"
      ]
     },
     "execution_count": 6,
     "metadata": {},
     "output_type": "execute_result"
    },
    {
     "data": {
      "image/png": "[encoded data removed]",
      "text/plain": [
       "<matplotlib.figure.Figure at 0x2ed18db82e8>"
      ]
     },
     "metadata": {},
     "output_type": "display_data"
    },
    {
     "data": {
      "image/png": "[encoded data removed]",
      "text/plain": [
       "<matplotlib.figure.Figure at 0x2ed0484c6a0>"
      ]
     },
     "metadata": {},
     "output_type": "display_data"
    }
   ],
   "source": [
    "# Bar Plots of the same\n",
    "(avg_days_month.groupby('year').mean()/avg_days_month.groupby('year').mean().max()).plot.bar()\n",
    "plt.title('Normalized Average wait time')\n",
    "plt.figure()\n",
    "(count_appl_month.groupby('year').sum()/count_appl_month.groupby('year').sum().max()).plot.bar()\n",
    "plt.title('Normalized Permit Count')"
   ]
  },
  {
   "cell_type": "markdown",
   "metadata": {},
   "source": [
    "We can drop year 2018 as it has been only 2 months, so this is a different case where delays can at most be 59 days.\n",
    "We will analyze 2017 to get more insight. \n",
    "\n",
    "There is drastic reduction in wait time for the year 2017, although the counts have remained at similar levels across the years. In 2016, there were many posts talking about permit delays causing major problems to builders and contractors. A few measures might have been taken in 2017, to reduce the delays. Tried to find out from the San Francisco city if this is true and what is the reason for improvement in issuing process. However, even if this was the case, there is another issue with the bar charts above. The charts will consider data points that have valid values for time_taken column. Time difference is valid only if the permit was issued at the time of data set download.\n",
    "\n",
    "To validate this, let us, just fill issue date NaNs with today's date and see how the statistics change."
   ]
  },
  {
   "cell_type": "code",
   "execution_count": 7,
   "metadata": {},
   "outputs": [],
   "source": [
    "sfr = sfr.loc[sfr['file_dt'] < 'Oct 1, 2017',:] "
   ]
  },
  {
   "cell_type": "code",
   "execution_count": 8,
   "metadata": {},
   "outputs": [],
   "source": [
    "sfr = sfr.assign(issue_mod = sfr['issue_dt'].fillna(datetime.date.today()) )\n",
    "sfr = sfr.assign(time_taken_filled = (sfr['issue_mod'] - sfr['file_dt']).dt.days )"
   ]
  },
  {
   "cell_type": "code",
   "execution_count": 9,
   "metadata": {},
   "outputs": [
    {
     "data": {
      "text/plain": [
       "count    180811.00\n",
       "mean         67.13\n",
       "std         220.40\n",
       "min           0.00\n",
       "25%           0.00\n",
       "50%           0.00\n",
       "75%          13.00\n",
       "max        1897.00\n",
       "Name: time_taken_filled, dtype: float64"
      ]
     },
     "execution_count": 9,
     "metadata": {},
     "output_type": "execute_result"
    }
   ],
   "source": [
    "np.round(sfr.time_taken_filled.describe(),2)"
   ]
  },
  {
   "cell_type": "markdown",
   "metadata": {},
   "source": [
    "Compare the mean,standard deviation and max values of this with the earlier one! This is again hypothetical assuming all the pending ones are issued today. "
   ]
  },
  {
   "cell_type": "code",
   "execution_count": 10,
   "metadata": {},
   "outputs": [
    {
     "data": {
      "text/html": [
       "<div>\n",
       "<style scoped>\n",
       "    .dataframe tbody tr th:only-of-type {\n",
       "        vertical-align: middle;\n",
       "    }\n",
       "\n",
       "    .dataframe tbody tr th {\n",
       "        vertical-align: top;\n",
       "    }\n",
       "\n",
       "    .dataframe thead th {\n",
       "        text-align: right;\n",
       "    }\n",
       "</style>\n",
       "<table border=\"1\" class=\"dataframe\">\n",
       "  <thead>\n",
       "    <tr style=\"text-align: right;\">\n",
       "      <th></th>\n",
       "      <th>count</th>\n",
       "      <th>mean</th>\n",
       "      <th>std</th>\n",
       "      <th>min</th>\n",
       "      <th>25%</th>\n",
       "      <th>50%</th>\n",
       "      <th>75%</th>\n",
       "      <th>max</th>\n",
       "    </tr>\n",
       "    <tr>\n",
       "      <th>year</th>\n",
       "      <th></th>\n",
       "      <th></th>\n",
       "      <th></th>\n",
       "      <th></th>\n",
       "      <th></th>\n",
       "      <th></th>\n",
       "      <th></th>\n",
       "      <th></th>\n",
       "    </tr>\n",
       "  </thead>\n",
       "  <tbody>\n",
       "    <tr>\n",
       "      <th>2013</th>\n",
       "      <td>33859.0</td>\n",
       "      <td>26.44</td>\n",
       "      <td>104.74</td>\n",
       "      <td>0.0</td>\n",
       "      <td>0.0</td>\n",
       "      <td>0.0</td>\n",
       "      <td>5.0</td>\n",
       "      <td>1740.0</td>\n",
       "    </tr>\n",
       "    <tr>\n",
       "      <th>2014</th>\n",
       "      <td>34925.0</td>\n",
       "      <td>31.84</td>\n",
       "      <td>114.24</td>\n",
       "      <td>0.0</td>\n",
       "      <td>0.0</td>\n",
       "      <td>0.0</td>\n",
       "      <td>7.0</td>\n",
       "      <td>1421.0</td>\n",
       "    </tr>\n",
       "    <tr>\n",
       "      <th>2015</th>\n",
       "      <td>37991.0</td>\n",
       "      <td>33.61</td>\n",
       "      <td>101.30</td>\n",
       "      <td>0.0</td>\n",
       "      <td>0.0</td>\n",
       "      <td>0.0</td>\n",
       "      <td>9.0</td>\n",
       "      <td>1071.0</td>\n",
       "    </tr>\n",
       "    <tr>\n",
       "      <th>2016</th>\n",
       "      <td>36751.0</td>\n",
       "      <td>28.66</td>\n",
       "      <td>81.93</td>\n",
       "      <td>0.0</td>\n",
       "      <td>0.0</td>\n",
       "      <td>0.0</td>\n",
       "      <td>9.0</td>\n",
       "      <td>750.0</td>\n",
       "    </tr>\n",
       "    <tr>\n",
       "      <th>2017</th>\n",
       "      <td>27306.0</td>\n",
       "      <td>14.25</td>\n",
       "      <td>40.91</td>\n",
       "      <td>0.0</td>\n",
       "      <td>0.0</td>\n",
       "      <td>0.0</td>\n",
       "      <td>5.0</td>\n",
       "      <td>404.0</td>\n",
       "    </tr>\n",
       "  </tbody>\n",
       "</table>\n",
       "</div>"
      ],
      "text/plain": [
       "        count   mean     std  min  25%  50%  75%     max\n",
       "year                                                    \n",
       "2013  33859.0  26.44  104.74  0.0  0.0  0.0  5.0  1740.0\n",
       "2014  34925.0  31.84  114.24  0.0  0.0  0.0  7.0  1421.0\n",
       "2015  37991.0  33.61  101.30  0.0  0.0  0.0  9.0  1071.0\n",
       "2016  36751.0  28.66   81.93  0.0  0.0  0.0  9.0   750.0\n",
       "2017  27306.0  14.25   40.91  0.0  0.0  0.0  5.0   404.0"
      ]
     },
     "execution_count": 10,
     "metadata": {},
     "output_type": "execute_result"
    }
   ],
   "source": [
    "np.round(sfr.groupby('year').time_taken.describe(),2)"
   ]
  },
  {
   "cell_type": "markdown",
   "metadata": {},
   "source": [
    "**Note:** These numbers do not look good in box plots because of median being at 0 and even 3rd quantile being at very small value"
   ]
  },
  {
   "cell_type": "code",
   "execution_count": 11,
   "metadata": {},
   "outputs": [
    {
     "data": {
      "text/html": [
       "<div>\n",
       "<style scoped>\n",
       "    .dataframe tbody tr th:only-of-type {\n",
       "        vertical-align: middle;\n",
       "    }\n",
       "\n",
       "    .dataframe tbody tr th {\n",
       "        vertical-align: top;\n",
       "    }\n",
       "\n",
       "    .dataframe thead th {\n",
       "        text-align: right;\n",
       "    }\n",
       "</style>\n",
       "<table border=\"1\" class=\"dataframe\">\n",
       "  <thead>\n",
       "    <tr style=\"text-align: right;\">\n",
       "      <th></th>\n",
       "      <th>count</th>\n",
       "      <th>mean</th>\n",
       "      <th>std</th>\n",
       "      <th>min</th>\n",
       "      <th>25%</th>\n",
       "      <th>50%</th>\n",
       "      <th>75%</th>\n",
       "      <th>max</th>\n",
       "    </tr>\n",
       "    <tr>\n",
       "      <th>year</th>\n",
       "      <th></th>\n",
       "      <th></th>\n",
       "      <th></th>\n",
       "      <th></th>\n",
       "      <th></th>\n",
       "      <th></th>\n",
       "      <th></th>\n",
       "      <th></th>\n",
       "    </tr>\n",
       "  </thead>\n",
       "  <tbody>\n",
       "    <tr>\n",
       "      <th>2013</th>\n",
       "      <td>34852.0</td>\n",
       "      <td>74.352060</td>\n",
       "      <td>298.758620</td>\n",
       "      <td>0.0</td>\n",
       "      <td>0.0</td>\n",
       "      <td>0.0</td>\n",
       "      <td>6.0</td>\n",
       "      <td>1897.0</td>\n",
       "    </tr>\n",
       "    <tr>\n",
       "      <th>2014</th>\n",
       "      <td>36178.0</td>\n",
       "      <td>77.090138</td>\n",
       "      <td>264.594821</td>\n",
       "      <td>0.0</td>\n",
       "      <td>0.0</td>\n",
       "      <td>0.0</td>\n",
       "      <td>9.0</td>\n",
       "      <td>1532.0</td>\n",
       "    </tr>\n",
       "    <tr>\n",
       "      <th>2015</th>\n",
       "      <td>39662.0</td>\n",
       "      <td>73.352352</td>\n",
       "      <td>214.864529</td>\n",
       "      <td>0.0</td>\n",
       "      <td>0.0</td>\n",
       "      <td>0.0</td>\n",
       "      <td>14.0</td>\n",
       "      <td>1167.0</td>\n",
       "    </tr>\n",
       "    <tr>\n",
       "      <th>2016</th>\n",
       "      <td>39204.0</td>\n",
       "      <td>64.415850</td>\n",
       "      <td>161.745483</td>\n",
       "      <td>0.0</td>\n",
       "      <td>0.0</td>\n",
       "      <td>0.0</td>\n",
       "      <td>18.0</td>\n",
       "      <td>800.0</td>\n",
       "    </tr>\n",
       "    <tr>\n",
       "      <th>2017</th>\n",
       "      <td>30915.0</td>\n",
       "      <td>42.811063</td>\n",
       "      <td>91.280464</td>\n",
       "      <td>0.0</td>\n",
       "      <td>0.0</td>\n",
       "      <td>0.0</td>\n",
       "      <td>20.0</td>\n",
       "      <td>435.0</td>\n",
       "    </tr>\n",
       "  </tbody>\n",
       "</table>\n",
       "</div>"
      ],
      "text/plain": [
       "        count       mean         std  min  25%  50%   75%     max\n",
       "year                                                             \n",
       "2013  34852.0  74.352060  298.758620  0.0  0.0  0.0   6.0  1897.0\n",
       "2014  36178.0  77.090138  264.594821  0.0  0.0  0.0   9.0  1532.0\n",
       "2015  39662.0  73.352352  214.864529  0.0  0.0  0.0  14.0  1167.0\n",
       "2016  39204.0  64.415850  161.745483  0.0  0.0  0.0  18.0   800.0\n",
       "2017  30915.0  42.811063   91.280464  0.0  0.0  0.0  20.0   435.0"
      ]
     },
     "execution_count": 11,
     "metadata": {},
     "output_type": "execute_result"
    }
   ],
   "source": [
    "sfr.groupby('year').time_taken_filled.describe()"
   ]
  },
  {
   "cell_type": "markdown",
   "metadata": {},
   "source": [
    "**Observations:**\n",
    "The above two tables clearly show the difference in descriptive statistics with and without putting a hypothetical issue date to blank cells.\n",
    "\n",
    "+ Just note how the count itself has increased by a few thousands in each year. In 2017, the difference is highest at 5000+, for obvious reason - it has not been long enough since the permits were filed.\n",
    "+ Mean wait time and Standard deviation has blown up too.\n",
    "+ But the number of permits with longer wait times are not big enough to shift the median. Surely, still at least 50% of them get processed on the same day, in every year.\n",
    "+ The max column in the second table is hypothetical assuming pending ones were issued today."
   ]
  },
  {
   "cell_type": "code",
   "execution_count": 12,
   "metadata": {},
   "outputs": [],
   "source": [
    "def divide_time_taken(sfr) :\n",
    "    perc_issued_table = np.empty((5,2),dtype=float)\n",
    "    perc_issued_table[0,0] = round(100*(sfr.time_taken == 0).sum()/sfr.time_taken.count(),2) # Count counts only non nulls\n",
    "    perc_issued_table[0,1] = round(100*(sfr.time_taken_filled == 0).sum()/sfr.time_taken_filled.count(),2)\n",
    "    perc_issued_table[1,0] = round(100*(sfr.time_taken < 15).sum()/sfr.time_taken.count(),2) # Count counts only non nulls\n",
    "    perc_issued_table[1,1] = round(100*(sfr.time_taken_filled < 15).sum()/sfr.time_taken_filled.count(),2) \n",
    "    perc_issued_table[2,0] = round(100*(sfr.time_taken < 91).sum()/sfr.time_taken.count(),2) # Count counts only non nulls\n",
    "    perc_issued_table[2,1] = round(100*(sfr.time_taken_filled < 91).sum()/sfr.time_taken_filled.count(),2)\n",
    "    perc_issued_table[3,0] = round(100*(sfr.time_taken < 182).sum()/sfr.time_taken.count(),2) # Count counts only non nulls\n",
    "    perc_issued_table[3,1] = round(100*(sfr.time_taken_filled < 182).sum()/sfr.time_taken_filled.count(),2)\n",
    "    perc_issued_table[4,0] = round(100*(sfr.time_taken < 366).sum()/sfr.time_taken.count(),2) # Count counts only non nulls\n",
    "    perc_issued_table[4,1] = round(100*(sfr.time_taken_filled < 366).sum()/sfr.time_taken_filled.count(),2) # Count counts only non nulls\n",
    "    return perc_issued_table"
   ]
  },
  {
   "cell_type": "code",
   "execution_count": 13,
   "metadata": {},
   "outputs": [
    {
     "name": "stdout",
     "output_type": "stream",
     "text": [
      "Percentage of permits issued table, both without and with filling the issue date (Years 2013-2017)\n",
      "Number of records: 170832 for first column and 180811 for second column\n"
     ]
    },
    {
     "data": {
      "text/html": [
       "<div>\n",
       "<style scoped>\n",
       "    .dataframe tbody tr th:only-of-type {\n",
       "        vertical-align: middle;\n",
       "    }\n",
       "\n",
       "    .dataframe tbody tr th {\n",
       "        vertical-align: top;\n",
       "    }\n",
       "\n",
       "    .dataframe thead th {\n",
       "        text-align: right;\n",
       "    }\n",
       "</style>\n",
       "<table border=\"1\" class=\"dataframe\">\n",
       "  <thead>\n",
       "    <tr style=\"text-align: right;\">\n",
       "      <th></th>\n",
       "      <th>Percentage with dropping</th>\n",
       "      <th>Percentage with hypothetical issue date</th>\n",
       "    </tr>\n",
       "  </thead>\n",
       "  <tbody>\n",
       "    <tr>\n",
       "      <th>same day</th>\n",
       "      <td>62.21</td>\n",
       "      <td>58.77</td>\n",
       "    </tr>\n",
       "    <tr>\n",
       "      <th>less than 15 days</th>\n",
       "      <td>80.74</td>\n",
       "      <td>76.29</td>\n",
       "    </tr>\n",
       "    <tr>\n",
       "      <th>less than 3 months</th>\n",
       "      <td>91.97</td>\n",
       "      <td>86.90</td>\n",
       "    </tr>\n",
       "    <tr>\n",
       "      <th>less than 6 months</th>\n",
       "      <td>95.19</td>\n",
       "      <td>90.26</td>\n",
       "    </tr>\n",
       "    <tr>\n",
       "      <th>less than a year</th>\n",
       "      <td>98.26</td>\n",
       "      <td>94.57</td>\n",
       "    </tr>\n",
       "  </tbody>\n",
       "</table>\n",
       "</div>"
      ],
      "text/plain": [
       "                    Percentage with dropping  \\\n",
       "same day                               62.21   \n",
       "less than 15 days                      80.74   \n",
       "less than 3 months                     91.97   \n",
       "less than 6 months                     95.19   \n",
       "less than a year                       98.26   \n",
       "\n",
       "                    Percentage with hypothetical issue date  \n",
       "same day                                              58.77  \n",
       "less than 15 days                                     76.29  \n",
       "less than 3 months                                    86.90  \n",
       "less than 6 months                                    90.26  \n",
       "less than a year                                      94.57  "
      ]
     },
     "execution_count": 13,
     "metadata": {},
     "output_type": "execute_result"
    }
   ],
   "source": [
    "issue_stats = divide_time_taken(sfr)\n",
    "print('Percentage of permits issued table, both without and with filling the issue date (Years 2013-2017)')\n",
    "print('Number of records: {} for first column and {} for second column'.format(sfr.time_taken.count(),sfr.shape[0]))\n",
    "pd.DataFrame(issue_stats,columns=['Percentage with dropping','Percentage with hypothetical issue date'],index=['same day','less than 15 days','less than 3 months','less than 6 months','less than a year'])"
   ]
  },
  {
   "cell_type": "markdown",
   "metadata": {},
   "source": [
    "We will retain 'time_taken_filled' variable and drop 'time_taken'"
   ]
  },
  {
   "cell_type": "code",
   "execution_count": 14,
   "metadata": {},
   "outputs": [],
   "source": [
    "# Henceforth time_taken is replaced with time_taken_filled \n",
    "sfr.loc[:,'time_taken'] = sfr.loc[:,'time_taken_filled']\n",
    "sfr.drop('time_taken_filled',axis=1,inplace=True)"
   ]
  },
  {
   "cell_type": "code",
   "execution_count": 15,
   "metadata": {},
   "outputs": [
    {
     "name": "stdout",
     "output_type": "stream",
     "text": [
      "Wall time: 2min 33s\n"
     ]
    },
    {
     "data": {
      "image/png": "[encoded data removed]",
      "text/plain": [
       "<matplotlib.figure.Figure at 0x2ed18fa0b38>"
      ]
     },
     "metadata": {},
     "output_type": "display_data"
    }
   ],
   "source": [
    "%%time\n",
    "# The cumulative distribution of the time taken variable: This enables us to see the probability distribution\n",
    "_ = sns.distplot(sfr['time_taken'],hist_kws=dict(cumulative=True), kde_kws=dict(cumulative=True),color='purple')\n",
    "_ = plt.title('Cumulative Distribution Plot of time taken')"
   ]
  },
  {
   "cell_type": "code",
   "execution_count": 16,
   "metadata": {},
   "outputs": [
    {
     "name": "stdout",
     "output_type": "stream",
     "text": [
      "Number of months for which each week day is least crowded:\n",
      " {'Monday': 31, 'Tuesday': 1, 'Wednesday': 13, 'Thursday': 5, 'Friday': 7}\n",
      "Number of months for which each week day is most crowded:\n",
      " {'Monday': 7, 'Tuesday': 15, 'Wednesday': 8, 'Thursday': 14, 'Friday': 13}\n"
     ]
    }
   ],
   "source": [
    "weekday_cnt =  dict({'Monday':0,'Tuesday':0,'Wednesday':0,'Thursday':0,'Friday':0})\n",
    "weekday_cnt_max =  dict({'Monday':0,'Tuesday':0,'Wednesday':0,'Thursday':0,'Friday':0})\n",
    "for k,d in sfr.groupby(['year','month']) : \n",
    "    weekday_cnt_max[d.groupby('file_day')['time_taken'].count().idxmax()] = weekday_cnt_max[d.groupby('file_day')['time_taken'].count().idxmax()] + 1\n",
    "    weekday_cnt[d.groupby('file_day')['time_taken'].count().idxmin()] = weekday_cnt[d.groupby('file_day')['time_taken'].count().idxmin()] + 1\n",
    "print(\"Number of months for which each week day is least crowded:\\n\",weekday_cnt)\n",
    "print(\"Number of months for which each week day is most crowded:\\n\",weekday_cnt_max)"
   ]
  },
  {
   "cell_type": "markdown",
   "metadata": {},
   "source": [
    "Clear winner is Monday, among least crowded weekdays, contrary to the belief of Wednesday. We will validate this observation with statistical tests later.\n",
    "\n",
    "There is no such clear majority for most crowded. We could still conduct a 2 sample t-test by grouping Monday and Wednesday into one group and Tuesday, Thursday, Friday into another group."
   ]
  },
  {
   "cell_type": "code",
   "execution_count": 17,
   "metadata": {},
   "outputs": [
    {
     "data": {
      "text/plain": [
       "file_day\n",
       "Friday       0.5764\n",
       "Monday       0.6194\n",
       "Thursday     0.5784\n",
       "Tuesday      0.5932\n",
       "Wednesday    0.5745\n",
       "Name: time_taken, dtype: float64"
      ]
     },
     "execution_count": 17,
     "metadata": {},
     "output_type": "execute_result"
    },
    {
     "data": {
      "image/png": "[encoded data removed]",
      "text/plain": [
       "<matplotlib.figure.Figure at 0x2ed19098898>"
      ]
     },
     "metadata": {},
     "output_type": "display_data"
    }
   ],
   "source": [
    "# Examinining if certain weekdays are efficient at processing wrt the permits they receive on that day.\n",
    "_ = plt.figure(figsize=(16,5))\n",
    "_ = plt.subplot(1,2,1)\n",
    "(sfr.loc[sfr['time_taken']==0,:].groupby('file_day')['time_taken'].count()/sfr.groupby('file_day')['time_taken'].count()).plot.bar()\n",
    "_ = plt.title('Fraction of permits issued on the same day across different weekdays')\n",
    "_ = plt.subplot(1,2,2)\n",
    "sfr.groupby('file_day')['time_taken'].count().plot.bar()\n",
    "_ = plt.title('Number of permits filed on different weekdays')\n",
    "np.round(sfr.loc[sfr['time_taken']==0,:].groupby('file_day')['time_taken'].count()/sfr.groupby('file_day')['time_taken'].count(),4)"
   ]
  },
  {
   "cell_type": "markdown",
   "metadata": {},
   "source": [
    "**Observations:**\n",
    "+ Mondays are most efficient.\n",
    "+ Next place is Tuesday, although Thursday and Friday closely follow.\n",
    "+ Wednesday is worst in issuing on the same day.\n",
    "+ Interestingly, Mondays receive least number of applications, and Wednesday's receive next least number of applications, yet they are not efficient.\n",
    "+ Tuesdays are most crowded as per the previous analysis and also in the second plot above. However, Tuesday's come second in issuing permits on the same day.\n",
    "\n",
    "These differences could be statistically validated. Examples of certain tests in Inferential Statistics section. Tests for these weekday differences are similar."
   ]
  },
  {
   "cell_type": "code",
   "execution_count": 18,
   "metadata": {},
   "outputs": [],
   "source": [
    "def conv_quarter(v) :\n",
    "    if v < 4 :\n",
    "        q = 1\n",
    "    elif v < 7:\n",
    "        q = 2\n",
    "    elif v < 10:\n",
    "        q = 3\n",
    "    else :\n",
    "        q = 4\n",
    "    return q"
   ]
  },
  {
   "cell_type": "code",
   "execution_count": 19,
   "metadata": {},
   "outputs": [],
   "source": [
    "sfr = sfr.assign(quarter=sfr.month.apply(conv_quarter))"
   ]
  },
  {
   "cell_type": "code",
   "execution_count": 20,
   "metadata": {},
   "outputs": [
    {
     "data": {
      "image/png": "[encoded data removed]",
      "text/plain": [
       "<matplotlib.figure.Figure at 0x2ed18fdc048>"
      ]
     },
     "metadata": {},
     "output_type": "display_data"
    }
   ],
   "source": [
    "_ = sfr.groupby(['year','quarter']).time_taken.mean().plot.bar()\n",
    "_ = plt.title('Variation of Avg wait time by quarter')"
   ]
  },
  {
   "cell_type": "markdown",
   "metadata": {},
   "source": [
    "There is no visible pattern w.r.t quarters over years."
   ]
  },
  {
   "cell_type": "markdown",
   "metadata": {},
   "source": [
    "#### Revised Cost\n",
    "\n",
    "Recall that missing entries were filled with minimum values, in the DataWrangling step. Visualize them to see how many have missing costs."
   ]
  },
  {
   "cell_type": "code",
   "execution_count": 21,
   "metadata": {},
   "outputs": [
    {
     "data": {
      "image/png": "[encoded data removed]",
      "text/plain": [
       "<matplotlib.figure.Figure at 0x2ed1901f080>"
      ]
     },
     "metadata": {},
     "output_type": "display_data"
    }
   ],
   "source": [
    "_ = sfr.loc[sfr.rev_cost==sfr.rev_cost.min(),'perm_typ_def'].value_counts().plot.bar()\n",
    "_ = plt.title('Counts of missing Revised cost by permit type')"
   ]
  },
  {
   "cell_type": "markdown",
   "metadata": {},
   "source": [
    "#### Revised Cost Vs Time Taken"
   ]
  },
  {
   "cell_type": "code",
   "execution_count": 22,
   "metadata": {},
   "outputs": [
    {
     "data": {
      "image/png": "[encoded data removed]",
      "text/plain": [
       "<matplotlib.figure.Figure at 0x2ed199c2748>"
      ]
     },
     "metadata": {},
     "output_type": "display_data"
    }
   ],
   "source": [
    "_ = sns.jointplot('rev_cost','time_taken',sfr)\n",
    "_ = plt.title('Time Taken Vs Revised cost')"
   ]
  },
  {
   "cell_type": "markdown",
   "metadata": {},
   "source": [
    "There is no apparent correlation between revised cost and time taken. Convert to Logarithm and see. Care is taken to see that log (0) does not happen"
   ]
  },
  {
   "cell_type": "code",
   "execution_count": 23,
   "metadata": {},
   "outputs": [
    {
     "name": "stdout",
     "output_type": "stream",
     "text": [
      "Percentage of zeros in Revised Cost: 5.55\n"
     ]
    },
    {
     "data": {
      "image/png": "[encoded data removed]",
      "text/plain": [
       "<matplotlib.figure.Figure at 0x2ed19795b38>"
      ]
     },
     "metadata": {},
     "output_type": "display_data"
    }
   ],
   "source": [
    "# Convert to Logarithm\n",
    "print('Percentage of zeros in Revised Cost:',round(100*(sfr['rev_cost']==0).sum()/(sfr['rev_cost']==0).count(),2))\n",
    "sfr['log_rev_cost'] = np.log(sfr['rev_cost']+0.000000001)\n",
    "_ = sns.jointplot('log_rev_cost','time_taken',sfr)\n",
    "_ = plt.title('Time Taken Vs Logarithm of the revised cost')"
   ]
  },
  {
   "cell_type": "markdown",
   "metadata": {},
   "source": [
    "This graph reveals a few points:\n",
    "\n",
    "+ The pearson correlation is negative. Looking at the scatterplot, it does not make practical sense, however, we need to keep in mind that correlation and causations are different. Hence as long as there is a correlation, it might help in modeling. \n",
    "+ The bin with close to zero values for revised cost have maximum count in the histogram of log_rev_cost. The bin with negative center value is corresponding to the NaNs in revised cost. To prevent error, they were substituted with very small values. \n",
    "+ One observation is, if min entries (that is zeros in this dataset) were substituted with 0.1, the correlation was -0.18, and if they were substituded with 0.000000001, it is -0.35. There are only 5.55% zeros, however 3% of these were NaN's replaced with mins in data wrangling step. "
   ]
  },
  {
   "cell_type": "code",
   "execution_count": 24,
   "metadata": {},
   "outputs": [
    {
     "data": {
      "image/png": "[encoded data removed]",
      "text/plain": [
       "<matplotlib.figure.Figure at 0x2ed18e614a8>"
      ]
     },
     "metadata": {},
     "output_type": "display_data"
    }
   ],
   "source": [
    "# Clearer view of Logarithm of revised cost\n",
    "_ = plt.figure(figsize=(15,6))\n",
    "_ = plt.subplot(1,2,1)\n",
    "_ = plt.hist(sfr['log_rev_cost'],bins=50)\n",
    "_ = plt.xlabel('Log(Revised Cost($))')\n",
    "_ = plt.title('Histogram of Logarithm of revised cost')\n",
    "_ = plt.subplot(1,2,2)\n",
    "_ = plt.boxplot(sfr['log_rev_cost'])\n",
    "_ = plt.title('Boxplot of the Log revised cost')"
   ]
  },
  {
   "cell_type": "markdown",
   "metadata": {},
   "source": [
    "The valid entries portion of Logarithm of Revised cost is nearly normal. The left most bar corresponds to filled NaN's. The middle bar corresponds too small but non zero values entered. Both are not really valid. We are going to later on see how the absence of entry affects the time taken, for each permit type. Before that we will see w.r.t permit type alone."
   ]
  },
  {
   "cell_type": "markdown",
   "metadata": {},
   "source": [
    "#### Time Taken w.r.t Permit Type"
   ]
  },
  {
   "cell_type": "code",
   "execution_count": 25,
   "metadata": {},
   "outputs": [
    {
     "data": {
      "text/html": [
       "<div>\n",
       "<style scoped>\n",
       "    .dataframe tbody tr th:only-of-type {\n",
       "        vertical-align: middle;\n",
       "    }\n",
       "\n",
       "    .dataframe tbody tr th {\n",
       "        vertical-align: top;\n",
       "    }\n",
       "\n",
       "    .dataframe thead th {\n",
       "        text-align: right;\n",
       "    }\n",
       "</style>\n",
       "<table border=\"1\" class=\"dataframe\">\n",
       "  <thead>\n",
       "    <tr style=\"text-align: right;\">\n",
       "      <th></th>\n",
       "      <th>count</th>\n",
       "      <th>mean</th>\n",
       "      <th>std</th>\n",
       "      <th>min</th>\n",
       "      <th>25%</th>\n",
       "      <th>50%</th>\n",
       "      <th>75%</th>\n",
       "      <th>max</th>\n",
       "    </tr>\n",
       "    <tr>\n",
       "      <th>perm_typ_def</th>\n",
       "      <th></th>\n",
       "      <th></th>\n",
       "      <th></th>\n",
       "      <th></th>\n",
       "      <th></th>\n",
       "      <th></th>\n",
       "      <th></th>\n",
       "      <th></th>\n",
       "    </tr>\n",
       "  </thead>\n",
       "  <tbody>\n",
       "    <tr>\n",
       "      <th>new construction</th>\n",
       "      <td>301.0</td>\n",
       "      <td>577.870432</td>\n",
       "      <td>347.399031</td>\n",
       "      <td>60.0</td>\n",
       "      <td>335.00</td>\n",
       "      <td>468.0</td>\n",
       "      <td>772.00</td>\n",
       "      <td>1762.0</td>\n",
       "    </tr>\n",
       "    <tr>\n",
       "      <th>new construction wood frame</th>\n",
       "      <td>873.0</td>\n",
       "      <td>512.618557</td>\n",
       "      <td>383.645192</td>\n",
       "      <td>2.0</td>\n",
       "      <td>221.00</td>\n",
       "      <td>409.0</td>\n",
       "      <td>763.00</td>\n",
       "      <td>1854.0</td>\n",
       "    </tr>\n",
       "    <tr>\n",
       "      <th>demolitions</th>\n",
       "      <td>516.0</td>\n",
       "      <td>468.403101</td>\n",
       "      <td>390.497100</td>\n",
       "      <td>0.0</td>\n",
       "      <td>159.00</td>\n",
       "      <td>368.0</td>\n",
       "      <td>719.75</td>\n",
       "      <td>1841.0</td>\n",
       "    </tr>\n",
       "    <tr>\n",
       "      <th>additions alterations or repairs</th>\n",
       "      <td>12597.0</td>\n",
       "      <td>349.561324</td>\n",
       "      <td>332.695207</td>\n",
       "      <td>0.0</td>\n",
       "      <td>135.00</td>\n",
       "      <td>244.0</td>\n",
       "      <td>446.00</td>\n",
       "      <td>1892.0</td>\n",
       "    </tr>\n",
       "    <tr>\n",
       "      <th>wall or painted sign</th>\n",
       "      <td>433.0</td>\n",
       "      <td>257.136259</td>\n",
       "      <td>445.833850</td>\n",
       "      <td>0.0</td>\n",
       "      <td>3.00</td>\n",
       "      <td>30.0</td>\n",
       "      <td>231.00</td>\n",
       "      <td>1876.0</td>\n",
       "    </tr>\n",
       "    <tr>\n",
       "      <th>grade or quarry or fill or excavate</th>\n",
       "      <td>88.0</td>\n",
       "      <td>205.715909</td>\n",
       "      <td>391.390417</td>\n",
       "      <td>0.0</td>\n",
       "      <td>44.75</td>\n",
       "      <td>81.0</td>\n",
       "      <td>156.25</td>\n",
       "      <td>1820.0</td>\n",
       "    </tr>\n",
       "    <tr>\n",
       "      <th>sign - erect</th>\n",
       "      <td>2587.0</td>\n",
       "      <td>155.678005</td>\n",
       "      <td>339.272440</td>\n",
       "      <td>0.0</td>\n",
       "      <td>2.00</td>\n",
       "      <td>15.0</td>\n",
       "      <td>126.00</td>\n",
       "      <td>1895.0</td>\n",
       "    </tr>\n",
       "    <tr>\n",
       "      <th>otc alterations permit</th>\n",
       "      <td>163416.0</td>\n",
       "      <td>38.794806</td>\n",
       "      <td>179.077884</td>\n",
       "      <td>0.0</td>\n",
       "      <td>0.00</td>\n",
       "      <td>0.0</td>\n",
       "      <td>5.00</td>\n",
       "      <td>1897.0</td>\n",
       "    </tr>\n",
       "  </tbody>\n",
       "</table>\n",
       "</div>"
      ],
      "text/plain": [
       "                                        count        mean         std   min  \\\n",
       "perm_typ_def                                                                  \n",
       "new construction                        301.0  577.870432  347.399031  60.0   \n",
       "new construction wood frame             873.0  512.618557  383.645192   2.0   \n",
       "demolitions                             516.0  468.403101  390.497100   0.0   \n",
       "additions alterations or repairs      12597.0  349.561324  332.695207   0.0   \n",
       "wall or painted sign                    433.0  257.136259  445.833850   0.0   \n",
       "grade or quarry or fill or excavate      88.0  205.715909  391.390417   0.0   \n",
       "sign - erect                           2587.0  155.678005  339.272440   0.0   \n",
       "otc alterations permit               163416.0   38.794806  179.077884   0.0   \n",
       "\n",
       "                                        25%    50%     75%     max  \n",
       "perm_typ_def                                                        \n",
       "new construction                     335.00  468.0  772.00  1762.0  \n",
       "new construction wood frame          221.00  409.0  763.00  1854.0  \n",
       "demolitions                          159.00  368.0  719.75  1841.0  \n",
       "additions alterations or repairs     135.00  244.0  446.00  1892.0  \n",
       "wall or painted sign                   3.00   30.0  231.00  1876.0  \n",
       "grade or quarry or fill or excavate   44.75   81.0  156.25  1820.0  \n",
       "sign - erect                           2.00   15.0  126.00  1895.0  \n",
       "otc alterations permit                 0.00    0.0    5.00  1897.0  "
      ]
     },
     "execution_count": 25,
     "metadata": {},
     "output_type": "execute_result"
    }
   ],
   "source": [
    "sfr.groupby('perm_typ_def')['time_taken'].describe().sort_values('mean',ascending=False)"
   ]
  },
  {
   "cell_type": "markdown",
   "metadata": {},
   "source": [
    "**Observations:**\n",
    "1) As expected, New construction permits take longer time to get issued. But their representation in the data set is very low. New construction minimum itself is 60 days, this might be as per rules for a new construction.     \n",
    "2) Only one category of the permits, that is otc alteration permit has at least 50% of the applications issued on the same day.   \n",
    "3) OTC alterations permit category is huge with > 90% of the records. Next big category is again additions alterations or repairs. But this second category does not get issued as fast. OTC alterations permit, as the name suggests, is \"Over the Counter\" permit. Ideally all of them have to be issued immediately.    "
   ]
  },
  {
   "cell_type": "code",
   "execution_count": 26,
   "metadata": {},
   "outputs": [
    {
     "data": {
      "image/png": "[encoded data removed]",
      "text/plain": [
       "<matplotlib.figure.Figure at 0x2ed1964fb00>"
      ]
     },
     "metadata": {},
     "output_type": "display_data"
    }
   ],
   "source": [
    "# create side-by-side boxplots for every permit type\n",
    "_ = plt.figure(figsize=(10,6))\n",
    "ax = sns.boxplot(y='perm_typ_def', x='time_taken', data = sfr, orient = 'h');\n",
    "plt.title('permit_type vs. time_taken');\n",
    "plt.tight_layout(pad=1)\n",
    "plt.show()"
   ]
  },
  {
   "cell_type": "code",
   "execution_count": 27,
   "metadata": {},
   "outputs": [
    {
     "name": "stdout",
     "output_type": "stream",
     "text": [
      "Wall time: 982 ms\n"
     ]
    },
    {
     "data": {
      "image/png": "[encoded data removed]",
      "text/plain": [
       "<matplotlib.figure.Figure at 0x2ed192d92b0>"
      ]
     },
     "metadata": {},
     "output_type": "display_data"
    }
   ],
   "source": [
    "%%time\n",
    "# The cumulative distribution of the time taken variable: This enables us to see the probability distribution\n",
    "_ = sns.distplot(sfr.loc[sfr.perm_typ < 8 ,'time_taken'],hist_kws=dict(cumulative=True), kde_kws=dict(cumulative=True),color='orange')\n",
    "_ = plt.title('Cumulative Distribution Plot of time taken for permits except OTC')"
   ]
  },
  {
   "cell_type": "markdown",
   "metadata": {},
   "source": [
    "#### Plot of the Median Cost and Time Taken of a Building By Permit Type"
   ]
  },
  {
   "cell_type": "code",
   "execution_count": 28,
   "metadata": {},
   "outputs": [
    {
     "data": {
      "text/html": [
       "<div>\n",
       "<style scoped>\n",
       "    .dataframe tbody tr th:only-of-type {\n",
       "        vertical-align: middle;\n",
       "    }\n",
       "\n",
       "    .dataframe tbody tr th {\n",
       "        vertical-align: top;\n",
       "    }\n",
       "\n",
       "    .dataframe thead th {\n",
       "        text-align: right;\n",
       "    }\n",
       "</style>\n",
       "<table border=\"1\" class=\"dataframe\">\n",
       "  <thead>\n",
       "    <tr style=\"text-align: right;\">\n",
       "      <th></th>\n",
       "      <th>count</th>\n",
       "      <th>mean</th>\n",
       "      <th>std</th>\n",
       "      <th>min</th>\n",
       "      <th>25%</th>\n",
       "      <th>50%</th>\n",
       "      <th>75%</th>\n",
       "      <th>max</th>\n",
       "    </tr>\n",
       "    <tr>\n",
       "      <th>perm_typ_def</th>\n",
       "      <th></th>\n",
       "      <th></th>\n",
       "      <th></th>\n",
       "      <th></th>\n",
       "      <th></th>\n",
       "      <th></th>\n",
       "      <th></th>\n",
       "      <th></th>\n",
       "    </tr>\n",
       "  </thead>\n",
       "  <tbody>\n",
       "    <tr>\n",
       "      <th>additions alterations or repairs</th>\n",
       "      <td>12597.0</td>\n",
       "      <td>4.735438</td>\n",
       "      <td>12.966378</td>\n",
       "      <td>-20.723266</td>\n",
       "      <td>6.620073e+00</td>\n",
       "      <td>11.002100</td>\n",
       "      <td>12.429216</td>\n",
       "      <td>19.399238</td>\n",
       "    </tr>\n",
       "    <tr>\n",
       "      <th>demolitions</th>\n",
       "      <td>516.0</td>\n",
       "      <td>3.223060</td>\n",
       "      <td>13.116681</td>\n",
       "      <td>-20.723266</td>\n",
       "      <td>8.294050e+00</td>\n",
       "      <td>9.615805</td>\n",
       "      <td>11.002100</td>\n",
       "      <td>15.656060</td>\n",
       "    </tr>\n",
       "    <tr>\n",
       "      <th>grade or quarry or fill or excavate</th>\n",
       "      <td>88.0</td>\n",
       "      <td>11.004236</td>\n",
       "      <td>6.160834</td>\n",
       "      <td>-20.723266</td>\n",
       "      <td>1.057805e+01</td>\n",
       "      <td>12.899220</td>\n",
       "      <td>14.191652</td>\n",
       "      <td>16.510138</td>\n",
       "    </tr>\n",
       "    <tr>\n",
       "      <th>new construction</th>\n",
       "      <td>301.0</td>\n",
       "      <td>4.627215</td>\n",
       "      <td>17.579069</td>\n",
       "      <td>-20.723266</td>\n",
       "      <td>-2.072327e+01</td>\n",
       "      <td>15.830414</td>\n",
       "      <td>17.493529</td>\n",
       "      <td>20.475445</td>\n",
       "    </tr>\n",
       "    <tr>\n",
       "      <th>new construction wood frame</th>\n",
       "      <td>873.0</td>\n",
       "      <td>4.083812</td>\n",
       "      <td>15.443600</td>\n",
       "      <td>-20.723266</td>\n",
       "      <td>-2.072327e+01</td>\n",
       "      <td>13.167337</td>\n",
       "      <td>13.652992</td>\n",
       "      <td>18.627695</td>\n",
       "    </tr>\n",
       "    <tr>\n",
       "      <th>otc alterations permit</th>\n",
       "      <td>163416.0</td>\n",
       "      <td>5.835909</td>\n",
       "      <td>7.033198</td>\n",
       "      <td>-20.723266</td>\n",
       "      <td>1.000000e-09</td>\n",
       "      <td>8.744568</td>\n",
       "      <td>10.126631</td>\n",
       "      <td>17.034386</td>\n",
       "    </tr>\n",
       "    <tr>\n",
       "      <th>sign - erect</th>\n",
       "      <td>2587.0</td>\n",
       "      <td>4.990315</td>\n",
       "      <td>8.740877</td>\n",
       "      <td>-20.723266</td>\n",
       "      <td>6.907755e+00</td>\n",
       "      <td>7.937375</td>\n",
       "      <td>8.517193</td>\n",
       "      <td>11.918391</td>\n",
       "    </tr>\n",
       "    <tr>\n",
       "      <th>wall or painted sign</th>\n",
       "      <td>433.0</td>\n",
       "      <td>1.233053</td>\n",
       "      <td>10.878855</td>\n",
       "      <td>-20.723266</td>\n",
       "      <td>4.605170e+00</td>\n",
       "      <td>6.214608</td>\n",
       "      <td>7.244228</td>\n",
       "      <td>10.819778</td>\n",
       "    </tr>\n",
       "  </tbody>\n",
       "</table>\n",
       "</div>"
      ],
      "text/plain": [
       "                                        count       mean        std  \\\n",
       "perm_typ_def                                                          \n",
       "additions alterations or repairs      12597.0   4.735438  12.966378   \n",
       "demolitions                             516.0   3.223060  13.116681   \n",
       "grade or quarry or fill or excavate      88.0  11.004236   6.160834   \n",
       "new construction                        301.0   4.627215  17.579069   \n",
       "new construction wood frame             873.0   4.083812  15.443600   \n",
       "otc alterations permit               163416.0   5.835909   7.033198   \n",
       "sign - erect                           2587.0   4.990315   8.740877   \n",
       "wall or painted sign                    433.0   1.233053  10.878855   \n",
       "\n",
       "                                           min           25%        50%  \\\n",
       "perm_typ_def                                                              \n",
       "additions alterations or repairs    -20.723266  6.620073e+00  11.002100   \n",
       "demolitions                         -20.723266  8.294050e+00   9.615805   \n",
       "grade or quarry or fill or excavate -20.723266  1.057805e+01  12.899220   \n",
       "new construction                    -20.723266 -2.072327e+01  15.830414   \n",
       "new construction wood frame         -20.723266 -2.072327e+01  13.167337   \n",
       "otc alterations permit              -20.723266  1.000000e-09   8.744568   \n",
       "sign - erect                        -20.723266  6.907755e+00   7.937375   \n",
       "wall or painted sign                -20.723266  4.605170e+00   6.214608   \n",
       "\n",
       "                                           75%        max  \n",
       "perm_typ_def                                               \n",
       "additions alterations or repairs     12.429216  19.399238  \n",
       "demolitions                          11.002100  15.656060  \n",
       "grade or quarry or fill or excavate  14.191652  16.510138  \n",
       "new construction                     17.493529  20.475445  \n",
       "new construction wood frame          13.652992  18.627695  \n",
       "otc alterations permit               10.126631  17.034386  \n",
       "sign - erect                          8.517193  11.918391  \n",
       "wall or painted sign                  7.244228  10.819778  "
      ]
     },
     "execution_count": 28,
     "metadata": {},
     "output_type": "execute_result"
    },
    {
     "data": {
      "image/png": "[encoded data removed]",
      "text/plain": [
       "<matplotlib.figure.Figure at 0x2ed1936b400>"
      ]
     },
     "metadata": {},
     "output_type": "display_data"
    },
    {
     "data": {
      "image/png": "[encoded data removed]",
      "text/plain": [
       "<matplotlib.figure.Figure at 0x2ed1936b748>"
      ]
     },
     "metadata": {},
     "output_type": "display_data"
    }
   ],
   "source": [
    "_ = sfr.groupby('perm_typ_def')['log_rev_cost'].median().plot.bar()\n",
    "_ = plt.title('Median of Logarithm of Building Revised Cost as in Application')\n",
    "_ = plt.ylabel('Log (Revised Cost)')\n",
    "_ = plt.figure()\n",
    "_ = sfr.groupby('perm_typ_def')['time_taken'].median().plot.bar()\n",
    "_ = plt.title('Average wait time by Permit type')\n",
    "_ = plt.ylabel('Time taken in days')\n",
    "sfr.groupby('perm_typ_def')['log_rev_cost'].describe()"
   ]
  },
  {
   "cell_type": "markdown",
   "metadata": {},
   "source": [
    "The new construction is high cost, but it takes highest average time. Its representation is low in the dataset, so it may not have much impact on the overal correlation properties between revised cost and time taken columns.\n",
    "For others it is hard to conclude anything from these visualizations. **This justifies the use of statistical models to understand the relations and make predictions for future applications.**"
   ]
  },
  {
   "cell_type": "markdown",
   "metadata": {},
   "source": [
    "Examine the Special cases Revised Cost = 0 and Revised Cost being too small, something like < 20$ need special analysis, to see the characteristics of average time taken."
   ]
  },
  {
   "cell_type": "code",
   "execution_count": 29,
   "metadata": {},
   "outputs": [
    {
     "data": {
      "text/html": [
       "<div>\n",
       "<style scoped>\n",
       "    .dataframe tbody tr th:only-of-type {\n",
       "        vertical-align: middle;\n",
       "    }\n",
       "\n",
       "    .dataframe tbody tr th {\n",
       "        vertical-align: top;\n",
       "    }\n",
       "\n",
       "    .dataframe thead th {\n",
       "        text-align: right;\n",
       "    }\n",
       "</style>\n",
       "<table border=\"1\" class=\"dataframe\">\n",
       "  <thead>\n",
       "    <tr style=\"text-align: right;\">\n",
       "      <th></th>\n",
       "      <th>count</th>\n",
       "      <th>mean</th>\n",
       "      <th>std</th>\n",
       "      <th>min</th>\n",
       "      <th>25%</th>\n",
       "      <th>50%</th>\n",
       "      <th>75%</th>\n",
       "      <th>max</th>\n",
       "    </tr>\n",
       "    <tr>\n",
       "      <th>perm_typ_def</th>\n",
       "      <th></th>\n",
       "      <th></th>\n",
       "      <th></th>\n",
       "      <th></th>\n",
       "      <th></th>\n",
       "      <th></th>\n",
       "      <th></th>\n",
       "      <th></th>\n",
       "    </tr>\n",
       "  </thead>\n",
       "  <tbody>\n",
       "    <tr>\n",
       "      <th>grade or quarry or fill or excavate</th>\n",
       "      <td>2.0</td>\n",
       "      <td>1801.500000</td>\n",
       "      <td>26.162951</td>\n",
       "      <td>1783.0</td>\n",
       "      <td>1792.25</td>\n",
       "      <td>1801.5</td>\n",
       "      <td>1810.75</td>\n",
       "      <td>1820.0</td>\n",
       "    </tr>\n",
       "    <tr>\n",
       "      <th>sign - erect</th>\n",
       "      <td>264.0</td>\n",
       "      <td>929.939394</td>\n",
       "      <td>512.986095</td>\n",
       "      <td>168.0</td>\n",
       "      <td>497.75</td>\n",
       "      <td>863.0</td>\n",
       "      <td>1384.75</td>\n",
       "      <td>1895.0</td>\n",
       "    </tr>\n",
       "    <tr>\n",
       "      <th>wall or painted sign</th>\n",
       "      <td>84.0</td>\n",
       "      <td>918.130952</td>\n",
       "      <td>509.715271</td>\n",
       "      <td>166.0</td>\n",
       "      <td>485.75</td>\n",
       "      <td>864.0</td>\n",
       "      <td>1378.00</td>\n",
       "      <td>1876.0</td>\n",
       "    </tr>\n",
       "    <tr>\n",
       "      <th>new construction wood frame</th>\n",
       "      <td>243.0</td>\n",
       "      <td>753.090535</td>\n",
       "      <td>402.330227</td>\n",
       "      <td>188.0</td>\n",
       "      <td>441.00</td>\n",
       "      <td>722.0</td>\n",
       "      <td>996.00</td>\n",
       "      <td>1854.0</td>\n",
       "    </tr>\n",
       "    <tr>\n",
       "      <th>new construction</th>\n",
       "      <td>97.0</td>\n",
       "      <td>729.268041</td>\n",
       "      <td>414.752801</td>\n",
       "      <td>190.0</td>\n",
       "      <td>441.00</td>\n",
       "      <td>608.0</td>\n",
       "      <td>971.00</td>\n",
       "      <td>1762.0</td>\n",
       "    </tr>\n",
       "    <tr>\n",
       "      <th>demolitions</th>\n",
       "      <td>118.0</td>\n",
       "      <td>703.593220</td>\n",
       "      <td>419.967118</td>\n",
       "      <td>39.0</td>\n",
       "      <td>396.00</td>\n",
       "      <td>535.5</td>\n",
       "      <td>980.00</td>\n",
       "      <td>1841.0</td>\n",
       "    </tr>\n",
       "    <tr>\n",
       "      <th>additions alterations or repairs</th>\n",
       "      <td>2499.0</td>\n",
       "      <td>613.557823</td>\n",
       "      <td>436.903200</td>\n",
       "      <td>166.0</td>\n",
       "      <td>274.00</td>\n",
       "      <td>455.0</td>\n",
       "      <td>842.00</td>\n",
       "      <td>1892.0</td>\n",
       "    </tr>\n",
       "    <tr>\n",
       "      <th>otc alterations permit</th>\n",
       "      <td>6725.0</td>\n",
       "      <td>453.833011</td>\n",
       "      <td>565.828886</td>\n",
       "      <td>0.0</td>\n",
       "      <td>0.00</td>\n",
       "      <td>184.0</td>\n",
       "      <td>852.00</td>\n",
       "      <td>1897.0</td>\n",
       "    </tr>\n",
       "  </tbody>\n",
       "</table>\n",
       "</div>"
      ],
      "text/plain": [
       "                                      count         mean         std     min  \\\n",
       "perm_typ_def                                                                   \n",
       "grade or quarry or fill or excavate     2.0  1801.500000   26.162951  1783.0   \n",
       "sign - erect                          264.0   929.939394  512.986095   168.0   \n",
       "wall or painted sign                   84.0   918.130952  509.715271   166.0   \n",
       "new construction wood frame           243.0   753.090535  402.330227   188.0   \n",
       "new construction                       97.0   729.268041  414.752801   190.0   \n",
       "demolitions                           118.0   703.593220  419.967118    39.0   \n",
       "additions alterations or repairs     2499.0   613.557823  436.903200   166.0   \n",
       "otc alterations permit               6725.0   453.833011  565.828886     0.0   \n",
       "\n",
       "                                         25%     50%      75%     max  \n",
       "perm_typ_def                                                           \n",
       "grade or quarry or fill or excavate  1792.25  1801.5  1810.75  1820.0  \n",
       "sign - erect                          497.75   863.0  1384.75  1895.0  \n",
       "wall or painted sign                  485.75   864.0  1378.00  1876.0  \n",
       "new construction wood frame           441.00   722.0   996.00  1854.0  \n",
       "new construction                      441.00   608.0   971.00  1762.0  \n",
       "demolitions                           396.00   535.5   980.00  1841.0  \n",
       "additions alterations or repairs      274.00   455.0   842.00  1892.0  \n",
       "otc alterations permit                  0.00   184.0   852.00  1897.0  "
      ]
     },
     "execution_count": 29,
     "metadata": {},
     "output_type": "execute_result"
    }
   ],
   "source": [
    "(sfr.loc[sfr['rev_cost'] == 0,:]).groupby('perm_typ_def')['time_taken'].describe().sort_values('mean',ascending=False)"
   ]
  },
  {
   "cell_type": "markdown",
   "metadata": {},
   "source": [
    "**Remarks:** If revised cost is 0, then except otc alterations permit,  all of them take a minimum of 1 year 2 months to be issued. Even the OTC alterations permits have less chances of getting issued on the same day.\n"
   ]
  },
  {
   "cell_type": "code",
   "execution_count": 30,
   "metadata": {},
   "outputs": [
    {
     "data": {
      "text/html": [
       "<div>\n",
       "<style scoped>\n",
       "    .dataframe tbody tr th:only-of-type {\n",
       "        vertical-align: middle;\n",
       "    }\n",
       "\n",
       "    .dataframe tbody tr th {\n",
       "        vertical-align: top;\n",
       "    }\n",
       "\n",
       "    .dataframe thead th {\n",
       "        text-align: right;\n",
       "    }\n",
       "</style>\n",
       "<table border=\"1\" class=\"dataframe\">\n",
       "  <thead>\n",
       "    <tr style=\"text-align: right;\">\n",
       "      <th></th>\n",
       "      <th>count</th>\n",
       "      <th>mean</th>\n",
       "      <th>std</th>\n",
       "      <th>min</th>\n",
       "      <th>25%</th>\n",
       "      <th>50%</th>\n",
       "      <th>75%</th>\n",
       "      <th>max</th>\n",
       "    </tr>\n",
       "    <tr>\n",
       "      <th>perm_typ_def</th>\n",
       "      <th></th>\n",
       "      <th></th>\n",
       "      <th></th>\n",
       "      <th></th>\n",
       "      <th></th>\n",
       "      <th></th>\n",
       "      <th></th>\n",
       "      <th></th>\n",
       "    </tr>\n",
       "  </thead>\n",
       "  <tbody>\n",
       "    <tr>\n",
       "      <th>additions alterations or repairs</th>\n",
       "      <td>507.0</td>\n",
       "      <td>236.31</td>\n",
       "      <td>315.04</td>\n",
       "      <td>0.0</td>\n",
       "      <td>63.0</td>\n",
       "      <td>126.0</td>\n",
       "      <td>261.0</td>\n",
       "      <td>1848.0</td>\n",
       "    </tr>\n",
       "    <tr>\n",
       "      <th>wall or painted sign</th>\n",
       "      <td>9.0</td>\n",
       "      <td>215.78</td>\n",
       "      <td>378.23</td>\n",
       "      <td>0.0</td>\n",
       "      <td>44.0</td>\n",
       "      <td>44.0</td>\n",
       "      <td>280.0</td>\n",
       "      <td>1182.0</td>\n",
       "    </tr>\n",
       "    <tr>\n",
       "      <th>sign - erect</th>\n",
       "      <td>10.0</td>\n",
       "      <td>186.10</td>\n",
       "      <td>185.49</td>\n",
       "      <td>0.0</td>\n",
       "      <td>16.0</td>\n",
       "      <td>189.0</td>\n",
       "      <td>362.0</td>\n",
       "      <td>362.0</td>\n",
       "    </tr>\n",
       "    <tr>\n",
       "      <th>grade or quarry or fill or excavate</th>\n",
       "      <td>6.0</td>\n",
       "      <td>41.67</td>\n",
       "      <td>20.41</td>\n",
       "      <td>0.0</td>\n",
       "      <td>50.0</td>\n",
       "      <td>50.0</td>\n",
       "      <td>50.0</td>\n",
       "      <td>50.0</td>\n",
       "    </tr>\n",
       "    <tr>\n",
       "      <th>otc alterations permit</th>\n",
       "      <td>42644.0</td>\n",
       "      <td>10.60</td>\n",
       "      <td>94.86</td>\n",
       "      <td>0.0</td>\n",
       "      <td>0.0</td>\n",
       "      <td>0.0</td>\n",
       "      <td>0.0</td>\n",
       "      <td>1896.0</td>\n",
       "    </tr>\n",
       "    <tr>\n",
       "      <th>demolitions</th>\n",
       "      <td>1.0</td>\n",
       "      <td>0.00</td>\n",
       "      <td>NaN</td>\n",
       "      <td>0.0</td>\n",
       "      <td>0.0</td>\n",
       "      <td>0.0</td>\n",
       "      <td>0.0</td>\n",
       "      <td>0.0</td>\n",
       "    </tr>\n",
       "  </tbody>\n",
       "</table>\n",
       "</div>"
      ],
      "text/plain": [
       "                                       count    mean     std  min   25%  \\\n",
       "perm_typ_def                                                              \n",
       "additions alterations or repairs       507.0  236.31  315.04  0.0  63.0   \n",
       "wall or painted sign                     9.0  215.78  378.23  0.0  44.0   \n",
       "sign - erect                            10.0  186.10  185.49  0.0  16.0   \n",
       "grade or quarry or fill or excavate      6.0   41.67   20.41  0.0  50.0   \n",
       "otc alterations permit               42644.0   10.60   94.86  0.0   0.0   \n",
       "demolitions                              1.0    0.00     NaN  0.0   0.0   \n",
       "\n",
       "                                       50%    75%     max  \n",
       "perm_typ_def                                               \n",
       "additions alterations or repairs     126.0  261.0  1848.0  \n",
       "wall or painted sign                  44.0  280.0  1182.0  \n",
       "sign - erect                         189.0  362.0   362.0  \n",
       "grade or quarry or fill or excavate   50.0   50.0    50.0  \n",
       "otc alterations permit                 0.0    0.0  1896.0  \n",
       "demolitions                            0.0    0.0     0.0  "
      ]
     },
     "execution_count": 30,
     "metadata": {},
     "output_type": "execute_result"
    }
   ],
   "source": [
    "sfr_sub = (sfr.loc[sfr['rev_cost'] < 20,:])\n",
    "np.round(sfr_sub.loc[sfr_sub['rev_cost'] > 0,:].groupby('perm_typ_def')['time_taken'].describe(),2).sort_values('mean',ascending=False)"
   ]
  },
  {
   "cell_type": "markdown",
   "metadata": {},
   "source": [
    "**Comments:** Notice that new construction permit types are absent in this table. Minimum time taken is 0, hence small entries are not the problem, absence of entry for the cost is the problem. \n",
    "\n",
    "**Recommendation:** Always put a valid entry for cost in applications."
   ]
  },
  {
   "cell_type": "markdown",
   "metadata": {},
   "source": [
    "#### Existing/Proposed Use variables"
   ]
  },
  {
   "cell_type": "code",
   "execution_count": 31,
   "metadata": {},
   "outputs": [
    {
     "data": {
      "image/png": "[encoded data removed]",
      "text/plain": [
       "<matplotlib.figure.Figure at 0x2ed194c8cf8>"
      ]
     },
     "metadata": {},
     "output_type": "display_data"
    },
    {
     "data": {
      "image/png": "[encoded data removed]",
      "text/plain": [
       "<matplotlib.figure.Figure at 0x2ed194fae10>"
      ]
     },
     "metadata": {},
     "output_type": "display_data"
    }
   ],
   "source": [
    "_ = sfr.groupby('exist_const_type').time_taken.mean().plot.bar()\n",
    "_ = plt.title('Average Time taken for existing type')\n",
    "_ = plt.figure()\n",
    "_ = sfr.groupby('prop_const_type').time_taken.mean().plot.bar()\n",
    "_ = plt.title('Average Time taken for proposed type')"
   ]
  },
  {
   "cell_type": "markdown",
   "metadata": {},
   "source": [
    "#### Some more numerical EDAs"
   ]
  },
  {
   "cell_type": "code",
   "execution_count": 32,
   "metadata": {},
   "outputs": [
    {
     "data": {
      "text/html": [
       "<div>\n",
       "<style scoped>\n",
       "    .dataframe tbody tr th:only-of-type {\n",
       "        vertical-align: middle;\n",
       "    }\n",
       "\n",
       "    .dataframe tbody tr th {\n",
       "        vertical-align: top;\n",
       "    }\n",
       "\n",
       "    .dataframe thead th {\n",
       "        text-align: right;\n",
       "    }\n",
       "</style>\n",
       "<table border=\"1\" class=\"dataframe\">\n",
       "  <thead>\n",
       "    <tr style=\"text-align: right;\">\n",
       "      <th></th>\n",
       "      <th>count</th>\n",
       "      <th>mean</th>\n",
       "      <th>std</th>\n",
       "      <th>min</th>\n",
       "      <th>25%</th>\n",
       "      <th>50%</th>\n",
       "      <th>75%</th>\n",
       "      <th>max</th>\n",
       "    </tr>\n",
       "    <tr>\n",
       "      <th>fire_only_permit</th>\n",
       "      <th></th>\n",
       "      <th></th>\n",
       "      <th></th>\n",
       "      <th></th>\n",
       "      <th></th>\n",
       "      <th></th>\n",
       "      <th></th>\n",
       "      <th></th>\n",
       "    </tr>\n",
       "  </thead>\n",
       "  <tbody>\n",
       "    <tr>\n",
       "      <th>N</th>\n",
       "      <td>163802.0</td>\n",
       "      <td>71.63</td>\n",
       "      <td>226.86</td>\n",
       "      <td>0.0</td>\n",
       "      <td>0.0</td>\n",
       "      <td>0.0</td>\n",
       "      <td>14.0</td>\n",
       "      <td>1896.0</td>\n",
       "    </tr>\n",
       "    <tr>\n",
       "      <th>Y</th>\n",
       "      <td>17009.0</td>\n",
       "      <td>23.81</td>\n",
       "      <td>136.69</td>\n",
       "      <td>0.0</td>\n",
       "      <td>0.0</td>\n",
       "      <td>0.0</td>\n",
       "      <td>2.0</td>\n",
       "      <td>1897.0</td>\n",
       "    </tr>\n",
       "  </tbody>\n",
       "</table>\n",
       "</div>"
      ],
      "text/plain": [
       "                     count   mean     std  min  25%  50%   75%     max\n",
       "fire_only_permit                                                      \n",
       "N                 163802.0  71.63  226.86  0.0  0.0  0.0  14.0  1896.0\n",
       "Y                  17009.0  23.81  136.69  0.0  0.0  0.0   2.0  1897.0"
      ]
     },
     "execution_count": 32,
     "metadata": {},
     "output_type": "execute_result"
    }
   ],
   "source": [
    "np.round(sfr.groupby('fire_only_permit')['time_taken'].describe(),2)"
   ]
  },
  {
   "cell_type": "code",
   "execution_count": 33,
   "metadata": {},
   "outputs": [
    {
     "data": {
      "text/html": [
       "<div>\n",
       "<style scoped>\n",
       "    .dataframe tbody tr th:only-of-type {\n",
       "        vertical-align: middle;\n",
       "    }\n",
       "\n",
       "    .dataframe tbody tr th {\n",
       "        vertical-align: top;\n",
       "    }\n",
       "\n",
       "    .dataframe thead th {\n",
       "        text-align: right;\n",
       "    }\n",
       "</style>\n",
       "<table border=\"1\" class=\"dataframe\">\n",
       "  <thead>\n",
       "    <tr style=\"text-align: right;\">\n",
       "      <th></th>\n",
       "      <th>count</th>\n",
       "      <th>mean</th>\n",
       "      <th>std</th>\n",
       "      <th>min</th>\n",
       "      <th>25%</th>\n",
       "      <th>50%</th>\n",
       "      <th>75%</th>\n",
       "      <th>max</th>\n",
       "    </tr>\n",
       "    <tr>\n",
       "      <th>site_permit</th>\n",
       "      <th></th>\n",
       "      <th></th>\n",
       "      <th></th>\n",
       "      <th></th>\n",
       "      <th></th>\n",
       "      <th></th>\n",
       "      <th></th>\n",
       "      <th></th>\n",
       "    </tr>\n",
       "  </thead>\n",
       "  <tbody>\n",
       "    <tr>\n",
       "      <th>N</th>\n",
       "      <td>176145.0</td>\n",
       "      <td>56.19</td>\n",
       "      <td>205.69</td>\n",
       "      <td>0.0</td>\n",
       "      <td>0.0</td>\n",
       "      <td>0.0</td>\n",
       "      <td>9.00</td>\n",
       "      <td>1897.0</td>\n",
       "    </tr>\n",
       "    <tr>\n",
       "      <th>Y</th>\n",
       "      <td>4666.0</td>\n",
       "      <td>480.16</td>\n",
       "      <td>331.83</td>\n",
       "      <td>0.0</td>\n",
       "      <td>237.0</td>\n",
       "      <td>371.5</td>\n",
       "      <td>620.75</td>\n",
       "      <td>1892.0</td>\n",
       "    </tr>\n",
       "  </tbody>\n",
       "</table>\n",
       "</div>"
      ],
      "text/plain": [
       "                count    mean     std  min    25%    50%     75%     max\n",
       "site_permit                                                             \n",
       "N            176145.0   56.19  205.69  0.0    0.0    0.0    9.00  1897.0\n",
       "Y              4666.0  480.16  331.83  0.0  237.0  371.5  620.75  1892.0"
      ]
     },
     "execution_count": 33,
     "metadata": {},
     "output_type": "execute_result"
    }
   ],
   "source": [
    "np.round(sfr.groupby('site_permit')['time_taken'].describe(),2)"
   ]
  },
  {
   "cell_type": "code",
   "execution_count": 34,
   "metadata": {},
   "outputs": [
    {
     "data": {
      "text/html": [
       "<div>\n",
       "<style scoped>\n",
       "    .dataframe tbody tr th:only-of-type {\n",
       "        vertical-align: middle;\n",
       "    }\n",
       "\n",
       "    .dataframe tbody tr th {\n",
       "        vertical-align: top;\n",
       "    }\n",
       "\n",
       "    .dataframe thead th {\n",
       "        text-align: right;\n",
       "    }\n",
       "</style>\n",
       "<table border=\"1\" class=\"dataframe\">\n",
       "  <thead>\n",
       "    <tr style=\"text-align: right;\">\n",
       "      <th></th>\n",
       "      <th>count</th>\n",
       "      <th>mean</th>\n",
       "      <th>std</th>\n",
       "      <th>min</th>\n",
       "      <th>25%</th>\n",
       "      <th>50%</th>\n",
       "      <th>75%</th>\n",
       "      <th>max</th>\n",
       "    </tr>\n",
       "    <tr>\n",
       "      <th>strct_notif</th>\n",
       "      <th></th>\n",
       "      <th></th>\n",
       "      <th></th>\n",
       "      <th></th>\n",
       "      <th></th>\n",
       "      <th></th>\n",
       "      <th></th>\n",
       "      <th></th>\n",
       "    </tr>\n",
       "  </thead>\n",
       "  <tbody>\n",
       "    <tr>\n",
       "      <th>N</th>\n",
       "      <td>174648.0</td>\n",
       "      <td>58.67</td>\n",
       "      <td>209.99</td>\n",
       "      <td>0.0</td>\n",
       "      <td>0.0</td>\n",
       "      <td>0.0</td>\n",
       "      <td>9.0</td>\n",
       "      <td>1897.0</td>\n",
       "    </tr>\n",
       "    <tr>\n",
       "      <th>Y</th>\n",
       "      <td>6163.0</td>\n",
       "      <td>306.95</td>\n",
       "      <td>340.58</td>\n",
       "      <td>0.0</td>\n",
       "      <td>29.0</td>\n",
       "      <td>224.0</td>\n",
       "      <td>434.5</td>\n",
       "      <td>1892.0</td>\n",
       "    </tr>\n",
       "  </tbody>\n",
       "</table>\n",
       "</div>"
      ],
      "text/plain": [
       "                count    mean     std  min   25%    50%    75%     max\n",
       "strct_notif                                                           \n",
       "N            174648.0   58.67  209.99  0.0   0.0    0.0    9.0  1897.0\n",
       "Y              6163.0  306.95  340.58  0.0  29.0  224.0  434.5  1892.0"
      ]
     },
     "execution_count": 34,
     "metadata": {},
     "output_type": "execute_result"
    }
   ],
   "source": [
    "np.round(sfr.groupby('strct_notif')['time_taken'].describe(),2)"
   ]
  },
  {
   "cell_type": "markdown",
   "metadata": {},
   "source": [
    "The above 3 tables are self-explanatory.\n",
    "#### Plansets Variable"
   ]
  },
  {
   "cell_type": "code",
   "execution_count": 35,
   "metadata": {},
   "outputs": [
    {
     "data": {
      "text/html": [
       "<div>\n",
       "<style scoped>\n",
       "    .dataframe tbody tr th:only-of-type {\n",
       "        vertical-align: middle;\n",
       "    }\n",
       "\n",
       "    .dataframe tbody tr th {\n",
       "        vertical-align: top;\n",
       "    }\n",
       "\n",
       "    .dataframe thead th {\n",
       "        text-align: right;\n",
       "    }\n",
       "</style>\n",
       "<table border=\"1\" class=\"dataframe\">\n",
       "  <thead>\n",
       "    <tr style=\"text-align: right;\">\n",
       "      <th></th>\n",
       "      <th>count</th>\n",
       "      <th>mean</th>\n",
       "      <th>std</th>\n",
       "      <th>min</th>\n",
       "      <th>25%</th>\n",
       "      <th>50%</th>\n",
       "      <th>75%</th>\n",
       "      <th>max</th>\n",
       "    </tr>\n",
       "    <tr>\n",
       "      <th>plansets</th>\n",
       "      <th></th>\n",
       "      <th></th>\n",
       "      <th></th>\n",
       "      <th></th>\n",
       "      <th></th>\n",
       "      <th></th>\n",
       "      <th></th>\n",
       "      <th></th>\n",
       "    </tr>\n",
       "  </thead>\n",
       "  <tbody>\n",
       "    <tr>\n",
       "      <th>0.0</th>\n",
       "      <td>58456.0</td>\n",
       "      <td>12.72</td>\n",
       "      <td>114.01</td>\n",
       "      <td>0.0</td>\n",
       "      <td>0.0</td>\n",
       "      <td>0.0</td>\n",
       "      <td>0.0</td>\n",
       "      <td>1896.0</td>\n",
       "    </tr>\n",
       "    <tr>\n",
       "      <th>1.0</th>\n",
       "      <td>2.0</td>\n",
       "      <td>293.00</td>\n",
       "      <td>0.00</td>\n",
       "      <td>293.0</td>\n",
       "      <td>293.0</td>\n",
       "      <td>293.0</td>\n",
       "      <td>293.0</td>\n",
       "      <td>293.0</td>\n",
       "    </tr>\n",
       "    <tr>\n",
       "      <th>2.0</th>\n",
       "      <td>88297.0</td>\n",
       "      <td>124.16</td>\n",
       "      <td>282.74</td>\n",
       "      <td>0.0</td>\n",
       "      <td>1.0</td>\n",
       "      <td>11.0</td>\n",
       "      <td>90.0</td>\n",
       "      <td>1897.0</td>\n",
       "    </tr>\n",
       "    <tr>\n",
       "      <th>3.0</th>\n",
       "      <td>246.0</td>\n",
       "      <td>231.24</td>\n",
       "      <td>71.65</td>\n",
       "      <td>72.0</td>\n",
       "      <td>225.0</td>\n",
       "      <td>225.0</td>\n",
       "      <td>225.0</td>\n",
       "      <td>1195.0</td>\n",
       "    </tr>\n",
       "    <tr>\n",
       "      <th>4.0</th>\n",
       "      <td>3.0</td>\n",
       "      <td>178.33</td>\n",
       "      <td>163.66</td>\n",
       "      <td>55.0</td>\n",
       "      <td>85.5</td>\n",
       "      <td>116.0</td>\n",
       "      <td>240.0</td>\n",
       "      <td>364.0</td>\n",
       "    </tr>\n",
       "    <tr>\n",
       "      <th>6.0</th>\n",
       "      <td>2.0</td>\n",
       "      <td>327.00</td>\n",
       "      <td>0.00</td>\n",
       "      <td>327.0</td>\n",
       "      <td>327.0</td>\n",
       "      <td>327.0</td>\n",
       "      <td>327.0</td>\n",
       "      <td>327.0</td>\n",
       "    </tr>\n",
       "    <tr>\n",
       "      <th>20.0</th>\n",
       "      <td>1.0</td>\n",
       "      <td>1258.00</td>\n",
       "      <td>NaN</td>\n",
       "      <td>1258.0</td>\n",
       "      <td>1258.0</td>\n",
       "      <td>1258.0</td>\n",
       "      <td>1258.0</td>\n",
       "      <td>1258.0</td>\n",
       "    </tr>\n",
       "    <tr>\n",
       "      <th>9000.0</th>\n",
       "      <td>1.0</td>\n",
       "      <td>2.00</td>\n",
       "      <td>NaN</td>\n",
       "      <td>2.0</td>\n",
       "      <td>2.0</td>\n",
       "      <td>2.0</td>\n",
       "      <td>2.0</td>\n",
       "      <td>2.0</td>\n",
       "    </tr>\n",
       "  </tbody>\n",
       "</table>\n",
       "</div>"
      ],
      "text/plain": [
       "            count     mean     std     min     25%     50%     75%     max\n",
       "plansets                                                                  \n",
       "0.0       58456.0    12.72  114.01     0.0     0.0     0.0     0.0  1896.0\n",
       "1.0           2.0   293.00    0.00   293.0   293.0   293.0   293.0   293.0\n",
       "2.0       88297.0   124.16  282.74     0.0     1.0    11.0    90.0  1897.0\n",
       "3.0         246.0   231.24   71.65    72.0   225.0   225.0   225.0  1195.0\n",
       "4.0           3.0   178.33  163.66    55.0    85.5   116.0   240.0   364.0\n",
       "6.0           2.0   327.00    0.00   327.0   327.0   327.0   327.0   327.0\n",
       "20.0          1.0  1258.00     NaN  1258.0  1258.0  1258.0  1258.0  1258.0\n",
       "9000.0        1.0     2.00     NaN     2.0     2.0     2.0     2.0     2.0"
      ]
     },
     "execution_count": 35,
     "metadata": {},
     "output_type": "execute_result"
    }
   ],
   "source": [
    "np.round(sfr.groupby('plansets')['time_taken'].describe(),2)"
   ]
  },
  {
   "cell_type": "markdown",
   "metadata": {},
   "source": [
    "The 4 plansets out of 7 have very insignificant representation. The other 3 are interesting. The planset '0' is the fastest issued one and '3' is the slowest among these 3."
   ]
  },
  {
   "cell_type": "markdown",
   "metadata": {},
   "source": [
    "## **Conclusions from Exploratory Data Analysis:**     \n",
    "\n",
    "1) What is the best day of the week to visit DBI, to file an application form? Is the popular belief “mid-week (Wednesday) is the least crowded and hence best to visit government or city agencies” true in this case?     \n",
    "\n",
    "-Over the 4 years, it is found that in 25 out of 48 months, Monday has been the week day with least number of permit applications. Wednesday was least crowded only in 8 months. It is also interesting to know that while Tuesday was the week to receive maximum number of applications in 12 months, it is not a clear winner. So, there is not a clear \"Most\" crowded week day.\n",
    "\n",
    "2) What type of permits are mostly issued on the same day of filing?\n",
    "\n",
    "\"OTC alterations permits\" as the name suggests, are issued mostly on the same day of filing. More than 75% of these are issued within a week. \n",
    "\n",
    "3) Which types take least average time issue if not issued on the same day?   \n",
    "\n",
    "Once again the answer is OTC alterations permits. They are 89% of the total permit applications, and they have very low average wait time.\n",
    "\n",
    "4) Is there any particular quarter of each year which has higher application counts or average wait times? Can it be justified from the business knowledge?         \n",
    "\n",
    "No.\n",
    "\n",
    "5) How does the permit times vary across plansets?   \n",
    "There are 7 different plansets, of which 3 seem significant. They are highly variable\n",
    "\n",
    "6) How is permit times related to cost?   \n",
    "We looked at permit times' relationship with revised cost, as that is the most recent estimate. There is no clear relationship when the cost is some reasonable number. However, if the cost is not entered or entered too low to believe, there is a greater possibility of delay in issuing.\n",
    "\n",
    "7) How is the wait time related to a few other columns?     \n",
    "Many statistics are generated above."
   ]
  },
  {
   "cell_type": "markdown",
   "metadata": {},
   "source": [
    "## Inferential Statistics:        \n",
    "\n",
    "  1) Assume there is a claim by the DBI. \"65% of **all** the permit applications are processed on the same day.\" Can we formulate a hypothesis test? What are the null and alternate hypothesis? What is the significance level you want to chose? {Keep in mind that data we have is entire population for year 2013 onwards. Hence the tests have to be performed on a randomly chosen subset assuming entire population is not available. This is true for next two questions as well}   \n",
    "  1a) Estimate the proportion that get processed the same day corresponding to 95% confidence level.       \n",
    "  2) Is there a statistically significant difference between mean wait times of fire only permits and not fire only permits?      \n",
    "  3) Can we do Anova test to verify variability across mean wait times for various permit types? If yes, demonstrate. If no, justify.\n",
    "  \n"
   ]
  },
  {
   "cell_type": "markdown",
   "metadata": {},
   "source": [
    "**Simulating restricted availability of the population**  \n",
    "We have entire population (records of applications) for the years 2013-2017 Sept 30th. Hence we can readily verify it by the pandas built-in function describe. However, we want to simulate the scenario of having a subset of the population and then conduct statistical tests to answer the above questions. This can happen in real life.\n",
    "\n",
    "\n",
    "Suppose DBI does not let you download all 150k+ records, but only 7500 records once a day and you want to know if their claim is true, before visiting them today!"
   ]
  },
  {
   "cell_type": "code",
   "execution_count": 36,
   "metadata": {},
   "outputs": [],
   "source": [
    "# Choose 7500 random records without replacement and use this for all the three tests\n",
    "n=7500\n",
    "indices = np.random.choice(a=sfr.index,size=n,replace=False)"
   ]
  },
  {
   "cell_type": "markdown",
   "metadata": {},
   "source": [
    "**Answer to 1:**    \n",
    "\n",
    "\n",
    "We can apply a one sample test for [**population proportion**](https://onlinecourses.science.psu.edu/stat500/node/41)\n",
    "\n",
    "**Null Hypothesis H0:** DBI processes 65% permit applications the same day.    \n",
    "**Alternate Hypothesis HA:** DBI normally processes a different percentage of applications than 65% the same day and difference is statistically significant.       \n",
    "\n",
    "1. Independence: The samples are independent and without replacement, with sample size < 5% of population\n",
    "2. Sample size/skew: Expected value of success: np >= 10, Expected value of failure: n(1-p)>=10 are satisfied for n=7500, p=0.65\n",
    "\n",
    "Hence the central limit theorem kicks in. \n",
    "DBI can not process less than 0% applications. Hence this is a skewed distribution.      \n",
    "This is a two sided z-test, as stated in HA.       \n",
    "Let us have significance level alpha = 0.01 "
   ]
  },
  {
   "cell_type": "code",
   "execution_count": 37,
   "metadata": {},
   "outputs": [
    {
     "data": {
      "image/png": "[encoded data removed]",
      "text/plain": [
       "<matplotlib.figure.Figure at 0x2ed194ce438>"
      ]
     },
     "metadata": {},
     "output_type": "display_data"
    }
   ],
   "source": [
    "time_taken_sample = sfr.time_taken[indices]\n",
    "_ = sns.distplot(time_taken_sample,hist=True)\n",
    "_ = plt.title('Sample distribution of wait times for sample of size 7500')\n",
    "_ = plt.xlabel('Number of days')"
   ]
  },
  {
   "cell_type": "code",
   "execution_count": 38,
   "metadata": {},
   "outputs": [
    {
     "name": "stdout",
     "output_type": "stream",
     "text": [
      "Observed proportion of permits issued same day is 58.49% \n"
     ]
    }
   ],
   "source": [
    "# The Hypothesis test code. time_taken_sample is the array containing wait times.\n",
    "# Claimed by DBI, the null proportion\n",
    "claimed_proportion = 0.65\n",
    "# Observed proportion, the alternate proportion\n",
    "observed_proportion = (time_taken_sample == 0).sum()/time_taken_sample.shape[0]\n",
    "print(\"Observed proportion of permits issued same day is {:.2f}% \".format(100*observed_proportion))"
   ]
  },
  {
   "cell_type": "markdown",
   "metadata": {},
   "source": [
    "This could be just a chance. Hence let us find the z score:"
   ]
  },
  {
   "cell_type": "code",
   "execution_count": 39,
   "metadata": {},
   "outputs": [
    {
     "name": "stdout",
     "output_type": "stream",
     "text": [
      "Z score: 11.81\n",
      "p-value is 0.0\n"
     ]
    }
   ],
   "source": [
    "zsc = (claimed_proportion - observed_proportion)/np.sqrt(claimed_proportion*(1-claimed_proportion)/n)\n",
    "print(\"Z score: {:.2f}\".format(zsc))\n",
    "pval_test1 = 2*(1 - stats.norm.cdf(abs(zsc)))\n",
    "print(\"p-value is\",pval_test1)"
   ]
  },
  {
   "cell_type": "markdown",
   "metadata": {},
   "source": [
    "The Z score of 2.6+ corresponds to a p-value < alpha = 0.01. Hence this difference in proportion is statistically significant. Therefore we reject the null hypothesis that 65% of the applications are processed the same day in favor of alternate hypothesis.     \n",
    "\n",
    "1a) Finding confidence interval corresponding to the observed proportion:"
   ]
  },
  {
   "cell_type": "code",
   "execution_count": 40,
   "metadata": {},
   "outputs": [
    {
     "name": "stdout",
     "output_type": "stream",
     "text": [
      "Margin of error for population proportion: 0.0112\n",
      "95% confidence interval of the population proportion: (57.379999999999995, 59.61) %\n"
     ]
    }
   ],
   "source": [
    "# Z score for 95% CI is 1.96\n",
    "z_95 = 1.96\n",
    "# From the formula for margin of error,\n",
    "margin_error = z_95 * np.sqrt(observed_proportion*(1-observed_proportion)/n)\n",
    "print(\"Margin of error for population proportion: {:.4f}\".format(margin_error))\n",
    "# By definition, confidence interval:\n",
    "ci = (100*round(observed_proportion-margin_error,4),100*round(observed_proportion+margin_error,4))\n",
    "print('95% confidence interval of the population proportion:',ci,'%')"
   ]
  },
  {
   "cell_type": "markdown",
   "metadata": {},
   "source": [
    "**Answer to 2:**\n",
    "\n",
    "Here we are comparing mean wait times between two samples. We would need a 2 sample t-test/z-test\n",
    "\n",
    "H0: Average wait times are same whether it is fire only permit or not\n",
    "HA: Average wait times are different\n",
    "\n",
    "Again alpha = 0.01"
   ]
  },
  {
   "cell_type": "code",
   "execution_count": 41,
   "metadata": {},
   "outputs": [
    {
     "data": {
      "text/html": [
       "<div>\n",
       "<style scoped>\n",
       "    .dataframe tbody tr th:only-of-type {\n",
       "        vertical-align: middle;\n",
       "    }\n",
       "\n",
       "    .dataframe tbody tr th {\n",
       "        vertical-align: top;\n",
       "    }\n",
       "\n",
       "    .dataframe thead th {\n",
       "        text-align: right;\n",
       "    }\n",
       "</style>\n",
       "<table border=\"1\" class=\"dataframe\">\n",
       "  <thead>\n",
       "    <tr style=\"text-align: right;\">\n",
       "      <th></th>\n",
       "      <th>count</th>\n",
       "      <th>mean</th>\n",
       "      <th>std</th>\n",
       "      <th>min</th>\n",
       "      <th>25%</th>\n",
       "      <th>50%</th>\n",
       "      <th>75%</th>\n",
       "      <th>max</th>\n",
       "    </tr>\n",
       "    <tr>\n",
       "      <th>fire_only_permit</th>\n",
       "      <th></th>\n",
       "      <th></th>\n",
       "      <th></th>\n",
       "      <th></th>\n",
       "      <th></th>\n",
       "      <th></th>\n",
       "      <th></th>\n",
       "      <th></th>\n",
       "    </tr>\n",
       "  </thead>\n",
       "  <tbody>\n",
       "    <tr>\n",
       "      <th>N</th>\n",
       "      <td>6806.0</td>\n",
       "      <td>75.966794</td>\n",
       "      <td>236.45626</td>\n",
       "      <td>0.0</td>\n",
       "      <td>0.0</td>\n",
       "      <td>0.0</td>\n",
       "      <td>16.0</td>\n",
       "      <td>1884.0</td>\n",
       "    </tr>\n",
       "    <tr>\n",
       "      <th>Y</th>\n",
       "      <td>694.0</td>\n",
       "      <td>34.733429</td>\n",
       "      <td>181.60208</td>\n",
       "      <td>0.0</td>\n",
       "      <td>0.0</td>\n",
       "      <td>0.0</td>\n",
       "      <td>2.0</td>\n",
       "      <td>1814.0</td>\n",
       "    </tr>\n",
       "  </tbody>\n",
       "</table>\n",
       "</div>"
      ],
      "text/plain": [
       "                   count       mean        std  min  25%  50%   75%     max\n",
       "fire_only_permit                                                           \n",
       "N                 6806.0  75.966794  236.45626  0.0  0.0  0.0  16.0  1884.0\n",
       "Y                  694.0  34.733429  181.60208  0.0  0.0  0.0   2.0  1814.0"
      ]
     },
     "execution_count": 41,
     "metadata": {},
     "output_type": "execute_result"
    }
   ],
   "source": [
    "test2 = pd.DataFrame(sfr.fire_only_permit[indices].copy())\n",
    "test2 = test2.assign(time_taken_sample = sfr.time_taken[indices].copy())\n",
    "sample_stats = test2.groupby('fire_only_permit').time_taken_sample.describe()\n",
    "sample_stats"
   ]
  },
  {
   "cell_type": "code",
   "execution_count": 42,
   "metadata": {},
   "outputs": [
    {
     "name": "stdout",
     "output_type": "stream",
     "text": [
      "Z score for 2 sample z test: 5.52\n",
      "p-value for 2 sample test is 3.3308779956442436e-08\n"
     ]
    }
   ],
   "source": [
    "# Compute combined standard deviation\n",
    "comb_sigma = np.sqrt((sample_stats.loc['N','std']**2 / sample_stats.loc['N','count'])\n",
    "                     + (sample_stats.loc['Y','std']**2 / sample_stats.loc['Y','count']))\n",
    "\n",
    "# Z-score\n",
    "zsc2 = (sample_stats.loc['N','mean'] - sample_stats.loc['Y','mean'])/comb_sigma\n",
    "print(\"Z score for 2 sample z test: {:.2f}\".format(zsc2))\n",
    "\n",
    "# p-value\n",
    "pval_test2 = 2*(1 - stats.norm.cdf(abs(zsc2)))\n",
    "print(\"p-value for 2 sample test is\",pval_test2)"
   ]
  },
  {
   "cell_type": "markdown",
   "metadata": {},
   "source": [
    "The high value for z score above makes us reject H0 in favor of HA"
   ]
  },
  {
   "cell_type": "markdown",
   "metadata": {},
   "source": [
    "**Answer to 3:**\n",
    "\n",
    "Can we do ANOVA test to compare the average wait time across permit types? May be. Let us check it out."
   ]
  },
  {
   "cell_type": "code",
   "execution_count": 43,
   "metadata": {},
   "outputs": [
    {
     "data": {
      "text/html": [
       "<div>\n",
       "<style scoped>\n",
       "    .dataframe tbody tr th:only-of-type {\n",
       "        vertical-align: middle;\n",
       "    }\n",
       "\n",
       "    .dataframe tbody tr th {\n",
       "        vertical-align: top;\n",
       "    }\n",
       "\n",
       "    .dataframe thead th {\n",
       "        text-align: right;\n",
       "    }\n",
       "</style>\n",
       "<table border=\"1\" class=\"dataframe\">\n",
       "  <thead>\n",
       "    <tr style=\"text-align: right;\">\n",
       "      <th></th>\n",
       "      <th>count</th>\n",
       "      <th>mean</th>\n",
       "      <th>std</th>\n",
       "      <th>min</th>\n",
       "      <th>25%</th>\n",
       "      <th>50%</th>\n",
       "      <th>75%</th>\n",
       "      <th>max</th>\n",
       "    </tr>\n",
       "    <tr>\n",
       "      <th>perm_typ</th>\n",
       "      <th></th>\n",
       "      <th></th>\n",
       "      <th></th>\n",
       "      <th></th>\n",
       "      <th></th>\n",
       "      <th></th>\n",
       "      <th></th>\n",
       "      <th></th>\n",
       "    </tr>\n",
       "  </thead>\n",
       "  <tbody>\n",
       "    <tr>\n",
       "      <th>1</th>\n",
       "      <td>9.0</td>\n",
       "      <td>489.444444</td>\n",
       "      <td>353.404906</td>\n",
       "      <td>75.0</td>\n",
       "      <td>368.00</td>\n",
       "      <td>415.0</td>\n",
       "      <td>608.00</td>\n",
       "      <td>1310.0</td>\n",
       "    </tr>\n",
       "    <tr>\n",
       "      <th>2</th>\n",
       "      <td>33.0</td>\n",
       "      <td>516.151515</td>\n",
       "      <td>333.997859</td>\n",
       "      <td>69.0</td>\n",
       "      <td>241.00</td>\n",
       "      <td>418.0</td>\n",
       "      <td>817.00</td>\n",
       "      <td>1419.0</td>\n",
       "    </tr>\n",
       "    <tr>\n",
       "      <th>3</th>\n",
       "      <td>552.0</td>\n",
       "      <td>349.498188</td>\n",
       "      <td>333.885719</td>\n",
       "      <td>7.0</td>\n",
       "      <td>130.00</td>\n",
       "      <td>242.0</td>\n",
       "      <td>454.00</td>\n",
       "      <td>1822.0</td>\n",
       "    </tr>\n",
       "    <tr>\n",
       "      <th>4</th>\n",
       "      <td>129.0</td>\n",
       "      <td>151.426357</td>\n",
       "      <td>329.495727</td>\n",
       "      <td>0.0</td>\n",
       "      <td>2.00</td>\n",
       "      <td>14.0</td>\n",
       "      <td>128.00</td>\n",
       "      <td>1884.0</td>\n",
       "    </tr>\n",
       "    <tr>\n",
       "      <th>5</th>\n",
       "      <td>2.0</td>\n",
       "      <td>411.500000</td>\n",
       "      <td>519.723484</td>\n",
       "      <td>44.0</td>\n",
       "      <td>227.75</td>\n",
       "      <td>411.5</td>\n",
       "      <td>595.25</td>\n",
       "      <td>779.0</td>\n",
       "    </tr>\n",
       "    <tr>\n",
       "      <th>6</th>\n",
       "      <td>21.0</td>\n",
       "      <td>547.619048</td>\n",
       "      <td>432.080835</td>\n",
       "      <td>50.0</td>\n",
       "      <td>166.00</td>\n",
       "      <td>522.0</td>\n",
       "      <td>862.00</td>\n",
       "      <td>1353.0</td>\n",
       "    </tr>\n",
       "    <tr>\n",
       "      <th>7</th>\n",
       "      <td>19.0</td>\n",
       "      <td>251.842105</td>\n",
       "      <td>437.720518</td>\n",
       "      <td>0.0</td>\n",
       "      <td>2.00</td>\n",
       "      <td>53.0</td>\n",
       "      <td>233.50</td>\n",
       "      <td>1660.0</td>\n",
       "    </tr>\n",
       "    <tr>\n",
       "      <th>8</th>\n",
       "      <td>6735.0</td>\n",
       "      <td>43.078248</td>\n",
       "      <td>194.379008</td>\n",
       "      <td>0.0</td>\n",
       "      <td>0.00</td>\n",
       "      <td>0.0</td>\n",
       "      <td>5.00</td>\n",
       "      <td>1882.0</td>\n",
       "    </tr>\n",
       "  </tbody>\n",
       "</table>\n",
       "</div>"
      ],
      "text/plain": [
       "           count        mean         std   min     25%    50%     75%     max\n",
       "perm_typ                                                                     \n",
       "1            9.0  489.444444  353.404906  75.0  368.00  415.0  608.00  1310.0\n",
       "2           33.0  516.151515  333.997859  69.0  241.00  418.0  817.00  1419.0\n",
       "3          552.0  349.498188  333.885719   7.0  130.00  242.0  454.00  1822.0\n",
       "4          129.0  151.426357  329.495727   0.0    2.00   14.0  128.00  1884.0\n",
       "5            2.0  411.500000  519.723484  44.0  227.75  411.5  595.25   779.0\n",
       "6           21.0  547.619048  432.080835  50.0  166.00  522.0  862.00  1353.0\n",
       "7           19.0  251.842105  437.720518   0.0    2.00   53.0  233.50  1660.0\n",
       "8         6735.0   43.078248  194.379008   0.0    0.00    0.0    5.00  1882.0"
      ]
     },
     "execution_count": 43,
     "metadata": {},
     "output_type": "execute_result"
    }
   ],
   "source": [
    "test3 = pd.DataFrame(sfr.perm_typ[indices].copy())\n",
    "test3 = test3.assign(time_taken_sample = sfr.time_taken[indices].copy())\n",
    "sample_stats3 = test3.groupby('perm_typ').time_taken_sample.describe()\n",
    "sample_stats3"
   ]
  },
  {
   "cell_type": "markdown",
   "metadata": {},
   "source": [
    "The conditions for doing ANOVA test:    \n",
    "+ The observations should be independent within and across groups : This is met.    \n",
    "+ The data within each group are nearly normal: This is not met as can be seen from the asymmetric percentile values in the above table.   \n",
    "+ The variability across the groups is about equal (and use graphical diagnostics to check if these conditions are met.): Without graphical diagnostics, it is evident from the \"std\" column that variability is not met.  \n",
    "[Conditions required for ANOVA test](https://www.coursera.org/learn/inferential-statistics-intro/supplement/ctr7d/lesson-learning-objectives)* are not satisfied. Hence we can not conduct ANOVA test for comparing means average time across permit types.         \n",
    "* : You might need to login and enroll into the course to access the link"
   ]
  },
  {
   "cell_type": "markdown",
   "metadata": {},
   "source": [
    "### Conclusions From Inferential Statistics Tests:\n",
    "\n",
    "1. There is no sufficient statistical evidence to believe the DBI's claim that on an average it processes 65% of the permit applications the same day.    \n",
    "2. There is enough statistical evidence to believe that average wait times for fire only permit and the normal permits are not the same.    \n",
    "3. We could not conduct statistical tests to compare the average wait times across various permit types because conditions required for ANOVA test were not satisfied"
   ]
  },
  {
   "cell_type": "code",
   "execution_count": 44,
   "metadata": {},
   "outputs": [
    {
     "name": "stdout",
     "output_type": "stream",
     "text": [
      "Stored 'sfr' (DataFrame)\n"
     ]
    }
   ],
   "source": [
    "# Pass on the dataframe to Modeling notebook\n",
    "%store sfr"
   ]
  },
  {
   "cell_type": "code",
   "execution_count": null,
   "metadata": {},
   "outputs": [],
   "source": []
  }
 ],
 "metadata": {
  "kernelspec": {
   "display_name": "Python 3",
   "language": "python",
   "name": "python3"
  },
  "language_info": {
   "codemirror_mode": {
    "name": "ipython",
    "version": 3
   },
   "file_extension": ".py",
   "mimetype": "text/x-python",
   "name": "python",
   "nbconvert_exporter": "python",
   "pygments_lexer": "ipython3",
   "version": "3.6.4"
  }
 },
 "nbformat": 4,
 "nbformat_minor": 2
}
