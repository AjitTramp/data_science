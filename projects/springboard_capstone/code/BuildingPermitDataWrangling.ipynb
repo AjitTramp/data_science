{
 "cells": [
  {
   "cell_type": "markdown",
   "metadata": {},
   "source": [
    "# **Predicting Building Permit Issuance Times**\n",
    "##                                                                                             ...and answering many questions!\n"
   ]
  },
  {
   "cell_type": "markdown",
   "metadata": {
    "ExecuteTime": {
     "end_time": "2018-02-18T03:25:41.260358Z",
     "start_time": "2018-02-18T03:25:41.255344Z"
    }
   },
   "source": [
    "**A Data Science Project**      \n",
    "*by Aparna Shastry*"
   ]
  },
  {
   "cell_type": "markdown",
   "metadata": {},
   "source": [
    "## Content\n",
    "+ Introduction and Scope\n",
    "+ Data\n",
    "+ Cleaning the Data\n",
    "\n",
    "\n",
    "## Introduction\n",
    "A building permit is an official approval document issued by a governmental agency that allows you or your contractor to proceed with a construction or remodeling project on one's property. For more details click [here](https://www.thespruce.com/what-is-a-building-permit-1398344). Each city or county has its own office related to buildings, that can do multiple functions like issuing permits, inspecting buildings to enforce safety measures, modifying rules to accommodate needs of the growing population etc. For the city of San Francisco, permit issuing is taken care by [Permit Services wing of Department of Building Inspection](http://sfdbi.org/permit-services) (henceforth called DBI).\n",
    "The delays in permit issuance pose serious problems to construction industries and later on real estate agencies.Read this [Trulia study](https://www.trulia.com/blog/trends/elasticity-2016/) and [Vancouver city article](https://biv.com/article/2014/11/city-building-permit-delays-costing-developers-tim).\n",
    "\n",
    "### Scope of the Project\n",
    "\n",
    "Primary objective of this Data Science Project is to predict the time delay window for the time in days between permit application and issuance for buildings in San Francisco city in California, USA. Since it is not possible to accurately predict the delay in resolution of days, the problem is limited to predicting if a permit will be issued in a week, or in 3 months or beyond 3 months.\n",
    "\n",
    "Apart from this, we also draw some insights from the data to find out details that are of interest to the applicants.\n",
    "\n",
    "## Data\n",
    "Data for this project is available in San Francisco city open data portal. It is updated every Saturday.\n",
    "1. Go to the link: [SF](https://data.sfgov.org/Housing-and-Buildings/Building-Permits/i98e-djp9/data) open portal. \n",
    "2. Click on Filter and \"Add a Filter Condition\".\n",
    "3. A drop down menu appears.\n",
    "4. Select, \"Filed Date\" and \"is after\".\n",
    "5. I entered date as 12/31/2012, because I wanted to do analysis of last 4-5 years. I think most recent data is important in matters such as this, the city council policies could change, there might be new rules, new employers to expedite process etc. Old data may not be too useful in modeling.\n",
    "6. I chose to download in CSV format because it is of the less than 100MB size and easy to load into notebook. If it gave issues, I might have chosen a different format.\n",
    "\n",
    "The file as of Feb 25, 2018 (Sunday) has been downloaded and kept for easy access. Size is about 75MB\n",
    "\n",
    "We will get to the specifics once we get initial glimpse of columns in the data."
   ]
  },
  {
   "cell_type": "code",
   "execution_count": 1,
   "metadata": {
    "ExecuteTime": {
     "end_time": "2018-02-20T03:02:49.201132Z",
     "start_time": "2018-02-20T03:02:41.652462Z"
    }
   },
   "outputs": [],
   "source": [
    "import os\n",
    "import pandas as pd\n",
    "import numpy as np\n",
    "import time\n",
    "import datetime\n",
    "\n",
    "%matplotlib inline\n",
    "import matplotlib\n",
    "import matplotlib.pyplot as plt\n",
    "\n",
    "import seaborn as sns\n",
    "sns.set_style(style='darkgrid')"
   ]
  },
  {
   "cell_type": "code",
   "execution_count": 2,
   "metadata": {
    "ExecuteTime": {
     "end_time": "2018-02-20T03:09:01.572569Z",
     "start_time": "2018-02-20T03:03:02.666085Z"
    }
   },
   "outputs": [
    {
     "name": "stdout",
     "output_type": "stream",
     "text": [
      "<class 'pandas.core.frame.DataFrame'>\n",
      "RangeIndex: 198900 entries, 0 to 198899\n",
      "Data columns (total 43 columns):\n",
      "Permit Number                             198900 non-null object\n",
      "Permit Type                               198900 non-null int64\n",
      "Permit Type Definition                    198900 non-null object\n",
      "Permit Creation Date                      198900 non-null object\n",
      "Block                                     198900 non-null object\n",
      "Lot                                       198900 non-null object\n",
      "Street Number                             198900 non-null int64\n",
      "Street Number Suffix                      2216 non-null object\n",
      "Street Name                               198900 non-null object\n",
      "Street Suffix                             196132 non-null object\n",
      "Unit                                      29479 non-null float64\n",
      "Unit Suffix                               1961 non-null object\n",
      "Description                               198610 non-null object\n",
      "Current Status                            198900 non-null object\n",
      "Current Status Date                       198900 non-null object\n",
      "Filed Date                                198900 non-null object\n",
      "Issued Date                               183960 non-null object\n",
      "Completed Date                            97191 non-null object\n",
      "First Construction Document Date          183954 non-null object\n",
      "Structural Notification                   6922 non-null object\n",
      "Number of Existing Stories                156116 non-null float64\n",
      "Number of Proposed Stories                156032 non-null float64\n",
      "Voluntary Soft-Story Retrofit             35 non-null object\n",
      "Fire Only Permit                          18827 non-null object\n",
      "Permit Expiration Date                    147020 non-null object\n",
      "Estimated Cost                            160834 non-null float64\n",
      "Revised Cost                              192834 non-null float64\n",
      "Existing Use                              157786 non-null object\n",
      "Existing Units                            147362 non-null float64\n",
      "Proposed Use                              156461 non-null object\n",
      "Proposed Units                            147989 non-null float64\n",
      "Plansets                                  161591 non-null float64\n",
      "TIDF Compliance                           2 non-null object\n",
      "Existing Construction Type                155534 non-null float64\n",
      "Existing Construction Type Description    155534 non-null object\n",
      "Proposed Construction Type                155738 non-null float64\n",
      "Proposed Construction Type Description    155738 non-null object\n",
      "Site Permit                               5359 non-null object\n",
      "Supervisor District                       197183 non-null float64\n",
      "Neighborhoods - Analysis Boundaries       197175 non-null object\n",
      "Zipcode                                   197184 non-null float64\n",
      "Location                                  197200 non-null object\n",
      "Record ID                                 198900 non-null int64\n",
      "dtypes: float64(12), int64(3), object(28)\n",
      "memory usage: 65.3+ MB\n",
      "Wall time: 2.04 s\n"
     ]
    }
   ],
   "source": [
    "%%time\n",
    "# Read and make a copy for speed\n",
    "sf = pd.read_csv('../data/Building_Permits.csv',low_memory=False)\n",
    "sf.info()"
   ]
  },
  {
   "cell_type": "markdown",
   "metadata": {},
   "source": [
    "Specifically, we will be trying to answer the following in the next parts:\n",
    "\n",
    "+ **Data Cleaning:**  \n",
    "\n",
    "   1) Which of these columns should be retained for further analysis? This is the first question to answer because eliminating obviously non-useful columns would save lot of time.        \n",
    "   2) Which rows to retain? This will prevent some bias in the data or it might introduce. Need to be done cautiously.     \n",
    "   3) How to interpret the records with zero or very small values for cost variables related to the construction?               \n",
    "   4) What to do we do if dates map to Saturday or Sunday? A date having invalid numbers for month and day of the month?      \n",
    "   5) Should we replace blanks in some columns where the valid value is 'Y'?    \n",
    "   6) What do we do with blank cells in date columns?      \n",
    "   7) What are we going to do with records with unknown locations?\n",
    "         "
   ]
  },
  {
   "cell_type": "code",
   "execution_count": 3,
   "metadata": {},
   "outputs": [],
   "source": [
    "# Conversion to datetime\n",
    "import traceback\n",
    "try :\n",
    "    sf['Filed Date'] = pd.to_datetime(sf['Filed Date'],errors='coerce')\n",
    "    sf['Issued Date'] = pd.to_datetime(sf['Issued Date'],errors='coerce')\n",
    "    sf['Current Status Date'] = pd.to_datetime(sf['Current Status Date'],errors='coerce')\n",
    "except :    \n",
    "    traceback.print_exc()\n",
    "\n",
    "# Keep a copy to reload\n",
    "sfcpy = sf.copy()"
   ]
  },
  {
   "cell_type": "code",
   "execution_count": 4,
   "metadata": {
    "ExecuteTime": {
     "end_time": "2018-02-20T03:09:01.964969Z",
     "start_time": "2018-02-20T03:09:01.574935Z"
    }
   },
   "outputs": [],
   "source": [
    "# Sometimes when re-run is required, one can start from just here, to save time\n",
    "sf = sfcpy.copy()"
   ]
  },
  {
   "cell_type": "code",
   "execution_count": 5,
   "metadata": {},
   "outputs": [],
   "source": [
    "# Rename for brevity/readability\n",
    "sf = sf.rename(columns =   {'Neighborhoods - Analysis Boundaries':'neighborhoods',\n",
    "                            'Permit Type' : 'perm_typ',\n",
    "                            'Permit Type Definition': 'perm_typ_def',\n",
    "                            'Filed Date':'file_dt',\n",
    "                            'Issued Date':'issue_dt',\n",
    "                            'Permit Expiration Date' : 'perm_exp_dt',\n",
    "                            'Current Status' : 'cur_st',\n",
    "                            'Current Status Date' : 'cur_st_dt',\n",
    "                            'Structural Notification':'strct_notif',\n",
    "                            'Number of Existing Stories':'no_exist_stry',\n",
    "                            'Number of Proposed Stories':'no_prop_stry',\n",
    "                            'Fire Only Permit':'fire_only_permit',\n",
    "                            'Estimated Cost':'est_cost',\n",
    "                            'Revised Cost':'rev_cost',\n",
    "                            'Existing Use':'exist_use',\n",
    "                            'Proposed Use': 'prop_use',\n",
    "                            'Plansets':'plansets',\n",
    "                            'Existing Construction Type': 'exist_const_type',\n",
    "                            'Existing Construction Type Description': 'exist_const_type_descr',\n",
    "                            'Proposed Construction Type': 'prop_const_type',\n",
    "                            'Proposed Construction Type Description': 'prop_const_type_descr',\n",
    "                            'Site Permit':'site_permit',\n",
    "                            'Supervisor District':'sup_dist',\n",
    "                            'Location':'location'\n",
    "                            })"
   ]
  },
  {
   "cell_type": "code",
   "execution_count": 6,
   "metadata": {},
   "outputs": [
    {
     "data": {
      "text/html": [
       "<div>\n",
       "<style scoped>\n",
       "    .dataframe tbody tr th:only-of-type {\n",
       "        vertical-align: middle;\n",
       "    }\n",
       "\n",
       "    .dataframe tbody tr th {\n",
       "        vertical-align: top;\n",
       "    }\n",
       "\n",
       "    .dataframe thead th {\n",
       "        text-align: right;\n",
       "    }\n",
       "</style>\n",
       "<table border=\"1\" class=\"dataframe\">\n",
       "  <thead>\n",
       "    <tr style=\"text-align: right;\">\n",
       "      <th></th>\n",
       "      <th>Permit Number</th>\n",
       "      <th>perm_typ</th>\n",
       "      <th>perm_typ_def</th>\n",
       "      <th>Permit Creation Date</th>\n",
       "      <th>Block</th>\n",
       "      <th>Lot</th>\n",
       "      <th>Street Number</th>\n",
       "      <th>Street Number Suffix</th>\n",
       "      <th>Street Name</th>\n",
       "      <th>Street Suffix</th>\n",
       "      <th>...</th>\n",
       "      <th>exist_const_type</th>\n",
       "      <th>exist_const_type_descr</th>\n",
       "      <th>prop_const_type</th>\n",
       "      <th>prop_const_type_descr</th>\n",
       "      <th>site_permit</th>\n",
       "      <th>sup_dist</th>\n",
       "      <th>neighborhoods</th>\n",
       "      <th>Zipcode</th>\n",
       "      <th>location</th>\n",
       "      <th>Record ID</th>\n",
       "    </tr>\n",
       "  </thead>\n",
       "  <tbody>\n",
       "    <tr>\n",
       "      <th>0</th>\n",
       "      <td>201505065519</td>\n",
       "      <td>4</td>\n",
       "      <td>sign - erect</td>\n",
       "      <td>05/06/2015</td>\n",
       "      <td>0326</td>\n",
       "      <td>023</td>\n",
       "      <td>140</td>\n",
       "      <td>NaN</td>\n",
       "      <td>Ellis</td>\n",
       "      <td>St</td>\n",
       "      <td>...</td>\n",
       "      <td>3.0</td>\n",
       "      <td>constr type 3</td>\n",
       "      <td>NaN</td>\n",
       "      <td>NaN</td>\n",
       "      <td>NaN</td>\n",
       "      <td>3.0</td>\n",
       "      <td>Tenderloin</td>\n",
       "      <td>94102.0</td>\n",
       "      <td>(37.785719256680785, -122.40852313194863)</td>\n",
       "      <td>1380611233945</td>\n",
       "    </tr>\n",
       "    <tr>\n",
       "      <th>1</th>\n",
       "      <td>201604195146</td>\n",
       "      <td>4</td>\n",
       "      <td>sign - erect</td>\n",
       "      <td>04/19/2016</td>\n",
       "      <td>0306</td>\n",
       "      <td>007</td>\n",
       "      <td>440</td>\n",
       "      <td>NaN</td>\n",
       "      <td>Geary</td>\n",
       "      <td>St</td>\n",
       "      <td>...</td>\n",
       "      <td>3.0</td>\n",
       "      <td>constr type 3</td>\n",
       "      <td>NaN</td>\n",
       "      <td>NaN</td>\n",
       "      <td>NaN</td>\n",
       "      <td>3.0</td>\n",
       "      <td>Tenderloin</td>\n",
       "      <td>94102.0</td>\n",
       "      <td>(37.78733980600732, -122.41063199757738)</td>\n",
       "      <td>1420164406718</td>\n",
       "    </tr>\n",
       "    <tr>\n",
       "      <th>2</th>\n",
       "      <td>201605278609</td>\n",
       "      <td>3</td>\n",
       "      <td>additions alterations or repairs</td>\n",
       "      <td>05/27/2016</td>\n",
       "      <td>0595</td>\n",
       "      <td>203</td>\n",
       "      <td>1647</td>\n",
       "      <td>NaN</td>\n",
       "      <td>Pacific</td>\n",
       "      <td>Av</td>\n",
       "      <td>...</td>\n",
       "      <td>1.0</td>\n",
       "      <td>constr type 1</td>\n",
       "      <td>1.0</td>\n",
       "      <td>constr type 1</td>\n",
       "      <td>NaN</td>\n",
       "      <td>3.0</td>\n",
       "      <td>Russian Hill</td>\n",
       "      <td>94109.0</td>\n",
       "      <td>(37.7946573324287, -122.42232562979227)</td>\n",
       "      <td>1424856504716</td>\n",
       "    </tr>\n",
       "    <tr>\n",
       "      <th>3</th>\n",
       "      <td>201611072166</td>\n",
       "      <td>8</td>\n",
       "      <td>otc alterations permit</td>\n",
       "      <td>11/07/2016</td>\n",
       "      <td>0156</td>\n",
       "      <td>011</td>\n",
       "      <td>1230</td>\n",
       "      <td>NaN</td>\n",
       "      <td>Pacific</td>\n",
       "      <td>Av</td>\n",
       "      <td>...</td>\n",
       "      <td>5.0</td>\n",
       "      <td>wood frame (5)</td>\n",
       "      <td>5.0</td>\n",
       "      <td>wood frame (5)</td>\n",
       "      <td>NaN</td>\n",
       "      <td>3.0</td>\n",
       "      <td>Nob Hill</td>\n",
       "      <td>94109.0</td>\n",
       "      <td>(37.79595867909168, -122.41557405519474)</td>\n",
       "      <td>1443574295566</td>\n",
       "    </tr>\n",
       "    <tr>\n",
       "      <th>4</th>\n",
       "      <td>201611283529</td>\n",
       "      <td>6</td>\n",
       "      <td>demolitions</td>\n",
       "      <td>11/28/2016</td>\n",
       "      <td>0342</td>\n",
       "      <td>001</td>\n",
       "      <td>950</td>\n",
       "      <td>NaN</td>\n",
       "      <td>Market</td>\n",
       "      <td>St</td>\n",
       "      <td>...</td>\n",
       "      <td>3.0</td>\n",
       "      <td>constr type 3</td>\n",
       "      <td>NaN</td>\n",
       "      <td>NaN</td>\n",
       "      <td>NaN</td>\n",
       "      <td>6.0</td>\n",
       "      <td>Tenderloin</td>\n",
       "      <td>94102.0</td>\n",
       "      <td>(37.78315261897309, -122.40950883997789)</td>\n",
       "      <td>144548169992</td>\n",
       "    </tr>\n",
       "  </tbody>\n",
       "</table>\n",
       "<p>5 rows × 43 columns</p>\n",
       "</div>"
      ],
      "text/plain": [
       "  Permit Number  perm_typ                      perm_typ_def  \\\n",
       "0  201505065519         4                      sign - erect   \n",
       "1  201604195146         4                      sign - erect   \n",
       "2  201605278609         3  additions alterations or repairs   \n",
       "3  201611072166         8            otc alterations permit   \n",
       "4  201611283529         6                       demolitions   \n",
       "\n",
       "  Permit Creation Date Block  Lot  Street Number Street Number Suffix  \\\n",
       "0           05/06/2015  0326  023            140                  NaN   \n",
       "1           04/19/2016  0306  007            440                  NaN   \n",
       "2           05/27/2016  0595  203           1647                  NaN   \n",
       "3           11/07/2016  0156  011           1230                  NaN   \n",
       "4           11/28/2016  0342  001            950                  NaN   \n",
       "\n",
       "  Street Name Street Suffix      ...        exist_const_type  \\\n",
       "0       Ellis            St      ...                     3.0   \n",
       "1       Geary            St      ...                     3.0   \n",
       "2     Pacific            Av      ...                     1.0   \n",
       "3     Pacific            Av      ...                     5.0   \n",
       "4      Market            St      ...                     3.0   \n",
       "\n",
       "  exist_const_type_descr prop_const_type prop_const_type_descr site_permit  \\\n",
       "0          constr type 3             NaN                   NaN         NaN   \n",
       "1          constr type 3             NaN                   NaN         NaN   \n",
       "2          constr type 1             1.0         constr type 1         NaN   \n",
       "3         wood frame (5)             5.0        wood frame (5)         NaN   \n",
       "4          constr type 3             NaN                   NaN         NaN   \n",
       "\n",
       "  sup_dist neighborhoods  Zipcode                                   location  \\\n",
       "0      3.0    Tenderloin  94102.0  (37.785719256680785, -122.40852313194863)   \n",
       "1      3.0    Tenderloin  94102.0   (37.78733980600732, -122.41063199757738)   \n",
       "2      3.0  Russian Hill  94109.0    (37.7946573324287, -122.42232562979227)   \n",
       "3      3.0      Nob Hill  94109.0   (37.79595867909168, -122.41557405519474)   \n",
       "4      6.0    Tenderloin  94102.0   (37.78315261897309, -122.40950883997789)   \n",
       "\n",
       "       Record ID  \n",
       "0  1380611233945  \n",
       "1  1420164406718  \n",
       "2  1424856504716  \n",
       "3  1443574295566  \n",
       "4   144548169992  \n",
       "\n",
       "[5 rows x 43 columns]"
      ]
     },
     "execution_count": 6,
     "metadata": {},
     "output_type": "execute_result"
    }
   ],
   "source": [
    "sf.head()"
   ]
  },
  {
   "cell_type": "markdown",
   "metadata": {},
   "source": [
    "## Cleaning the Data\n",
    "\n",
    "The Tricky part of Data Wrangling in my knowledge so far,   \n",
    "\n",
    "a) Knowing what is present in the 'null' cells, is it NaN or simply ' '     \n",
    "b) In the non-null cells, if the all values are meaningful       \n",
    "c) Recognizing that even if a column has all non-null and meaningful values, the future updates to the column may have problems. Hence need to expect it and handle it      \n",
    "d) See the data and think if certain value make sense for the business and decide to drop those which are not relevant"
   ]
  },
  {
   "cell_type": "markdown",
   "metadata": {},
   "source": [
    "##### Answering the questions:\n",
    "1) The following columns are retained for further analysis."
   ]
  },
  {
   "cell_type": "code",
   "execution_count": 7,
   "metadata": {},
   "outputs": [],
   "source": [
    "sfr = sf[['perm_typ','perm_typ_def','file_dt','issue_dt','cur_st','strct_notif','no_exist_stry','no_prop_stry',\n",
    "          'fire_only_permit','est_cost','rev_cost','exist_use','prop_use','plansets','exist_const_type',\n",
    "          'prop_const_type','site_permit','location']].copy()"
   ]
  },
  {
   "cell_type": "markdown",
   "metadata": {},
   "source": [
    "2) Which rows to retain?       \n",
    "We can eliminate some records based on current status."
   ]
  },
  {
   "cell_type": "code",
   "execution_count": 8,
   "metadata": {},
   "outputs": [
    {
     "data": {
      "text/plain": [
       "array(['expired', 'issued', 'withdrawn', 'complete', 'filed', 'approved',\n",
       "       'reinstated', 'cancelled', 'appeal', 'suspend', 'revoked',\n",
       "       'plancheck', 'disapproved', 'incomplete'], dtype=object)"
      ]
     },
     "execution_count": 8,
     "metadata": {},
     "output_type": "execute_result"
    }
   ],
   "source": [
    "sfr.cur_st.unique()"
   ]
  },
  {
   "cell_type": "markdown",
   "metadata": {},
   "source": [
    "+ We are sure of retaining rows where cur_st is issued or issue_dt column is a valid date.\n",
    "+ We can retain rows corresponding to cur_st equal to complete,filed,approved,reinstated,appeal or plancheck irrespective of whether there is valid entry in issue_dt or not\n",
    "+ We should drop rows for which cur_st is withdrawn, cancelled or disapproved and issue_dt is blank because they will never get issued. \n",
    "+ It is not clear what to do with suspend,revoked and incomplete. That can be decided with further exploration"
   ]
  },
  {
   "cell_type": "code",
   "execution_count": 9,
   "metadata": {},
   "outputs": [
    {
     "data": {
      "text/html": [
       "<div>\n",
       "<style scoped>\n",
       "    .dataframe tbody tr th:only-of-type {\n",
       "        vertical-align: middle;\n",
       "    }\n",
       "\n",
       "    .dataframe tbody tr th {\n",
       "        vertical-align: top;\n",
       "    }\n",
       "\n",
       "    .dataframe thead th {\n",
       "        text-align: right;\n",
       "    }\n",
       "</style>\n",
       "<table border=\"1\" class=\"dataframe\">\n",
       "  <thead>\n",
       "    <tr style=\"text-align: right;\">\n",
       "      <th></th>\n",
       "      <th>cur_st</th>\n",
       "      <th>issue_dt</th>\n",
       "    </tr>\n",
       "    <tr>\n",
       "      <th>cur_st</th>\n",
       "      <th></th>\n",
       "      <th></th>\n",
       "    </tr>\n",
       "  </thead>\n",
       "  <tbody>\n",
       "    <tr>\n",
       "      <th>appeal</th>\n",
       "      <td>2</td>\n",
       "      <td>0</td>\n",
       "    </tr>\n",
       "    <tr>\n",
       "      <th>approved</th>\n",
       "      <td>733</td>\n",
       "      <td>8</td>\n",
       "    </tr>\n",
       "    <tr>\n",
       "      <th>cancelled</th>\n",
       "      <td>1536</td>\n",
       "      <td>1197</td>\n",
       "    </tr>\n",
       "    <tr>\n",
       "      <th>complete</th>\n",
       "      <td>97077</td>\n",
       "      <td>97059</td>\n",
       "    </tr>\n",
       "    <tr>\n",
       "      <th>disapproved</th>\n",
       "      <td>2</td>\n",
       "      <td>0</td>\n",
       "    </tr>\n",
       "    <tr>\n",
       "      <th>expired</th>\n",
       "      <td>1370</td>\n",
       "      <td>1370</td>\n",
       "    </tr>\n",
       "    <tr>\n",
       "      <th>filed</th>\n",
       "      <td>12043</td>\n",
       "      <td>0</td>\n",
       "    </tr>\n",
       "    <tr>\n",
       "      <th>incomplete</th>\n",
       "      <td>2</td>\n",
       "      <td>1</td>\n",
       "    </tr>\n",
       "    <tr>\n",
       "      <th>issued</th>\n",
       "      <td>83559</td>\n",
       "      <td>83559</td>\n",
       "    </tr>\n",
       "    <tr>\n",
       "      <th>plancheck</th>\n",
       "      <td>16</td>\n",
       "      <td>0</td>\n",
       "    </tr>\n",
       "    <tr>\n",
       "      <th>reinstated</th>\n",
       "      <td>563</td>\n",
       "      <td>526</td>\n",
       "    </tr>\n",
       "    <tr>\n",
       "      <th>revoked</th>\n",
       "      <td>50</td>\n",
       "      <td>50</td>\n",
       "    </tr>\n",
       "    <tr>\n",
       "      <th>suspend</th>\n",
       "      <td>193</td>\n",
       "      <td>189</td>\n",
       "    </tr>\n",
       "    <tr>\n",
       "      <th>withdrawn</th>\n",
       "      <td>1754</td>\n",
       "      <td>1</td>\n",
       "    </tr>\n",
       "  </tbody>\n",
       "</table>\n",
       "</div>"
      ],
      "text/plain": [
       "             cur_st  issue_dt\n",
       "cur_st                       \n",
       "appeal            2         0\n",
       "approved        733         8\n",
       "cancelled      1536      1197\n",
       "complete      97077     97059\n",
       "disapproved       2         0\n",
       "expired        1370      1370\n",
       "filed         12043         0\n",
       "incomplete        2         1\n",
       "issued        83559     83559\n",
       "plancheck        16         0\n",
       "reinstated      563       526\n",
       "revoked          50        50\n",
       "suspend         193       189\n",
       "withdrawn      1754         1"
      ]
     },
     "execution_count": 9,
     "metadata": {},
     "output_type": "execute_result"
    }
   ],
   "source": [
    "# Check count of status of permits and under each status, how many are issued. \n",
    "sfr.groupby('cur_st')[['cur_st','issue_dt']].count()"
   ]
  },
  {
   "cell_type": "code",
   "execution_count": 10,
   "metadata": {},
   "outputs": [],
   "source": [
    "# Drop withdrawn, disapproved and canceled which are not yet issued\n",
    "sfr = sfr.loc[(((sfr['cur_st']!='withdrawn') & (sfr['cur_st'] !='cancelled') & (sfr['cur_st'] !='disapproved')) | sfr['issue_dt'].notnull()),:]"
   ]
  },
  {
   "cell_type": "code",
   "execution_count": 11,
   "metadata": {},
   "outputs": [
    {
     "name": "stdout",
     "output_type": "stream",
     "text": [
      "<class 'pandas.core.frame.DataFrame'>\n",
      "Int64Index: 196806 entries, 0 to 198899\n",
      "Data columns (total 3 columns):\n",
      "file_dt     196806 non-null datetime64[ns]\n",
      "issue_dt    183960 non-null datetime64[ns]\n",
      "perm_typ    196806 non-null int64\n",
      "dtypes: datetime64[ns](2), int64(1)\n",
      "memory usage: 6.0 MB\n"
     ]
    }
   ],
   "source": [
    "sfr[['file_dt','issue_dt','perm_typ']].info()"
   ]
  },
  {
   "cell_type": "markdown",
   "metadata": {},
   "source": [
    "Can we eliminate rows for which there are no issue dates?\n",
    "\n",
    "Note that permit type and file dates have no NaNs, whereas issue date has a few thousands of NaNs, because at the time of data download, they were not yet issued. We decide to keep it as is at this stage, because dropping them would introduce survivorship bias in others. Imputation would still introduce bias."
   ]
  },
  {
   "cell_type": "code",
   "execution_count": 12,
   "metadata": {},
   "outputs": [],
   "source": [
    "sfr = sfr.assign(time_taken = (sfr['issue_dt'] - sfr['file_dt']).dt.days)"
   ]
  },
  {
   "cell_type": "markdown",
   "metadata": {},
   "source": [
    "3) NaN or too small costs: Cost of the project is an essential part of the application according to [this post](http://www.herald-journal.com/housing/pages/older/permit.html). Examining if the cost columns have valid values."
   ]
  },
  {
   "cell_type": "code",
   "execution_count": 13,
   "metadata": {},
   "outputs": [
    {
     "name": "stdout",
     "output_type": "stream",
     "text": [
      "Percentage of null values in revised cost: 2.5497\n",
      "Percentage of null values in estimated cost: 19.3282\n"
     ]
    }
   ],
   "source": [
    "print('Percentage of null values in revised cost:',round(100*sfr['rev_cost'].isnull().sum()/sfr['rev_cost'].isnull().count(),4))\n",
    "print('Percentage of null values in estimated cost:',round(100*sfr['est_cost'].isnull().sum()/sfr['est_cost'].isnull().count(),4))"
   ]
  },
  {
   "cell_type": "code",
   "execution_count": 14,
   "metadata": {},
   "outputs": [
    {
     "name": "stdout",
     "output_type": "stream",
     "text": [
      "Percentage of values < 10$ in estimated cost: 8.55 and the same in revised cost is 27.94\n"
     ]
    }
   ],
   "source": [
    "print('Percentage of values < 10$ in estimated cost: {:.2f} and the same in revised cost is {:.2f}'\n",
    "     .format(100*(sfr['est_cost'] < 10).sum()/(sfr['est_cost'] < 10).count(),100*(sfr['rev_cost'] < 10).sum()/(sfr['rev_cost'] < 10).count() ))"
   ]
  },
  {
   "cell_type": "markdown",
   "metadata": {},
   "source": [
    "Revised cost is most recent, and also has less null values compared to estimated cost. Hence, revised cost is more meaningful. However, since estimated cost has 20% null values, examining the time taken for those records might reveal something. Permit application without cost estimation might be delayed. The moment revised cost was entered, application might be processed. We would know that in the EDA part. For now, it is best to leave these alone. We could come back after cleaning some more columns.\n",
    "Do not drop any rows based on Revised cost."
   ]
  },
  {
   "cell_type": "code",
   "execution_count": 15,
   "metadata": {},
   "outputs": [],
   "source": [
    "sfr['rev_cost'].fillna(sfr['rev_cost'].min(),inplace=True)"
   ]
  },
  {
   "cell_type": "markdown",
   "metadata": {},
   "source": [
    "4) I would attribute it to typing mistake and make it previous or next day respectively. This may not be accurate, however it will not show a weekend in the EDA part.   "
   ]
  },
  {
   "cell_type": "code",
   "execution_count": 16,
   "metadata": {},
   "outputs": [],
   "source": [
    "sfr['file_day'] = sfr['file_dt'].dt.weekday_name\n",
    "sfr['issue_day'] = sfr['issue_dt'].dt.weekday_name\n",
    "sfr.loc[sfr['file_day']=='Saturday','file_dt']  = sfr.loc[sfr['file_day']=='Saturday','file_dt'] - datetime.timedelta(1)\n",
    "sfr.loc[sfr['file_day']=='Saturday','file_day'] = 'Friday'\n",
    "sfr.loc[sfr['file_day']=='Sunday','file_dt'] =  sfr.loc[sfr['file_day']=='Sunday','file_dt'] + datetime.timedelta(1)\n",
    "sfr.loc[sfr['file_day']=='Sunday','file_day'] = 'Monday'\n",
    "sfr.loc[sfr['issue_day']=='Saturday','issue_dt'] = sfr.loc[sfr['issue_day']=='Saturday','issue_dt'] - datetime.timedelta(1)\n",
    "sfr.loc[sfr['issue_day']=='Saturday','issue_day'] = 'Friday'\n",
    "sfr.loc[sfr['issue_day']=='Sunday','issue_dt'] = sfr.loc[sfr['issue_day']=='Sunday','issue_dt'] + datetime.timedelta(1)\n",
    "sfr.loc[sfr['issue_day']=='Sunday','issue_day'] = 'Monday'"
   ]
  },
  {
   "cell_type": "markdown",
   "metadata": {},
   "source": [
    "5) In the application forms (both physical or online), normally the applicant is supposed to tick the option if applicable. Otherwise nothing needs to be done. Hence it is understandable that blanks mean not applicable, a \"No\"."
   ]
  },
  {
   "cell_type": "code",
   "execution_count": 17,
   "metadata": {},
   "outputs": [],
   "source": [
    "# Fill na with N. because in building permit databases, this is ticked if yes and left blank if it is not applicable\n",
    "sfr['fire_only_permit'].fillna('N',inplace=True)\n",
    "sfr['site_permit'].fillna('N',inplace=True)\n",
    "sfr['strct_notif'].fillna('N',inplace=True)"
   ]
  },
  {
   "cell_type": "code",
   "execution_count": 18,
   "metadata": {},
   "outputs": [],
   "source": [
    "sfr['month'] = sfr['file_dt'].dt.month\n",
    "sfr['year'] = sfr['file_dt'].dt.year"
   ]
  },
  {
   "cell_type": "markdown",
   "metadata": {},
   "source": [
    "There is no need to check for validity in month or days because otherwise datatime conversion would have failed."
   ]
  },
  {
   "cell_type": "code",
   "execution_count": 19,
   "metadata": {},
   "outputs": [
    {
     "name": "stdout",
     "output_type": "stream",
     "text": [
      "There is 18.96% NaN in plansets\n"
     ]
    }
   ],
   "source": [
    "print('There is {}% NaN in plansets'.format(round(100*sfr[sfr.exist_const_type.isnull()]['plansets'].isnull().sum()/sfr.shape[0],2)))"
   ]
  },
  {
   "cell_type": "markdown",
   "metadata": {},
   "source": [
    "We let the NaN's in exist_const_type,prop_const_type,no_exist_stry,no_prop_stry, and plansets as they are because this is building permit application. If it is not mentioned, it is not applicable."
   ]
  },
  {
   "cell_type": "code",
   "execution_count": 20,
   "metadata": {},
   "outputs": [],
   "source": [
    "# Fill location unknowns with 0's to indicate, it is unknown\n",
    "sfr.location.fillna('(0,0)',inplace=True)\n",
    "\n",
    "#Convert to float\n",
    "sfr.location = sfr.location.apply(lambda x: np.array([float((str(x).split('(')[1]).split(',')[0]),float((str(x).split('(')[1]).split(',')[1].split(')')[0])]))"
   ]
  },
  {
   "cell_type": "markdown",
   "metadata": {},
   "source": [
    "I make a choice to drop the data after Sept 30th, 2017, and I do it in the data wrangling itself. I could have done it at EDA.\n",
    "The reason for dropping is, many of the filed applications do not have issue dates. We retained it till here to know the issue dates for permits filed prior to that."
   ]
  },
  {
   "cell_type": "code",
   "execution_count": 21,
   "metadata": {},
   "outputs": [],
   "source": [
    "# Splitting into latitude and longitude\n",
    "sfr = sfr.assign(latitude=sfr.location.apply(lambda x:x[0]))\n",
    "sfr = sfr.assign(longitude=sfr.location.apply(lambda x: x[1]))\n",
    "sfr.drop('location',axis=1,inplace=True)"
   ]
  },
  {
   "cell_type": "code",
   "execution_count": 22,
   "metadata": {},
   "outputs": [],
   "source": [
    "# Replace nans with strings \"Unknown\"\n",
    "sfr.exist_use.fillna('Unknown',inplace=True)\n",
    "sfr.prop_use.fillna('Unknown',inplace=True)"
   ]
  },
  {
   "cell_type": "code",
   "execution_count": 23,
   "metadata": {},
   "outputs": [
    {
     "name": "stdout",
     "output_type": "stream",
     "text": [
      "<class 'pandas.core.frame.DataFrame'>\n",
      "Int64Index: 196806 entries, 0 to 198899\n",
      "Data columns (total 24 columns):\n",
      "perm_typ            196806 non-null int64\n",
      "perm_typ_def        196806 non-null object\n",
      "file_dt             196806 non-null datetime64[ns]\n",
      "issue_dt            183960 non-null datetime64[ns]\n",
      "cur_st              196806 non-null object\n",
      "strct_notif         196806 non-null object\n",
      "no_exist_stry       154195 non-null float64\n",
      "no_prop_stry        154150 non-null float64\n",
      "fire_only_permit    196806 non-null object\n",
      "est_cost            158767 non-null float64\n",
      "rev_cost            196806 non-null float64\n",
      "exist_use           196806 non-null object\n",
      "prop_use            196806 non-null object\n",
      "plansets            159498 non-null float64\n",
      "exist_const_type    153629 non-null float64\n",
      "prop_const_type     153863 non-null float64\n",
      "site_permit         196806 non-null object\n",
      "time_taken          183960 non-null float64\n",
      "file_day            196806 non-null object\n",
      "issue_day           183960 non-null object\n",
      "month               196806 non-null int64\n",
      "year                196806 non-null int64\n",
      "latitude            196806 non-null float64\n",
      "longitude           196806 non-null float64\n",
      "dtypes: datetime64[ns](2), float64(10), int64(3), object(9)\n",
      "memory usage: 37.5+ MB\n"
     ]
    }
   ],
   "source": [
    "sfr.info()"
   ]
  },
  {
   "cell_type": "code",
   "execution_count": 24,
   "metadata": {},
   "outputs": [
    {
     "name": "stdout",
     "output_type": "stream",
     "text": [
      "Stored 'sfr' (DataFrame)\n"
     ]
    }
   ],
   "source": [
    "# Store the dataframe to pass on to the next notebook\n",
    "%store sfr"
   ]
  },
  {
   "cell_type": "code",
   "execution_count": null,
   "metadata": {},
   "outputs": [],
   "source": []
  }
 ],
 "metadata": {
  "kernelspec": {
   "display_name": "Python 3",
   "language": "python",
   "name": "python3"
  },
  "language_info": {
   "codemirror_mode": {
    "name": "ipython",
    "version": 3
   },
   "file_extension": ".py",
   "mimetype": "text/x-python",
   "name": "python",
   "nbconvert_exporter": "python",
   "pygments_lexer": "ipython3",
   "version": "3.6.4"
  }
 },
 "nbformat": 4,
 "nbformat_minor": 2
}
